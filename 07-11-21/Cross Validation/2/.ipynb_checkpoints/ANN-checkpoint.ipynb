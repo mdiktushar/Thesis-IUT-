{
 "cells": [
  {
   "cell_type": "markdown",
   "id": "c17badd4",
   "metadata": {},
   "source": [
    "# ANN"
   ]
  },
  {
   "cell_type": "code",
   "execution_count": 1,
   "id": "f5df428c",
   "metadata": {},
   "outputs": [],
   "source": [
    "import pandas as pd\n",
    "import numpy as np\n",
    "import matplotlib.pyplot as plt\n",
    "import seaborn as sns\n",
    "%matplotlib inline\n",
    "\n",
    "from sklearn.preprocessing import OneHotEncoder, MinMaxScaler\n",
    "\n",
    "import tensorflow as tf\n",
    "from tensorflow.keras.models import Sequential\n",
    "from tensorflow.keras.layers import Dense, Activation,Dropout\n",
    "from sklearn.metrics import classification_report,confusion_matrix, plot_confusion_matrix\n",
    "import sklearn.metrics as metrics"
   ]
  },
  {
   "cell_type": "markdown",
   "id": "f9a4b800",
   "metadata": {},
   "source": [
    "# Input Data"
   ]
  },
  {
   "cell_type": "code",
   "execution_count": 2,
   "id": "fe15956c",
   "metadata": {},
   "outputs": [],
   "source": [
    "df = pd.read_csv('Data.csv')"
   ]
  },
  {
   "cell_type": "code",
   "execution_count": 3,
   "id": "bef654bb",
   "metadata": {},
   "outputs": [],
   "source": [
    "dft = pd.read_csv('testing2.csv')"
   ]
  },
  {
   "cell_type": "code",
   "execution_count": 4,
   "id": "0f5337c0",
   "metadata": {},
   "outputs": [],
   "source": [
    "# X_train, X_test, y_train, y_test = train_test_split(X,y,test_size=0.25,random_state=101)\n",
    "X_train = df.drop('label',axis=1).values\n",
    "y_train = df['label'].values\n",
    "\n",
    "X_test = dft.drop('label',axis=1).values\n",
    "y_test = dft['label'].values"
   ]
  },
  {
   "cell_type": "markdown",
   "id": "b1318dcd",
   "metadata": {},
   "source": [
    "# One-hot encode the target"
   ]
  },
  {
   "cell_type": "code",
   "execution_count": 5,
   "id": "87b0bdf6",
   "metadata": {},
   "outputs": [],
   "source": [
    "enc = OneHotEncoder(sparse=False, handle_unknown='ignore')\n",
    "enc.fit(y_train.reshape(-1, 1))\n",
    "y_train = enc.transform(y_train.reshape(-1, 1))\n",
    "y_test = enc.transform(y_test.reshape(-1, 1))"
   ]
  },
  {
   "cell_type": "code",
   "execution_count": 6,
   "id": "5c52d6bd",
   "metadata": {},
   "outputs": [
    {
     "name": "stdout",
     "output_type": "stream",
     "text": [
      "(26999, 6) (1500, 6)\n"
     ]
    }
   ],
   "source": [
    "print(y_train.shape, y_test.shape)"
   ]
  },
  {
   "cell_type": "markdown",
   "id": "ccf0c799",
   "metadata": {},
   "source": [
    "# scale the features"
   ]
  },
  {
   "cell_type": "code",
   "execution_count": 7,
   "id": "3c544b11",
   "metadata": {},
   "outputs": [],
   "source": [
    "scaler = MinMaxScaler()\n",
    "scaler.fit(X_train)\n",
    "X_train = scaler.transform(X_train)\n",
    "X_test = scaler.transform(X_test)"
   ]
  },
  {
   "cell_type": "code",
   "execution_count": 8,
   "id": "e3e4af3c",
   "metadata": {},
   "outputs": [],
   "source": [
    "model = Sequential()\n",
    "\n",
    "model.add(Dense(units=64,activation='relu'))\n",
    "model.add(Dense(units=128,activation='relu'))\n",
    "model.add(Dropout(0.5))\n",
    "\n",
    "model.add(Dense(units=128,activation='relu'))\n",
    "model.add(Dense(units=512,activation='relu'))\n",
    "model.add(Dropout(0.5))\n",
    "\n",
    "model.add(Dense(units=521,activation='relu'))\n",
    "model.add(Dropout(0.5))\n",
    "\n",
    "model.add(Dense(6, activation='softmax'))\n",
    "# Compile model\n",
    "model.compile(optimizer='adam',\n",
    "              loss='categorical_crossentropy',\n",
    "              metrics=['accuracy'])"
   ]
  },
  {
   "cell_type": "code",
   "execution_count": 9,
   "id": "3fd0d04b",
   "metadata": {},
   "outputs": [
    {
     "name": "stdout",
     "output_type": "stream",
     "text": [
      "Train on 26999 samples, validate on 1500 samples\n",
      "Epoch 1/100\n",
      "26999/26999 [==============================] - 2s 70us/sample - loss: 1.6270 - accuracy: 0.3125 - val_loss: 1.3935 - val_accuracy: 0.5360\n",
      "Epoch 2/100\n",
      "26999/26999 [==============================] - 1s 24us/sample - loss: 1.3318 - accuracy: 0.4829 - val_loss: 1.2555 - val_accuracy: 0.5740\n",
      "Epoch 3/100\n",
      "26999/26999 [==============================] - 1s 22us/sample - loss: 1.1868 - accuracy: 0.5442 - val_loss: 1.1760 - val_accuracy: 0.5873\n",
      "Epoch 4/100\n",
      "26999/26999 [==============================] - 1s 21us/sample - loss: 1.1061 - accuracy: 0.5779 - val_loss: 1.0903 - val_accuracy: 0.6480\n",
      "Epoch 5/100\n",
      "26999/26999 [==============================] - 1s 22us/sample - loss: 1.0339 - accuracy: 0.6083 - val_loss: 1.0480 - val_accuracy: 0.6487\n",
      "Epoch 6/100\n",
      "26999/26999 [==============================] - 1s 22us/sample - loss: 0.9612 - accuracy: 0.6356 - val_loss: 1.0440 - val_accuracy: 0.6207\n",
      "Epoch 7/100\n",
      "26999/26999 [==============================] - 1s 21us/sample - loss: 0.9066 - accuracy: 0.6570 - val_loss: 0.9695 - val_accuracy: 0.6793\n",
      "Epoch 8/100\n",
      "26999/26999 [==============================] - 1s 21us/sample - loss: 0.8583 - accuracy: 0.6715 - val_loss: 0.9729 - val_accuracy: 0.6727\n",
      "Epoch 9/100\n",
      "26999/26999 [==============================] - 1s 21us/sample - loss: 0.8150 - accuracy: 0.6936 - val_loss: 0.9283 - val_accuracy: 0.6980\n",
      "Epoch 10/100\n",
      "26999/26999 [==============================] - 1s 21us/sample - loss: 0.7771 - accuracy: 0.7076 - val_loss: 0.9652 - val_accuracy: 0.6973\n",
      "Epoch 11/100\n",
      "26999/26999 [==============================] - 1s 21us/sample - loss: 0.7336 - accuracy: 0.7266 - val_loss: 0.9356 - val_accuracy: 0.7247\n",
      "Epoch 12/100\n",
      "26999/26999 [==============================] - 1s 22us/sample - loss: 0.7160 - accuracy: 0.7321 - val_loss: 0.9368 - val_accuracy: 0.7233\n",
      "Epoch 13/100\n",
      "26999/26999 [==============================] - 1s 22us/sample - loss: 0.6788 - accuracy: 0.7434 - val_loss: 0.9165 - val_accuracy: 0.7093\n",
      "Epoch 14/100\n",
      "26999/26999 [==============================] - 1s 21us/sample - loss: 0.6581 - accuracy: 0.7549 - val_loss: 0.9392 - val_accuracy: 0.7247\n",
      "Epoch 15/100\n",
      "26999/26999 [==============================] - 1s 22us/sample - loss: 0.6327 - accuracy: 0.7631 - val_loss: 0.9113 - val_accuracy: 0.7387\n",
      "Epoch 16/100\n",
      "26999/26999 [==============================] - 1s 25us/sample - loss: 0.6082 - accuracy: 0.7718 - val_loss: 0.8780 - val_accuracy: 0.7593\n",
      "Epoch 17/100\n",
      "26999/26999 [==============================] - 1s 25us/sample - loss: 0.5915 - accuracy: 0.7778 - val_loss: 0.8656 - val_accuracy: 0.7567\n",
      "Epoch 18/100\n",
      "26999/26999 [==============================] - 1s 25us/sample - loss: 0.5727 - accuracy: 0.7860 - val_loss: 0.8483 - val_accuracy: 0.7780\n",
      "Epoch 19/100\n",
      "26999/26999 [==============================] - 1s 24us/sample - loss: 0.5476 - accuracy: 0.7920 - val_loss: 0.8483 - val_accuracy: 0.7893\n",
      "Epoch 20/100\n",
      "26999/26999 [==============================] - 1s 22us/sample - loss: 0.5449 - accuracy: 0.7968 - val_loss: 0.8019 - val_accuracy: 0.7927\n",
      "Epoch 21/100\n",
      "26999/26999 [==============================] - 1s 23us/sample - loss: 0.5271 - accuracy: 0.8031 - val_loss: 0.8140 - val_accuracy: 0.7933\n",
      "Epoch 22/100\n",
      "26999/26999 [==============================] - 1s 23us/sample - loss: 0.5135 - accuracy: 0.8054 - val_loss: 0.8361 - val_accuracy: 0.7947\n",
      "Epoch 23/100\n",
      "26999/26999 [==============================] - 1s 22us/sample - loss: 0.4982 - accuracy: 0.8148 - val_loss: 0.8006 - val_accuracy: 0.8020\n",
      "Epoch 24/100\n",
      "26999/26999 [==============================] - 1s 24us/sample - loss: 0.4858 - accuracy: 0.8205 - val_loss: 0.7917 - val_accuracy: 0.8140\n",
      "Epoch 25/100\n",
      "26999/26999 [==============================] - 1s 23us/sample - loss: 0.4726 - accuracy: 0.8232 - val_loss: 0.8209 - val_accuracy: 0.8053\n",
      "Epoch 26/100\n",
      "26999/26999 [==============================] - 1s 24us/sample - loss: 0.4638 - accuracy: 0.8244 - val_loss: 0.7593 - val_accuracy: 0.8193\n",
      "Epoch 27/100\n",
      "26999/26999 [==============================] - 1s 23us/sample - loss: 0.4563 - accuracy: 0.8275 - val_loss: 0.7971 - val_accuracy: 0.8127\n",
      "Epoch 28/100\n",
      "26999/26999 [==============================] - 1s 28us/sample - loss: 0.4463 - accuracy: 0.8339 - val_loss: 0.7174 - val_accuracy: 0.8360\n",
      "Epoch 29/100\n",
      "26999/26999 [==============================] - 1s 26us/sample - loss: 0.4386 - accuracy: 0.8366 - val_loss: 0.8410 - val_accuracy: 0.7987\n",
      "Epoch 30/100\n",
      "26999/26999 [==============================] - 1s 24us/sample - loss: 0.4372 - accuracy: 0.8367 - val_loss: 0.7229 - val_accuracy: 0.8293\n",
      "Epoch 31/100\n",
      "26999/26999 [==============================] - 1s 27us/sample - loss: 0.4172 - accuracy: 0.8429 - val_loss: 0.7546 - val_accuracy: 0.8147\n",
      "Epoch 32/100\n",
      "26999/26999 [==============================] - 1s 22us/sample - loss: 0.4143 - accuracy: 0.8460 - val_loss: 0.7535 - val_accuracy: 0.8413\n",
      "Epoch 33/100\n",
      "26999/26999 [==============================] - 1s 26us/sample - loss: 0.4048 - accuracy: 0.8474 - val_loss: 0.7743 - val_accuracy: 0.8293\n",
      "Epoch 34/100\n",
      "26999/26999 [==============================] - 1s 24us/sample - loss: 0.4082 - accuracy: 0.8440 - val_loss: 0.7530 - val_accuracy: 0.8413\n",
      "Epoch 35/100\n",
      "26999/26999 [==============================] - 1s 22us/sample - loss: 0.3925 - accuracy: 0.8532 - val_loss: 0.7255 - val_accuracy: 0.8267\n",
      "Epoch 36/100\n",
      "26999/26999 [==============================] - 1s 22us/sample - loss: 0.3882 - accuracy: 0.8531 - val_loss: 0.7347 - val_accuracy: 0.8427\n",
      "Epoch 37/100\n",
      "26999/26999 [==============================] - 1s 22us/sample - loss: 0.3828 - accuracy: 0.8577 - val_loss: 0.6840 - val_accuracy: 0.8380\n",
      "Epoch 38/100\n",
      "26999/26999 [==============================] - 1s 22us/sample - loss: 0.3808 - accuracy: 0.8574 - val_loss: 0.7085 - val_accuracy: 0.8533\n",
      "Epoch 39/100\n",
      "26999/26999 [==============================] - 1s 23us/sample - loss: 0.3715 - accuracy: 0.8623 - val_loss: 0.7339 - val_accuracy: 0.8473\n",
      "Epoch 40/100\n",
      "26999/26999 [==============================] - 1s 23us/sample - loss: 0.3654 - accuracy: 0.8628 - val_loss: 0.7336 - val_accuracy: 0.8653\n",
      "Epoch 41/100\n",
      "26999/26999 [==============================] - 1s 24us/sample - loss: 0.3603 - accuracy: 0.8651 - val_loss: 0.7530 - val_accuracy: 0.8607\n",
      "Epoch 42/100\n",
      "26999/26999 [==============================] - 1s 28us/sample - loss: 0.3583 - accuracy: 0.8660 - val_loss: 0.7347 - val_accuracy: 0.8527\n",
      "Epoch 43/100\n",
      "26999/26999 [==============================] - 1s 25us/sample - loss: 0.3682 - accuracy: 0.8623 - val_loss: 0.7665 - val_accuracy: 0.8387\n",
      "Epoch 44/100\n",
      "26999/26999 [==============================] - 1s 27us/sample - loss: 0.3486 - accuracy: 0.8708 - val_loss: 0.7153 - val_accuracy: 0.8567\n",
      "Epoch 45/100\n",
      "26999/26999 [==============================] - 1s 23us/sample - loss: 0.3448 - accuracy: 0.8705 - val_loss: 0.7494 - val_accuracy: 0.8420\n",
      "Epoch 46/100\n",
      "26999/26999 [==============================] - 1s 23us/sample - loss: 0.3434 - accuracy: 0.8706 - val_loss: 0.7708 - val_accuracy: 0.8533\n",
      "Epoch 47/100\n",
      "26999/26999 [==============================] - 1s 24us/sample - loss: 0.3352 - accuracy: 0.8736 - val_loss: 0.7195 - val_accuracy: 0.8573\n",
      "Epoch 48/100\n",
      "26999/26999 [==============================] - 1s 23us/sample - loss: 0.3364 - accuracy: 0.8737 - val_loss: 0.7090 - val_accuracy: 0.8713\n",
      "Epoch 49/100\n",
      "26999/26999 [==============================] - 1s 22us/sample - loss: 0.3364 - accuracy: 0.8730 - val_loss: 0.6363 - val_accuracy: 0.8573\n",
      "Epoch 50/100\n",
      "26999/26999 [==============================] - 1s 23us/sample - loss: 0.3308 - accuracy: 0.8766 - val_loss: 0.6893 - val_accuracy: 0.8667\n",
      "Epoch 51/100\n",
      "26999/26999 [==============================] - 1s 23us/sample - loss: 0.3277 - accuracy: 0.8770 - val_loss: 0.7443 - val_accuracy: 0.8660\n",
      "Epoch 52/100\n",
      "26999/26999 [==============================] - 1s 23us/sample - loss: 0.3176 - accuracy: 0.8813 - val_loss: 0.6334 - val_accuracy: 0.8700\n",
      "Epoch 53/100\n",
      "26999/26999 [==============================] - 1s 23us/sample - loss: 0.3235 - accuracy: 0.8778 - val_loss: 0.7262 - val_accuracy: 0.8607\n",
      "Epoch 54/100\n",
      "26999/26999 [==============================] - 1s 22us/sample - loss: 0.3112 - accuracy: 0.8829 - val_loss: 0.6674 - val_accuracy: 0.8727\n"
     ]
    },
    {
     "name": "stdout",
     "output_type": "stream",
     "text": [
      "Epoch 55/100\n",
      "26999/26999 [==============================] - 1s 22us/sample - loss: 0.3108 - accuracy: 0.8835 - val_loss: 0.6981 - val_accuracy: 0.8567\n",
      "Epoch 56/100\n",
      "26999/26999 [==============================] - 1s 22us/sample - loss: 0.3113 - accuracy: 0.8838 - val_loss: 0.7278 - val_accuracy: 0.8627\n",
      "Epoch 57/100\n",
      "26999/26999 [==============================] - 1s 23us/sample - loss: 0.3171 - accuracy: 0.8806 - val_loss: 0.7337 - val_accuracy: 0.8567\n",
      "Epoch 58/100\n",
      "26999/26999 [==============================] - 1s 22us/sample - loss: 0.3032 - accuracy: 0.8867 - val_loss: 0.7250 - val_accuracy: 0.8707\n",
      "Epoch 59/100\n",
      "26999/26999 [==============================] - 1s 24us/sample - loss: 0.3001 - accuracy: 0.8872 - val_loss: 0.6921 - val_accuracy: 0.8967\n",
      "Epoch 60/100\n",
      "26999/26999 [==============================] - 1s 23us/sample - loss: 0.3064 - accuracy: 0.8856 - val_loss: 0.6504 - val_accuracy: 0.8680\n",
      "Epoch 61/100\n",
      "26999/26999 [==============================] - 1s 22us/sample - loss: 0.3000 - accuracy: 0.8865 - val_loss: 0.6571 - val_accuracy: 0.8973\n",
      "Epoch 62/100\n",
      "26999/26999 [==============================] - 1s 24us/sample - loss: 0.3052 - accuracy: 0.8851 - val_loss: 0.6758 - val_accuracy: 0.8807\n",
      "Epoch 63/100\n",
      "26999/26999 [==============================] - 1s 22us/sample - loss: 0.2876 - accuracy: 0.8908 - val_loss: 0.6906 - val_accuracy: 0.8680\n",
      "Epoch 64/100\n",
      "26999/26999 [==============================] - 1s 23us/sample - loss: 0.2911 - accuracy: 0.8920 - val_loss: 0.7709 - val_accuracy: 0.8800\n",
      "Epoch 65/100\n",
      "26999/26999 [==============================] - 1s 24us/sample - loss: 0.2948 - accuracy: 0.8880 - val_loss: 0.7476 - val_accuracy: 0.8713\n",
      "Epoch 66/100\n",
      "26999/26999 [==============================] - 1s 23us/sample - loss: 0.2953 - accuracy: 0.8889 - val_loss: 0.6843 - val_accuracy: 0.8820\n",
      "Epoch 67/100\n",
      "26999/26999 [==============================] - 1s 29us/sample - loss: 0.2887 - accuracy: 0.8923 - val_loss: 0.7186 - val_accuracy: 0.8693\n",
      "Epoch 68/100\n",
      "26999/26999 [==============================] - 1s 25us/sample - loss: 0.2877 - accuracy: 0.8940 - val_loss: 0.7077 - val_accuracy: 0.8993\n",
      "Epoch 69/100\n",
      "26999/26999 [==============================] - 1s 25us/sample - loss: 0.2854 - accuracy: 0.8918 - val_loss: 0.7484 - val_accuracy: 0.8773\n",
      "Epoch 70/100\n",
      "26999/26999 [==============================] - 1s 23us/sample - loss: 0.2812 - accuracy: 0.8941 - val_loss: 0.7200 - val_accuracy: 0.8767\n",
      "Epoch 71/100\n",
      "26999/26999 [==============================] - 1s 22us/sample - loss: 0.2842 - accuracy: 0.8940 - val_loss: 0.7094 - val_accuracy: 0.8853\n",
      "Epoch 72/100\n",
      "26999/26999 [==============================] - 1s 22us/sample - loss: 0.2701 - accuracy: 0.9003 - val_loss: 0.7632 - val_accuracy: 0.8787\n",
      "Epoch 73/100\n",
      "26999/26999 [==============================] - 1s 22us/sample - loss: 0.2691 - accuracy: 0.8990 - val_loss: 0.7200 - val_accuracy: 0.9020\n",
      "Epoch 74/100\n",
      "26999/26999 [==============================] - 1s 22us/sample - loss: 0.2758 - accuracy: 0.8963 - val_loss: 0.6644 - val_accuracy: 0.8927\n",
      "Epoch 75/100\n",
      "26999/26999 [==============================] - 1s 22us/sample - loss: 0.2667 - accuracy: 0.8990 - val_loss: 0.7408 - val_accuracy: 0.8873\n",
      "Epoch 76/100\n",
      "26999/26999 [==============================] - 1s 22us/sample - loss: 0.2669 - accuracy: 0.9000 - val_loss: 0.7870 - val_accuracy: 0.8800\n",
      "Epoch 77/100\n",
      "26999/26999 [==============================] - 1s 22us/sample - loss: 0.2632 - accuracy: 0.9011 - val_loss: 0.7423 - val_accuracy: 0.8960\n",
      "Epoch 78/100\n",
      "26999/26999 [==============================] - 1s 22us/sample - loss: 0.2613 - accuracy: 0.9003 - val_loss: 0.7405 - val_accuracy: 0.8953\n",
      "Epoch 79/100\n",
      "26999/26999 [==============================] - 1s 22us/sample - loss: 0.2603 - accuracy: 0.9019 - val_loss: 0.7902 - val_accuracy: 0.8847\n",
      "Epoch 80/100\n",
      "26999/26999 [==============================] - 1s 22us/sample - loss: 0.2689 - accuracy: 0.9006 - val_loss: 0.7317 - val_accuracy: 0.8927\n",
      "Epoch 81/100\n",
      "26999/26999 [==============================] - 1s 22us/sample - loss: 0.2528 - accuracy: 0.9038 - val_loss: 0.8488 - val_accuracy: 0.8860\n",
      "Epoch 82/100\n",
      "26999/26999 [==============================] - 1s 22us/sample - loss: 0.2608 - accuracy: 0.9033 - val_loss: 0.8159 - val_accuracy: 0.8793\n",
      "Epoch 83/100\n",
      "26999/26999 [==============================] - 1s 23us/sample - loss: 0.2524 - accuracy: 0.9059 - val_loss: 0.6502 - val_accuracy: 0.9033\n",
      "Epoch 84/100\n",
      "26999/26999 [==============================] - 1s 23us/sample - loss: 0.2587 - accuracy: 0.9037 - val_loss: 0.7942 - val_accuracy: 0.8960\n",
      "Epoch 85/100\n",
      "26999/26999 [==============================] - 1s 23us/sample - loss: 0.2544 - accuracy: 0.9031 - val_loss: 0.7501 - val_accuracy: 0.8987\n",
      "Epoch 86/100\n",
      "26999/26999 [==============================] - 1s 23us/sample - loss: 0.2611 - accuracy: 0.9007 - val_loss: 0.7633 - val_accuracy: 0.8907\n",
      "Epoch 87/100\n",
      "26999/26999 [==============================] - 1s 22us/sample - loss: 0.2523 - accuracy: 0.9045 - val_loss: 0.7513 - val_accuracy: 0.8920\n",
      "Epoch 88/100\n",
      "26999/26999 [==============================] - 1s 22us/sample - loss: 0.2473 - accuracy: 0.9083 - val_loss: 0.7532 - val_accuracy: 0.8907\n",
      "Epoch 89/100\n",
      "26999/26999 [==============================] - 1s 22us/sample - loss: 0.2562 - accuracy: 0.9029 - val_loss: 0.7660 - val_accuracy: 0.8947\n",
      "Epoch 90/100\n",
      "26999/26999 [==============================] - 1s 24us/sample - loss: 0.2499 - accuracy: 0.9056 - val_loss: 0.7283 - val_accuracy: 0.8860\n",
      "Epoch 91/100\n",
      "26999/26999 [==============================] - 1s 22us/sample - loss: 0.2441 - accuracy: 0.9074 - val_loss: 0.7981 - val_accuracy: 0.8880\n",
      "Epoch 92/100\n",
      "26999/26999 [==============================] - 1s 22us/sample - loss: 0.2484 - accuracy: 0.9067 - val_loss: 0.7103 - val_accuracy: 0.9047\n",
      "Epoch 93/100\n",
      "26999/26999 [==============================] - 1s 22us/sample - loss: 0.2445 - accuracy: 0.9068 - val_loss: 0.8276 - val_accuracy: 0.8893\n",
      "Epoch 94/100\n",
      "26999/26999 [==============================] - 1s 23us/sample - loss: 0.2447 - accuracy: 0.9081 - val_loss: 0.8188 - val_accuracy: 0.9013\n",
      "Epoch 95/100\n",
      "26999/26999 [==============================] - 1s 23us/sample - loss: 0.2389 - accuracy: 0.9080 - val_loss: 0.7407 - val_accuracy: 0.9033\n",
      "Epoch 96/100\n",
      "26999/26999 [==============================] - 1s 29us/sample - loss: 0.2428 - accuracy: 0.9088 - val_loss: 0.7779 - val_accuracy: 0.9180\n",
      "Epoch 97/100\n",
      "26999/26999 [==============================] - 1s 23us/sample - loss: 0.2381 - accuracy: 0.9096 - val_loss: 0.7914 - val_accuracy: 0.9067\n",
      "Epoch 98/100\n",
      "26999/26999 [==============================] - 1s 23us/sample - loss: 0.2419 - accuracy: 0.9097 - val_loss: 0.8936 - val_accuracy: 0.8893\n",
      "Epoch 99/100\n",
      "26999/26999 [==============================] - 1s 23us/sample - loss: 0.2375 - accuracy: 0.9084 - val_loss: 0.8378 - val_accuracy: 0.8960\n",
      "Epoch 100/100\n",
      "26999/26999 [==============================] - 1s 23us/sample - loss: 0.2388 - accuracy: 0.9100 - val_loss: 0.9229 - val_accuracy: 0.8913\n",
      "Wall time: 1min 6s\n"
     ]
    },
    {
     "data": {
      "text/plain": [
       "<tensorflow.python.keras.callbacks.History at 0x21f109251c8>"
      ]
     },
     "execution_count": 9,
     "metadata": {},
     "output_type": "execute_result"
    }
   ],
   "source": [
    "%%time\n",
    "model.fit(x=X_train, y=y_train, epochs=100, batch_size=512, validation_data=(X_test, y_test))"
   ]
  },
  {
   "cell_type": "markdown",
   "id": "e4fe55d6",
   "metadata": {},
   "source": [
    "# Modle Performance"
   ]
  },
  {
   "cell_type": "code",
   "execution_count": 10,
   "id": "95f922ea",
   "metadata": {},
   "outputs": [],
   "source": [
    "losses = pd.DataFrame(model.history.history)"
   ]
  },
  {
   "cell_type": "code",
   "execution_count": 11,
   "id": "858af874",
   "metadata": {},
   "outputs": [
    {
     "data": {
      "text/plain": [
       "<AxesSubplot:>"
      ]
     },
     "execution_count": 11,
     "metadata": {},
     "output_type": "execute_result"
    },
    {
     "data": {
      "image/png": "[encoded data removed]",
      "text/plain": [
       "<Figure size 432x288 with 1 Axes>"
      ]
     },
     "metadata": {
      "needs_background": "light"
     },
     "output_type": "display_data"
    }
   ],
   "source": [
    "losses[['loss','val_loss']].plot()"
   ]
  },
  {
   "cell_type": "markdown",
   "id": "93b49aac",
   "metadata": {},
   "source": [
    "# Predict"
   ]
  },
  {
   "cell_type": "code",
   "execution_count": 12,
   "id": "ce2c6191",
   "metadata": {},
   "outputs": [],
   "source": [
    "predictions = model.predict(X_test)"
   ]
  },
  {
   "cell_type": "markdown",
   "id": "d57637f8",
   "metadata": {},
   "source": [
    "\n",
    "# Confusion Matrix"
   ]
  },
  {
   "cell_type": "code",
   "execution_count": 13,
   "id": "1dfbf087",
   "metadata": {},
   "outputs": [],
   "source": [
    "y_test_arg=np.argmax(y_test,axis=1)\n",
    "Y_pred = np.argmax(predictions,axis=1)"
   ]
  },
  {
   "cell_type": "code",
   "execution_count": 14,
   "id": "5e7bef94",
   "metadata": {},
   "outputs": [
    {
     "name": "stdout",
     "output_type": "stream",
     "text": [
      "[[242   4   0   0   0   4]\n",
      " [ 16 188   0  45   0   1]\n",
      " [  4   0 238   0   2   6]\n",
      " [  0   0   3 247   0   0]\n",
      " [ 53   0   1   0 196   0]\n",
      " [  1   0   0   0  23 226]]\n"
     ]
    }
   ],
   "source": [
    "print(confusion_matrix(y_test_arg, Y_pred))"
   ]
  },
  {
   "cell_type": "code",
   "execution_count": 15,
   "id": "a9aff162",
   "metadata": {},
   "outputs": [
    {
     "data": {
      "text/plain": [
       "<AxesSubplot:>"
      ]
     },
     "execution_count": 15,
     "metadata": {},
     "output_type": "execute_result"
    },
    {
     "data": {
      "image/png": "[encoded data removed]",
      "text/plain": [
       "<Figure size 432x288 with 2 Axes>"
      ]
     },
     "metadata": {},
     "output_type": "display_data"
    }
   ],
   "source": [
    "array = metrics.confusion_matrix(y_test_arg, Y_pred)\n",
    "df_cm = pd.DataFrame(array, range(6), range(6))\n",
    "# plt.figure(figsize=(10,7))\n",
    "sns.set(font_scale=1) # for label size\n",
    "sns.heatmap(df_cm, annot=True, annot_kws={\"size\": 11}, cmap=\"OrRd\") # font size"
   ]
  },
  {
   "cell_type": "markdown",
   "id": "42627778",
   "metadata": {},
   "source": [
    "# classification Report"
   ]
  },
  {
   "cell_type": "code",
   "execution_count": 16,
   "id": "947405a5",
   "metadata": {},
   "outputs": [
    {
     "name": "stdout",
     "output_type": "stream",
     "text": [
      "              precision    recall  f1-score   support\n",
      "\n",
      "           0       0.77      0.97      0.86       250\n",
      "           1       0.98      0.75      0.85       250\n",
      "           2       0.98      0.95      0.97       250\n",
      "           3       0.85      0.99      0.91       250\n",
      "           4       0.89      0.78      0.83       250\n",
      "           5       0.95      0.90      0.93       250\n",
      "\n",
      "    accuracy                           0.89      1500\n",
      "   macro avg       0.90      0.89      0.89      1500\n",
      "weighted avg       0.90      0.89      0.89      1500\n",
      "\n"
     ]
    }
   ],
   "source": [
    "print(classification_report(y_test_arg, Y_pred))"
   ]
  },
  {
   "cell_type": "code",
   "execution_count": null,
   "id": "17de918c",
   "metadata": {},
   "outputs": [],
   "source": []
  }
 ],
 "metadata": {
  "kernelspec": {
   "display_name": "Python 3.7 (tensorflow)",
   "language": "python",
   "name": "tensorflow"
  },
  "language_info": {
   "codemirror_mode": {
    "name": "ipython",
    "version": 3
   },
   "file_extension": ".py",
   "mimetype": "text/x-python",
   "name": "python",
   "nbconvert_exporter": "python",
   "pygments_lexer": "ipython3",
   "version": "3.7.9"
  }
 },
 "nbformat": 4,
 "nbformat_minor": 5
}
