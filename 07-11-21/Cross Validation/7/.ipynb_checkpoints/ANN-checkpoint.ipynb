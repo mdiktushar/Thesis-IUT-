{
 "cells": [
  {
   "cell_type": "markdown",
   "id": "c17badd4",
   "metadata": {},
   "source": [
    "# ANN"
   ]
  },
  {
   "cell_type": "code",
   "execution_count": 1,
   "id": "f5df428c",
   "metadata": {},
   "outputs": [],
   "source": [
    "import pandas as pd\n",
    "import numpy as np\n",
    "import matplotlib.pyplot as plt\n",
    "import seaborn as sns\n",
    "%matplotlib inline\n",
    "\n",
    "from sklearn.preprocessing import OneHotEncoder, MinMaxScaler\n",
    "\n",
    "import tensorflow as tf\n",
    "from tensorflow.keras.models import Sequential\n",
    "from tensorflow.keras.layers import Dense, Activation,Dropout\n",
    "from sklearn.metrics import classification_report,confusion_matrix, plot_confusion_matrix\n",
    "import sklearn.metrics as metrics"
   ]
  },
  {
   "cell_type": "markdown",
   "id": "f9a4b800",
   "metadata": {},
   "source": [
    "# Input Data"
   ]
  },
  {
   "cell_type": "code",
   "execution_count": 2,
   "id": "fe15956c",
   "metadata": {},
   "outputs": [],
   "source": [
    "df = pd.read_csv('Data.csv')"
   ]
  },
  {
   "cell_type": "code",
   "execution_count": 3,
   "id": "bef654bb",
   "metadata": {},
   "outputs": [],
   "source": [
    "dft = pd.read_csv('testing7.csv')"
   ]
  },
  {
   "cell_type": "code",
   "execution_count": 4,
   "id": "0f5337c0",
   "metadata": {},
   "outputs": [],
   "source": [
    "# X_train, X_test, y_train, y_test = train_test_split(X,y,test_size=0.25,random_state=101)\n",
    "X_train = df.drop('label',axis=1).values\n",
    "y_train = df['label'].values\n",
    "\n",
    "X_test = dft.drop('label',axis=1).values\n",
    "y_test = dft['label'].values"
   ]
  },
  {
   "cell_type": "markdown",
   "id": "b1318dcd",
   "metadata": {},
   "source": [
    "# One-hot encode the target"
   ]
  },
  {
   "cell_type": "code",
   "execution_count": 5,
   "id": "87b0bdf6",
   "metadata": {},
   "outputs": [],
   "source": [
    "enc = OneHotEncoder(sparse=False, handle_unknown='ignore')\n",
    "enc.fit(y_train.reshape(-1, 1))\n",
    "y_train = enc.transform(y_train.reshape(-1, 1))\n",
    "y_test = enc.transform(y_test.reshape(-1, 1))"
   ]
  },
  {
   "cell_type": "code",
   "execution_count": 6,
   "id": "5c52d6bd",
   "metadata": {},
   "outputs": [
    {
     "name": "stdout",
     "output_type": "stream",
     "text": [
      "(27000, 6) (1500, 6)\n"
     ]
    }
   ],
   "source": [
    "print(y_train.shape, y_test.shape)"
   ]
  },
  {
   "cell_type": "markdown",
   "id": "ccf0c799",
   "metadata": {},
   "source": [
    "# scale the features"
   ]
  },
  {
   "cell_type": "code",
   "execution_count": 7,
   "id": "3c544b11",
   "metadata": {},
   "outputs": [],
   "source": [
    "scaler = MinMaxScaler()\n",
    "scaler.fit(X_train)\n",
    "X_train = scaler.transform(X_train)\n",
    "X_test = scaler.transform(X_test)"
   ]
  },
  {
   "cell_type": "code",
   "execution_count": 8,
   "id": "e3e4af3c",
   "metadata": {},
   "outputs": [],
   "source": [
    "model = Sequential()\n",
    "\n",
    "model.add(Dense(units=64,activation='relu'))\n",
    "model.add(Dense(units=128,activation='relu'))\n",
    "model.add(Dropout(0.5))\n",
    "\n",
    "model.add(Dense(units=128,activation='relu'))\n",
    "model.add(Dense(units=512,activation='relu'))\n",
    "model.add(Dropout(0.5))\n",
    "\n",
    "model.add(Dense(units=521,activation='relu'))\n",
    "model.add(Dropout(0.5))\n",
    "\n",
    "model.add(Dense(6, activation='softmax'))\n",
    "# Compile model\n",
    "model.compile(optimizer='adam',\n",
    "              loss='categorical_crossentropy',\n",
    "              metrics=['accuracy'])"
   ]
  },
  {
   "cell_type": "code",
   "execution_count": 9,
   "id": "3fd0d04b",
   "metadata": {},
   "outputs": [
    {
     "name": "stdout",
     "output_type": "stream",
     "text": [
      "Train on 27000 samples, validate on 1500 samples\n",
      "Epoch 1/100\n",
      "27000/27000 [==============================] - 2s 57us/sample - loss: 1.6186 - accuracy: 0.3221 - val_loss: 1.6806 - val_accuracy: 0.3253\n",
      "Epoch 2/100\n",
      "27000/27000 [==============================] - 1s 22us/sample - loss: 1.3246 - accuracy: 0.4914 - val_loss: 1.4958 - val_accuracy: 0.4453\n",
      "Epoch 3/100\n",
      "27000/27000 [==============================] - 1s 22us/sample - loss: 1.2031 - accuracy: 0.5440 - val_loss: 1.3222 - val_accuracy: 0.5287\n",
      "Epoch 4/100\n",
      "27000/27000 [==============================] - 1s 22us/sample - loss: 1.1191 - accuracy: 0.5766 - val_loss: 1.1986 - val_accuracy: 0.5793\n",
      "Epoch 5/100\n",
      "27000/27000 [==============================] - 1s 23us/sample - loss: 1.0613 - accuracy: 0.6000 - val_loss: 1.1325 - val_accuracy: 0.5960\n",
      "Epoch 6/100\n",
      "27000/27000 [==============================] - 1s 21us/sample - loss: 0.9986 - accuracy: 0.6267 - val_loss: 1.0504 - val_accuracy: 0.6493\n",
      "Epoch 7/100\n",
      "27000/27000 [==============================] - 1s 22us/sample - loss: 0.9522 - accuracy: 0.6420 - val_loss: 0.9819 - val_accuracy: 0.6600\n",
      "Epoch 8/100\n",
      "27000/27000 [==============================] - 1s 22us/sample - loss: 0.9115 - accuracy: 0.6584 - val_loss: 0.9589 - val_accuracy: 0.6640\n",
      "Epoch 9/100\n",
      "27000/27000 [==============================] - 1s 22us/sample - loss: 0.8702 - accuracy: 0.6727 - val_loss: 0.8609 - val_accuracy: 0.6853\n",
      "Epoch 10/100\n",
      "27000/27000 [==============================] - 1s 21us/sample - loss: 0.8242 - accuracy: 0.6918 - val_loss: 0.8752 - val_accuracy: 0.6793\n",
      "Epoch 11/100\n",
      "27000/27000 [==============================] - 1s 22us/sample - loss: 0.7993 - accuracy: 0.6987 - val_loss: 0.8350 - val_accuracy: 0.6813\n",
      "Epoch 12/100\n",
      "27000/27000 [==============================] - 1s 22us/sample - loss: 0.7619 - accuracy: 0.7170 - val_loss: 0.7328 - val_accuracy: 0.7073\n",
      "Epoch 13/100\n",
      "27000/27000 [==============================] - 1s 21us/sample - loss: 0.7237 - accuracy: 0.7283 - val_loss: 0.6780 - val_accuracy: 0.7340\n",
      "Epoch 14/100\n",
      "27000/27000 [==============================] - 1s 21us/sample - loss: 0.7003 - accuracy: 0.7383 - val_loss: 0.6603 - val_accuracy: 0.7407\n",
      "Epoch 15/100\n",
      "27000/27000 [==============================] - 1s 21us/sample - loss: 0.6765 - accuracy: 0.7469 - val_loss: 0.6118 - val_accuracy: 0.7533\n",
      "Epoch 16/100\n",
      "27000/27000 [==============================] - 1s 21us/sample - loss: 0.6526 - accuracy: 0.7551 - val_loss: 0.5566 - val_accuracy: 0.7673\n",
      "Epoch 17/100\n",
      "27000/27000 [==============================] - 1s 22us/sample - loss: 0.6416 - accuracy: 0.7597 - val_loss: 0.5288 - val_accuracy: 0.7767\n",
      "Epoch 18/100\n",
      "27000/27000 [==============================] - 1s 23us/sample - loss: 0.6066 - accuracy: 0.7689 - val_loss: 0.5008 - val_accuracy: 0.7833\n",
      "Epoch 19/100\n",
      "27000/27000 [==============================] - 1s 22us/sample - loss: 0.5910 - accuracy: 0.7784 - val_loss: 0.5308 - val_accuracy: 0.7833\n",
      "Epoch 20/100\n",
      "27000/27000 [==============================] - 1s 23us/sample - loss: 0.5667 - accuracy: 0.7888 - val_loss: 0.5459 - val_accuracy: 0.7727\n",
      "Epoch 21/100\n",
      "27000/27000 [==============================] - 1s 23us/sample - loss: 0.5573 - accuracy: 0.7922 - val_loss: 0.4480 - val_accuracy: 0.8173\n",
      "Epoch 22/100\n",
      "27000/27000 [==============================] - 1s 23us/sample - loss: 0.5539 - accuracy: 0.7919 - val_loss: 0.4677 - val_accuracy: 0.8053\n",
      "Epoch 23/100\n",
      "27000/27000 [==============================] - 1s 22us/sample - loss: 0.5240 - accuracy: 0.8033 - val_loss: 0.4380 - val_accuracy: 0.8173\n",
      "Epoch 24/100\n",
      "27000/27000 [==============================] - 1s 22us/sample - loss: 0.5032 - accuracy: 0.8129 - val_loss: 0.4163 - val_accuracy: 0.8347\n",
      "Epoch 25/100\n",
      "27000/27000 [==============================] - 1s 22us/sample - loss: 0.4967 - accuracy: 0.8134 - val_loss: 0.4455 - val_accuracy: 0.8240\n",
      "Epoch 26/100\n",
      "27000/27000 [==============================] - 1s 22us/sample - loss: 0.4888 - accuracy: 0.8181 - val_loss: 0.3898 - val_accuracy: 0.8407\n",
      "Epoch 27/100\n",
      "27000/27000 [==============================] - 1s 21us/sample - loss: 0.4790 - accuracy: 0.8208 - val_loss: 0.4412 - val_accuracy: 0.8293\n",
      "Epoch 28/100\n",
      "27000/27000 [==============================] - 1s 22us/sample - loss: 0.4731 - accuracy: 0.8234 - val_loss: 0.3774 - val_accuracy: 0.8700\n",
      "Epoch 29/100\n",
      "27000/27000 [==============================] - 1s 21us/sample - loss: 0.4609 - accuracy: 0.8265 - val_loss: 0.3649 - val_accuracy: 0.8493\n",
      "Epoch 30/100\n",
      "27000/27000 [==============================] - 1s 21us/sample - loss: 0.4483 - accuracy: 0.8295 - val_loss: 0.4045 - val_accuracy: 0.8613\n",
      "Epoch 31/100\n",
      "27000/27000 [==============================] - 1s 21us/sample - loss: 0.4380 - accuracy: 0.8349 - val_loss: 0.3663 - val_accuracy: 0.8847\n",
      "Epoch 32/100\n",
      "27000/27000 [==============================] - 1s 23us/sample - loss: 0.4273 - accuracy: 0.8392 - val_loss: 0.3588 - val_accuracy: 0.8653\n",
      "Epoch 33/100\n",
      "27000/27000 [==============================] - 1s 22us/sample - loss: 0.4260 - accuracy: 0.8388 - val_loss: 0.3735 - val_accuracy: 0.9020\n",
      "Epoch 34/100\n",
      "27000/27000 [==============================] - 1s 22us/sample - loss: 0.4156 - accuracy: 0.8406 - val_loss: 0.3405 - val_accuracy: 0.8840\n",
      "Epoch 35/100\n",
      "27000/27000 [==============================] - 1s 22us/sample - loss: 0.4105 - accuracy: 0.8448 - val_loss: 0.3369 - val_accuracy: 0.8847\n",
      "Epoch 36/100\n",
      "27000/27000 [==============================] - 1s 22us/sample - loss: 0.3987 - accuracy: 0.8494 - val_loss: 0.3148 - val_accuracy: 0.8960\n",
      "Epoch 37/100\n",
      "27000/27000 [==============================] - 1s 22us/sample - loss: 0.4031 - accuracy: 0.8493 - val_loss: 0.3333 - val_accuracy: 0.8980\n",
      "Epoch 38/100\n",
      "27000/27000 [==============================] - 1s 21us/sample - loss: 0.3841 - accuracy: 0.8541 - val_loss: 0.3104 - val_accuracy: 0.9060\n",
      "Epoch 39/100\n",
      "27000/27000 [==============================] - 1s 21us/sample - loss: 0.3785 - accuracy: 0.8586 - val_loss: 0.2940 - val_accuracy: 0.9007\n",
      "Epoch 40/100\n",
      "27000/27000 [==============================] - 1s 21us/sample - loss: 0.3840 - accuracy: 0.8559 - val_loss: 0.3132 - val_accuracy: 0.9127\n",
      "Epoch 41/100\n",
      "27000/27000 [==============================] - 1s 21us/sample - loss: 0.3636 - accuracy: 0.8627 - val_loss: 0.3328 - val_accuracy: 0.8993\n",
      "Epoch 42/100\n",
      "27000/27000 [==============================] - 1s 21us/sample - loss: 0.3684 - accuracy: 0.8626 - val_loss: 0.2969 - val_accuracy: 0.9160\n",
      "Epoch 43/100\n",
      "27000/27000 [==============================] - 1s 23us/sample - loss: 0.3635 - accuracy: 0.8631 - val_loss: 0.3216 - val_accuracy: 0.9093\n",
      "Epoch 44/100\n",
      "27000/27000 [==============================] - 1s 22us/sample - loss: 0.3621 - accuracy: 0.8624 - val_loss: 0.3014 - val_accuracy: 0.9113\n",
      "Epoch 45/100\n",
      "27000/27000 [==============================] - 1s 23us/sample - loss: 0.3610 - accuracy: 0.8631 - val_loss: 0.3014 - val_accuracy: 0.9047\n",
      "Epoch 46/100\n",
      "27000/27000 [==============================] - 1s 23us/sample - loss: 0.3491 - accuracy: 0.8676 - val_loss: 0.2930 - val_accuracy: 0.9187\n",
      "Epoch 47/100\n",
      "27000/27000 [==============================] - 1s 23us/sample - loss: 0.3529 - accuracy: 0.8666 - val_loss: 0.3306 - val_accuracy: 0.8940\n",
      "Epoch 48/100\n",
      "27000/27000 [==============================] - 1s 22us/sample - loss: 0.3384 - accuracy: 0.8733 - val_loss: 0.3008 - val_accuracy: 0.9247\n",
      "Epoch 49/100\n",
      "27000/27000 [==============================] - 1s 24us/sample - loss: 0.3312 - accuracy: 0.8746 - val_loss: 0.2945 - val_accuracy: 0.9307\n",
      "Epoch 50/100\n",
      "27000/27000 [==============================] - 1s 22us/sample - loss: 0.3327 - accuracy: 0.8740 - val_loss: 0.2673 - val_accuracy: 0.9180\n",
      "Epoch 51/100\n",
      "27000/27000 [==============================] - 1s 22us/sample - loss: 0.3249 - accuracy: 0.8763 - val_loss: 0.2854 - val_accuracy: 0.9280\n",
      "Epoch 52/100\n",
      "27000/27000 [==============================] - 1s 22us/sample - loss: 0.3222 - accuracy: 0.8795 - val_loss: 0.3094 - val_accuracy: 0.9187\n",
      "Epoch 53/100\n",
      "27000/27000 [==============================] - 1s 22us/sample - loss: 0.3279 - accuracy: 0.8759 - val_loss: 0.2869 - val_accuracy: 0.9140\n",
      "Epoch 54/100\n",
      "27000/27000 [==============================] - 1s 22us/sample - loss: 0.3227 - accuracy: 0.8775 - val_loss: 0.2185 - val_accuracy: 0.9500\n"
     ]
    },
    {
     "name": "stdout",
     "output_type": "stream",
     "text": [
      "Epoch 55/100\n",
      "27000/27000 [==============================] - 1s 23us/sample - loss: 0.3156 - accuracy: 0.8820 - val_loss: 0.2932 - val_accuracy: 0.9200\n",
      "Epoch 56/100\n",
      "27000/27000 [==============================] - 1s 23us/sample - loss: 0.3128 - accuracy: 0.8807 - val_loss: 0.2923 - val_accuracy: 0.9253\n",
      "Epoch 57/100\n",
      "27000/27000 [==============================] - 1s 22us/sample - loss: 0.3158 - accuracy: 0.8814 - val_loss: 0.2982 - val_accuracy: 0.9280\n",
      "Epoch 58/100\n",
      "27000/27000 [==============================] - 1s 22us/sample - loss: 0.3082 - accuracy: 0.8829 - val_loss: 0.2965 - val_accuracy: 0.9387\n",
      "Epoch 59/100\n",
      "27000/27000 [==============================] - 1s 22us/sample - loss: 0.3080 - accuracy: 0.8821 - val_loss: 0.2791 - val_accuracy: 0.9400\n",
      "Epoch 60/100\n",
      "27000/27000 [==============================] - 1s 21us/sample - loss: 0.3047 - accuracy: 0.8843 - val_loss: 0.2928 - val_accuracy: 0.9333\n",
      "Epoch 61/100\n",
      "27000/27000 [==============================] - 1s 22us/sample - loss: 0.2916 - accuracy: 0.8893 - val_loss: 0.2754 - val_accuracy: 0.9460\n",
      "Epoch 62/100\n",
      "27000/27000 [==============================] - 1s 22us/sample - loss: 0.2938 - accuracy: 0.8880 - val_loss: 0.2888 - val_accuracy: 0.9353\n",
      "Epoch 63/100\n",
      "27000/27000 [==============================] - 1s 22us/sample - loss: 0.2904 - accuracy: 0.8883 - val_loss: 0.3141 - val_accuracy: 0.9347\n",
      "Epoch 64/100\n",
      "27000/27000 [==============================] - 1s 22us/sample - loss: 0.2931 - accuracy: 0.8892 - val_loss: 0.3162 - val_accuracy: 0.9333\n",
      "Epoch 65/100\n",
      "27000/27000 [==============================] - 1s 22us/sample - loss: 0.2828 - accuracy: 0.8930 - val_loss: 0.2902 - val_accuracy: 0.9247\n",
      "Epoch 66/100\n",
      "27000/27000 [==============================] - 1s 22us/sample - loss: 0.2896 - accuracy: 0.8907 - val_loss: 0.3123 - val_accuracy: 0.9300\n",
      "Epoch 67/100\n",
      "27000/27000 [==============================] - 1s 22us/sample - loss: 0.2779 - accuracy: 0.8949 - val_loss: 0.3228 - val_accuracy: 0.9453\n",
      "Epoch 68/100\n",
      "27000/27000 [==============================] - 1s 22us/sample - loss: 0.2815 - accuracy: 0.8937 - val_loss: 0.2719 - val_accuracy: 0.9333\n",
      "Epoch 69/100\n",
      "27000/27000 [==============================] - 1s 22us/sample - loss: 0.2811 - accuracy: 0.8938 - val_loss: 0.2560 - val_accuracy: 0.9360\n",
      "Epoch 70/100\n",
      "27000/27000 [==============================] - 1s 22us/sample - loss: 0.2793 - accuracy: 0.8926 - val_loss: 0.2864 - val_accuracy: 0.9480\n",
      "Epoch 71/100\n",
      "27000/27000 [==============================] - 1s 23us/sample - loss: 0.2848 - accuracy: 0.8911 - val_loss: 0.3067 - val_accuracy: 0.9327\n",
      "Epoch 72/100\n",
      "27000/27000 [==============================] - 1s 22us/sample - loss: 0.2731 - accuracy: 0.8957 - val_loss: 0.2818 - val_accuracy: 0.9487\n",
      "Epoch 73/100\n",
      "27000/27000 [==============================] - 1s 22us/sample - loss: 0.2684 - accuracy: 0.9002 - val_loss: 0.3050 - val_accuracy: 0.9413\n",
      "Epoch 74/100\n",
      "27000/27000 [==============================] - 1s 22us/sample - loss: 0.2734 - accuracy: 0.8992 - val_loss: 0.2766 - val_accuracy: 0.9540\n",
      "Epoch 75/100\n",
      "27000/27000 [==============================] - 1s 22us/sample - loss: 0.2775 - accuracy: 0.8959 - val_loss: 0.3125 - val_accuracy: 0.9473\n",
      "Epoch 76/100\n",
      "27000/27000 [==============================] - 1s 22us/sample - loss: 0.2671 - accuracy: 0.8976 - val_loss: 0.2752 - val_accuracy: 0.9380\n",
      "Epoch 77/100\n",
      "27000/27000 [==============================] - 1s 22us/sample - loss: 0.2693 - accuracy: 0.8993 - val_loss: 0.2903 - val_accuracy: 0.9400\n",
      "Epoch 78/100\n",
      "27000/27000 [==============================] - 1s 22us/sample - loss: 0.2634 - accuracy: 0.8999 - val_loss: 0.2855 - val_accuracy: 0.9533\n",
      "Epoch 79/100\n",
      "27000/27000 [==============================] - 1s 22us/sample - loss: 0.2596 - accuracy: 0.9019 - val_loss: 0.2987 - val_accuracy: 0.9487\n",
      "Epoch 80/100\n",
      "27000/27000 [==============================] - 1s 22us/sample - loss: 0.2562 - accuracy: 0.9019 - val_loss: 0.2907 - val_accuracy: 0.9507\n",
      "Epoch 81/100\n",
      "27000/27000 [==============================] - 1s 22us/sample - loss: 0.2611 - accuracy: 0.9006 - val_loss: 0.3018 - val_accuracy: 0.9387\n",
      "Epoch 82/100\n",
      "27000/27000 [==============================] - 1s 22us/sample - loss: 0.2678 - accuracy: 0.8986 - val_loss: 0.3032 - val_accuracy: 0.9387\n",
      "Epoch 83/100\n",
      "27000/27000 [==============================] - 1s 24us/sample - loss: 0.2585 - accuracy: 0.9015 - val_loss: 0.3118 - val_accuracy: 0.9413\n",
      "Epoch 84/100\n",
      "27000/27000 [==============================] - 1s 22us/sample - loss: 0.2504 - accuracy: 0.9058 - val_loss: 0.2876 - val_accuracy: 0.9407\n",
      "Epoch 85/100\n",
      "27000/27000 [==============================] - 1s 22us/sample - loss: 0.2588 - accuracy: 0.9015 - val_loss: 0.2637 - val_accuracy: 0.9500\n",
      "Epoch 86/100\n",
      "27000/27000 [==============================] - 1s 22us/sample - loss: 0.2548 - accuracy: 0.9033 - val_loss: 0.2467 - val_accuracy: 0.9380\n",
      "Epoch 87/100\n",
      "27000/27000 [==============================] - 1s 26us/sample - loss: 0.2564 - accuracy: 0.9018 - val_loss: 0.2816 - val_accuracy: 0.9507\n",
      "Epoch 88/100\n",
      "27000/27000 [==============================] - 1s 26us/sample - loss: 0.2429 - accuracy: 0.9077 - val_loss: 0.2760 - val_accuracy: 0.9420\n",
      "Epoch 89/100\n",
      "27000/27000 [==============================] - 1s 29us/sample - loss: 0.2470 - accuracy: 0.9061 - val_loss: 0.2583 - val_accuracy: 0.9560\n",
      "Epoch 90/100\n",
      "27000/27000 [==============================] - 1s 24us/sample - loss: 0.2472 - accuracy: 0.9067 - val_loss: 0.2888 - val_accuracy: 0.9460\n",
      "Epoch 91/100\n",
      "27000/27000 [==============================] - 1s 23us/sample - loss: 0.2509 - accuracy: 0.9064 - val_loss: 0.2539 - val_accuracy: 0.9360\n",
      "Epoch 92/100\n",
      "27000/27000 [==============================] - 1s 23us/sample - loss: 0.2425 - accuracy: 0.9082 - val_loss: 0.2798 - val_accuracy: 0.9513\n",
      "Epoch 93/100\n",
      "27000/27000 [==============================] - 1s 22us/sample - loss: 0.2432 - accuracy: 0.9072 - val_loss: 0.2651 - val_accuracy: 0.9500\n",
      "Epoch 94/100\n",
      "27000/27000 [==============================] - 1s 23us/sample - loss: 0.2402 - accuracy: 0.9102 - val_loss: 0.2955 - val_accuracy: 0.9440\n",
      "Epoch 95/100\n",
      "27000/27000 [==============================] - 1s 23us/sample - loss: 0.2416 - accuracy: 0.9088 - val_loss: 0.2676 - val_accuracy: 0.9433\n",
      "Epoch 96/100\n",
      "27000/27000 [==============================] - 1s 22us/sample - loss: 0.2429 - accuracy: 0.9058 - val_loss: 0.2745 - val_accuracy: 0.9540\n",
      "Epoch 97/100\n",
      "27000/27000 [==============================] - 1s 24us/sample - loss: 0.2335 - accuracy: 0.9111 - val_loss: 0.2668 - val_accuracy: 0.9580\n",
      "Epoch 98/100\n",
      "27000/27000 [==============================] - 1s 26us/sample - loss: 0.2368 - accuracy: 0.9087 - val_loss: 0.2551 - val_accuracy: 0.9487\n",
      "Epoch 99/100\n",
      "27000/27000 [==============================] - 1s 22us/sample - loss: 0.2333 - accuracy: 0.9113 - val_loss: 0.3010 - val_accuracy: 0.9440\n",
      "Epoch 100/100\n",
      "27000/27000 [==============================] - 1s 22us/sample - loss: 0.2355 - accuracy: 0.9105 - val_loss: 0.3128 - val_accuracy: 0.9493\n",
      "Wall time: 1min 8s\n"
     ]
    },
    {
     "data": {
      "text/plain": [
       "<tensorflow.python.keras.callbacks.History at 0x16e369e62c8>"
      ]
     },
     "execution_count": 9,
     "metadata": {},
     "output_type": "execute_result"
    }
   ],
   "source": [
    "%%time\n",
    "model.fit(x=X_train, y=y_train, epochs=100, batch_size=512, validation_data=(X_test, y_test))"
   ]
  },
  {
   "cell_type": "markdown",
   "id": "e4fe55d6",
   "metadata": {},
   "source": [
    "# Modle Performance"
   ]
  },
  {
   "cell_type": "code",
   "execution_count": 10,
   "id": "95f922ea",
   "metadata": {},
   "outputs": [],
   "source": [
    "losses = pd.DataFrame(model.history.history)"
   ]
  },
  {
   "cell_type": "code",
   "execution_count": 11,
   "id": "858af874",
   "metadata": {},
   "outputs": [
    {
     "data": {
      "text/plain": [
       "<AxesSubplot:>"
      ]
     },
     "execution_count": 11,
     "metadata": {},
     "output_type": "execute_result"
    },
    {
     "data": {
      "image/png": "[encoded data removed]",
      "text/plain": [
       "<Figure size 432x288 with 1 Axes>"
      ]
     },
     "metadata": {
      "needs_background": "light"
     },
     "output_type": "display_data"
    }
   ],
   "source": [
    "losses[['loss','val_loss']].plot()"
   ]
  },
  {
   "cell_type": "markdown",
   "id": "93b49aac",
   "metadata": {},
   "source": [
    "# Predict"
   ]
  },
  {
   "cell_type": "code",
   "execution_count": 12,
   "id": "ce2c6191",
   "metadata": {},
   "outputs": [],
   "source": [
    "predictions = model.predict(X_test)"
   ]
  },
  {
   "cell_type": "markdown",
   "id": "d57637f8",
   "metadata": {},
   "source": [
    "\n",
    "# Confusion Matrix"
   ]
  },
  {
   "cell_type": "code",
   "execution_count": 13,
   "id": "1dfbf087",
   "metadata": {},
   "outputs": [],
   "source": [
    "y_test_arg=np.argmax(y_test,axis=1)\n",
    "Y_pred = np.argmax(predictions,axis=1)"
   ]
  },
  {
   "cell_type": "code",
   "execution_count": 14,
   "id": "5e7bef94",
   "metadata": {},
   "outputs": [
    {
     "name": "stdout",
     "output_type": "stream",
     "text": [
      "[[247   0   0   0   3   0]\n",
      " [  2 248   0   0   0   0]\n",
      " [  0   0 240   0   0  10]\n",
      " [  0  39   0 210   1   0]\n",
      " [ 13   0   0   0 237   0]\n",
      " [  8   0   0   0   0 242]]\n"
     ]
    }
   ],
   "source": [
    "print(confusion_matrix(y_test_arg, Y_pred))"
   ]
  },
  {
   "cell_type": "code",
   "execution_count": 15,
   "id": "a9aff162",
   "metadata": {},
   "outputs": [
    {
     "data": {
      "text/plain": [
       "<AxesSubplot:>"
      ]
     },
     "execution_count": 15,
     "metadata": {},
     "output_type": "execute_result"
    },
    {
     "data": {
      "image/png": "[encoded data removed]",
      "text/plain": [
       "<Figure size 432x288 with 2 Axes>"
      ]
     },
     "metadata": {},
     "output_type": "display_data"
    }
   ],
   "source": [
    "array = metrics.confusion_matrix(y_test_arg, Y_pred)\n",
    "df_cm = pd.DataFrame(array, range(6), range(6))\n",
    "# plt.figure(figsize=(10,7))\n",
    "sns.set(font_scale=1) # for label size\n",
    "sns.heatmap(df_cm, annot=True, annot_kws={\"size\": 11}, cmap=\"OrRd\") # font size"
   ]
  },
  {
   "cell_type": "markdown",
   "id": "42627778",
   "metadata": {},
   "source": [
    "# classification Report"
   ]
  },
  {
   "cell_type": "code",
   "execution_count": 16,
   "id": "947405a5",
   "metadata": {},
   "outputs": [
    {
     "name": "stdout",
     "output_type": "stream",
     "text": [
      "              precision    recall  f1-score   support\n",
      "\n",
      "           0       0.91      0.99      0.95       250\n",
      "           1       0.86      0.99      0.92       250\n",
      "           2       1.00      0.96      0.98       250\n",
      "           3       1.00      0.84      0.91       250\n",
      "           4       0.98      0.95      0.97       250\n",
      "           5       0.96      0.97      0.96       250\n",
      "\n",
      "    accuracy                           0.95      1500\n",
      "   macro avg       0.95      0.95      0.95      1500\n",
      "weighted avg       0.95      0.95      0.95      1500\n",
      "\n"
     ]
    }
   ],
   "source": [
    "print(classification_report(y_test_arg, Y_pred))"
   ]
  },
  {
   "cell_type": "code",
   "execution_count": null,
   "id": "17de918c",
   "metadata": {},
   "outputs": [],
   "source": []
  }
 ],
 "metadata": {
  "kernelspec": {
   "display_name": "Python 3.7 (tensorflow)",
   "language": "python",
   "name": "tensorflow"
  },
  "language_info": {
   "codemirror_mode": {
    "name": "ipython",
    "version": 3
   },
   "file_extension": ".py",
   "mimetype": "text/x-python",
   "name": "python",
   "nbconvert_exporter": "python",
   "pygments_lexer": "ipython3",
   "version": "3.7.9"
  }
 },
 "nbformat": 4,
 "nbformat_minor": 5
}
