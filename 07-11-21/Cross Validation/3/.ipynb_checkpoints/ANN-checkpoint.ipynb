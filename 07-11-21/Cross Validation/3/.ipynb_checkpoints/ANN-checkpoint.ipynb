{
 "cells": [
  {
   "cell_type": "markdown",
   "id": "c17badd4",
   "metadata": {},
   "source": [
    "# ANN"
   ]
  },
  {
   "cell_type": "code",
   "execution_count": 1,
   "id": "f5df428c",
   "metadata": {},
   "outputs": [],
   "source": [
    "import pandas as pd\n",
    "import numpy as np\n",
    "import matplotlib.pyplot as plt\n",
    "import seaborn as sns\n",
    "%matplotlib inline\n",
    "\n",
    "from sklearn.preprocessing import OneHotEncoder, MinMaxScaler\n",
    "\n",
    "import tensorflow as tf\n",
    "from tensorflow.keras.models import Sequential\n",
    "from tensorflow.keras.layers import Dense, Activation,Dropout\n",
    "from sklearn.metrics import classification_report,confusion_matrix, plot_confusion_matrix\n",
    "import sklearn.metrics as metrics"
   ]
  },
  {
   "cell_type": "markdown",
   "id": "f9a4b800",
   "metadata": {},
   "source": [
    "# Input Data"
   ]
  },
  {
   "cell_type": "code",
   "execution_count": 2,
   "id": "fe15956c",
   "metadata": {},
   "outputs": [],
   "source": [
    "df = pd.read_csv('Data.csv')"
   ]
  },
  {
   "cell_type": "code",
   "execution_count": 3,
   "id": "bef654bb",
   "metadata": {},
   "outputs": [],
   "source": [
    "dft = pd.read_csv('testing3.csv')"
   ]
  },
  {
   "cell_type": "code",
   "execution_count": 4,
   "id": "0f5337c0",
   "metadata": {},
   "outputs": [],
   "source": [
    "# X_train, X_test, y_train, y_test = train_test_split(X,y,test_size=0.25,random_state=101)\n",
    "X_train = df.drop('label',axis=1).values\n",
    "y_train = df['label'].values\n",
    "\n",
    "X_test = dft.drop('label',axis=1).values\n",
    "y_test = dft['label'].values"
   ]
  },
  {
   "cell_type": "markdown",
   "id": "b1318dcd",
   "metadata": {},
   "source": [
    "# One-hot encode the target"
   ]
  },
  {
   "cell_type": "code",
   "execution_count": 5,
   "id": "87b0bdf6",
   "metadata": {},
   "outputs": [],
   "source": [
    "enc = OneHotEncoder(sparse=False, handle_unknown='ignore')\n",
    "enc.fit(y_train.reshape(-1, 1))\n",
    "y_train = enc.transform(y_train.reshape(-1, 1))\n",
    "y_test = enc.transform(y_test.reshape(-1, 1))"
   ]
  },
  {
   "cell_type": "code",
   "execution_count": 6,
   "id": "5c52d6bd",
   "metadata": {},
   "outputs": [
    {
     "name": "stdout",
     "output_type": "stream",
     "text": [
      "(26999, 6) (1500, 6)\n"
     ]
    }
   ],
   "source": [
    "print(y_train.shape, y_test.shape)"
   ]
  },
  {
   "cell_type": "markdown",
   "id": "ccf0c799",
   "metadata": {},
   "source": [
    "# scale the features"
   ]
  },
  {
   "cell_type": "code",
   "execution_count": 7,
   "id": "3c544b11",
   "metadata": {},
   "outputs": [],
   "source": [
    "scaler = MinMaxScaler()\n",
    "scaler.fit(X_train)\n",
    "X_train = scaler.transform(X_train)\n",
    "X_test = scaler.transform(X_test)"
   ]
  },
  {
   "cell_type": "code",
   "execution_count": 8,
   "id": "e3e4af3c",
   "metadata": {},
   "outputs": [],
   "source": [
    "model = Sequential()\n",
    "\n",
    "model.add(Dense(units=64,activation='relu'))\n",
    "model.add(Dense(units=128,activation='relu'))\n",
    "model.add(Dropout(0.5))\n",
    "\n",
    "model.add(Dense(units=128,activation='relu'))\n",
    "model.add(Dense(units=512,activation='relu'))\n",
    "model.add(Dropout(0.5))\n",
    "\n",
    "model.add(Dense(units=521,activation='relu'))\n",
    "model.add(Dropout(0.5))\n",
    "\n",
    "model.add(Dense(6, activation='softmax'))\n",
    "# Compile model\n",
    "model.compile(optimizer='adam',\n",
    "              loss='categorical_crossentropy',\n",
    "              metrics=['accuracy'])"
   ]
  },
  {
   "cell_type": "code",
   "execution_count": 9,
   "id": "3fd0d04b",
   "metadata": {},
   "outputs": [
    {
     "name": "stdout",
     "output_type": "stream",
     "text": [
      "Train on 26999 samples, validate on 1500 samples\n",
      "Epoch 1/100\n",
      "26999/26999 [==============================] - 29s 1ms/sample - loss: 1.6396 - accuracy: 0.3168 - val_loss: 1.4389 - val_accuracy: 0.4780\n",
      "Epoch 2/100\n",
      "26999/26999 [==============================] - 1s 51us/sample - loss: 1.3231 - accuracy: 0.4923 - val_loss: 1.2639 - val_accuracy: 0.5300\n",
      "Epoch 3/100\n",
      "26999/26999 [==============================] - 1s 22us/sample - loss: 1.1831 - accuracy: 0.5482 - val_loss: 1.2151 - val_accuracy: 0.5647\n",
      "Epoch 4/100\n",
      "26999/26999 [==============================] - 1s 22us/sample - loss: 1.0976 - accuracy: 0.5806 - val_loss: 1.1037 - val_accuracy: 0.6273\n",
      "Epoch 5/100\n",
      "26999/26999 [==============================] - 1s 22us/sample - loss: 1.0330 - accuracy: 0.6097 - val_loss: 1.0398 - val_accuracy: 0.6580\n",
      "Epoch 6/100\n",
      "26999/26999 [==============================] - 1s 23us/sample - loss: 0.9761 - accuracy: 0.6323 - val_loss: 0.9776 - val_accuracy: 0.6540\n",
      "Epoch 7/100\n",
      "26999/26999 [==============================] - 1s 21us/sample - loss: 0.9233 - accuracy: 0.6522 - val_loss: 0.9177 - val_accuracy: 0.6860\n",
      "Epoch 8/100\n",
      "26999/26999 [==============================] - 1s 22us/sample - loss: 0.8819 - accuracy: 0.6713 - val_loss: 0.8684 - val_accuracy: 0.7113\n",
      "Epoch 9/100\n",
      "26999/26999 [==============================] - 1s 23us/sample - loss: 0.8494 - accuracy: 0.6816 - val_loss: 0.8297 - val_accuracy: 0.7140\n",
      "Epoch 10/100\n",
      "26999/26999 [==============================] - 1s 23us/sample - loss: 0.8110 - accuracy: 0.6950 - val_loss: 0.7788 - val_accuracy: 0.7167\n",
      "Epoch 11/100\n",
      "26999/26999 [==============================] - 1s 23us/sample - loss: 0.7814 - accuracy: 0.7074 - val_loss: 0.7481 - val_accuracy: 0.7493\n",
      "Epoch 12/100\n",
      "26999/26999 [==============================] - 1s 22us/sample - loss: 0.7514 - accuracy: 0.7187 - val_loss: 0.6675 - val_accuracy: 0.7767\n",
      "Epoch 13/100\n",
      "26999/26999 [==============================] - 1s 22us/sample - loss: 0.7173 - accuracy: 0.7316 - val_loss: 0.6592 - val_accuracy: 0.7833\n",
      "Epoch 14/100\n",
      "26999/26999 [==============================] - 1s 22us/sample - loss: 0.6999 - accuracy: 0.7368 - val_loss: 0.6338 - val_accuracy: 0.7833\n",
      "Epoch 15/100\n",
      "26999/26999 [==============================] - 1s 22us/sample - loss: 0.6672 - accuracy: 0.7485 - val_loss: 0.6256 - val_accuracy: 0.7787\n",
      "Epoch 16/100\n",
      "26999/26999 [==============================] - 1s 21us/sample - loss: 0.6561 - accuracy: 0.7547 - val_loss: 0.5729 - val_accuracy: 0.8147\n",
      "Epoch 17/100\n",
      "26999/26999 [==============================] - 1s 22us/sample - loss: 0.6152 - accuracy: 0.7697 - val_loss: 0.5620 - val_accuracy: 0.8167\n",
      "Epoch 18/100\n",
      "26999/26999 [==============================] - 1s 23us/sample - loss: 0.6040 - accuracy: 0.7726 - val_loss: 0.5175 - val_accuracy: 0.8293\n",
      "Epoch 19/100\n",
      "26999/26999 [==============================] - 1s 25us/sample - loss: 0.5915 - accuracy: 0.7769 - val_loss: 0.4734 - val_accuracy: 0.8407\n",
      "Epoch 20/100\n",
      "26999/26999 [==============================] - 1s 23us/sample - loss: 0.5727 - accuracy: 0.7848 - val_loss: 0.4844 - val_accuracy: 0.8420\n",
      "Epoch 21/100\n",
      "26999/26999 [==============================] - 1s 22us/sample - loss: 0.5545 - accuracy: 0.7910 - val_loss: 0.4879 - val_accuracy: 0.8327\n",
      "Epoch 22/100\n",
      "26999/26999 [==============================] - 1s 23us/sample - loss: 0.5420 - accuracy: 0.7954 - val_loss: 0.4251 - val_accuracy: 0.8393\n",
      "Epoch 23/100\n",
      "26999/26999 [==============================] - 1s 22us/sample - loss: 0.5332 - accuracy: 0.7996 - val_loss: 0.4497 - val_accuracy: 0.8440\n",
      "Epoch 24/100\n",
      "26999/26999 [==============================] - 1s 22us/sample - loss: 0.5114 - accuracy: 0.8087 - val_loss: 0.3805 - val_accuracy: 0.8700\n",
      "Epoch 25/100\n",
      "26999/26999 [==============================] - 1s 22us/sample - loss: 0.5070 - accuracy: 0.8071 - val_loss: 0.3962 - val_accuracy: 0.8660\n",
      "Epoch 26/100\n",
      "26999/26999 [==============================] - 1s 22us/sample - loss: 0.4899 - accuracy: 0.8149 - val_loss: 0.3792 - val_accuracy: 0.8553\n",
      "Epoch 27/100\n",
      "26999/26999 [==============================] - 1s 23us/sample - loss: 0.4839 - accuracy: 0.8204 - val_loss: 0.3999 - val_accuracy: 0.8493\n",
      "Epoch 28/100\n",
      "26999/26999 [==============================] - 1s 23us/sample - loss: 0.4777 - accuracy: 0.8163 - val_loss: 0.3230 - val_accuracy: 0.8827\n",
      "Epoch 29/100\n",
      "26999/26999 [==============================] - 1s 22us/sample - loss: 0.4671 - accuracy: 0.8238 - val_loss: 0.3320 - val_accuracy: 0.8920\n",
      "Epoch 30/100\n",
      "26999/26999 [==============================] - 1s 23us/sample - loss: 0.4594 - accuracy: 0.8260 - val_loss: 0.3331 - val_accuracy: 0.8793\n",
      "Epoch 31/100\n",
      "26999/26999 [==============================] - 1s 22us/sample - loss: 0.4526 - accuracy: 0.8295 - val_loss: 0.3326 - val_accuracy: 0.8733\n",
      "Epoch 32/100\n",
      "26999/26999 [==============================] - 1s 23us/sample - loss: 0.4387 - accuracy: 0.8310 - val_loss: 0.2867 - val_accuracy: 0.8973\n",
      "Epoch 33/100\n",
      "26999/26999 [==============================] - 1s 22us/sample - loss: 0.4333 - accuracy: 0.8349 - val_loss: 0.2922 - val_accuracy: 0.9080\n",
      "Epoch 34/100\n",
      "26999/26999 [==============================] - 1s 23us/sample - loss: 0.4284 - accuracy: 0.8397 - val_loss: 0.2963 - val_accuracy: 0.9093\n",
      "Epoch 35/100\n",
      "26999/26999 [==============================] - 1s 23us/sample - loss: 0.4177 - accuracy: 0.8407 - val_loss: 0.3095 - val_accuracy: 0.8900\n",
      "Epoch 36/100\n",
      "26999/26999 [==============================] - 1s 22us/sample - loss: 0.4174 - accuracy: 0.8427 - val_loss: 0.2697 - val_accuracy: 0.8980\n",
      "Epoch 37/100\n",
      "26999/26999 [==============================] - 1s 22us/sample - loss: 0.4107 - accuracy: 0.8453 - val_loss: 0.2724 - val_accuracy: 0.9000\n",
      "Epoch 38/100\n",
      "26999/26999 [==============================] - 1s 23us/sample - loss: 0.4046 - accuracy: 0.8458 - val_loss: 0.3066 - val_accuracy: 0.8807\n",
      "Epoch 39/100\n",
      "26999/26999 [==============================] - 1s 24us/sample - loss: 0.3966 - accuracy: 0.8510 - val_loss: 0.2325 - val_accuracy: 0.9167\n",
      "Epoch 40/100\n",
      "26999/26999 [==============================] - 1s 23us/sample - loss: 0.3976 - accuracy: 0.8485 - val_loss: 0.2663 - val_accuracy: 0.8980\n",
      "Epoch 41/100\n",
      "26999/26999 [==============================] - 1s 23us/sample - loss: 0.3905 - accuracy: 0.8517 - val_loss: 0.2827 - val_accuracy: 0.8807\n",
      "Epoch 42/100\n",
      "26999/26999 [==============================] - 1s 23us/sample - loss: 0.3816 - accuracy: 0.8540 - val_loss: 0.2340 - val_accuracy: 0.9067\n",
      "Epoch 43/100\n",
      "26999/26999 [==============================] - 1s 23us/sample - loss: 0.3875 - accuracy: 0.8541 - val_loss: 0.2567 - val_accuracy: 0.9087\n",
      "Epoch 44/100\n",
      "26999/26999 [==============================] - 1s 22us/sample - loss: 0.3821 - accuracy: 0.8559 - val_loss: 0.2743 - val_accuracy: 0.8940\n",
      "Epoch 45/100\n",
      "26999/26999 [==============================] - 1s 23us/sample - loss: 0.3669 - accuracy: 0.8600 - val_loss: 0.2206 - val_accuracy: 0.9233\n",
      "Epoch 46/100\n",
      "26999/26999 [==============================] - 1s 23us/sample - loss: 0.3605 - accuracy: 0.8607 - val_loss: 0.2071 - val_accuracy: 0.9273\n",
      "Epoch 47/100\n",
      "26999/26999 [==============================] - 1s 23us/sample - loss: 0.3662 - accuracy: 0.8591 - val_loss: 0.2435 - val_accuracy: 0.9167\n",
      "Epoch 48/100\n",
      "26999/26999 [==============================] - 1s 23us/sample - loss: 0.3515 - accuracy: 0.8667 - val_loss: 0.2201 - val_accuracy: 0.9267\n",
      "Epoch 49/100\n",
      "26999/26999 [==============================] - 1s 24us/sample - loss: 0.3459 - accuracy: 0.8660 - val_loss: 0.2153 - val_accuracy: 0.9147\n",
      "Epoch 50/100\n",
      "26999/26999 [==============================] - 1s 24us/sample - loss: 0.3561 - accuracy: 0.8632 - val_loss: 0.2412 - val_accuracy: 0.8913\n",
      "Epoch 51/100\n",
      "26999/26999 [==============================] - 1s 23us/sample - loss: 0.3467 - accuracy: 0.8674 - val_loss: 0.2253 - val_accuracy: 0.9213\n",
      "Epoch 52/100\n",
      "26999/26999 [==============================] - 1s 22us/sample - loss: 0.3379 - accuracy: 0.8718 - val_loss: 0.2360 - val_accuracy: 0.9207\n",
      "Epoch 53/100\n",
      "26999/26999 [==============================] - 1s 23us/sample - loss: 0.3326 - accuracy: 0.8725 - val_loss: 0.2363 - val_accuracy: 0.9060\n",
      "Epoch 54/100\n",
      "26999/26999 [==============================] - 1s 23us/sample - loss: 0.3420 - accuracy: 0.8702 - val_loss: 0.1887 - val_accuracy: 0.9333\n"
     ]
    },
    {
     "name": "stdout",
     "output_type": "stream",
     "text": [
      "Epoch 55/100\n",
      "26999/26999 [==============================] - 1s 23us/sample - loss: 0.3322 - accuracy: 0.8743 - val_loss: 0.1893 - val_accuracy: 0.9213\n",
      "Epoch 56/100\n",
      "26999/26999 [==============================] - 1s 23us/sample - loss: 0.3333 - accuracy: 0.8734 - val_loss: 0.2216 - val_accuracy: 0.9067\n",
      "Epoch 57/100\n",
      "26999/26999 [==============================] - 1s 22us/sample - loss: 0.3306 - accuracy: 0.8723 - val_loss: 0.1970 - val_accuracy: 0.9180\n",
      "Epoch 58/100\n",
      "26999/26999 [==============================] - 1s 22us/sample - loss: 0.3232 - accuracy: 0.8761 - val_loss: 0.1916 - val_accuracy: 0.9273\n",
      "Epoch 59/100\n",
      "26999/26999 [==============================] - 1s 23us/sample - loss: 0.3278 - accuracy: 0.8750 - val_loss: 0.1771 - val_accuracy: 0.9287\n",
      "Epoch 60/100\n",
      "26999/26999 [==============================] - 1s 22us/sample - loss: 0.3142 - accuracy: 0.8794 - val_loss: 0.1832 - val_accuracy: 0.9320\n",
      "Epoch 61/100\n",
      "26999/26999 [==============================] - 1s 23us/sample - loss: 0.3202 - accuracy: 0.8770 - val_loss: 0.1739 - val_accuracy: 0.9393\n",
      "Epoch 62/100\n",
      "26999/26999 [==============================] - 1s 23us/sample - loss: 0.3178 - accuracy: 0.8771 - val_loss: 0.1967 - val_accuracy: 0.9227\n",
      "Epoch 63/100\n",
      "26999/26999 [==============================] - 1s 23us/sample - loss: 0.3146 - accuracy: 0.8787 - val_loss: 0.1976 - val_accuracy: 0.9293\n",
      "Epoch 64/100\n",
      "26999/26999 [==============================] - 1s 23us/sample - loss: 0.3097 - accuracy: 0.8799 - val_loss: 0.1791 - val_accuracy: 0.9267\n",
      "Epoch 65/100\n",
      "26999/26999 [==============================] - 1s 23us/sample - loss: 0.3034 - accuracy: 0.8832 - val_loss: 0.1678 - val_accuracy: 0.9333\n",
      "Epoch 66/100\n",
      "26999/26999 [==============================] - 1s 23us/sample - loss: 0.3039 - accuracy: 0.8824 - val_loss: 0.1630 - val_accuracy: 0.9400\n",
      "Epoch 67/100\n",
      "26999/26999 [==============================] - 1s 23us/sample - loss: 0.3008 - accuracy: 0.8839 - val_loss: 0.1837 - val_accuracy: 0.9253\n",
      "Epoch 68/100\n",
      "26999/26999 [==============================] - 1s 23us/sample - loss: 0.3052 - accuracy: 0.8798 - val_loss: 0.1890 - val_accuracy: 0.9247\n",
      "Epoch 69/100\n",
      "26999/26999 [==============================] - 1s 23us/sample - loss: 0.2952 - accuracy: 0.8884 - val_loss: 0.1378 - val_accuracy: 0.9440\n",
      "Epoch 70/100\n",
      "26999/26999 [==============================] - 1s 23us/sample - loss: 0.2972 - accuracy: 0.8846 - val_loss: 0.1868 - val_accuracy: 0.9207\n",
      "Epoch 71/100\n",
      "26999/26999 [==============================] - 1s 23us/sample - loss: 0.3022 - accuracy: 0.8854 - val_loss: 0.1624 - val_accuracy: 0.9340\n",
      "Epoch 72/100\n",
      "26999/26999 [==============================] - 1s 23us/sample - loss: 0.2963 - accuracy: 0.8853 - val_loss: 0.1544 - val_accuracy: 0.9393\n",
      "Epoch 73/100\n",
      "26999/26999 [==============================] - 1s 23us/sample - loss: 0.2950 - accuracy: 0.8860 - val_loss: 0.1613 - val_accuracy: 0.9460\n",
      "Epoch 74/100\n",
      "26999/26999 [==============================] - 1s 24us/sample - loss: 0.2970 - accuracy: 0.8866 - val_loss: 0.1677 - val_accuracy: 0.9380\n",
      "Epoch 75/100\n",
      "26999/26999 [==============================] - 1s 25us/sample - loss: 0.2873 - accuracy: 0.8895 - val_loss: 0.1639 - val_accuracy: 0.9427\n",
      "Epoch 76/100\n",
      "26999/26999 [==============================] - 1s 24us/sample - loss: 0.2836 - accuracy: 0.8896 - val_loss: 0.1505 - val_accuracy: 0.9380\n",
      "Epoch 77/100\n",
      "26999/26999 [==============================] - 1s 24us/sample - loss: 0.2879 - accuracy: 0.8894 - val_loss: 0.1629 - val_accuracy: 0.9360\n",
      "Epoch 78/100\n",
      "26999/26999 [==============================] - 1s 25us/sample - loss: 0.2801 - accuracy: 0.8943 - val_loss: 0.1485 - val_accuracy: 0.9407\n",
      "Epoch 79/100\n",
      "26999/26999 [==============================] - 1s 25us/sample - loss: 0.2824 - accuracy: 0.8922 - val_loss: 0.1485 - val_accuracy: 0.9393\n",
      "Epoch 80/100\n",
      "26999/26999 [==============================] - 1s 25us/sample - loss: 0.2820 - accuracy: 0.8911 - val_loss: 0.1500 - val_accuracy: 0.9380\n",
      "Epoch 81/100\n",
      "26999/26999 [==============================] - 1s 25us/sample - loss: 0.2788 - accuracy: 0.8934 - val_loss: 0.1478 - val_accuracy: 0.9353\n",
      "Epoch 82/100\n",
      "26999/26999 [==============================] - 1s 25us/sample - loss: 0.2851 - accuracy: 0.8923 - val_loss: 0.1410 - val_accuracy: 0.9420\n",
      "Epoch 83/100\n",
      "26999/26999 [==============================] - 1s 25us/sample - loss: 0.2801 - accuracy: 0.8928 - val_loss: 0.1440 - val_accuracy: 0.9473\n",
      "Epoch 84/100\n",
      "26999/26999 [==============================] - 1s 25us/sample - loss: 0.2761 - accuracy: 0.8938 - val_loss: 0.1493 - val_accuracy: 0.9373\n",
      "Epoch 85/100\n",
      "26999/26999 [==============================] - 1s 23us/sample - loss: 0.2720 - accuracy: 0.8963 - val_loss: 0.1387 - val_accuracy: 0.9453\n",
      "Epoch 86/100\n",
      "26999/26999 [==============================] - 1s 23us/sample - loss: 0.2798 - accuracy: 0.8944 - val_loss: 0.1536 - val_accuracy: 0.9360\n",
      "Epoch 87/100\n",
      "26999/26999 [==============================] - 1s 24us/sample - loss: 0.2688 - accuracy: 0.8974 - val_loss: 0.1381 - val_accuracy: 0.9447\n",
      "Epoch 88/100\n",
      "26999/26999 [==============================] - 1s 26us/sample - loss: 0.2657 - accuracy: 0.8981 - val_loss: 0.1395 - val_accuracy: 0.9460\n",
      "Epoch 89/100\n",
      "26999/26999 [==============================] - 1s 24us/sample - loss: 0.2634 - accuracy: 0.8995 - val_loss: 0.1250 - val_accuracy: 0.9513\n",
      "Epoch 90/100\n",
      "26999/26999 [==============================] - 1s 23us/sample - loss: 0.2662 - accuracy: 0.8968 - val_loss: 0.1437 - val_accuracy: 0.9400\n",
      "Epoch 91/100\n",
      "26999/26999 [==============================] - 1s 23us/sample - loss: 0.2654 - accuracy: 0.8968 - val_loss: 0.1351 - val_accuracy: 0.9453\n",
      "Epoch 92/100\n",
      "26999/26999 [==============================] - 1s 23us/sample - loss: 0.2626 - accuracy: 0.8997 - val_loss: 0.1366 - val_accuracy: 0.9473\n",
      "Epoch 93/100\n",
      "26999/26999 [==============================] - 1s 23us/sample - loss: 0.2654 - accuracy: 0.8974 - val_loss: 0.1240 - val_accuracy: 0.9487\n",
      "Epoch 94/100\n",
      "26999/26999 [==============================] - 1s 24us/sample - loss: 0.2693 - accuracy: 0.8960 - val_loss: 0.1394 - val_accuracy: 0.9387\n",
      "Epoch 95/100\n",
      "26999/26999 [==============================] - 1s 22us/sample - loss: 0.2613 - accuracy: 0.9006 - val_loss: 0.1145 - val_accuracy: 0.9587\n",
      "Epoch 96/100\n",
      "26999/26999 [==============================] - 1s 23us/sample - loss: 0.2605 - accuracy: 0.8990 - val_loss: 0.1691 - val_accuracy: 0.9340\n",
      "Epoch 97/100\n",
      "26999/26999 [==============================] - 1s 25us/sample - loss: 0.2592 - accuracy: 0.9010 - val_loss: 0.1485 - val_accuracy: 0.9367\n",
      "Epoch 98/100\n",
      "26999/26999 [==============================] - 1s 23us/sample - loss: 0.2541 - accuracy: 0.9036 - val_loss: 0.1233 - val_accuracy: 0.9540\n",
      "Epoch 99/100\n",
      "26999/26999 [==============================] - 1s 24us/sample - loss: 0.2623 - accuracy: 0.8987 - val_loss: 0.1431 - val_accuracy: 0.9420\n",
      "Epoch 100/100\n",
      "26999/26999 [==============================] - 1s 24us/sample - loss: 0.2586 - accuracy: 0.9007 - val_loss: 0.1231 - val_accuracy: 0.9493\n",
      "Wall time: 1min 52s\n"
     ]
    },
    {
     "data": {
      "text/plain": [
       "<tensorflow.python.keras.callbacks.History at 0x2382d1f3ec8>"
      ]
     },
     "execution_count": 9,
     "metadata": {},
     "output_type": "execute_result"
    }
   ],
   "source": [
    "%%time\n",
    "model.fit(x=X_train, y=y_train, epochs=100, batch_size=512, validation_data=(X_test, y_test))"
   ]
  },
  {
   "cell_type": "markdown",
   "id": "e4fe55d6",
   "metadata": {},
   "source": [
    "# Modle Performance"
   ]
  },
  {
   "cell_type": "code",
   "execution_count": 10,
   "id": "95f922ea",
   "metadata": {},
   "outputs": [],
   "source": [
    "losses = pd.DataFrame(model.history.history)"
   ]
  },
  {
   "cell_type": "code",
   "execution_count": 11,
   "id": "858af874",
   "metadata": {},
   "outputs": [
    {
     "data": {
      "text/plain": [
       "<AxesSubplot:>"
      ]
     },
     "execution_count": 11,
     "metadata": {},
     "output_type": "execute_result"
    },
    {
     "data": {
      "image/png": "[encoded data removed]",
      "text/plain": [
       "<Figure size 432x288 with 1 Axes>"
      ]
     },
     "metadata": {
      "needs_background": "light"
     },
     "output_type": "display_data"
    }
   ],
   "source": [
    "losses[['loss','val_loss']].plot()"
   ]
  },
  {
   "cell_type": "markdown",
   "id": "93b49aac",
   "metadata": {},
   "source": [
    "# Predict"
   ]
  },
  {
   "cell_type": "code",
   "execution_count": 12,
   "id": "ce2c6191",
   "metadata": {},
   "outputs": [],
   "source": [
    "predictions = model.predict(X_test)"
   ]
  },
  {
   "cell_type": "markdown",
   "id": "d57637f8",
   "metadata": {},
   "source": [
    "\n",
    "# Confusion Matrix"
   ]
  },
  {
   "cell_type": "code",
   "execution_count": 13,
   "id": "1dfbf087",
   "metadata": {},
   "outputs": [],
   "source": [
    "y_test_arg=np.argmax(y_test,axis=1)\n",
    "Y_pred = np.argmax(predictions,axis=1)"
   ]
  },
  {
   "cell_type": "code",
   "execution_count": 14,
   "id": "5e7bef94",
   "metadata": {},
   "outputs": [
    {
     "name": "stdout",
     "output_type": "stream",
     "text": [
      "[[241   8   0   0   0   1]\n",
      " [  0 249   1   0   0   0]\n",
      " [  0   0 250   0   0   0]\n",
      " [ 23   2   0 225   0   0]\n",
      " [  9   0   0   0 236   5]\n",
      " [ 26   0   0   1   0 223]]\n"
     ]
    }
   ],
   "source": [
    "print(confusion_matrix(y_test_arg, Y_pred))"
   ]
  },
  {
   "cell_type": "code",
   "execution_count": 15,
   "id": "a9aff162",
   "metadata": {},
   "outputs": [
    {
     "data": {
      "text/plain": [
       "<AxesSubplot:>"
      ]
     },
     "execution_count": 15,
     "metadata": {},
     "output_type": "execute_result"
    },
    {
     "data": {
      "image/png": "[encoded data removed]",
      "text/plain": [
       "<Figure size 432x288 with 2 Axes>"
      ]
     },
     "metadata": {},
     "output_type": "display_data"
    }
   ],
   "source": [
    "array = metrics.confusion_matrix(y_test_arg, Y_pred)\n",
    "df_cm = pd.DataFrame(array, range(6), range(6))\n",
    "# plt.figure(figsize=(10,7))\n",
    "sns.set(font_scale=1) # for label size\n",
    "sns.heatmap(df_cm, annot=True, annot_kws={\"size\": 11}, cmap=\"OrRd\") # font size"
   ]
  },
  {
   "cell_type": "markdown",
   "id": "42627778",
   "metadata": {},
   "source": [
    "# classification Report"
   ]
  },
  {
   "cell_type": "code",
   "execution_count": 16,
   "id": "947405a5",
   "metadata": {},
   "outputs": [
    {
     "name": "stdout",
     "output_type": "stream",
     "text": [
      "              precision    recall  f1-score   support\n",
      "\n",
      "           0       0.81      0.96      0.88       250\n",
      "           1       0.96      1.00      0.98       250\n",
      "           2       1.00      1.00      1.00       250\n",
      "           3       1.00      0.90      0.95       250\n",
      "           4       1.00      0.94      0.97       250\n",
      "           5       0.97      0.89      0.93       250\n",
      "\n",
      "    accuracy                           0.95      1500\n",
      "   macro avg       0.96      0.95      0.95      1500\n",
      "weighted avg       0.96      0.95      0.95      1500\n",
      "\n"
     ]
    }
   ],
   "source": [
    "print(classification_report(y_test_arg, Y_pred))"
   ]
  },
  {
   "cell_type": "code",
   "execution_count": null,
   "id": "17de918c",
   "metadata": {},
   "outputs": [],
   "source": []
  }
 ],
 "metadata": {
  "kernelspec": {
   "display_name": "Python 3.7 (tensorflow)",
   "language": "python",
   "name": "tensorflow"
  },
  "language_info": {
   "codemirror_mode": {
    "name": "ipython",
    "version": 3
   },
   "file_extension": ".py",
   "mimetype": "text/x-python",
   "name": "python",
   "nbconvert_exporter": "python",
   "pygments_lexer": "ipython3",
   "version": "3.7.9"
  }
 },
 "nbformat": 4,
 "nbformat_minor": 5
}
