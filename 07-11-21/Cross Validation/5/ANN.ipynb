{
 "cells": [
  {
   "cell_type": "markdown",
   "id": "c17badd4",
   "metadata": {},
   "source": [
    "# ANN"
   ]
  },
  {
   "cell_type": "code",
   "execution_count": 1,
   "id": "f5df428c",
   "metadata": {},
   "outputs": [],
   "source": [
    "import pandas as pd\n",
    "import numpy as np\n",
    "import matplotlib.pyplot as plt\n",
    "import seaborn as sns\n",
    "%matplotlib inline\n",
    "\n",
    "from sklearn.preprocessing import OneHotEncoder, MinMaxScaler\n",
    "\n",
    "import tensorflow as tf\n",
    "from tensorflow.keras.models import Sequential\n",
    "from tensorflow.keras.layers import Dense, Activation,Dropout\n",
    "from sklearn.metrics import classification_report,confusion_matrix, plot_confusion_matrix\n",
    "import sklearn.metrics as metrics"
   ]
  },
  {
   "cell_type": "markdown",
   "id": "f9a4b800",
   "metadata": {},
   "source": [
    "# Input Data"
   ]
  },
  {
   "cell_type": "code",
   "execution_count": 2,
   "id": "fe15956c",
   "metadata": {},
   "outputs": [],
   "source": [
    "df = pd.read_csv('Data.csv')"
   ]
  },
  {
   "cell_type": "code",
   "execution_count": 3,
   "id": "bef654bb",
   "metadata": {},
   "outputs": [],
   "source": [
    "dft = pd.read_csv('testing5.csv')"
   ]
  },
  {
   "cell_type": "code",
   "execution_count": 4,
   "id": "0f5337c0",
   "metadata": {},
   "outputs": [],
   "source": [
    "# X_train, X_test, y_train, y_test = train_test_split(X,y,test_size=0.25,random_state=101)\n",
    "X_train = df.drop('label',axis=1).values\n",
    "y_train = df['label'].values\n",
    "\n",
    "X_test = dft.drop('label',axis=1).values\n",
    "y_test = dft['label'].values"
   ]
  },
  {
   "cell_type": "markdown",
   "id": "b1318dcd",
   "metadata": {},
   "source": [
    "# One-hot encode the target"
   ]
  },
  {
   "cell_type": "code",
   "execution_count": 5,
   "id": "87b0bdf6",
   "metadata": {},
   "outputs": [],
   "source": [
    "enc = OneHotEncoder(sparse=False, handle_unknown='ignore')\n",
    "enc.fit(y_train.reshape(-1, 1))\n",
    "y_train = enc.transform(y_train.reshape(-1, 1))\n",
    "y_test = enc.transform(y_test.reshape(-1, 1))"
   ]
  },
  {
   "cell_type": "code",
   "execution_count": 6,
   "id": "5c52d6bd",
   "metadata": {},
   "outputs": [
    {
     "name": "stdout",
     "output_type": "stream",
     "text": [
      "(27000, 6) (1500, 6)\n"
     ]
    }
   ],
   "source": [
    "print(y_train.shape, y_test.shape)"
   ]
  },
  {
   "cell_type": "markdown",
   "id": "ccf0c799",
   "metadata": {},
   "source": [
    "# scale the features"
   ]
  },
  {
   "cell_type": "code",
   "execution_count": 7,
   "id": "3c544b11",
   "metadata": {},
   "outputs": [],
   "source": [
    "scaler = MinMaxScaler()\n",
    "scaler.fit(X_train)\n",
    "X_train = scaler.transform(X_train)\n",
    "X_test = scaler.transform(X_test)"
   ]
  },
  {
   "cell_type": "code",
   "execution_count": 8,
   "id": "e3e4af3c",
   "metadata": {},
   "outputs": [],
   "source": [
    "model = Sequential()\n",
    "\n",
    "model.add(Dense(units=64,activation='relu'))\n",
    "model.add(Dense(units=128,activation='relu'))\n",
    "model.add(Dropout(0.5))\n",
    "\n",
    "model.add(Dense(units=128,activation='relu'))\n",
    "model.add(Dense(units=512,activation='relu'))\n",
    "model.add(Dropout(0.5))\n",
    "\n",
    "model.add(Dense(units=521,activation='relu'))\n",
    "model.add(Dropout(0.5))\n",
    "\n",
    "model.add(Dense(6, activation='softmax'))\n",
    "# Compile model\n",
    "model.compile(optimizer='adam',\n",
    "              loss='categorical_crossentropy',\n",
    "              metrics=['accuracy'])"
   ]
  },
  {
   "cell_type": "code",
   "execution_count": 9,
   "id": "3fd0d04b",
   "metadata": {},
   "outputs": [
    {
     "name": "stdout",
     "output_type": "stream",
     "text": [
      "Train on 27000 samples, validate on 1500 samples\n",
      "Epoch 1/100\n",
      "27000/27000 [==============================] - 2s 65us/sample - loss: 1.6541 - accuracy: 0.2961 - val_loss: 1.3803 - val_accuracy: 0.4673\n",
      "Epoch 2/100\n",
      "27000/27000 [==============================] - 1s 22us/sample - loss: 1.3491 - accuracy: 0.4846 - val_loss: 1.1534 - val_accuracy: 0.5160\n",
      "Epoch 3/100\n",
      "27000/27000 [==============================] - 1s 22us/sample - loss: 1.2137 - accuracy: 0.5439 - val_loss: 1.1101 - val_accuracy: 0.5353\n",
      "Epoch 4/100\n",
      "27000/27000 [==============================] - 1s 22us/sample - loss: 1.1343 - accuracy: 0.5745 - val_loss: 1.0615 - val_accuracy: 0.5433\n",
      "Epoch 5/100\n",
      "27000/27000 [==============================] - 1s 22us/sample - loss: 1.0790 - accuracy: 0.5948 - val_loss: 0.9644 - val_accuracy: 0.5973\n",
      "Epoch 6/100\n",
      "27000/27000 [==============================] - 1s 22us/sample - loss: 1.0167 - accuracy: 0.6201 - val_loss: 0.9727 - val_accuracy: 0.6200\n",
      "Epoch 7/100\n",
      "27000/27000 [==============================] - 1s 22us/sample - loss: 0.9681 - accuracy: 0.6410 - val_loss: 0.8609 - val_accuracy: 0.6513\n",
      "Epoch 8/100\n",
      "27000/27000 [==============================] - 1s 22us/sample - loss: 0.9304 - accuracy: 0.6544 - val_loss: 0.8532 - val_accuracy: 0.6693\n",
      "Epoch 9/100\n",
      "27000/27000 [==============================] - 1s 22us/sample - loss: 0.8865 - accuracy: 0.6728 - val_loss: 0.7778 - val_accuracy: 0.6807\n",
      "Epoch 10/100\n",
      "27000/27000 [==============================] - 1s 22us/sample - loss: 0.8586 - accuracy: 0.6799 - val_loss: 0.7532 - val_accuracy: 0.6987\n",
      "Epoch 11/100\n",
      "27000/27000 [==============================] - 1s 22us/sample - loss: 0.8195 - accuracy: 0.6938 - val_loss: 0.7221 - val_accuracy: 0.7033\n",
      "Epoch 12/100\n",
      "27000/27000 [==============================] - 1s 22us/sample - loss: 0.7888 - accuracy: 0.7054 - val_loss: 0.7223 - val_accuracy: 0.6920\n",
      "Epoch 13/100\n",
      "27000/27000 [==============================] - 1s 22us/sample - loss: 0.7646 - accuracy: 0.7161 - val_loss: 0.6817 - val_accuracy: 0.7207\n",
      "Epoch 14/100\n",
      "27000/27000 [==============================] - 1s 22us/sample - loss: 0.7363 - accuracy: 0.7225 - val_loss: 0.6505 - val_accuracy: 0.7253\n",
      "Epoch 15/100\n",
      "27000/27000 [==============================] - 1s 23us/sample - loss: 0.7006 - accuracy: 0.7361 - val_loss: 0.6211 - val_accuracy: 0.7453\n",
      "Epoch 16/100\n",
      "27000/27000 [==============================] - 1s 22us/sample - loss: 0.6794 - accuracy: 0.7468 - val_loss: 0.6512 - val_accuracy: 0.7407\n",
      "Epoch 17/100\n",
      "27000/27000 [==============================] - 1s 22us/sample - loss: 0.6636 - accuracy: 0.7506 - val_loss: 0.6012 - val_accuracy: 0.7633\n",
      "Epoch 18/100\n",
      "27000/27000 [==============================] - 1s 22us/sample - loss: 0.6419 - accuracy: 0.7579 - val_loss: 0.5752 - val_accuracy: 0.7680\n",
      "Epoch 19/100\n",
      "27000/27000 [==============================] - 1s 22us/sample - loss: 0.6172 - accuracy: 0.7686 - val_loss: 0.5171 - val_accuracy: 0.7793\n",
      "Epoch 20/100\n",
      "27000/27000 [==============================] - 1s 22us/sample - loss: 0.6098 - accuracy: 0.7674 - val_loss: 0.5141 - val_accuracy: 0.8027\n",
      "Epoch 21/100\n",
      "27000/27000 [==============================] - 1s 22us/sample - loss: 0.5772 - accuracy: 0.7803 - val_loss: 0.4778 - val_accuracy: 0.8180\n",
      "Epoch 22/100\n",
      "27000/27000 [==============================] - 1s 22us/sample - loss: 0.5709 - accuracy: 0.7873 - val_loss: 0.4780 - val_accuracy: 0.8147\n",
      "Epoch 23/100\n",
      "27000/27000 [==============================] - 1s 26us/sample - loss: 0.5557 - accuracy: 0.7919 - val_loss: 0.4975 - val_accuracy: 0.7953\n",
      "Epoch 24/100\n",
      "27000/27000 [==============================] - 1s 22us/sample - loss: 0.5443 - accuracy: 0.7971 - val_loss: 0.4700 - val_accuracy: 0.8107\n",
      "Epoch 25/100\n",
      "27000/27000 [==============================] - 1s 22us/sample - loss: 0.5278 - accuracy: 0.7987 - val_loss: 0.5005 - val_accuracy: 0.8087\n",
      "Epoch 26/100\n",
      "27000/27000 [==============================] - 1s 22us/sample - loss: 0.5273 - accuracy: 0.8009 - val_loss: 0.4382 - val_accuracy: 0.8400\n",
      "Epoch 27/100\n",
      "27000/27000 [==============================] - 1s 22us/sample - loss: 0.5052 - accuracy: 0.8090 - val_loss: 0.3790 - val_accuracy: 0.8633\n",
      "Epoch 28/100\n",
      "27000/27000 [==============================] - 1s 23us/sample - loss: 0.4952 - accuracy: 0.8126 - val_loss: 0.3677 - val_accuracy: 0.8613\n",
      "Epoch 29/100\n",
      "27000/27000 [==============================] - 1s 22us/sample - loss: 0.4892 - accuracy: 0.8121 - val_loss: 0.4235 - val_accuracy: 0.8540\n",
      "Epoch 30/100\n",
      "27000/27000 [==============================] - 1s 22us/sample - loss: 0.4787 - accuracy: 0.8180 - val_loss: 0.3838 - val_accuracy: 0.8367\n",
      "Epoch 31/100\n",
      "27000/27000 [==============================] - 1s 22us/sample - loss: 0.4677 - accuracy: 0.8217 - val_loss: 0.3886 - val_accuracy: 0.8427\n",
      "Epoch 32/100\n",
      "27000/27000 [==============================] - 1s 22us/sample - loss: 0.4728 - accuracy: 0.8203 - val_loss: 0.3634 - val_accuracy: 0.8607\n",
      "Epoch 33/100\n",
      "27000/27000 [==============================] - 1s 22us/sample - loss: 0.4591 - accuracy: 0.8270 - val_loss: 0.3741 - val_accuracy: 0.8507\n",
      "Epoch 34/100\n",
      "27000/27000 [==============================] - 1s 22us/sample - loss: 0.4389 - accuracy: 0.8330 - val_loss: 0.3356 - val_accuracy: 0.8733\n",
      "Epoch 35/100\n",
      "27000/27000 [==============================] - 1s 22us/sample - loss: 0.4403 - accuracy: 0.8314 - val_loss: 0.3675 - val_accuracy: 0.8580\n",
      "Epoch 36/100\n",
      "27000/27000 [==============================] - 1s 23us/sample - loss: 0.4339 - accuracy: 0.8349 - val_loss: 0.3070 - val_accuracy: 0.8900\n",
      "Epoch 37/100\n",
      "27000/27000 [==============================] - 1s 22us/sample - loss: 0.4307 - accuracy: 0.8369 - val_loss: 0.3803 - val_accuracy: 0.8480\n",
      "Epoch 38/100\n",
      "27000/27000 [==============================] - 1s 22us/sample - loss: 0.4168 - accuracy: 0.8439 - val_loss: 0.3455 - val_accuracy: 0.8633\n",
      "Epoch 39/100\n",
      "27000/27000 [==============================] - 1s 22us/sample - loss: 0.4143 - accuracy: 0.8403 - val_loss: 0.2984 - val_accuracy: 0.8613\n",
      "Epoch 40/100\n",
      "27000/27000 [==============================] - 1s 23us/sample - loss: 0.4125 - accuracy: 0.8435 - val_loss: 0.3356 - val_accuracy: 0.8667\n",
      "Epoch 41/100\n",
      "27000/27000 [==============================] - 1s 22us/sample - loss: 0.3995 - accuracy: 0.8502 - val_loss: 0.3218 - val_accuracy: 0.8653\n",
      "Epoch 42/100\n",
      "27000/27000 [==============================] - 1s 22us/sample - loss: 0.4057 - accuracy: 0.8453 - val_loss: 0.2825 - val_accuracy: 0.8813\n",
      "Epoch 43/100\n",
      "27000/27000 [==============================] - 1s 22us/sample - loss: 0.3939 - accuracy: 0.8497 - val_loss: 0.3093 - val_accuracy: 0.8760\n",
      "Epoch 44/100\n",
      "27000/27000 [==============================] - 1s 22us/sample - loss: 0.3874 - accuracy: 0.8547 - val_loss: 0.2844 - val_accuracy: 0.8793\n",
      "Epoch 45/100\n",
      "27000/27000 [==============================] - 1s 22us/sample - loss: 0.3888 - accuracy: 0.8525 - val_loss: 0.2960 - val_accuracy: 0.8827\n",
      "Epoch 46/100\n",
      "27000/27000 [==============================] - 1s 22us/sample - loss: 0.3793 - accuracy: 0.8569 - val_loss: 0.2403 - val_accuracy: 0.9207\n",
      "Epoch 47/100\n",
      "27000/27000 [==============================] - 1s 23us/sample - loss: 0.3716 - accuracy: 0.8580 - val_loss: 0.2894 - val_accuracy: 0.8927\n",
      "Epoch 48/100\n",
      "27000/27000 [==============================] - 1s 22us/sample - loss: 0.3760 - accuracy: 0.8576 - val_loss: 0.2300 - val_accuracy: 0.9120\n",
      "Epoch 49/100\n",
      "27000/27000 [==============================] - 1s 22us/sample - loss: 0.3635 - accuracy: 0.8635 - val_loss: 0.2462 - val_accuracy: 0.9120\n",
      "Epoch 50/100\n",
      "27000/27000 [==============================] - 1s 23us/sample - loss: 0.3631 - accuracy: 0.8630 - val_loss: 0.2661 - val_accuracy: 0.8900\n",
      "Epoch 51/100\n",
      "27000/27000 [==============================] - 1s 23us/sample - loss: 0.3628 - accuracy: 0.8626 - val_loss: 0.2782 - val_accuracy: 0.8907\n",
      "Epoch 52/100\n",
      "27000/27000 [==============================] - 1s 22us/sample - loss: 0.3552 - accuracy: 0.8659 - val_loss: 0.3178 - val_accuracy: 0.8720\n",
      "Epoch 53/100\n",
      "27000/27000 [==============================] - 1s 23us/sample - loss: 0.3522 - accuracy: 0.8661 - val_loss: 0.2502 - val_accuracy: 0.8907\n",
      "Epoch 54/100\n",
      "27000/27000 [==============================] - 1s 22us/sample - loss: 0.3513 - accuracy: 0.8684 - val_loss: 0.2143 - val_accuracy: 0.9100\n"
     ]
    },
    {
     "name": "stdout",
     "output_type": "stream",
     "text": [
      "Epoch 55/100\n",
      "27000/27000 [==============================] - 1s 22us/sample - loss: 0.3545 - accuracy: 0.8651 - val_loss: 0.2643 - val_accuracy: 0.8987\n",
      "Epoch 56/100\n",
      "27000/27000 [==============================] - 1s 23us/sample - loss: 0.3452 - accuracy: 0.8700 - val_loss: 0.2368 - val_accuracy: 0.9247\n",
      "Epoch 57/100\n",
      "27000/27000 [==============================] - 1s 22us/sample - loss: 0.3412 - accuracy: 0.8691 - val_loss: 0.2330 - val_accuracy: 0.9073\n",
      "Epoch 58/100\n",
      "27000/27000 [==============================] - 1s 22us/sample - loss: 0.3407 - accuracy: 0.8718 - val_loss: 0.2653 - val_accuracy: 0.9107\n",
      "Epoch 59/100\n",
      "27000/27000 [==============================] - 1s 22us/sample - loss: 0.3379 - accuracy: 0.8723 - val_loss: 0.2319 - val_accuracy: 0.9180\n",
      "Epoch 60/100\n",
      "27000/27000 [==============================] - 1s 23us/sample - loss: 0.3289 - accuracy: 0.8745 - val_loss: 0.2087 - val_accuracy: 0.9200\n",
      "Epoch 61/100\n",
      "27000/27000 [==============================] - 1s 23us/sample - loss: 0.3351 - accuracy: 0.8735 - val_loss: 0.2583 - val_accuracy: 0.9060\n",
      "Epoch 62/100\n",
      "27000/27000 [==============================] - 1s 22us/sample - loss: 0.3285 - accuracy: 0.8758 - val_loss: 0.2497 - val_accuracy: 0.9220\n",
      "Epoch 63/100\n",
      "27000/27000 [==============================] - 1s 23us/sample - loss: 0.3301 - accuracy: 0.8743 - val_loss: 0.2281 - val_accuracy: 0.9140\n",
      "Epoch 64/100\n",
      "27000/27000 [==============================] - 1s 22us/sample - loss: 0.3159 - accuracy: 0.8795 - val_loss: 0.2453 - val_accuracy: 0.9100\n",
      "Epoch 65/100\n",
      "27000/27000 [==============================] - 1s 22us/sample - loss: 0.3280 - accuracy: 0.8746 - val_loss: 0.1868 - val_accuracy: 0.9373\n",
      "Epoch 66/100\n",
      "27000/27000 [==============================] - 1s 22us/sample - loss: 0.3172 - accuracy: 0.8804 - val_loss: 0.1966 - val_accuracy: 0.9280\n",
      "Epoch 67/100\n",
      "27000/27000 [==============================] - 1s 22us/sample - loss: 0.3150 - accuracy: 0.8787 - val_loss: 0.2435 - val_accuracy: 0.9173\n",
      "Epoch 68/100\n",
      "27000/27000 [==============================] - 1s 23us/sample - loss: 0.3084 - accuracy: 0.8830 - val_loss: 0.2318 - val_accuracy: 0.9253\n",
      "Epoch 69/100\n",
      "27000/27000 [==============================] - 1s 23us/sample - loss: 0.3084 - accuracy: 0.8824 - val_loss: 0.2270 - val_accuracy: 0.9273\n",
      "Epoch 70/100\n",
      "27000/27000 [==============================] - 1s 23us/sample - loss: 0.3094 - accuracy: 0.8813 - val_loss: 0.2339 - val_accuracy: 0.9233\n",
      "Epoch 71/100\n",
      "27000/27000 [==============================] - 1s 23us/sample - loss: 0.3081 - accuracy: 0.8828 - val_loss: 0.2382 - val_accuracy: 0.9353\n",
      "Epoch 72/100\n",
      "27000/27000 [==============================] - 1s 22us/sample - loss: 0.3034 - accuracy: 0.8832 - val_loss: 0.2337 - val_accuracy: 0.9127\n",
      "Epoch 73/100\n",
      "27000/27000 [==============================] - 1s 23us/sample - loss: 0.3102 - accuracy: 0.8844 - val_loss: 0.2316 - val_accuracy: 0.9100\n",
      "Epoch 74/100\n",
      "27000/27000 [==============================] - 1s 23us/sample - loss: 0.3010 - accuracy: 0.8854 - val_loss: 0.2295 - val_accuracy: 0.9267\n",
      "Epoch 75/100\n",
      "27000/27000 [==============================] - 1s 22us/sample - loss: 0.2944 - accuracy: 0.8883 - val_loss: 0.2349 - val_accuracy: 0.9207\n",
      "Epoch 76/100\n",
      "27000/27000 [==============================] - 1s 24us/sample - loss: 0.2974 - accuracy: 0.8873 - val_loss: 0.2314 - val_accuracy: 0.9220\n",
      "Epoch 77/100\n",
      "27000/27000 [==============================] - 1s 24us/sample - loss: 0.2989 - accuracy: 0.8873 - val_loss: 0.2199 - val_accuracy: 0.9413\n",
      "Epoch 78/100\n",
      "27000/27000 [==============================] - 1s 23us/sample - loss: 0.2928 - accuracy: 0.8893 - val_loss: 0.2661 - val_accuracy: 0.9153\n",
      "Epoch 79/100\n",
      "27000/27000 [==============================] - 1s 23us/sample - loss: 0.2892 - accuracy: 0.8911 - val_loss: 0.2325 - val_accuracy: 0.9267\n",
      "Epoch 80/100\n",
      "27000/27000 [==============================] - 1s 24us/sample - loss: 0.2926 - accuracy: 0.8921 - val_loss: 0.2370 - val_accuracy: 0.9340\n",
      "Epoch 81/100\n",
      "27000/27000 [==============================] - 1s 23us/sample - loss: 0.2903 - accuracy: 0.8903 - val_loss: 0.2252 - val_accuracy: 0.9347\n",
      "Epoch 82/100\n",
      "27000/27000 [==============================] - 1s 25us/sample - loss: 0.2896 - accuracy: 0.8896 - val_loss: 0.1996 - val_accuracy: 0.9240\n",
      "Epoch 83/100\n",
      "27000/27000 [==============================] - 1s 23us/sample - loss: 0.2831 - accuracy: 0.8937 - val_loss: 0.2248 - val_accuracy: 0.9333\n",
      "Epoch 84/100\n",
      "27000/27000 [==============================] - 1s 23us/sample - loss: 0.2907 - accuracy: 0.8896 - val_loss: 0.2230 - val_accuracy: 0.9233\n",
      "Epoch 85/100\n",
      "27000/27000 [==============================] - 1s 23us/sample - loss: 0.2815 - accuracy: 0.8916 - val_loss: 0.2399 - val_accuracy: 0.9213\n",
      "Epoch 86/100\n",
      "27000/27000 [==============================] - 1s 23us/sample - loss: 0.2768 - accuracy: 0.8967 - val_loss: 0.2369 - val_accuracy: 0.9233\n",
      "Epoch 87/100\n",
      "27000/27000 [==============================] - 1s 24us/sample - loss: 0.2769 - accuracy: 0.8949 - val_loss: 0.1948 - val_accuracy: 0.9367\n",
      "Epoch 88/100\n",
      "27000/27000 [==============================] - 1s 23us/sample - loss: 0.2785 - accuracy: 0.8971 - val_loss: 0.2639 - val_accuracy: 0.9260\n",
      "Epoch 89/100\n",
      "27000/27000 [==============================] - 1s 23us/sample - loss: 0.2741 - accuracy: 0.8982 - val_loss: 0.1950 - val_accuracy: 0.9440\n",
      "Epoch 90/100\n",
      "27000/27000 [==============================] - 1s 23us/sample - loss: 0.2711 - accuracy: 0.8974 - val_loss: 0.2422 - val_accuracy: 0.9093\n",
      "Epoch 91/100\n",
      "27000/27000 [==============================] - 1s 22us/sample - loss: 0.2705 - accuracy: 0.8991 - val_loss: 0.2333 - val_accuracy: 0.9220\n",
      "Epoch 92/100\n",
      "27000/27000 [==============================] - 1s 23us/sample - loss: 0.2759 - accuracy: 0.8967 - val_loss: 0.2625 - val_accuracy: 0.9133\n",
      "Epoch 93/100\n",
      "27000/27000 [==============================] - 1s 23us/sample - loss: 0.2725 - accuracy: 0.8973 - val_loss: 0.2580 - val_accuracy: 0.9133\n",
      "Epoch 94/100\n",
      "27000/27000 [==============================] - 1s 23us/sample - loss: 0.2714 - accuracy: 0.8969 - val_loss: 0.2043 - val_accuracy: 0.9273\n",
      "Epoch 95/100\n",
      "27000/27000 [==============================] - 1s 23us/sample - loss: 0.2649 - accuracy: 0.8993 - val_loss: 0.2506 - val_accuracy: 0.9220\n",
      "Epoch 96/100\n",
      "27000/27000 [==============================] - 1s 23us/sample - loss: 0.2758 - accuracy: 0.8947 - val_loss: 0.2292 - val_accuracy: 0.9247\n",
      "Epoch 97/100\n",
      "27000/27000 [==============================] - 1s 23us/sample - loss: 0.2621 - accuracy: 0.9002 - val_loss: 0.2490 - val_accuracy: 0.9353\n",
      "Epoch 98/100\n",
      "27000/27000 [==============================] - 1s 25us/sample - loss: 0.2650 - accuracy: 0.8995 - val_loss: 0.2216 - val_accuracy: 0.9473\n",
      "Epoch 99/100\n",
      "27000/27000 [==============================] - 1s 24us/sample - loss: 0.2647 - accuracy: 0.9000 - val_loss: 0.2346 - val_accuracy: 0.9433\n",
      "Epoch 100/100\n",
      "27000/27000 [==============================] - 1s 24us/sample - loss: 0.2580 - accuracy: 0.9006 - val_loss: 0.2416 - val_accuracy: 0.9153\n",
      "Wall time: 1min 4s\n"
     ]
    },
    {
     "data": {
      "text/plain": [
       "<tensorflow.python.keras.callbacks.History at 0x2275a6f4248>"
      ]
     },
     "execution_count": 9,
     "metadata": {},
     "output_type": "execute_result"
    }
   ],
   "source": [
    "%%time\n",
    "model.fit(x=X_train, y=y_train, epochs=100, batch_size=512, validation_data=(X_test, y_test))"
   ]
  },
  {
   "cell_type": "markdown",
   "id": "e4fe55d6",
   "metadata": {},
   "source": [
    "# Modle Performance"
   ]
  },
  {
   "cell_type": "code",
   "execution_count": 10,
   "id": "95f922ea",
   "metadata": {},
   "outputs": [],
   "source": [
    "losses = pd.DataFrame(model.history.history)"
   ]
  },
  {
   "cell_type": "code",
   "execution_count": 11,
   "id": "858af874",
   "metadata": {},
   "outputs": [
    {
     "data": {
      "text/plain": [
       "<AxesSubplot:>"
      ]
     },
     "execution_count": 11,
     "metadata": {},
     "output_type": "execute_result"
    },
    {
     "data": {
      "image/png": "[encoded data removed]",
      "text/plain": [
       "<Figure size 432x288 with 1 Axes>"
      ]
     },
     "metadata": {
      "needs_background": "light"
     },
     "output_type": "display_data"
    }
   ],
   "source": [
    "losses[['loss','val_loss']].plot()"
   ]
  },
  {
   "cell_type": "markdown",
   "id": "93b49aac",
   "metadata": {},
   "source": [
    "# Predict"
   ]
  },
  {
   "cell_type": "code",
   "execution_count": 12,
   "id": "ce2c6191",
   "metadata": {},
   "outputs": [],
   "source": [
    "predictions = model.predict(X_test)"
   ]
  },
  {
   "cell_type": "markdown",
   "id": "d57637f8",
   "metadata": {},
   "source": [
    "\n",
    "# Confusion Matrix"
   ]
  },
  {
   "cell_type": "code",
   "execution_count": 13,
   "id": "1dfbf087",
   "metadata": {},
   "outputs": [],
   "source": [
    "y_test_arg=np.argmax(y_test,axis=1)\n",
    "Y_pred = np.argmax(predictions,axis=1)"
   ]
  },
  {
   "cell_type": "code",
   "execution_count": 14,
   "id": "5e7bef94",
   "metadata": {},
   "outputs": [
    {
     "name": "stdout",
     "output_type": "stream",
     "text": [
      "[[242   8   0   0   0   0]\n",
      " [  0 250   0   0   0   0]\n",
      " [  6   3 194   0   0  47]\n",
      " [  0  21   0 229   0   0]\n",
      " [  0  10   0   0 236   4]\n",
      " [ 28   0   0   0   0 222]]\n"
     ]
    }
   ],
   "source": [
    "print(confusion_matrix(y_test_arg, Y_pred))"
   ]
  },
  {
   "cell_type": "code",
   "execution_count": 15,
   "id": "a9aff162",
   "metadata": {},
   "outputs": [
    {
     "data": {
      "text/plain": [
       "<AxesSubplot:>"
      ]
     },
     "execution_count": 15,
     "metadata": {},
     "output_type": "execute_result"
    },
    {
     "data": {
      "image/png": "[encoded data removed]",
      "text/plain": [
       "<Figure size 432x288 with 2 Axes>"
      ]
     },
     "metadata": {},
     "output_type": "display_data"
    }
   ],
   "source": [
    "array = metrics.confusion_matrix(y_test_arg, Y_pred)\n",
    "df_cm = pd.DataFrame(array, range(6), range(6))\n",
    "# plt.figure(figsize=(10,7))\n",
    "sns.set(font_scale=1) # for label size\n",
    "sns.heatmap(df_cm, annot=True, annot_kws={\"size\": 11}, cmap=\"OrRd\") # font size"
   ]
  },
  {
   "cell_type": "markdown",
   "id": "42627778",
   "metadata": {},
   "source": [
    "# classification Report"
   ]
  },
  {
   "cell_type": "code",
   "execution_count": 16,
   "id": "947405a5",
   "metadata": {},
   "outputs": [
    {
     "name": "stdout",
     "output_type": "stream",
     "text": [
      "              precision    recall  f1-score   support\n",
      "\n",
      "           0       0.88      0.97      0.92       250\n",
      "           1       0.86      1.00      0.92       250\n",
      "           2       1.00      0.78      0.87       250\n",
      "           3       1.00      0.92      0.96       250\n",
      "           4       1.00      0.94      0.97       250\n",
      "           5       0.81      0.89      0.85       250\n",
      "\n",
      "    accuracy                           0.92      1500\n",
      "   macro avg       0.92      0.92      0.92      1500\n",
      "weighted avg       0.92      0.92      0.92      1500\n",
      "\n"
     ]
    }
   ],
   "source": [
    "print(classification_report(y_test_arg, Y_pred))"
   ]
  },
  {
   "cell_type": "code",
   "execution_count": null,
   "id": "17de918c",
   "metadata": {},
   "outputs": [],
   "source": []
  }
 ],
 "metadata": {
  "kernelspec": {
   "display_name": "Python 3.7 (tensorflow)",
   "language": "python",
   "name": "tensorflow"
  },
  "language_info": {
   "codemirror_mode": {
    "name": "ipython",
    "version": 3
   },
   "file_extension": ".py",
   "mimetype": "text/x-python",
   "name": "python",
   "nbconvert_exporter": "python",
   "pygments_lexer": "ipython3",
   "version": "3.7.9"
  }
 },
 "nbformat": 4,
 "nbformat_minor": 5
}
