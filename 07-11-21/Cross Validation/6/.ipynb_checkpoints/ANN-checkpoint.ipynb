{
 "cells": [
  {
   "cell_type": "markdown",
   "id": "c17badd4",
   "metadata": {},
   "source": [
    "# ANN"
   ]
  },
  {
   "cell_type": "code",
   "execution_count": 1,
   "id": "f5df428c",
   "metadata": {},
   "outputs": [],
   "source": [
    "import pandas as pd\n",
    "import numpy as np\n",
    "import matplotlib.pyplot as plt\n",
    "import seaborn as sns\n",
    "%matplotlib inline\n",
    "\n",
    "from sklearn.preprocessing import OneHotEncoder, MinMaxScaler\n",
    "\n",
    "import tensorflow as tf\n",
    "from tensorflow.keras.models import Sequential\n",
    "from tensorflow.keras.layers import Dense, Activation,Dropout\n",
    "from sklearn.metrics import classification_report,confusion_matrix, plot_confusion_matrix\n",
    "import sklearn.metrics as metrics"
   ]
  },
  {
   "cell_type": "markdown",
   "id": "f9a4b800",
   "metadata": {},
   "source": [
    "# Input Data"
   ]
  },
  {
   "cell_type": "code",
   "execution_count": 2,
   "id": "fe15956c",
   "metadata": {},
   "outputs": [],
   "source": [
    "df = pd.read_csv('Data.csv')"
   ]
  },
  {
   "cell_type": "code",
   "execution_count": 3,
   "id": "bef654bb",
   "metadata": {},
   "outputs": [],
   "source": [
    "dft = pd.read_csv('testing6.csv')"
   ]
  },
  {
   "cell_type": "code",
   "execution_count": 4,
   "id": "0f5337c0",
   "metadata": {},
   "outputs": [],
   "source": [
    "# X_train, X_test, y_train, y_test = train_test_split(X,y,test_size=0.25,random_state=101)\n",
    "X_train = df.drop('label',axis=1).values\n",
    "y_train = df['label'].values\n",
    "\n",
    "X_test = dft.drop('label',axis=1).values\n",
    "y_test = dft['label'].values"
   ]
  },
  {
   "cell_type": "markdown",
   "id": "b1318dcd",
   "metadata": {},
   "source": [
    "# One-hot encode the target"
   ]
  },
  {
   "cell_type": "code",
   "execution_count": 5,
   "id": "87b0bdf6",
   "metadata": {},
   "outputs": [],
   "source": [
    "enc = OneHotEncoder(sparse=False, handle_unknown='ignore')\n",
    "enc.fit(y_train.reshape(-1, 1))\n",
    "y_train = enc.transform(y_train.reshape(-1, 1))\n",
    "y_test = enc.transform(y_test.reshape(-1, 1))"
   ]
  },
  {
   "cell_type": "code",
   "execution_count": 6,
   "id": "5c52d6bd",
   "metadata": {},
   "outputs": [
    {
     "name": "stdout",
     "output_type": "stream",
     "text": [
      "(27000, 6) (1500, 6)\n"
     ]
    }
   ],
   "source": [
    "print(y_train.shape, y_test.shape)"
   ]
  },
  {
   "cell_type": "markdown",
   "id": "ccf0c799",
   "metadata": {},
   "source": [
    "# scale the features"
   ]
  },
  {
   "cell_type": "code",
   "execution_count": 7,
   "id": "3c544b11",
   "metadata": {},
   "outputs": [],
   "source": [
    "scaler = MinMaxScaler()\n",
    "scaler.fit(X_train)\n",
    "X_train = scaler.transform(X_train)\n",
    "X_test = scaler.transform(X_test)"
   ]
  },
  {
   "cell_type": "code",
   "execution_count": 8,
   "id": "e3e4af3c",
   "metadata": {},
   "outputs": [],
   "source": [
    "model = Sequential()\n",
    "\n",
    "model.add(Dense(units=64,activation='relu'))\n",
    "model.add(Dense(units=128,activation='relu'))\n",
    "model.add(Dropout(0.5))\n",
    "\n",
    "model.add(Dense(units=128,activation='relu'))\n",
    "model.add(Dense(units=512,activation='relu'))\n",
    "model.add(Dropout(0.5))\n",
    "\n",
    "model.add(Dense(units=521,activation='relu'))\n",
    "model.add(Dropout(0.5))\n",
    "\n",
    "model.add(Dense(6, activation='softmax'))\n",
    "# Compile model\n",
    "model.compile(optimizer='adam',\n",
    "              loss='categorical_crossentropy',\n",
    "              metrics=['accuracy'])"
   ]
  },
  {
   "cell_type": "code",
   "execution_count": 9,
   "id": "3fd0d04b",
   "metadata": {},
   "outputs": [
    {
     "name": "stdout",
     "output_type": "stream",
     "text": [
      "Train on 27000 samples, validate on 1500 samples\n",
      "Epoch 1/100\n",
      "27000/27000 [==============================] - 2s 80us/sample - loss: 1.6464 - accuracy: 0.3019 - val_loss: 1.4161 - val_accuracy: 0.4567\n",
      "Epoch 2/100\n",
      "27000/27000 [==============================] - 1s 36us/sample - loss: 1.3175 - accuracy: 0.5004 - val_loss: 1.3065 - val_accuracy: 0.5360\n",
      "Epoch 3/100\n",
      "27000/27000 [==============================] - 1s 24us/sample - loss: 1.1923 - accuracy: 0.5536 - val_loss: 1.2422 - val_accuracy: 0.5573\n",
      "Epoch 4/100\n",
      "27000/27000 [==============================] - 1s 23us/sample - loss: 1.1070 - accuracy: 0.5870 - val_loss: 1.1943 - val_accuracy: 0.5940\n",
      "Epoch 5/100\n",
      "27000/27000 [==============================] - 1s 22us/sample - loss: 1.0377 - accuracy: 0.6145 - val_loss: 1.1066 - val_accuracy: 0.6127\n",
      "Epoch 6/100\n",
      "27000/27000 [==============================] - 1s 21us/sample - loss: 0.9817 - accuracy: 0.6311 - val_loss: 1.0729 - val_accuracy: 0.6340\n",
      "Epoch 7/100\n",
      "27000/27000 [==============================] - 1s 22us/sample - loss: 0.9250 - accuracy: 0.6539 - val_loss: 0.9905 - val_accuracy: 0.6440\n",
      "Epoch 8/100\n",
      "27000/27000 [==============================] - 1s 22us/sample - loss: 0.8763 - accuracy: 0.6702 - val_loss: 0.9884 - val_accuracy: 0.6567\n",
      "Epoch 9/100\n",
      "27000/27000 [==============================] - 1s 23us/sample - loss: 0.8315 - accuracy: 0.6898 - val_loss: 0.9102 - val_accuracy: 0.6660\n",
      "Epoch 10/100\n",
      "27000/27000 [==============================] - 1s 23us/sample - loss: 0.7964 - accuracy: 0.7042 - val_loss: 0.8808 - val_accuracy: 0.6593\n",
      "Epoch 11/100\n",
      "27000/27000 [==============================] - 1s 23us/sample - loss: 0.7600 - accuracy: 0.7150 - val_loss: 0.8151 - val_accuracy: 0.6913\n",
      "Epoch 12/100\n",
      "27000/27000 [==============================] - 1s 23us/sample - loss: 0.7288 - accuracy: 0.7275 - val_loss: 0.8517 - val_accuracy: 0.6800\n",
      "Epoch 13/100\n",
      "27000/27000 [==============================] - 1s 22us/sample - loss: 0.7120 - accuracy: 0.7353 - val_loss: 0.7560 - val_accuracy: 0.7107\n",
      "Epoch 14/100\n",
      "27000/27000 [==============================] - 1s 23us/sample - loss: 0.6762 - accuracy: 0.7485 - val_loss: 0.7413 - val_accuracy: 0.7307\n",
      "Epoch 15/100\n",
      "27000/27000 [==============================] - 1s 23us/sample - loss: 0.6439 - accuracy: 0.7601 - val_loss: 0.6558 - val_accuracy: 0.7767\n",
      "Epoch 16/100\n",
      "27000/27000 [==============================] - 1s 23us/sample - loss: 0.6161 - accuracy: 0.7706 - val_loss: 0.7083 - val_accuracy: 0.7733\n",
      "Epoch 17/100\n",
      "27000/27000 [==============================] - 1s 23us/sample - loss: 0.5924 - accuracy: 0.7777 - val_loss: 0.6600 - val_accuracy: 0.7733\n",
      "Epoch 18/100\n",
      "27000/27000 [==============================] - 1s 23us/sample - loss: 0.5815 - accuracy: 0.7853 - val_loss: 0.5900 - val_accuracy: 0.7913\n",
      "Epoch 19/100\n",
      "27000/27000 [==============================] - 1s 22us/sample - loss: 0.5643 - accuracy: 0.7886 - val_loss: 0.5367 - val_accuracy: 0.8213\n",
      "Epoch 20/100\n",
      "27000/27000 [==============================] - 1s 24us/sample - loss: 0.5503 - accuracy: 0.7946 - val_loss: 0.5463 - val_accuracy: 0.8027\n",
      "Epoch 21/100\n",
      "27000/27000 [==============================] - 1s 24us/sample - loss: 0.5451 - accuracy: 0.7956 - val_loss: 0.5580 - val_accuracy: 0.8100\n",
      "Epoch 22/100\n",
      "27000/27000 [==============================] - 1s 25us/sample - loss: 0.5167 - accuracy: 0.8076 - val_loss: 0.5303 - val_accuracy: 0.8273\n",
      "Epoch 23/100\n",
      "27000/27000 [==============================] - 1s 25us/sample - loss: 0.5030 - accuracy: 0.8125 - val_loss: 0.5310 - val_accuracy: 0.8300\n",
      "Epoch 24/100\n",
      "27000/27000 [==============================] - 1s 24us/sample - loss: 0.4932 - accuracy: 0.8157 - val_loss: 0.4562 - val_accuracy: 0.8367\n",
      "Epoch 25/100\n",
      "27000/27000 [==============================] - 1s 23us/sample - loss: 0.4780 - accuracy: 0.8214 - val_loss: 0.5200 - val_accuracy: 0.8460\n",
      "Epoch 26/100\n",
      "27000/27000 [==============================] - 1s 24us/sample - loss: 0.4673 - accuracy: 0.8247 - val_loss: 0.4456 - val_accuracy: 0.8440\n",
      "Epoch 27/100\n",
      "27000/27000 [==============================] - 1s 23us/sample - loss: 0.4616 - accuracy: 0.8266 - val_loss: 0.4177 - val_accuracy: 0.8640\n",
      "Epoch 28/100\n",
      "27000/27000 [==============================] - 1s 23us/sample - loss: 0.4494 - accuracy: 0.8320 - val_loss: 0.4256 - val_accuracy: 0.8573\n",
      "Epoch 29/100\n",
      "27000/27000 [==============================] - 1s 25us/sample - loss: 0.4393 - accuracy: 0.8337 - val_loss: 0.4519 - val_accuracy: 0.8620\n",
      "Epoch 30/100\n",
      "27000/27000 [==============================] - 1s 23us/sample - loss: 0.4358 - accuracy: 0.8382 - val_loss: 0.4466 - val_accuracy: 0.8493\n",
      "Epoch 31/100\n",
      "27000/27000 [==============================] - 1s 23us/sample - loss: 0.4245 - accuracy: 0.8400 - val_loss: 0.4225 - val_accuracy: 0.8613\n",
      "Epoch 32/100\n",
      "27000/27000 [==============================] - 1s 23us/sample - loss: 0.4160 - accuracy: 0.8425 - val_loss: 0.3833 - val_accuracy: 0.8647\n",
      "Epoch 33/100\n",
      "27000/27000 [==============================] - 1s 23us/sample - loss: 0.4023 - accuracy: 0.8491 - val_loss: 0.3808 - val_accuracy: 0.8793\n",
      "Epoch 34/100\n",
      "27000/27000 [==============================] - 1s 23us/sample - loss: 0.3988 - accuracy: 0.8510 - val_loss: 0.4068 - val_accuracy: 0.8700\n",
      "Epoch 35/100\n",
      "27000/27000 [==============================] - 1s 23us/sample - loss: 0.3919 - accuracy: 0.8548 - val_loss: 0.3732 - val_accuracy: 0.8787\n",
      "Epoch 36/100\n",
      "27000/27000 [==============================] - 1s 23us/sample - loss: 0.3932 - accuracy: 0.8507 - val_loss: 0.3492 - val_accuracy: 0.8813\n",
      "Epoch 37/100\n",
      "27000/27000 [==============================] - 1s 23us/sample - loss: 0.3830 - accuracy: 0.8572 - val_loss: 0.3668 - val_accuracy: 0.8787\n",
      "Epoch 38/100\n",
      "27000/27000 [==============================] - 1s 23us/sample - loss: 0.3770 - accuracy: 0.8577 - val_loss: 0.3440 - val_accuracy: 0.8907\n",
      "Epoch 39/100\n",
      "27000/27000 [==============================] - 1s 23us/sample - loss: 0.3659 - accuracy: 0.8609 - val_loss: 0.3706 - val_accuracy: 0.8600\n",
      "Epoch 40/100\n",
      "27000/27000 [==============================] - 1s 23us/sample - loss: 0.3609 - accuracy: 0.8640 - val_loss: 0.3414 - val_accuracy: 0.8853\n",
      "Epoch 41/100\n",
      "27000/27000 [==============================] - 1s 23us/sample - loss: 0.3553 - accuracy: 0.8641 - val_loss: 0.3303 - val_accuracy: 0.8960\n",
      "Epoch 42/100\n",
      "27000/27000 [==============================] - 1s 23us/sample - loss: 0.3574 - accuracy: 0.8658 - val_loss: 0.3193 - val_accuracy: 0.9020\n",
      "Epoch 43/100\n",
      "27000/27000 [==============================] - 1s 23us/sample - loss: 0.3498 - accuracy: 0.8694 - val_loss: 0.3610 - val_accuracy: 0.8767\n",
      "Epoch 44/100\n",
      "27000/27000 [==============================] - 1s 23us/sample - loss: 0.3461 - accuracy: 0.8691 - val_loss: 0.3349 - val_accuracy: 0.8960\n",
      "Epoch 45/100\n",
      "27000/27000 [==============================] - 1s 23us/sample - loss: 0.3459 - accuracy: 0.8681 - val_loss: 0.3230 - val_accuracy: 0.8960\n",
      "Epoch 46/100\n",
      "27000/27000 [==============================] - 1s 24us/sample - loss: 0.3395 - accuracy: 0.8719 - val_loss: 0.3292 - val_accuracy: 0.8853\n",
      "Epoch 47/100\n",
      "27000/27000 [==============================] - 1s 23us/sample - loss: 0.3315 - accuracy: 0.8751 - val_loss: 0.2891 - val_accuracy: 0.8940\n",
      "Epoch 48/100\n",
      "27000/27000 [==============================] - 1s 23us/sample - loss: 0.3309 - accuracy: 0.8760 - val_loss: 0.2996 - val_accuracy: 0.8920\n",
      "Epoch 49/100\n",
      "27000/27000 [==============================] - 1s 24us/sample - loss: 0.3198 - accuracy: 0.8799 - val_loss: 0.3216 - val_accuracy: 0.8893\n",
      "Epoch 50/100\n",
      "27000/27000 [==============================] - 1s 23us/sample - loss: 0.3242 - accuracy: 0.8787 - val_loss: 0.3077 - val_accuracy: 0.8833\n",
      "Epoch 51/100\n",
      "27000/27000 [==============================] - 1s 23us/sample - loss: 0.3201 - accuracy: 0.8804 - val_loss: 0.3108 - val_accuracy: 0.8887\n",
      "Epoch 52/100\n",
      "27000/27000 [==============================] - 1s 23us/sample - loss: 0.3112 - accuracy: 0.8844 - val_loss: 0.3377 - val_accuracy: 0.8873\n",
      "Epoch 53/100\n",
      "27000/27000 [==============================] - 1s 22us/sample - loss: 0.3088 - accuracy: 0.8813 - val_loss: 0.3557 - val_accuracy: 0.8933\n",
      "Epoch 54/100\n",
      "27000/27000 [==============================] - 1s 23us/sample - loss: 0.3115 - accuracy: 0.8837 - val_loss: 0.3227 - val_accuracy: 0.9000\n"
     ]
    },
    {
     "name": "stdout",
     "output_type": "stream",
     "text": [
      "Epoch 55/100\n",
      "27000/27000 [==============================] - 1s 23us/sample - loss: 0.3089 - accuracy: 0.8834 - val_loss: 0.3024 - val_accuracy: 0.8907\n",
      "Epoch 56/100\n",
      "27000/27000 [==============================] - 1s 23us/sample - loss: 0.3025 - accuracy: 0.8850 - val_loss: 0.2841 - val_accuracy: 0.9053\n",
      "Epoch 57/100\n",
      "27000/27000 [==============================] - 1s 23us/sample - loss: 0.2959 - accuracy: 0.8888 - val_loss: 0.3082 - val_accuracy: 0.9027\n",
      "Epoch 58/100\n",
      "27000/27000 [==============================] - 1s 23us/sample - loss: 0.3034 - accuracy: 0.8854 - val_loss: 0.2957 - val_accuracy: 0.9067\n",
      "Epoch 59/100\n",
      "27000/27000 [==============================] - 1s 23us/sample - loss: 0.3024 - accuracy: 0.8874 - val_loss: 0.2994 - val_accuracy: 0.9120\n",
      "Epoch 60/100\n",
      "27000/27000 [==============================] - 1s 23us/sample - loss: 0.3037 - accuracy: 0.8856 - val_loss: 0.3178 - val_accuracy: 0.8867\n",
      "Epoch 61/100\n",
      "27000/27000 [==============================] - 1s 23us/sample - loss: 0.2897 - accuracy: 0.8940 - val_loss: 0.2939 - val_accuracy: 0.9027\n",
      "Epoch 62/100\n",
      "27000/27000 [==============================] - 1s 22us/sample - loss: 0.2885 - accuracy: 0.8924 - val_loss: 0.3091 - val_accuracy: 0.8913\n",
      "Epoch 63/100\n",
      "27000/27000 [==============================] - 1s 22us/sample - loss: 0.2943 - accuracy: 0.8885 - val_loss: 0.2891 - val_accuracy: 0.9060\n",
      "Epoch 64/100\n",
      "27000/27000 [==============================] - 1s 23us/sample - loss: 0.2924 - accuracy: 0.8911 - val_loss: 0.3198 - val_accuracy: 0.8940\n",
      "Epoch 65/100\n",
      "27000/27000 [==============================] - 1s 23us/sample - loss: 0.2783 - accuracy: 0.8943 - val_loss: 0.2923 - val_accuracy: 0.9027\n",
      "Epoch 66/100\n",
      "27000/27000 [==============================] - 1s 23us/sample - loss: 0.2803 - accuracy: 0.8942 - val_loss: 0.2654 - val_accuracy: 0.9067\n",
      "Epoch 67/100\n",
      "27000/27000 [==============================] - 1s 23us/sample - loss: 0.2770 - accuracy: 0.8931 - val_loss: 0.2613 - val_accuracy: 0.9133\n",
      "Epoch 68/100\n",
      "27000/27000 [==============================] - 1s 23us/sample - loss: 0.2770 - accuracy: 0.8955 - val_loss: 0.2828 - val_accuracy: 0.9133\n",
      "Epoch 69/100\n",
      "27000/27000 [==============================] - 1s 22us/sample - loss: 0.2786 - accuracy: 0.8946 - val_loss: 0.2437 - val_accuracy: 0.9220\n",
      "Epoch 70/100\n",
      "27000/27000 [==============================] - 1s 23us/sample - loss: 0.2730 - accuracy: 0.8968 - val_loss: 0.3026 - val_accuracy: 0.8987\n",
      "Epoch 71/100\n",
      "27000/27000 [==============================] - 1s 22us/sample - loss: 0.2664 - accuracy: 0.8988 - val_loss: 0.2674 - val_accuracy: 0.9160\n",
      "Epoch 72/100\n",
      "27000/27000 [==============================] - 1s 23us/sample - loss: 0.2633 - accuracy: 0.9002 - val_loss: 0.2596 - val_accuracy: 0.9247\n",
      "Epoch 73/100\n",
      "27000/27000 [==============================] - 1s 22us/sample - loss: 0.2670 - accuracy: 0.8968 - val_loss: 0.2386 - val_accuracy: 0.9180\n",
      "Epoch 74/100\n",
      "27000/27000 [==============================] - 1s 25us/sample - loss: 0.2661 - accuracy: 0.9003 - val_loss: 0.2549 - val_accuracy: 0.9153\n",
      "Epoch 75/100\n",
      "27000/27000 [==============================] - 1s 23us/sample - loss: 0.2572 - accuracy: 0.9023 - val_loss: 0.2832 - val_accuracy: 0.9120\n",
      "Epoch 76/100\n",
      "27000/27000 [==============================] - 1s 24us/sample - loss: 0.2673 - accuracy: 0.8978 - val_loss: 0.2934 - val_accuracy: 0.9093\n",
      "Epoch 77/100\n",
      "27000/27000 [==============================] - 1s 23us/sample - loss: 0.2536 - accuracy: 0.9037 - val_loss: 0.2608 - val_accuracy: 0.9233\n",
      "Epoch 78/100\n",
      "27000/27000 [==============================] - 1s 23us/sample - loss: 0.2613 - accuracy: 0.9013 - val_loss: 0.3032 - val_accuracy: 0.9000\n",
      "Epoch 79/100\n",
      "27000/27000 [==============================] - 1s 23us/sample - loss: 0.2592 - accuracy: 0.9030 - val_loss: 0.2962 - val_accuracy: 0.9173\n",
      "Epoch 80/100\n",
      "27000/27000 [==============================] - 1s 23us/sample - loss: 0.2591 - accuracy: 0.9021 - val_loss: 0.2904 - val_accuracy: 0.9080\n",
      "Epoch 81/100\n",
      "27000/27000 [==============================] - 1s 23us/sample - loss: 0.2531 - accuracy: 0.9009 - val_loss: 0.2786 - val_accuracy: 0.9080\n",
      "Epoch 82/100\n",
      "27000/27000 [==============================] - 1s 23us/sample - loss: 0.2524 - accuracy: 0.9057 - val_loss: 0.3198 - val_accuracy: 0.9007\n",
      "Epoch 83/100\n",
      "27000/27000 [==============================] - 1s 23us/sample - loss: 0.2495 - accuracy: 0.9050 - val_loss: 0.2655 - val_accuracy: 0.9273\n",
      "Epoch 84/100\n",
      "27000/27000 [==============================] - 1s 24us/sample - loss: 0.2455 - accuracy: 0.9087 - val_loss: 0.2474 - val_accuracy: 0.9227\n",
      "Epoch 85/100\n",
      "27000/27000 [==============================] - 1s 23us/sample - loss: 0.2586 - accuracy: 0.9034 - val_loss: 0.2921 - val_accuracy: 0.9147\n",
      "Epoch 86/100\n",
      "27000/27000 [==============================] - 1s 23us/sample - loss: 0.2469 - accuracy: 0.9054 - val_loss: 0.2958 - val_accuracy: 0.9107\n",
      "Epoch 87/100\n",
      "27000/27000 [==============================] - 1s 23us/sample - loss: 0.2500 - accuracy: 0.9044 - val_loss: 0.2816 - val_accuracy: 0.8980\n",
      "Epoch 88/100\n",
      "27000/27000 [==============================] - 1s 23us/sample - loss: 0.2464 - accuracy: 0.9065 - val_loss: 0.2998 - val_accuracy: 0.9160\n",
      "Epoch 89/100\n",
      "27000/27000 [==============================] - 1s 23us/sample - loss: 0.2380 - accuracy: 0.9098 - val_loss: 0.2541 - val_accuracy: 0.9187\n",
      "Epoch 90/100\n",
      "27000/27000 [==============================] - 1s 22us/sample - loss: 0.2411 - accuracy: 0.9077 - val_loss: 0.3060 - val_accuracy: 0.9153\n",
      "Epoch 91/100\n",
      "27000/27000 [==============================] - 1s 23us/sample - loss: 0.2377 - accuracy: 0.9099 - val_loss: 0.2752 - val_accuracy: 0.9213\n",
      "Epoch 92/100\n",
      "27000/27000 [==============================] - 1s 24us/sample - loss: 0.2366 - accuracy: 0.9116 - val_loss: 0.2815 - val_accuracy: 0.9193\n",
      "Epoch 93/100\n",
      "27000/27000 [==============================] - 1s 23us/sample - loss: 0.2408 - accuracy: 0.9097 - val_loss: 0.2862 - val_accuracy: 0.9033\n",
      "Epoch 94/100\n",
      "27000/27000 [==============================] - 1s 24us/sample - loss: 0.2415 - accuracy: 0.9079 - val_loss: 0.2708 - val_accuracy: 0.9193\n",
      "Epoch 95/100\n",
      "27000/27000 [==============================] - 1s 24us/sample - loss: 0.2402 - accuracy: 0.9090 - val_loss: 0.2439 - val_accuracy: 0.9267\n",
      "Epoch 96/100\n",
      "27000/27000 [==============================] - 1s 23us/sample - loss: 0.2402 - accuracy: 0.9103 - val_loss: 0.3086 - val_accuracy: 0.9227\n",
      "Epoch 97/100\n",
      "27000/27000 [==============================] - 1s 23us/sample - loss: 0.2352 - accuracy: 0.9114 - val_loss: 0.2957 - val_accuracy: 0.9233\n",
      "Epoch 98/100\n",
      "27000/27000 [==============================] - 1s 25us/sample - loss: 0.2258 - accuracy: 0.9117 - val_loss: 0.3080 - val_accuracy: 0.9113\n",
      "Epoch 99/100\n",
      "27000/27000 [==============================] - 1s 23us/sample - loss: 0.2324 - accuracy: 0.9125 - val_loss: 0.2492 - val_accuracy: 0.9227\n",
      "Epoch 100/100\n",
      "27000/27000 [==============================] - 1s 23us/sample - loss: 0.2307 - accuracy: 0.9144 - val_loss: 0.3121 - val_accuracy: 0.9147\n",
      "Wall time: 1min 6s\n"
     ]
    },
    {
     "data": {
      "text/plain": [
       "<tensorflow.python.keras.callbacks.History at 0x19c87558fc8>"
      ]
     },
     "execution_count": 9,
     "metadata": {},
     "output_type": "execute_result"
    }
   ],
   "source": [
    "%%time\n",
    "model.fit(x=X_train, y=y_train, epochs=100, batch_size=512, validation_data=(X_test, y_test))"
   ]
  },
  {
   "cell_type": "markdown",
   "id": "e4fe55d6",
   "metadata": {},
   "source": [
    "# Modle Performance"
   ]
  },
  {
   "cell_type": "code",
   "execution_count": 10,
   "id": "95f922ea",
   "metadata": {},
   "outputs": [],
   "source": [
    "losses = pd.DataFrame(model.history.history)"
   ]
  },
  {
   "cell_type": "code",
   "execution_count": 11,
   "id": "858af874",
   "metadata": {},
   "outputs": [
    {
     "data": {
      "text/plain": [
       "<AxesSubplot:>"
      ]
     },
     "execution_count": 11,
     "metadata": {},
     "output_type": "execute_result"
    },
    {
     "data": {
      "image/png": "[encoded data removed]",
      "text/plain": [
       "<Figure size 432x288 with 1 Axes>"
      ]
     },
     "metadata": {
      "needs_background": "light"
     },
     "output_type": "display_data"
    }
   ],
   "source": [
    "losses[['loss','val_loss']].plot()"
   ]
  },
  {
   "cell_type": "markdown",
   "id": "93b49aac",
   "metadata": {},
   "source": [
    "# Predict"
   ]
  },
  {
   "cell_type": "code",
   "execution_count": 12,
   "id": "ce2c6191",
   "metadata": {},
   "outputs": [],
   "source": [
    "predictions = model.predict(X_test)"
   ]
  },
  {
   "cell_type": "markdown",
   "id": "d57637f8",
   "metadata": {},
   "source": [
    "\n",
    "# Confusion Matrix"
   ]
  },
  {
   "cell_type": "code",
   "execution_count": 13,
   "id": "1dfbf087",
   "metadata": {},
   "outputs": [],
   "source": [
    "y_test_arg=np.argmax(y_test,axis=1)\n",
    "Y_pred = np.argmax(predictions,axis=1)"
   ]
  },
  {
   "cell_type": "code",
   "execution_count": 14,
   "id": "5e7bef94",
   "metadata": {},
   "outputs": [
    {
     "name": "stdout",
     "output_type": "stream",
     "text": [
      "[[247   1   0   0   0   2]\n",
      " [  0 250   0   0   0   0]\n",
      " [  9   3 188   0   0  50]\n",
      " [  1   9   1 230   0   9]\n",
      " [  3   4   0   0 243   0]\n",
      " [  0   4  32   0   0 214]]\n"
     ]
    }
   ],
   "source": [
    "print(confusion_matrix(y_test_arg, Y_pred))"
   ]
  },
  {
   "cell_type": "code",
   "execution_count": 15,
   "id": "a9aff162",
   "metadata": {},
   "outputs": [
    {
     "data": {
      "text/plain": [
       "<AxesSubplot:>"
      ]
     },
     "execution_count": 15,
     "metadata": {},
     "output_type": "execute_result"
    },
    {
     "data": {
      "image/png": "[encoded data removed]",
      "text/plain": [
       "<Figure size 432x288 with 2 Axes>"
      ]
     },
     "metadata": {},
     "output_type": "display_data"
    }
   ],
   "source": [
    "array = metrics.confusion_matrix(y_test_arg, Y_pred)\n",
    "df_cm = pd.DataFrame(array, range(6), range(6))\n",
    "# plt.figure(figsize=(10,7))\n",
    "sns.set(font_scale=1) # for label size\n",
    "sns.heatmap(df_cm, annot=True, annot_kws={\"size\": 11}, cmap=\"OrRd\") # font size"
   ]
  },
  {
   "cell_type": "markdown",
   "id": "42627778",
   "metadata": {},
   "source": [
    "# classification Report"
   ]
  },
  {
   "cell_type": "code",
   "execution_count": 16,
   "id": "947405a5",
   "metadata": {},
   "outputs": [
    {
     "name": "stdout",
     "output_type": "stream",
     "text": [
      "              precision    recall  f1-score   support\n",
      "\n",
      "           0       0.95      0.99      0.97       250\n",
      "           1       0.92      1.00      0.96       250\n",
      "           2       0.85      0.75      0.80       250\n",
      "           3       1.00      0.92      0.96       250\n",
      "           4       1.00      0.97      0.99       250\n",
      "           5       0.78      0.86      0.82       250\n",
      "\n",
      "    accuracy                           0.91      1500\n",
      "   macro avg       0.92      0.91      0.91      1500\n",
      "weighted avg       0.92      0.91      0.91      1500\n",
      "\n"
     ]
    }
   ],
   "source": [
    "print(classification_report(y_test_arg, Y_pred))"
   ]
  },
  {
   "cell_type": "code",
   "execution_count": null,
   "id": "17de918c",
   "metadata": {},
   "outputs": [],
   "source": []
  }
 ],
 "metadata": {
  "kernelspec": {
   "display_name": "Python 3.7 (tensorflow)",
   "language": "python",
   "name": "tensorflow"
  },
  "language_info": {
   "codemirror_mode": {
    "name": "ipython",
    "version": 3
   },
   "file_extension": ".py",
   "mimetype": "text/x-python",
   "name": "python",
   "nbconvert_exporter": "python",
   "pygments_lexer": "ipython3",
   "version": "3.7.9"
  }
 },
 "nbformat": 4,
 "nbformat_minor": 5
}
