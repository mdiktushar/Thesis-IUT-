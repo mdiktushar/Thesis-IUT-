{
 "cells": [
  {
   "cell_type": "markdown",
   "id": "c17badd4",
   "metadata": {},
   "source": [
    "# ANN"
   ]
  },
  {
   "cell_type": "code",
   "execution_count": 1,
   "id": "f5df428c",
   "metadata": {},
   "outputs": [],
   "source": [
    "import pandas as pd\n",
    "import numpy as np\n",
    "import matplotlib.pyplot as plt\n",
    "import seaborn as sns\n",
    "%matplotlib inline\n",
    "\n",
    "from sklearn.preprocessing import OneHotEncoder, MinMaxScaler\n",
    "\n",
    "import tensorflow as tf\n",
    "from tensorflow.keras.models import Sequential\n",
    "from tensorflow.keras.layers import Dense, Activation,Dropout\n",
    "from sklearn.metrics import classification_report,confusion_matrix, plot_confusion_matrix\n",
    "import sklearn.metrics as metrics"
   ]
  },
  {
   "cell_type": "markdown",
   "id": "f9a4b800",
   "metadata": {},
   "source": [
    "# Input Data"
   ]
  },
  {
   "cell_type": "code",
   "execution_count": 2,
   "id": "fe15956c",
   "metadata": {},
   "outputs": [],
   "source": [
    "df = pd.read_csv('Data.csv')"
   ]
  },
  {
   "cell_type": "code",
   "execution_count": 3,
   "id": "bef654bb",
   "metadata": {},
   "outputs": [],
   "source": [
    "dft = pd.read_csv('testing1.csv')"
   ]
  },
  {
   "cell_type": "code",
   "execution_count": 4,
   "id": "0f5337c0",
   "metadata": {},
   "outputs": [],
   "source": [
    "# X_train, X_test, y_train, y_test = train_test_split(X,y,test_size=0.25,random_state=101)\n",
    "X_train = df.drop('label',axis=1).values\n",
    "y_train = df['label'].values\n",
    "\n",
    "X_test = dft.drop('label',axis=1).values\n",
    "y_test = dft['label'].values"
   ]
  },
  {
   "cell_type": "markdown",
   "id": "b1318dcd",
   "metadata": {},
   "source": [
    "# One-hot encode the target"
   ]
  },
  {
   "cell_type": "code",
   "execution_count": 5,
   "id": "87b0bdf6",
   "metadata": {},
   "outputs": [],
   "source": [
    "enc = OneHotEncoder(sparse=False, handle_unknown='ignore')\n",
    "enc.fit(y_train.reshape(-1, 1))\n",
    "y_train = enc.transform(y_train.reshape(-1, 1))\n",
    "y_test = enc.transform(y_test.reshape(-1, 1))"
   ]
  },
  {
   "cell_type": "code",
   "execution_count": 6,
   "id": "5c52d6bd",
   "metadata": {},
   "outputs": [
    {
     "name": "stdout",
     "output_type": "stream",
     "text": [
      "(26999, 6) (1500, 6)\n"
     ]
    }
   ],
   "source": [
    "print(y_train.shape, y_test.shape)"
   ]
  },
  {
   "cell_type": "markdown",
   "id": "ccf0c799",
   "metadata": {},
   "source": [
    "# scale the features"
   ]
  },
  {
   "cell_type": "code",
   "execution_count": 7,
   "id": "3c544b11",
   "metadata": {},
   "outputs": [],
   "source": [
    "scaler = MinMaxScaler()\n",
    "scaler.fit(X_train)\n",
    "X_train = scaler.transform(X_train)\n",
    "X_test = scaler.transform(X_test)"
   ]
  },
  {
   "cell_type": "code",
   "execution_count": 8,
   "id": "e3e4af3c",
   "metadata": {},
   "outputs": [],
   "source": [
    "model = Sequential()\n",
    "\n",
    "model.add(Dense(units=64,activation='relu'))\n",
    "model.add(Dense(units=128,activation='relu'))\n",
    "model.add(Dropout(0.5))\n",
    "\n",
    "model.add(Dense(units=128,activation='relu'))\n",
    "model.add(Dense(units=512,activation='relu'))\n",
    "model.add(Dropout(0.5))\n",
    "\n",
    "model.add(Dense(units=521,activation='relu'))\n",
    "model.add(Dropout(0.5))\n",
    "\n",
    "model.add(Dense(6, activation='softmax'))\n",
    "# Compile model\n",
    "model.compile(optimizer='adam',\n",
    "              loss='categorical_crossentropy',\n",
    "              metrics=['accuracy'])"
   ]
  },
  {
   "cell_type": "code",
   "execution_count": 9,
   "id": "3fd0d04b",
   "metadata": {},
   "outputs": [
    {
     "name": "stdout",
     "output_type": "stream",
     "text": [
      "Train on 26999 samples, validate on 1500 samples\n",
      "Epoch 1/100\n",
      "26999/26999 [==============================] - 2s 68us/sample - loss: 1.6168 - accuracy: 0.3116 - val_loss: 1.3075 - val_accuracy: 0.4820\n",
      "Epoch 2/100\n",
      "26999/26999 [==============================] - 1s 22us/sample - loss: 1.3327 - accuracy: 0.4840 - val_loss: 1.1556 - val_accuracy: 0.5653\n",
      "Epoch 3/100\n",
      "26999/26999 [==============================] - 1s 23us/sample - loss: 1.1832 - accuracy: 0.5515 - val_loss: 1.0890 - val_accuracy: 0.5580\n",
      "Epoch 4/100\n",
      "26999/26999 [==============================] - 1s 26us/sample - loss: 1.0905 - accuracy: 0.5923 - val_loss: 0.9817 - val_accuracy: 0.6240\n",
      "Epoch 5/100\n",
      "26999/26999 [==============================] - 1s 24us/sample - loss: 1.0205 - accuracy: 0.6175 - val_loss: 0.9217 - val_accuracy: 0.6267\n",
      "Epoch 6/100\n",
      "26999/26999 [==============================] - 1s 24us/sample - loss: 0.9603 - accuracy: 0.6422 - val_loss: 0.8478 - val_accuracy: 0.6887\n",
      "Epoch 7/100\n",
      "26999/26999 [==============================] - 1s 22us/sample - loss: 0.9067 - accuracy: 0.6640 - val_loss: 0.7670 - val_accuracy: 0.7127\n",
      "Epoch 8/100\n",
      "26999/26999 [==============================] - 1s 27us/sample - loss: 0.8742 - accuracy: 0.6750 - val_loss: 0.7619 - val_accuracy: 0.7087\n",
      "Epoch 9/100\n",
      "26999/26999 [==============================] - 1s 21us/sample - loss: 0.8344 - accuracy: 0.6922 - val_loss: 0.6956 - val_accuracy: 0.7227\n",
      "Epoch 10/100\n",
      "26999/26999 [==============================] - 1s 22us/sample - loss: 0.7863 - accuracy: 0.7094 - val_loss: 0.6612 - val_accuracy: 0.7347\n",
      "Epoch 11/100\n",
      "26999/26999 [==============================] - 1s 23us/sample - loss: 0.7572 - accuracy: 0.7193 - val_loss: 0.6058 - val_accuracy: 0.7593\n",
      "Epoch 12/100\n",
      "26999/26999 [==============================] - 1s 23us/sample - loss: 0.7268 - accuracy: 0.7265 - val_loss: 0.6382 - val_accuracy: 0.7573\n",
      "Epoch 13/100\n",
      "26999/26999 [==============================] - 1s 21us/sample - loss: 0.7015 - accuracy: 0.7370 - val_loss: 0.5550 - val_accuracy: 0.7767\n",
      "Epoch 14/100\n",
      "26999/26999 [==============================] - 1s 22us/sample - loss: 0.6740 - accuracy: 0.7470 - val_loss: 0.5440 - val_accuracy: 0.7713\n",
      "Epoch 15/100\n",
      "26999/26999 [==============================] - 1s 23us/sample - loss: 0.6461 - accuracy: 0.7606 - val_loss: 0.5062 - val_accuracy: 0.8113\n",
      "Epoch 16/100\n",
      "26999/26999 [==============================] - 1s 26us/sample - loss: 0.6250 - accuracy: 0.7654 - val_loss: 0.4500 - val_accuracy: 0.8267\n",
      "Epoch 17/100\n",
      "26999/26999 [==============================] - 1s 23us/sample - loss: 0.6060 - accuracy: 0.7719 - val_loss: 0.4861 - val_accuracy: 0.8020\n",
      "Epoch 18/100\n",
      "26999/26999 [==============================] - 1s 25us/sample - loss: 0.5840 - accuracy: 0.7840 - val_loss: 0.4269 - val_accuracy: 0.8287\n",
      "Epoch 19/100\n",
      "26999/26999 [==============================] - ETA: 0s - loss: 0.5722 - accuracy: 0.78 - 1s 25us/sample - loss: 0.5719 - accuracy: 0.7847 - val_loss: 0.4772 - val_accuracy: 0.8187\n",
      "Epoch 20/100\n",
      "26999/26999 [==============================] - 1s 22us/sample - loss: 0.5611 - accuracy: 0.7911 - val_loss: 0.3554 - val_accuracy: 0.8687\n",
      "Epoch 21/100\n",
      "26999/26999 [==============================] - 1s 23us/sample - loss: 0.5429 - accuracy: 0.7972 - val_loss: 0.3839 - val_accuracy: 0.8407\n",
      "Epoch 22/100\n",
      "26999/26999 [==============================] - 1s 24us/sample - loss: 0.5210 - accuracy: 0.8061 - val_loss: 0.3519 - val_accuracy: 0.8620\n",
      "Epoch 23/100\n",
      "26999/26999 [==============================] - 1s 22us/sample - loss: 0.5034 - accuracy: 0.8098 - val_loss: 0.3437 - val_accuracy: 0.8700\n",
      "Epoch 24/100\n",
      "26999/26999 [==============================] - 1s 22us/sample - loss: 0.4931 - accuracy: 0.8146 - val_loss: 0.3403 - val_accuracy: 0.8733\n",
      "Epoch 25/100\n",
      "26999/26999 [==============================] - 1s 22us/sample - loss: 0.4947 - accuracy: 0.8140 - val_loss: 0.3271 - val_accuracy: 0.8720\n",
      "Epoch 26/100\n",
      "26999/26999 [==============================] - 1s 24us/sample - loss: 0.4808 - accuracy: 0.8203 - val_loss: 0.3284 - val_accuracy: 0.8727\n",
      "Epoch 27/100\n",
      "26999/26999 [==============================] - 1s 24us/sample - loss: 0.4697 - accuracy: 0.8243 - val_loss: 0.2801 - val_accuracy: 0.8927\n",
      "Epoch 28/100\n",
      "26999/26999 [==============================] - 1s 24us/sample - loss: 0.4580 - accuracy: 0.8275 - val_loss: 0.2503 - val_accuracy: 0.9007\n",
      "Epoch 29/100\n",
      "26999/26999 [==============================] - 1s 24us/sample - loss: 0.4484 - accuracy: 0.8303 - val_loss: 0.2618 - val_accuracy: 0.9133\n",
      "Epoch 30/100\n",
      "26999/26999 [==============================] - 1s 24us/sample - loss: 0.4357 - accuracy: 0.8367 - val_loss: 0.2460 - val_accuracy: 0.9227\n",
      "Epoch 31/100\n",
      "26999/26999 [==============================] - 1s 22us/sample - loss: 0.4284 - accuracy: 0.8381 - val_loss: 0.2303 - val_accuracy: 0.9340\n",
      "Epoch 32/100\n",
      "26999/26999 [==============================] - 1s 22us/sample - loss: 0.4265 - accuracy: 0.8378 - val_loss: 0.2488 - val_accuracy: 0.9133\n",
      "Epoch 33/100\n",
      "26999/26999 [==============================] - 1s 23us/sample - loss: 0.4109 - accuracy: 0.8444 - val_loss: 0.2334 - val_accuracy: 0.9267\n",
      "Epoch 34/100\n",
      "26999/26999 [==============================] - 1s 23us/sample - loss: 0.4082 - accuracy: 0.8467 - val_loss: 0.2487 - val_accuracy: 0.9193\n",
      "Epoch 35/100\n",
      "26999/26999 [==============================] - 1s 22us/sample - loss: 0.4034 - accuracy: 0.8475 - val_loss: 0.2153 - val_accuracy: 0.9273\n",
      "Epoch 36/100\n",
      "26999/26999 [==============================] - 1s 22us/sample - loss: 0.3898 - accuracy: 0.8540 - val_loss: 0.2048 - val_accuracy: 0.9347\n",
      "Epoch 37/100\n",
      "26999/26999 [==============================] - 1s 26us/sample - loss: 0.3987 - accuracy: 0.8510 - val_loss: 0.2104 - val_accuracy: 0.9347\n",
      "Epoch 38/100\n",
      "26999/26999 [==============================] - 1s 24us/sample - loss: 0.3894 - accuracy: 0.8521 - val_loss: 0.1872 - val_accuracy: 0.9500\n",
      "Epoch 39/100\n",
      "26999/26999 [==============================] - 1s 24us/sample - loss: 0.3769 - accuracy: 0.8577 - val_loss: 0.1920 - val_accuracy: 0.9347\n",
      "Epoch 40/100\n",
      "26999/26999 [==============================] - 1s 22us/sample - loss: 0.3753 - accuracy: 0.8585 - val_loss: 0.1958 - val_accuracy: 0.9300\n",
      "Epoch 41/100\n",
      "26999/26999 [==============================] - 1s 22us/sample - loss: 0.3731 - accuracy: 0.8590 - val_loss: 0.1685 - val_accuracy: 0.9473\n",
      "Epoch 42/100\n",
      "26999/26999 [==============================] - 1s 22us/sample - loss: 0.3693 - accuracy: 0.8608 - val_loss: 0.1692 - val_accuracy: 0.9460\n",
      "Epoch 43/100\n",
      "26999/26999 [==============================] - 1s 22us/sample - loss: 0.3658 - accuracy: 0.8659 - val_loss: 0.1638 - val_accuracy: 0.9507\n",
      "Epoch 44/100\n",
      "26999/26999 [==============================] - 1s 23us/sample - loss: 0.3499 - accuracy: 0.8667 - val_loss: 0.1613 - val_accuracy: 0.9493\n",
      "Epoch 45/100\n",
      "26999/26999 [==============================] - 1s 22us/sample - loss: 0.3514 - accuracy: 0.8678 - val_loss: 0.1694 - val_accuracy: 0.9407\n",
      "Epoch 46/100\n",
      "26999/26999 [==============================] - 1s 22us/sample - loss: 0.3496 - accuracy: 0.8696 - val_loss: 0.1558 - val_accuracy: 0.9520\n",
      "Epoch 47/100\n",
      "26999/26999 [==============================] - 1s 22us/sample - loss: 0.3402 - accuracy: 0.8720 - val_loss: 0.1781 - val_accuracy: 0.9420\n",
      "Epoch 48/100\n",
      "26999/26999 [==============================] - 1s 24us/sample - loss: 0.3402 - accuracy: 0.8717 - val_loss: 0.1497 - val_accuracy: 0.9560\n",
      "Epoch 49/100\n",
      "26999/26999 [==============================] - 1s 25us/sample - loss: 0.3355 - accuracy: 0.8737 - val_loss: 0.1458 - val_accuracy: 0.9587\n",
      "Epoch 50/100\n",
      "26999/26999 [==============================] - 1s 26us/sample - loss: 0.3368 - accuracy: 0.8733 - val_loss: 0.1453 - val_accuracy: 0.9593\n",
      "Epoch 51/100\n",
      "26999/26999 [==============================] - 1s 24us/sample - loss: 0.3251 - accuracy: 0.8789 - val_loss: 0.1324 - val_accuracy: 0.9593\n",
      "Epoch 52/100\n",
      "26999/26999 [==============================] - 1s 23us/sample - loss: 0.3350 - accuracy: 0.8726 - val_loss: 0.1599 - val_accuracy: 0.9480\n",
      "Epoch 53/100\n",
      "26999/26999 [==============================] - 1s 23us/sample - loss: 0.3192 - accuracy: 0.8798 - val_loss: 0.1384 - val_accuracy: 0.9553\n",
      "Epoch 54/100\n",
      "26999/26999 [==============================] - 1s 25us/sample - loss: 0.3199 - accuracy: 0.8800 - val_loss: 0.1449 - val_accuracy: 0.9513\n"
     ]
    },
    {
     "name": "stdout",
     "output_type": "stream",
     "text": [
      "Epoch 55/100\n",
      "26999/26999 [==============================] - 1s 27us/sample - loss: 0.3242 - accuracy: 0.8778 - val_loss: 0.1518 - val_accuracy: 0.9560\n",
      "Epoch 56/100\n",
      "26999/26999 [==============================] - 1s 24us/sample - loss: 0.3202 - accuracy: 0.8784 - val_loss: 0.1403 - val_accuracy: 0.9587\n",
      "Epoch 57/100\n",
      "26999/26999 [==============================] - 1s 24us/sample - loss: 0.3162 - accuracy: 0.8817 - val_loss: 0.1341 - val_accuracy: 0.9660\n",
      "Epoch 58/100\n",
      "26999/26999 [==============================] - 1s 23us/sample - loss: 0.3034 - accuracy: 0.8845 - val_loss: 0.1351 - val_accuracy: 0.9607\n",
      "Epoch 59/100\n",
      "26999/26999 [==============================] - 1s 22us/sample - loss: 0.3125 - accuracy: 0.8855 - val_loss: 0.1153 - val_accuracy: 0.9707\n",
      "Epoch 60/100\n",
      "26999/26999 [==============================] - 1s 23us/sample - loss: 0.3001 - accuracy: 0.8845 - val_loss: 0.1123 - val_accuracy: 0.9740\n",
      "Epoch 61/100\n",
      "26999/26999 [==============================] - 1s 23us/sample - loss: 0.3013 - accuracy: 0.8854 - val_loss: 0.1118 - val_accuracy: 0.9667\n",
      "Epoch 62/100\n",
      "26999/26999 [==============================] - 1s 24us/sample - loss: 0.3077 - accuracy: 0.8843 - val_loss: 0.1066 - val_accuracy: 0.9713\n",
      "Epoch 63/100\n",
      "26999/26999 [==============================] - 1s 23us/sample - loss: 0.2945 - accuracy: 0.8871 - val_loss: 0.1063 - val_accuracy: 0.9707\n",
      "Epoch 64/100\n",
      "26999/26999 [==============================] - 1s 24us/sample - loss: 0.2981 - accuracy: 0.8863 - val_loss: 0.1272 - val_accuracy: 0.9647\n",
      "Epoch 65/100\n",
      "26999/26999 [==============================] - 1s 25us/sample - loss: 0.2909 - accuracy: 0.8900 - val_loss: 0.1085 - val_accuracy: 0.9733\n",
      "Epoch 66/100\n",
      "26999/26999 [==============================] - 1s 24us/sample - loss: 0.2934 - accuracy: 0.8897 - val_loss: 0.1174 - val_accuracy: 0.9693\n",
      "Epoch 67/100\n",
      "26999/26999 [==============================] - 1s 25us/sample - loss: 0.2838 - accuracy: 0.8931 - val_loss: 0.0969 - val_accuracy: 0.9733\n",
      "Epoch 68/100\n",
      "26999/26999 [==============================] - 1s 22us/sample - loss: 0.2827 - accuracy: 0.8919 - val_loss: 0.1217 - val_accuracy: 0.9647\n",
      "Epoch 69/100\n",
      "26999/26999 [==============================] - 1s 24us/sample - loss: 0.2814 - accuracy: 0.8937 - val_loss: 0.0953 - val_accuracy: 0.9753\n",
      "Epoch 70/100\n",
      "26999/26999 [==============================] - 1s 23us/sample - loss: 0.2796 - accuracy: 0.8937 - val_loss: 0.0993 - val_accuracy: 0.9740\n",
      "Epoch 71/100\n",
      "26999/26999 [==============================] - 1s 23us/sample - loss: 0.2852 - accuracy: 0.8910 - val_loss: 0.0959 - val_accuracy: 0.9767\n",
      "Epoch 72/100\n",
      "26999/26999 [==============================] - 1s 25us/sample - loss: 0.2794 - accuracy: 0.8957 - val_loss: 0.1286 - val_accuracy: 0.9647\n",
      "Epoch 73/100\n",
      "26999/26999 [==============================] - 1s 22us/sample - loss: 0.2795 - accuracy: 0.8955 - val_loss: 0.1088 - val_accuracy: 0.9713\n",
      "Epoch 74/100\n",
      "26999/26999 [==============================] - 1s 23us/sample - loss: 0.2746 - accuracy: 0.8968 - val_loss: 0.0944 - val_accuracy: 0.9733\n",
      "Epoch 75/100\n",
      "26999/26999 [==============================] - 1s 22us/sample - loss: 0.2662 - accuracy: 0.8991 - val_loss: 0.1055 - val_accuracy: 0.9680\n",
      "Epoch 76/100\n",
      "26999/26999 [==============================] - 1s 23us/sample - loss: 0.2690 - accuracy: 0.8967 - val_loss: 0.0987 - val_accuracy: 0.9693\n",
      "Epoch 77/100\n",
      "26999/26999 [==============================] - 1s 23us/sample - loss: 0.2681 - accuracy: 0.9013 - val_loss: 0.0911 - val_accuracy: 0.9753\n",
      "Epoch 78/100\n",
      "26999/26999 [==============================] - 1s 25us/sample - loss: 0.2750 - accuracy: 0.8951 - val_loss: 0.0935 - val_accuracy: 0.9707s - loss: 0.2740 - accuracy: 0.\n",
      "Epoch 79/100\n",
      "26999/26999 [==============================] - 1s 26us/sample - loss: 0.2665 - accuracy: 0.9005 - val_loss: 0.1022 - val_accuracy: 0.9740\n",
      "Epoch 80/100\n",
      "26999/26999 [==============================] - 1s 23us/sample - loss: 0.2623 - accuracy: 0.8989 - val_loss: 0.0950 - val_accuracy: 0.9740\n",
      "Epoch 81/100\n",
      "26999/26999 [==============================] - 1s 23us/sample - loss: 0.2607 - accuracy: 0.9010 - val_loss: 0.1026 - val_accuracy: 0.9673\n",
      "Epoch 82/100\n",
      "26999/26999 [==============================] - 1s 24us/sample - loss: 0.2635 - accuracy: 0.9010 - val_loss: 0.1056 - val_accuracy: 0.9680\n",
      "Epoch 83/100\n",
      "26999/26999 [==============================] - 1s 22us/sample - loss: 0.2681 - accuracy: 0.8975 - val_loss: 0.1171 - val_accuracy: 0.9627\n",
      "Epoch 84/100\n",
      "26999/26999 [==============================] - 1s 23us/sample - loss: 0.2588 - accuracy: 0.9008 - val_loss: 0.0939 - val_accuracy: 0.9740\n",
      "Epoch 85/100\n",
      "26999/26999 [==============================] - 1s 24us/sample - loss: 0.2513 - accuracy: 0.9057 - val_loss: 0.1048 - val_accuracy: 0.9667\n",
      "Epoch 86/100\n",
      "26999/26999 [==============================] - 1s 22us/sample - loss: 0.2575 - accuracy: 0.9030 - val_loss: 0.1046 - val_accuracy: 0.9713\n",
      "Epoch 87/100\n",
      "26999/26999 [==============================] - 1s 24us/sample - loss: 0.2542 - accuracy: 0.9054 - val_loss: 0.1011 - val_accuracy: 0.9747\n",
      "Epoch 88/100\n",
      "26999/26999 [==============================] - 1s 23us/sample - loss: 0.2538 - accuracy: 0.9054 - val_loss: 0.0944 - val_accuracy: 0.9740\n",
      "Epoch 89/100\n",
      "26999/26999 [==============================] - 1s 23us/sample - loss: 0.2523 - accuracy: 0.9027 - val_loss: 0.0806 - val_accuracy: 0.9847\n",
      "Epoch 90/100\n",
      "26999/26999 [==============================] - 1s 22us/sample - loss: 0.2549 - accuracy: 0.9010 - val_loss: 0.0977 - val_accuracy: 0.9760\n",
      "Epoch 91/100\n",
      "26999/26999 [==============================] - 1s 23us/sample - loss: 0.2516 - accuracy: 0.9045 - val_loss: 0.0962 - val_accuracy: 0.9727\n",
      "Epoch 92/100\n",
      "26999/26999 [==============================] - 1s 23us/sample - loss: 0.2541 - accuracy: 0.9045 - val_loss: 0.0981 - val_accuracy: 0.9767\n",
      "Epoch 93/100\n",
      "26999/26999 [==============================] - 1s 23us/sample - loss: 0.2454 - accuracy: 0.9068 - val_loss: 0.0974 - val_accuracy: 0.9760\n",
      "Epoch 94/100\n",
      "26999/26999 [==============================] - 1s 23us/sample - loss: 0.2492 - accuracy: 0.9061 - val_loss: 0.0965 - val_accuracy: 0.9787\n",
      "Epoch 95/100\n",
      "26999/26999 [==============================] - 1s 23us/sample - loss: 0.2423 - accuracy: 0.9083 - val_loss: 0.0940 - val_accuracy: 0.9733\n",
      "Epoch 96/100\n",
      "26999/26999 [==============================] - 1s 25us/sample - loss: 0.2456 - accuracy: 0.9077 - val_loss: 0.0783 - val_accuracy: 0.9827\n",
      "Epoch 97/100\n",
      "26999/26999 [==============================] - 1s 24us/sample - loss: 0.2434 - accuracy: 0.9083 - val_loss: 0.0835 - val_accuracy: 0.9813\n",
      "Epoch 98/100\n",
      "26999/26999 [==============================] - 1s 23us/sample - loss: 0.2487 - accuracy: 0.9075 - val_loss: 0.0686 - val_accuracy: 0.9840\n",
      "Epoch 99/100\n",
      "26999/26999 [==============================] - 1s 23us/sample - loss: 0.2381 - accuracy: 0.9094 - val_loss: 0.0731 - val_accuracy: 0.9820\n",
      "Epoch 100/100\n",
      "26999/26999 [==============================] - 1s 24us/sample - loss: 0.2421 - accuracy: 0.9087 - val_loss: 0.0814 - val_accuracy: 0.9780\n",
      "Wall time: 1min 7s\n"
     ]
    },
    {
     "data": {
      "text/plain": [
       "<tensorflow.python.keras.callbacks.History at 0x1d02bcdef08>"
      ]
     },
     "execution_count": 9,
     "metadata": {},
     "output_type": "execute_result"
    }
   ],
   "source": [
    "%%time\n",
    "model.fit(x=X_train, y=y_train, epochs=100, batch_size=512, validation_data=(X_test, y_test))"
   ]
  },
  {
   "cell_type": "markdown",
   "id": "e4fe55d6",
   "metadata": {},
   "source": [
    "# Modle Performance"
   ]
  },
  {
   "cell_type": "code",
   "execution_count": 10,
   "id": "95f922ea",
   "metadata": {},
   "outputs": [],
   "source": [
    "losses = pd.DataFrame(model.history.history)"
   ]
  },
  {
   "cell_type": "code",
   "execution_count": 11,
   "id": "858af874",
   "metadata": {},
   "outputs": [
    {
     "data": {
      "text/plain": [
       "<AxesSubplot:>"
      ]
     },
     "execution_count": 11,
     "metadata": {},
     "output_type": "execute_result"
    },
    {
     "data": {
      "image/png": "[encoded data removed]",
      "text/plain": [
       "<Figure size 432x288 with 1 Axes>"
      ]
     },
     "metadata": {
      "needs_background": "light"
     },
     "output_type": "display_data"
    }
   ],
   "source": [
    "losses[['loss','val_loss']].plot()"
   ]
  },
  {
   "cell_type": "markdown",
   "id": "93b49aac",
   "metadata": {},
   "source": [
    "# Predict"
   ]
  },
  {
   "cell_type": "code",
   "execution_count": 12,
   "id": "ce2c6191",
   "metadata": {},
   "outputs": [],
   "source": [
    "predictions = model.predict(X_test)"
   ]
  },
  {
   "cell_type": "markdown",
   "id": "d57637f8",
   "metadata": {},
   "source": [
    "\n",
    "# Confusion Matrix"
   ]
  },
  {
   "cell_type": "code",
   "execution_count": 13,
   "id": "1dfbf087",
   "metadata": {},
   "outputs": [],
   "source": [
    "y_test_arg=np.argmax(y_test,axis=1)\n",
    "Y_pred = np.argmax(predictions,axis=1)"
   ]
  },
  {
   "cell_type": "code",
   "execution_count": 14,
   "id": "5e7bef94",
   "metadata": {},
   "outputs": [
    {
     "name": "stdout",
     "output_type": "stream",
     "text": [
      "[[241   0   2   1   1   5]\n",
      " [  0 250   0   0   0   0]\n",
      " [  1   0 240   7   2   0]\n",
      " [  0   7   0 243   0   0]\n",
      " [  0   4   0   0 246   0]\n",
      " [  0   0   0   3   0 247]]\n"
     ]
    }
   ],
   "source": [
    "print(confusion_matrix(y_test_arg, Y_pred))"
   ]
  },
  {
   "cell_type": "code",
   "execution_count": 15,
   "id": "a9aff162",
   "metadata": {},
   "outputs": [
    {
     "data": {
      "text/plain": [
       "<AxesSubplot:>"
      ]
     },
     "execution_count": 15,
     "metadata": {},
     "output_type": "execute_result"
    },
    {
     "data": {
      "image/png": "[encoded data removed]",
      "text/plain": [
       "<Figure size 432x288 with 2 Axes>"
      ]
     },
     "metadata": {},
     "output_type": "display_data"
    }
   ],
   "source": [
    "array = metrics.confusion_matrix(y_test_arg, Y_pred)\n",
    "df_cm = pd.DataFrame(array, range(6), range(6))\n",
    "# plt.figure(figsize=(10,7))\n",
    "sns.set(font_scale=1) # for label size\n",
    "sns.heatmap(df_cm, annot=True, annot_kws={\"size\": 11}, cmap=\"OrRd\") # font size"
   ]
  },
  {
   "cell_type": "markdown",
   "id": "42627778",
   "metadata": {},
   "source": [
    "# classification Report"
   ]
  },
  {
   "cell_type": "code",
   "execution_count": 16,
   "id": "947405a5",
   "metadata": {},
   "outputs": [
    {
     "name": "stdout",
     "output_type": "stream",
     "text": [
      "              precision    recall  f1-score   support\n",
      "\n",
      "           0       1.00      0.96      0.98       250\n",
      "           1       0.96      1.00      0.98       250\n",
      "           2       0.99      0.96      0.98       250\n",
      "           3       0.96      0.97      0.96       250\n",
      "           4       0.99      0.98      0.99       250\n",
      "           5       0.98      0.99      0.98       250\n",
      "\n",
      "    accuracy                           0.98      1500\n",
      "   macro avg       0.98      0.98      0.98      1500\n",
      "weighted avg       0.98      0.98      0.98      1500\n",
      "\n"
     ]
    }
   ],
   "source": [
    "print(classification_report(y_test_arg, Y_pred))"
   ]
  },
  {
   "cell_type": "code",
   "execution_count": 17,
   "id": "17de918c",
   "metadata": {},
   "outputs": [
    {
     "name": "stdout",
     "output_type": "stream",
     "text": [
      "Model: \"sequential\"\n",
      "_________________________________________________________________\n",
      "Layer (type)                 Output Shape              Param #   \n",
      "=================================================================\n",
      "dense (Dense)                multiple                  576       \n",
      "_________________________________________________________________\n",
      "dense_1 (Dense)              multiple                  8320      \n",
      "_________________________________________________________________\n",
      "dropout (Dropout)            multiple                  0         \n",
      "_________________________________________________________________\n",
      "dense_2 (Dense)              multiple                  16512     \n",
      "_________________________________________________________________\n",
      "dense_3 (Dense)              multiple                  66048     \n",
      "_________________________________________________________________\n",
      "dropout_1 (Dropout)          multiple                  0         \n",
      "_________________________________________________________________\n",
      "dense_4 (Dense)              multiple                  267273    \n",
      "_________________________________________________________________\n",
      "dropout_2 (Dropout)          multiple                  0         \n",
      "_________________________________________________________________\n",
      "dense_5 (Dense)              multiple                  3132      \n",
      "=================================================================\n",
      "Total params: 361,861\n",
      "Trainable params: 361,861\n",
      "Non-trainable params: 0\n",
      "_________________________________________________________________\n"
     ]
    }
   ],
   "source": [
    "model.summary()"
   ]
  },
  {
   "cell_type": "code",
   "execution_count": null,
   "id": "095e0a5e",
   "metadata": {},
   "outputs": [],
   "source": []
  }
 ],
 "metadata": {
  "kernelspec": {
   "display_name": "Python 3.7 (tensorflow)",
   "language": "python",
   "name": "tensorflow"
  },
  "language_info": {
   "codemirror_mode": {
    "name": "ipython",
    "version": 3
   },
   "file_extension": ".py",
   "mimetype": "text/x-python",
   "name": "python",
   "nbconvert_exporter": "python",
   "pygments_lexer": "ipython3",
   "version": "3.7.9"
  }
 },
 "nbformat": 4,
 "nbformat_minor": 5
}
