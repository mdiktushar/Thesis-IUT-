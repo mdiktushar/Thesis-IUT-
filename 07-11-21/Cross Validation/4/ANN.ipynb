{
 "cells": [
  {
   "cell_type": "markdown",
   "id": "c17badd4",
   "metadata": {},
   "source": [
    "# ANN"
   ]
  },
  {
   "cell_type": "code",
   "execution_count": 1,
   "id": "f5df428c",
   "metadata": {},
   "outputs": [],
   "source": [
    "import pandas as pd\n",
    "import numpy as np\n",
    "import matplotlib.pyplot as plt\n",
    "import seaborn as sns\n",
    "%matplotlib inline\n",
    "\n",
    "from sklearn.preprocessing import OneHotEncoder, MinMaxScaler\n",
    "\n",
    "import tensorflow as tf\n",
    "from tensorflow.keras.models import Sequential\n",
    "from tensorflow.keras.layers import Dense, Activation,Dropout\n",
    "from sklearn.metrics import classification_report,confusion_matrix, plot_confusion_matrix\n",
    "import sklearn.metrics as metrics"
   ]
  },
  {
   "cell_type": "markdown",
   "id": "f9a4b800",
   "metadata": {},
   "source": [
    "# Input Data"
   ]
  },
  {
   "cell_type": "code",
   "execution_count": 2,
   "id": "fe15956c",
   "metadata": {},
   "outputs": [],
   "source": [
    "df = pd.read_csv('Data.csv')"
   ]
  },
  {
   "cell_type": "code",
   "execution_count": 3,
   "id": "bef654bb",
   "metadata": {},
   "outputs": [],
   "source": [
    "dft = pd.read_csv('testing4.csv')"
   ]
  },
  {
   "cell_type": "code",
   "execution_count": 4,
   "id": "0f5337c0",
   "metadata": {},
   "outputs": [],
   "source": [
    "# X_train, X_test, y_train, y_test = train_test_split(X,y,test_size=0.25,random_state=101)\n",
    "X_train = df.drop('label',axis=1).values\n",
    "y_train = df['label'].values\n",
    "\n",
    "X_test = dft.drop('label',axis=1).values\n",
    "y_test = dft['label'].values"
   ]
  },
  {
   "cell_type": "markdown",
   "id": "b1318dcd",
   "metadata": {},
   "source": [
    "# One-hot encode the target"
   ]
  },
  {
   "cell_type": "code",
   "execution_count": 5,
   "id": "87b0bdf6",
   "metadata": {},
   "outputs": [],
   "source": [
    "enc = OneHotEncoder(sparse=False, handle_unknown='ignore')\n",
    "enc.fit(y_train.reshape(-1, 1))\n",
    "y_train = enc.transform(y_train.reshape(-1, 1))\n",
    "y_test = enc.transform(y_test.reshape(-1, 1))"
   ]
  },
  {
   "cell_type": "code",
   "execution_count": 6,
   "id": "5c52d6bd",
   "metadata": {},
   "outputs": [
    {
     "name": "stdout",
     "output_type": "stream",
     "text": [
      "(27000, 6) (1500, 6)\n"
     ]
    }
   ],
   "source": [
    "print(y_train.shape, y_test.shape)"
   ]
  },
  {
   "cell_type": "markdown",
   "id": "ccf0c799",
   "metadata": {},
   "source": [
    "# scale the features"
   ]
  },
  {
   "cell_type": "code",
   "execution_count": 7,
   "id": "3c544b11",
   "metadata": {},
   "outputs": [],
   "source": [
    "scaler = MinMaxScaler()\n",
    "scaler.fit(X_train)\n",
    "X_train = scaler.transform(X_train)\n",
    "X_test = scaler.transform(X_test)"
   ]
  },
  {
   "cell_type": "code",
   "execution_count": 8,
   "id": "e3e4af3c",
   "metadata": {},
   "outputs": [],
   "source": [
    "model = Sequential()\n",
    "\n",
    "model.add(Dense(units=64,activation='relu'))\n",
    "model.add(Dense(units=128,activation='relu'))\n",
    "model.add(Dropout(0.5))\n",
    "\n",
    "model.add(Dense(units=128,activation='relu'))\n",
    "model.add(Dense(units=512,activation='relu'))\n",
    "model.add(Dropout(0.5))\n",
    "\n",
    "model.add(Dense(units=521,activation='relu'))\n",
    "model.add(Dropout(0.5))\n",
    "\n",
    "model.add(Dense(6, activation='softmax'))\n",
    "# Compile model\n",
    "model.compile(optimizer='adam',\n",
    "              loss='categorical_crossentropy',\n",
    "              metrics=['accuracy'])"
   ]
  },
  {
   "cell_type": "code",
   "execution_count": 9,
   "id": "3fd0d04b",
   "metadata": {},
   "outputs": [
    {
     "name": "stdout",
     "output_type": "stream",
     "text": [
      "Train on 27000 samples, validate on 1500 samples\n",
      "Epoch 1/100\n",
      "27000/27000 [==============================] - 2s 69us/sample - loss: 1.6302 - accuracy: 0.3176 - val_loss: 1.3375 - val_accuracy: 0.5167\n",
      "Epoch 2/100\n",
      "27000/27000 [==============================] - 1s 23us/sample - loss: 1.3312 - accuracy: 0.4934 - val_loss: 1.0715 - val_accuracy: 0.5827\n",
      "Epoch 3/100\n",
      "27000/27000 [==============================] - 1s 22us/sample - loss: 1.1979 - accuracy: 0.5524 - val_loss: 0.9641 - val_accuracy: 0.5940\n",
      "Epoch 4/100\n",
      "27000/27000 [==============================] - 1s 22us/sample - loss: 1.1116 - accuracy: 0.5851 - val_loss: 0.9000 - val_accuracy: 0.6433\n",
      "Epoch 5/100\n",
      "27000/27000 [==============================] - 1s 25us/sample - loss: 1.0438 - accuracy: 0.6131 - val_loss: 0.8699 - val_accuracy: 0.6873\n",
      "Epoch 6/100\n",
      "27000/27000 [==============================] - 1s 22us/sample - loss: 0.9939 - accuracy: 0.6309 - val_loss: 0.8623 - val_accuracy: 0.6693\n",
      "Epoch 7/100\n",
      "27000/27000 [==============================] - 1s 22us/sample - loss: 0.9366 - accuracy: 0.6496 - val_loss: 0.8222 - val_accuracy: 0.7093\n",
      "Epoch 8/100\n",
      "27000/27000 [==============================] - 1s 23us/sample - loss: 0.8914 - accuracy: 0.6687 - val_loss: 0.8187 - val_accuracy: 0.7100\n",
      "Epoch 9/100\n",
      "27000/27000 [==============================] - 1s 22us/sample - loss: 0.8597 - accuracy: 0.6821 - val_loss: 0.7664 - val_accuracy: 0.7093\n",
      "Epoch 10/100\n",
      "27000/27000 [==============================] - 1s 23us/sample - loss: 0.8224 - accuracy: 0.6918 - val_loss: 0.7569 - val_accuracy: 0.7213\n",
      "Epoch 11/100\n",
      "27000/27000 [==============================] - 1s 22us/sample - loss: 0.7847 - accuracy: 0.7085 - val_loss: 0.6817 - val_accuracy: 0.7367\n",
      "Epoch 12/100\n",
      "27000/27000 [==============================] - 1s 23us/sample - loss: 0.7618 - accuracy: 0.7150 - val_loss: 0.6774 - val_accuracy: 0.7293\n",
      "Epoch 13/100\n",
      "27000/27000 [==============================] - 1s 23us/sample - loss: 0.7302 - accuracy: 0.7245 - val_loss: 0.6586 - val_accuracy: 0.7400\n",
      "Epoch 14/100\n",
      "27000/27000 [==============================] - 1s 22us/sample - loss: 0.7054 - accuracy: 0.7369 - val_loss: 0.6342 - val_accuracy: 0.7387\n",
      "Epoch 15/100\n",
      "27000/27000 [==============================] - 1s 22us/sample - loss: 0.6766 - accuracy: 0.7459 - val_loss: 0.6390 - val_accuracy: 0.7473\n",
      "Epoch 16/100\n",
      "27000/27000 [==============================] - 1s 21us/sample - loss: 0.6622 - accuracy: 0.7540 - val_loss: 0.6161 - val_accuracy: 0.7313\n",
      "Epoch 17/100\n",
      "27000/27000 [==============================] - 1s 22us/sample - loss: 0.6429 - accuracy: 0.7565 - val_loss: 0.5879 - val_accuracy: 0.7593\n",
      "Epoch 18/100\n",
      "27000/27000 [==============================] - 1s 22us/sample - loss: 0.6195 - accuracy: 0.7683 - val_loss: 0.5506 - val_accuracy: 0.7920\n",
      "Epoch 19/100\n",
      "27000/27000 [==============================] - 1s 22us/sample - loss: 0.6070 - accuracy: 0.7729 - val_loss: 0.5421 - val_accuracy: 0.7940\n",
      "Epoch 20/100\n",
      "27000/27000 [==============================] - 1s 22us/sample - loss: 0.5918 - accuracy: 0.7799 - val_loss: 0.5448 - val_accuracy: 0.7913\n",
      "Epoch 21/100\n",
      "27000/27000 [==============================] - 1s 22us/sample - loss: 0.5749 - accuracy: 0.7836 - val_loss: 0.5313 - val_accuracy: 0.8027\n",
      "Epoch 22/100\n",
      "27000/27000 [==============================] - 1s 22us/sample - loss: 0.5651 - accuracy: 0.7873 - val_loss: 0.5423 - val_accuracy: 0.7753\n",
      "Epoch 23/100\n",
      "27000/27000 [==============================] - 1s 22us/sample - loss: 0.5459 - accuracy: 0.7941 - val_loss: 0.5054 - val_accuracy: 0.7920\n",
      "Epoch 24/100\n",
      "27000/27000 [==============================] - 1s 21us/sample - loss: 0.5379 - accuracy: 0.7982 - val_loss: 0.5146 - val_accuracy: 0.7933\n",
      "Epoch 25/100\n",
      "27000/27000 [==============================] - 1s 22us/sample - loss: 0.5227 - accuracy: 0.8032 - val_loss: 0.4321 - val_accuracy: 0.8313\n",
      "Epoch 26/100\n",
      "27000/27000 [==============================] - 1s 22us/sample - loss: 0.5204 - accuracy: 0.8046 - val_loss: 0.4289 - val_accuracy: 0.8240\n",
      "Epoch 27/100\n",
      "27000/27000 [==============================] - 1s 23us/sample - loss: 0.5017 - accuracy: 0.8091 - val_loss: 0.4608 - val_accuracy: 0.8107\n",
      "Epoch 28/100\n",
      "27000/27000 [==============================] - 1s 22us/sample - loss: 0.4913 - accuracy: 0.8134 - val_loss: 0.4524 - val_accuracy: 0.8140\n",
      "Epoch 29/100\n",
      "27000/27000 [==============================] - 1s 22us/sample - loss: 0.4824 - accuracy: 0.8181 - val_loss: 0.3912 - val_accuracy: 0.8480\n",
      "Epoch 30/100\n",
      "27000/27000 [==============================] - 1s 22us/sample - loss: 0.4721 - accuracy: 0.8211 - val_loss: 0.3905 - val_accuracy: 0.8500\n",
      "Epoch 31/100\n",
      "27000/27000 [==============================] - 1s 22us/sample - loss: 0.4707 - accuracy: 0.8212 - val_loss: 0.3889 - val_accuracy: 0.8407\n",
      "Epoch 32/100\n",
      "27000/27000 [==============================] - 1s 22us/sample - loss: 0.4612 - accuracy: 0.8259 - val_loss: 0.4038 - val_accuracy: 0.8200\n",
      "Epoch 33/100\n",
      "27000/27000 [==============================] - 1s 22us/sample - loss: 0.4517 - accuracy: 0.8320 - val_loss: 0.3599 - val_accuracy: 0.8507\n",
      "Epoch 34/100\n",
      "27000/27000 [==============================] - 1s 22us/sample - loss: 0.4480 - accuracy: 0.8320 - val_loss: 0.3833 - val_accuracy: 0.8340\n",
      "Epoch 35/100\n",
      "27000/27000 [==============================] - 1s 22us/sample - loss: 0.4376 - accuracy: 0.8349 - val_loss: 0.3422 - val_accuracy: 0.8640\n",
      "Epoch 36/100\n",
      "27000/27000 [==============================] - 1s 22us/sample - loss: 0.4340 - accuracy: 0.8353 - val_loss: 0.4135 - val_accuracy: 0.8307\n",
      "Epoch 37/100\n",
      "27000/27000 [==============================] - 1s 22us/sample - loss: 0.4274 - accuracy: 0.8413 - val_loss: 0.3532 - val_accuracy: 0.8460\n",
      "Epoch 38/100\n",
      "27000/27000 [==============================] - 1s 23us/sample - loss: 0.4112 - accuracy: 0.8474 - val_loss: 0.3629 - val_accuracy: 0.8447\n",
      "Epoch 39/100\n",
      "27000/27000 [==============================] - 1s 22us/sample - loss: 0.4142 - accuracy: 0.8434 - val_loss: 0.3464 - val_accuracy: 0.8567\n",
      "Epoch 40/100\n",
      "27000/27000 [==============================] - 1s 22us/sample - loss: 0.4089 - accuracy: 0.8471 - val_loss: 0.3434 - val_accuracy: 0.8540\n",
      "Epoch 41/100\n",
      "27000/27000 [==============================] - 1s 22us/sample - loss: 0.4066 - accuracy: 0.8471 - val_loss: 0.3349 - val_accuracy: 0.8553\n",
      "Epoch 42/100\n",
      "27000/27000 [==============================] - 1s 22us/sample - loss: 0.3994 - accuracy: 0.8503 - val_loss: 0.3328 - val_accuracy: 0.8573\n",
      "Epoch 43/100\n",
      "27000/27000 [==============================] - ETA: 0s - loss: 0.3949 - accuracy: 0.85 - 1s 23us/sample - loss: 0.3948 - accuracy: 0.8515 - val_loss: 0.3240 - val_accuracy: 0.8627\n",
      "Epoch 44/100\n",
      "27000/27000 [==============================] - 1s 23us/sample - loss: 0.3998 - accuracy: 0.8501 - val_loss: 0.3122 - val_accuracy: 0.8687\n",
      "Epoch 45/100\n",
      "27000/27000 [==============================] - 1s 23us/sample - loss: 0.3761 - accuracy: 0.8578 - val_loss: 0.3102 - val_accuracy: 0.8647\n",
      "Epoch 46/100\n",
      "27000/27000 [==============================] - 1s 22us/sample - loss: 0.3778 - accuracy: 0.8572 - val_loss: 0.3001 - val_accuracy: 0.8840\n",
      "Epoch 47/100\n",
      "27000/27000 [==============================] - 1s 22us/sample - loss: 0.3819 - accuracy: 0.8557 - val_loss: 0.3206 - val_accuracy: 0.8793\n",
      "Epoch 48/100\n",
      "27000/27000 [==============================] - 1s 22us/sample - loss: 0.3662 - accuracy: 0.8631 - val_loss: 0.2795 - val_accuracy: 0.8813\n",
      "Epoch 49/100\n",
      "27000/27000 [==============================] - 1s 22us/sample - loss: 0.3686 - accuracy: 0.8623 - val_loss: 0.2623 - val_accuracy: 0.8947\n",
      "Epoch 50/100\n",
      "27000/27000 [==============================] - 1s 22us/sample - loss: 0.3651 - accuracy: 0.8629 - val_loss: 0.2771 - val_accuracy: 0.8667\n",
      "Epoch 51/100\n",
      "27000/27000 [==============================] - 1s 22us/sample - loss: 0.3602 - accuracy: 0.8647 - val_loss: 0.2766 - val_accuracy: 0.8800\n",
      "Epoch 52/100\n",
      "27000/27000 [==============================] - 1s 22us/sample - loss: 0.3644 - accuracy: 0.8627 - val_loss: 0.2482 - val_accuracy: 0.9020\n",
      "Epoch 53/100\n",
      "27000/27000 [==============================] - 1s 22us/sample - loss: 0.3449 - accuracy: 0.8734 - val_loss: 0.3039 - val_accuracy: 0.8833\n",
      "Epoch 54/100\n",
      "27000/27000 [==============================] - 1s 23us/sample - loss: 0.3530 - accuracy: 0.8666 - val_loss: 0.2615 - val_accuracy: 0.8840\n"
     ]
    },
    {
     "name": "stdout",
     "output_type": "stream",
     "text": [
      "Epoch 55/100\n",
      "27000/27000 [==============================] - 1s 23us/sample - loss: 0.3403 - accuracy: 0.8734 - val_loss: 0.2497 - val_accuracy: 0.8880\n",
      "Epoch 56/100\n",
      "27000/27000 [==============================] - 1s 22us/sample - loss: 0.3409 - accuracy: 0.8711 - val_loss: 0.2676 - val_accuracy: 0.8787\n",
      "Epoch 57/100\n",
      "27000/27000 [==============================] - 1s 22us/sample - loss: 0.3400 - accuracy: 0.8721 - val_loss: 0.2382 - val_accuracy: 0.9027\n",
      "Epoch 58/100\n",
      "27000/27000 [==============================] - 1s 22us/sample - loss: 0.3348 - accuracy: 0.8727 - val_loss: 0.2446 - val_accuracy: 0.9000\n",
      "Epoch 59/100\n",
      "27000/27000 [==============================] - 1s 22us/sample - loss: 0.3278 - accuracy: 0.8762 - val_loss: 0.2593 - val_accuracy: 0.8880\n",
      "Epoch 60/100\n",
      "27000/27000 [==============================] - 1s 22us/sample - loss: 0.3362 - accuracy: 0.8760 - val_loss: 0.2264 - val_accuracy: 0.8920\n",
      "Epoch 61/100\n",
      "27000/27000 [==============================] - 1s 22us/sample - loss: 0.3364 - accuracy: 0.8743 - val_loss: 0.2429 - val_accuracy: 0.8993\n",
      "Epoch 62/100\n",
      "27000/27000 [==============================] - 1s 23us/sample - loss: 0.3262 - accuracy: 0.8787 - val_loss: 0.2381 - val_accuracy: 0.8907\n",
      "Epoch 63/100\n",
      "27000/27000 [==============================] - 1s 23us/sample - loss: 0.3233 - accuracy: 0.8798 - val_loss: 0.2190 - val_accuracy: 0.9033\n",
      "Epoch 64/100\n",
      "27000/27000 [==============================] - 1s 24us/sample - loss: 0.3185 - accuracy: 0.8803 - val_loss: 0.2376 - val_accuracy: 0.8940\n",
      "Epoch 65/100\n",
      "27000/27000 [==============================] - 1s 23us/sample - loss: 0.3228 - accuracy: 0.8780 - val_loss: 0.2412 - val_accuracy: 0.8927\n",
      "Epoch 66/100\n",
      "27000/27000 [==============================] - 1s 23us/sample - loss: 0.3129 - accuracy: 0.8831 - val_loss: 0.2146 - val_accuracy: 0.9007\n",
      "Epoch 67/100\n",
      "27000/27000 [==============================] - 1s 23us/sample - loss: 0.3162 - accuracy: 0.8814 - val_loss: 0.2243 - val_accuracy: 0.9200\n",
      "Epoch 68/100\n",
      "27000/27000 [==============================] - 1s 22us/sample - loss: 0.3088 - accuracy: 0.8837 - val_loss: 0.2096 - val_accuracy: 0.9067\n",
      "Epoch 69/100\n",
      "27000/27000 [==============================] - 1s 22us/sample - loss: 0.3095 - accuracy: 0.8855 - val_loss: 0.2214 - val_accuracy: 0.9140\n",
      "Epoch 70/100\n",
      "27000/27000 [==============================] - 1s 22us/sample - loss: 0.3067 - accuracy: 0.8841 - val_loss: 0.2490 - val_accuracy: 0.8900\n",
      "Epoch 71/100\n",
      "27000/27000 [==============================] - 1s 22us/sample - loss: 0.3094 - accuracy: 0.8845 - val_loss: 0.2190 - val_accuracy: 0.9073\n",
      "Epoch 72/100\n",
      "27000/27000 [==============================] - 1s 22us/sample - loss: 0.3036 - accuracy: 0.8851 - val_loss: 0.2022 - val_accuracy: 0.9093\n",
      "Epoch 73/100\n",
      "27000/27000 [==============================] - 1s 24us/sample - loss: 0.3053 - accuracy: 0.8867 - val_loss: 0.2306 - val_accuracy: 0.8947\n",
      "Epoch 74/100\n",
      "27000/27000 [==============================] - 1s 23us/sample - loss: 0.3001 - accuracy: 0.8864 - val_loss: 0.1961 - val_accuracy: 0.9113\n",
      "Epoch 75/100\n",
      "27000/27000 [==============================] - 1s 24us/sample - loss: 0.2985 - accuracy: 0.8894 - val_loss: 0.1894 - val_accuracy: 0.9233\n",
      "Epoch 76/100\n",
      "27000/27000 [==============================] - 1s 23us/sample - loss: 0.2925 - accuracy: 0.8902 - val_loss: 0.1750 - val_accuracy: 0.9233\n",
      "Epoch 77/100\n",
      "27000/27000 [==============================] - 1s 22us/sample - loss: 0.2937 - accuracy: 0.8887 - val_loss: 0.1763 - val_accuracy: 0.9240\n",
      "Epoch 78/100\n",
      "27000/27000 [==============================] - 1s 22us/sample - loss: 0.2881 - accuracy: 0.8921 - val_loss: 0.2014 - val_accuracy: 0.9087\n",
      "Epoch 79/100\n",
      "27000/27000 [==============================] - 1s 23us/sample - loss: 0.2994 - accuracy: 0.8876 - val_loss: 0.2207 - val_accuracy: 0.9060\n",
      "Epoch 80/100\n",
      "27000/27000 [==============================] - 1s 22us/sample - loss: 0.3031 - accuracy: 0.8862 - val_loss: 0.2059 - val_accuracy: 0.9073\n",
      "Epoch 81/100\n",
      "27000/27000 [==============================] - 1s 23us/sample - loss: 0.2817 - accuracy: 0.8953 - val_loss: 0.1930 - val_accuracy: 0.9167\n",
      "Epoch 82/100\n",
      "27000/27000 [==============================] - 1s 23us/sample - loss: 0.2860 - accuracy: 0.8920 - val_loss: 0.1878 - val_accuracy: 0.9213\n",
      "Epoch 83/100\n",
      "27000/27000 [==============================] - 1s 22us/sample - loss: 0.2989 - accuracy: 0.8860 - val_loss: 0.2002 - val_accuracy: 0.9173\n",
      "Epoch 84/100\n",
      "27000/27000 [==============================] - 1s 23us/sample - loss: 0.2807 - accuracy: 0.8943 - val_loss: 0.2221 - val_accuracy: 0.9060\n",
      "Epoch 85/100\n",
      "27000/27000 [==============================] - 1s 24us/sample - loss: 0.2768 - accuracy: 0.8969 - val_loss: 0.2336 - val_accuracy: 0.8787\n",
      "Epoch 86/100\n",
      "27000/27000 [==============================] - 1s 23us/sample - loss: 0.2712 - accuracy: 0.8991 - val_loss: 0.2005 - val_accuracy: 0.9307\n",
      "Epoch 87/100\n",
      "27000/27000 [==============================] - 1s 24us/sample - loss: 0.2727 - accuracy: 0.8971 - val_loss: 0.1885 - val_accuracy: 0.9120\n",
      "Epoch 88/100\n",
      "27000/27000 [==============================] - 1s 23us/sample - loss: 0.2826 - accuracy: 0.8939 - val_loss: 0.2056 - val_accuracy: 0.9053\n",
      "Epoch 89/100\n",
      "27000/27000 [==============================] - 1s 23us/sample - loss: 0.2747 - accuracy: 0.8964 - val_loss: 0.1883 - val_accuracy: 0.9260\n",
      "Epoch 90/100\n",
      "27000/27000 [==============================] - 1s 24us/sample - loss: 0.2795 - accuracy: 0.8955 - val_loss: 0.1869 - val_accuracy: 0.9120\n",
      "Epoch 91/100\n",
      "27000/27000 [==============================] - 1s 24us/sample - loss: 0.2754 - accuracy: 0.8961 - val_loss: 0.1890 - val_accuracy: 0.9260\n",
      "Epoch 92/100\n",
      "27000/27000 [==============================] - 1s 23us/sample - loss: 0.2663 - accuracy: 0.9011 - val_loss: 0.1607 - val_accuracy: 0.9293\n",
      "Epoch 93/100\n",
      "27000/27000 [==============================] - 1s 23us/sample - loss: 0.2659 - accuracy: 0.8999 - val_loss: 0.1591 - val_accuracy: 0.9427\n",
      "Epoch 94/100\n",
      "27000/27000 [==============================] - 1s 23us/sample - loss: 0.2640 - accuracy: 0.9003 - val_loss: 0.1956 - val_accuracy: 0.9233\n",
      "Epoch 95/100\n",
      "27000/27000 [==============================] - 1s 23us/sample - loss: 0.2714 - accuracy: 0.8990 - val_loss: 0.2052 - val_accuracy: 0.9120\n",
      "Epoch 96/100\n",
      "27000/27000 [==============================] - 1s 23us/sample - loss: 0.2641 - accuracy: 0.9013 - val_loss: 0.2181 - val_accuracy: 0.9060\n",
      "Epoch 97/100\n",
      "27000/27000 [==============================] - 1s 23us/sample - loss: 0.2633 - accuracy: 0.9005 - val_loss: 0.2159 - val_accuracy: 0.8947\n",
      "Epoch 98/100\n",
      "27000/27000 [==============================] - 1s 23us/sample - loss: 0.2577 - accuracy: 0.9019 - val_loss: 0.1901 - val_accuracy: 0.9200\n",
      "Epoch 99/100\n",
      "27000/27000 [==============================] - 1s 23us/sample - loss: 0.2681 - accuracy: 0.9006 - val_loss: 0.1990 - val_accuracy: 0.9173\n",
      "Epoch 100/100\n",
      "27000/27000 [==============================] - 1s 23us/sample - loss: 0.2581 - accuracy: 0.9026 - val_loss: 0.2269 - val_accuracy: 0.9113\n",
      "Wall time: 1min 20s\n"
     ]
    },
    {
     "data": {
      "text/plain": [
       "<tensorflow.python.keras.callbacks.History at 0x19e90df4388>"
      ]
     },
     "execution_count": 9,
     "metadata": {},
     "output_type": "execute_result"
    }
   ],
   "source": [
    "%%time\n",
    "model.fit(x=X_train, y=y_train, epochs=100, batch_size=512, validation_data=(X_test, y_test))"
   ]
  },
  {
   "cell_type": "markdown",
   "id": "e4fe55d6",
   "metadata": {},
   "source": [
    "# Modle Performance"
   ]
  },
  {
   "cell_type": "code",
   "execution_count": 10,
   "id": "95f922ea",
   "metadata": {},
   "outputs": [],
   "source": [
    "losses = pd.DataFrame(model.history.history)"
   ]
  },
  {
   "cell_type": "code",
   "execution_count": 11,
   "id": "858af874",
   "metadata": {},
   "outputs": [
    {
     "data": {
      "text/plain": [
       "<AxesSubplot:>"
      ]
     },
     "execution_count": 11,
     "metadata": {},
     "output_type": "execute_result"
    },
    {
     "data": {
      "image/png": "[encoded data removed]",
      "text/plain": [
       "<Figure size 432x288 with 1 Axes>"
      ]
     },
     "metadata": {
      "needs_background": "light"
     },
     "output_type": "display_data"
    }
   ],
   "source": [
    "losses[['loss','val_loss']].plot()"
   ]
  },
  {
   "cell_type": "markdown",
   "id": "93b49aac",
   "metadata": {},
   "source": [
    "# Predict"
   ]
  },
  {
   "cell_type": "code",
   "execution_count": 12,
   "id": "ce2c6191",
   "metadata": {},
   "outputs": [],
   "source": [
    "predictions = model.predict(X_test)"
   ]
  },
  {
   "cell_type": "markdown",
   "id": "d57637f8",
   "metadata": {},
   "source": [
    "\n",
    "# Confusion Matrix"
   ]
  },
  {
   "cell_type": "code",
   "execution_count": 13,
   "id": "1dfbf087",
   "metadata": {},
   "outputs": [],
   "source": [
    "y_test_arg=np.argmax(y_test,axis=1)\n",
    "Y_pred = np.argmax(predictions,axis=1)"
   ]
  },
  {
   "cell_type": "code",
   "execution_count": 14,
   "id": "5e7bef94",
   "metadata": {},
   "outputs": [
    {
     "name": "stdout",
     "output_type": "stream",
     "text": [
      "[[207   0   0   0  42   1]\n",
      " [  2 245   0   0   0   3]\n",
      " [  0   2 216   1   3  28]\n",
      " [  0  28   0 213   5   4]\n",
      " [  0   0   0   0 250   0]\n",
      " [  6   5   2   0   1 236]]\n"
     ]
    }
   ],
   "source": [
    "print(confusion_matrix(y_test_arg, Y_pred))"
   ]
  },
  {
   "cell_type": "code",
   "execution_count": 15,
   "id": "a9aff162",
   "metadata": {},
   "outputs": [
    {
     "data": {
      "text/plain": [
       "<AxesSubplot:>"
      ]
     },
     "execution_count": 15,
     "metadata": {},
     "output_type": "execute_result"
    },
    {
     "data": {
      "image/png": "[encoded data removed]",
      "text/plain": [
       "<Figure size 432x288 with 2 Axes>"
      ]
     },
     "metadata": {},
     "output_type": "display_data"
    }
   ],
   "source": [
    "array = metrics.confusion_matrix(y_test_arg, Y_pred)\n",
    "df_cm = pd.DataFrame(array, range(6), range(6))\n",
    "# plt.figure(figsize=(10,7))\n",
    "sns.set(font_scale=1) # for label size\n",
    "sns.heatmap(df_cm, annot=True, annot_kws={\"size\": 11}, cmap=\"OrRd\") # font size"
   ]
  },
  {
   "cell_type": "markdown",
   "id": "42627778",
   "metadata": {},
   "source": [
    "# classification Report"
   ]
  },
  {
   "cell_type": "code",
   "execution_count": 16,
   "id": "947405a5",
   "metadata": {},
   "outputs": [
    {
     "name": "stdout",
     "output_type": "stream",
     "text": [
      "              precision    recall  f1-score   support\n",
      "\n",
      "           0       0.96      0.83      0.89       250\n",
      "           1       0.88      0.98      0.92       250\n",
      "           2       0.99      0.86      0.92       250\n",
      "           3       1.00      0.85      0.92       250\n",
      "           4       0.83      1.00      0.91       250\n",
      "           5       0.87      0.94      0.90       250\n",
      "\n",
      "    accuracy                           0.91      1500\n",
      "   macro avg       0.92      0.91      0.91      1500\n",
      "weighted avg       0.92      0.91      0.91      1500\n",
      "\n"
     ]
    }
   ],
   "source": [
    "print(classification_report(y_test_arg, Y_pred))"
   ]
  },
  {
   "cell_type": "code",
   "execution_count": null,
   "id": "17de918c",
   "metadata": {},
   "outputs": [],
   "source": []
  }
 ],
 "metadata": {
  "kernelspec": {
   "display_name": "Python 3.7 (tensorflow)",
   "language": "python",
   "name": "tensorflow"
  },
  "language_info": {
   "codemirror_mode": {
    "name": "ipython",
    "version": 3
   },
   "file_extension": ".py",
   "mimetype": "text/x-python",
   "name": "python",
   "nbconvert_exporter": "python",
   "pygments_lexer": "ipython3",
   "version": "3.7.9"
  }
 },
 "nbformat": 4,
 "nbformat_minor": 5
}
