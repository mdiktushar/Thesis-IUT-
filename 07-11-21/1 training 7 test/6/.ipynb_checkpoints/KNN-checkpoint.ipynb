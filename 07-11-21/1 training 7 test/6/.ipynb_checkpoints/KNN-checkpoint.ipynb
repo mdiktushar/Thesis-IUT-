{
 "cells": [
  {
   "cell_type": "code",
   "execution_count": 1,
   "id": "614f50d4",
   "metadata": {},
   "outputs": [],
   "source": [
    "import pandas as pd\n",
    "import numpy as np\n",
    "import matplotlib.pyplot as plt\n",
    "import seaborn as sns\n",
    "%matplotlib inline"
   ]
  },
  {
   "cell_type": "code",
   "execution_count": 2,
   "id": "a946c26b",
   "metadata": {},
   "outputs": [],
   "source": [
    "df = pd.read_csv('../Data.csv')"
   ]
  },
  {
   "cell_type": "code",
   "execution_count": 3,
   "id": "2e191221",
   "metadata": {},
   "outputs": [],
   "source": [
    "dft = pd.read_csv('testing6.csv')"
   ]
  },
  {
   "cell_type": "code",
   "execution_count": 4,
   "id": "be45b160",
   "metadata": {},
   "outputs": [
    {
     "data": {
      "text/html": [
       "<div>\n",
       "<style scoped>\n",
       "    .dataframe tbody tr th:only-of-type {\n",
       "        vertical-align: middle;\n",
       "    }\n",
       "\n",
       "    .dataframe tbody tr th {\n",
       "        vertical-align: top;\n",
       "    }\n",
       "\n",
       "    .dataframe thead th {\n",
       "        text-align: right;\n",
       "    }\n",
       "</style>\n",
       "<table border=\"1\" class=\"dataframe\">\n",
       "  <thead>\n",
       "    <tr style=\"text-align: right;\">\n",
       "      <th></th>\n",
       "      <th>channel1</th>\n",
       "      <th>channel2</th>\n",
       "      <th>channel3</th>\n",
       "      <th>channel4</th>\n",
       "      <th>channel5</th>\n",
       "      <th>channel6</th>\n",
       "      <th>channel7</th>\n",
       "      <th>channel8</th>\n",
       "      <th>label</th>\n",
       "    </tr>\n",
       "  </thead>\n",
       "  <tbody>\n",
       "    <tr>\n",
       "      <th>0</th>\n",
       "      <td>71</td>\n",
       "      <td>71</td>\n",
       "      <td>64</td>\n",
       "      <td>98</td>\n",
       "      <td>150</td>\n",
       "      <td>86</td>\n",
       "      <td>68</td>\n",
       "      <td>209</td>\n",
       "      <td>left</td>\n",
       "    </tr>\n",
       "    <tr>\n",
       "      <th>1</th>\n",
       "      <td>72</td>\n",
       "      <td>72</td>\n",
       "      <td>63</td>\n",
       "      <td>98</td>\n",
       "      <td>149</td>\n",
       "      <td>84</td>\n",
       "      <td>69</td>\n",
       "      <td>205</td>\n",
       "      <td>left</td>\n",
       "    </tr>\n",
       "    <tr>\n",
       "      <th>2</th>\n",
       "      <td>72</td>\n",
       "      <td>75</td>\n",
       "      <td>66</td>\n",
       "      <td>98</td>\n",
       "      <td>152</td>\n",
       "      <td>82</td>\n",
       "      <td>73</td>\n",
       "      <td>202</td>\n",
       "      <td>left</td>\n",
       "    </tr>\n",
       "    <tr>\n",
       "      <th>3</th>\n",
       "      <td>75</td>\n",
       "      <td>72</td>\n",
       "      <td>66</td>\n",
       "      <td>98</td>\n",
       "      <td>154</td>\n",
       "      <td>84</td>\n",
       "      <td>75</td>\n",
       "      <td>199</td>\n",
       "      <td>left</td>\n",
       "    </tr>\n",
       "    <tr>\n",
       "      <th>4</th>\n",
       "      <td>74</td>\n",
       "      <td>75</td>\n",
       "      <td>65</td>\n",
       "      <td>98</td>\n",
       "      <td>159</td>\n",
       "      <td>85</td>\n",
       "      <td>79</td>\n",
       "      <td>195</td>\n",
       "      <td>left</td>\n",
       "    </tr>\n",
       "  </tbody>\n",
       "</table>\n",
       "</div>"
      ],
      "text/plain": [
       "   channel1  channel2  channel3  channel4  channel5  channel6  channel7  \\\n",
       "0        71        71        64        98       150        86        68   \n",
       "1        72        72        63        98       149        84        69   \n",
       "2        72        75        66        98       152        82        73   \n",
       "3        75        72        66        98       154        84        75   \n",
       "4        74        75        65        98       159        85        79   \n",
       "\n",
       "   channel8 label  \n",
       "0       209  left  \n",
       "1       205  left  \n",
       "2       202  left  \n",
       "3       199  left  \n",
       "4       195  left  "
      ]
     },
     "execution_count": 4,
     "metadata": {},
     "output_type": "execute_result"
    }
   ],
   "source": [
    "df.head()"
   ]
  },
  {
   "cell_type": "code",
   "execution_count": 5,
   "id": "c1e4e760",
   "metadata": {},
   "outputs": [
    {
     "data": {
      "text/html": [
       "<div>\n",
       "<style scoped>\n",
       "    .dataframe tbody tr th:only-of-type {\n",
       "        vertical-align: middle;\n",
       "    }\n",
       "\n",
       "    .dataframe tbody tr th {\n",
       "        vertical-align: top;\n",
       "    }\n",
       "\n",
       "    .dataframe thead th {\n",
       "        text-align: right;\n",
       "    }\n",
       "</style>\n",
       "<table border=\"1\" class=\"dataframe\">\n",
       "  <thead>\n",
       "    <tr style=\"text-align: right;\">\n",
       "      <th></th>\n",
       "      <th>channel1</th>\n",
       "      <th>channel2</th>\n",
       "      <th>channel3</th>\n",
       "      <th>channel4</th>\n",
       "      <th>channel5</th>\n",
       "      <th>channel6</th>\n",
       "      <th>channel7</th>\n",
       "      <th>channel8</th>\n",
       "      <th>label</th>\n",
       "    </tr>\n",
       "  </thead>\n",
       "  <tbody>\n",
       "    <tr>\n",
       "      <th>0</th>\n",
       "      <td>69</td>\n",
       "      <td>92</td>\n",
       "      <td>47</td>\n",
       "      <td>96</td>\n",
       "      <td>124</td>\n",
       "      <td>133</td>\n",
       "      <td>95</td>\n",
       "      <td>240</td>\n",
       "      <td>left</td>\n",
       "    </tr>\n",
       "    <tr>\n",
       "      <th>1</th>\n",
       "      <td>68</td>\n",
       "      <td>92</td>\n",
       "      <td>46</td>\n",
       "      <td>99</td>\n",
       "      <td>126</td>\n",
       "      <td>139</td>\n",
       "      <td>93</td>\n",
       "      <td>243</td>\n",
       "      <td>left</td>\n",
       "    </tr>\n",
       "    <tr>\n",
       "      <th>2</th>\n",
       "      <td>65</td>\n",
       "      <td>88</td>\n",
       "      <td>48</td>\n",
       "      <td>99</td>\n",
       "      <td>128</td>\n",
       "      <td>134</td>\n",
       "      <td>90</td>\n",
       "      <td>246</td>\n",
       "      <td>left</td>\n",
       "    </tr>\n",
       "    <tr>\n",
       "      <th>3</th>\n",
       "      <td>63</td>\n",
       "      <td>88</td>\n",
       "      <td>47</td>\n",
       "      <td>80</td>\n",
       "      <td>125</td>\n",
       "      <td>130</td>\n",
       "      <td>88</td>\n",
       "      <td>245</td>\n",
       "      <td>left</td>\n",
       "    </tr>\n",
       "    <tr>\n",
       "      <th>4</th>\n",
       "      <td>65</td>\n",
       "      <td>87</td>\n",
       "      <td>47</td>\n",
       "      <td>82</td>\n",
       "      <td>120</td>\n",
       "      <td>137</td>\n",
       "      <td>89</td>\n",
       "      <td>248</td>\n",
       "      <td>left</td>\n",
       "    </tr>\n",
       "  </tbody>\n",
       "</table>\n",
       "</div>"
      ],
      "text/plain": [
       "   channel1  channel2  channel3  channel4  channel5  channel6  channel7  \\\n",
       "0        69        92        47        96       124       133        95   \n",
       "1        68        92        46        99       126       139        93   \n",
       "2        65        88        48        99       128       134        90   \n",
       "3        63        88        47        80       125       130        88   \n",
       "4        65        87        47        82       120       137        89   \n",
       "\n",
       "   channel8 label  \n",
       "0       240  left  \n",
       "1       243  left  \n",
       "2       246  left  \n",
       "3       245  left  \n",
       "4       248  left  "
      ]
     },
     "execution_count": 5,
     "metadata": {},
     "output_type": "execute_result"
    }
   ],
   "source": [
    "dft.head()"
   ]
  },
  {
   "cell_type": "code",
   "execution_count": 6,
   "id": "f38c79d4",
   "metadata": {},
   "outputs": [],
   "source": [
    "from sklearn.neighbors import KNeighborsClassifier"
   ]
  },
  {
   "cell_type": "code",
   "execution_count": 7,
   "id": "e2300ee1",
   "metadata": {},
   "outputs": [],
   "source": [
    "error_rate = []\n",
    "\n",
    "# Will take some time\n",
    "for i in range(1,50):\n",
    "    \n",
    "    knn = KNeighborsClassifier(n_neighbors=i)\n",
    "    knn.fit(df.drop('label',axis=1),df['label'])\n",
    "    pred_i = knn.predict(dft.drop('label',axis=1))\n",
    "    error_rate.append(np.mean(pred_i != dft['label']))"
   ]
  },
  {
   "cell_type": "code",
   "execution_count": 8,
   "id": "426c1aa1",
   "metadata": {},
   "outputs": [
    {
     "data": {
      "text/plain": [
       "Text(0, 0.5, 'Error Rate')"
      ]
     },
     "execution_count": 8,
     "metadata": {},
     "output_type": "execute_result"
    },
    {
     "data": {
      "image/png": "[encoded data removed]",
      "text/plain": [
       "<Figure size 1440x720 with 1 Axes>"
      ]
     },
     "metadata": {
      "needs_background": "light"
     },
     "output_type": "display_data"
    }
   ],
   "source": [
    "plt.figure(figsize=(20,10))\n",
    "plt.plot(range(1,50),error_rate,color='blue', linestyle='dashed', marker='o',\n",
    "         markerfacecolor='red', markersize=10)\n",
    "plt.title('Error Rate vs. K Value')\n",
    "plt.xlabel('K')\n",
    "plt.ylabel('Error Rate')"
   ]
  },
  {
   "cell_type": "code",
   "execution_count": 9,
   "id": "773c75c5",
   "metadata": {},
   "outputs": [],
   "source": [
    "knn = KNeighborsClassifier(n_neighbors=15) # Neighbor = 15\n",
    "knn.fit(df.drop('label',axis=1),df['label'])\n",
    "pred = knn.predict(dft.drop('label',axis=1))\n"
   ]
  },
  {
   "cell_type": "code",
   "execution_count": 10,
   "id": "c6f728cc",
   "metadata": {},
   "outputs": [
    {
     "name": "stdout",
     "output_type": "stream",
     "text": [
      "[[249   0   1   0   0   0]\n",
      " [  0 233   0   0  17   0]\n",
      " [  7   5 188   0   0  50]\n",
      " [  1   0   1 244   0   4]\n",
      " [  0   4   2   0 243   1]\n",
      " [  4   9  26   3   0 208]]\n"
     ]
    }
   ],
   "source": [
    "from sklearn.metrics import classification_report,confusion_matrix\n",
    "print(confusion_matrix(dft['label'],pred))\n"
   ]
  },
  {
   "cell_type": "code",
   "execution_count": 11,
   "id": "cb83e0b9",
   "metadata": {},
   "outputs": [
    {
     "name": "stdout",
     "output_type": "stream",
     "text": [
      "              precision    recall  f1-score   support\n",
      "\n",
      "        back       0.95      1.00      0.97       250\n",
      "       front       0.93      0.93      0.93       250\n",
      "        left       0.86      0.75      0.80       250\n",
      "       right       0.99      0.98      0.98       250\n",
      "       start       0.93      0.97      0.95       250\n",
      "        stop       0.79      0.83      0.81       250\n",
      "\n",
      "    accuracy                           0.91      1500\n",
      "   macro avg       0.91      0.91      0.91      1500\n",
      "weighted avg       0.91      0.91      0.91      1500\n",
      "\n"
     ]
    }
   ],
   "source": [
    "print(classification_report(dft['label'],pred))"
   ]
  }
 ],
 "metadata": {
  "kernelspec": {
   "display_name": "Python 3.7 (tensorflow)",
   "language": "python",
   "name": "tensorflow"
  },
  "language_info": {
   "codemirror_mode": {
    "name": "ipython",
    "version": 3
   },
   "file_extension": ".py",
   "mimetype": "text/x-python",
   "name": "python",
   "nbconvert_exporter": "python",
   "pygments_lexer": "ipython3",
   "version": "3.7.9"
  }
 },
 "nbformat": 4,
 "nbformat_minor": 5
}
