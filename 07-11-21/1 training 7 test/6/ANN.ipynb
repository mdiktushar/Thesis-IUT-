{
 "cells": [
  {
   "cell_type": "markdown",
   "id": "c17badd4",
   "metadata": {},
   "source": [
    "# ANN"
   ]
  },
  {
   "cell_type": "code",
   "execution_count": 1,
   "id": "f5df428c",
   "metadata": {},
   "outputs": [],
   "source": [
    "import pandas as pd\n",
    "import numpy as np\n",
    "import matplotlib.pyplot as plt\n",
    "import seaborn as sns\n",
    "%matplotlib inline\n",
    "\n",
    "from sklearn.preprocessing import OneHotEncoder, MinMaxScaler\n",
    "\n",
    "import tensorflow as tf\n",
    "from tensorflow.keras.models import Sequential\n",
    "from tensorflow.keras.layers import Dense, Activation,Dropout\n",
    "from sklearn.metrics import classification_report,confusion_matrix, plot_confusion_matrix\n",
    "import sklearn.metrics as metrics"
   ]
  },
  {
   "cell_type": "markdown",
   "id": "f9a4b800",
   "metadata": {},
   "source": [
    "# Input Data"
   ]
  },
  {
   "cell_type": "code",
   "execution_count": 2,
   "id": "fe15956c",
   "metadata": {},
   "outputs": [],
   "source": [
    "df = pd.read_csv('../Data.csv')"
   ]
  },
  {
   "cell_type": "code",
   "execution_count": 3,
   "id": "bef654bb",
   "metadata": {},
   "outputs": [],
   "source": [
    "dft = pd.read_csv('testing6.csv')"
   ]
  },
  {
   "cell_type": "code",
   "execution_count": 4,
   "id": "0f5337c0",
   "metadata": {},
   "outputs": [],
   "source": [
    "# X_train, X_test, y_train, y_test = train_test_split(X,y,test_size=0.25,random_state=101)\n",
    "X_train = df.drop('label',axis=1).values\n",
    "y_train = df['label'].values\n",
    "\n",
    "X_test = dft.drop('label',axis=1).values\n",
    "y_test = dft['label'].values"
   ]
  },
  {
   "cell_type": "markdown",
   "id": "b1318dcd",
   "metadata": {},
   "source": [
    "# One-hot encode the target"
   ]
  },
  {
   "cell_type": "code",
   "execution_count": 5,
   "id": "87b0bdf6",
   "metadata": {},
   "outputs": [],
   "source": [
    "enc = OneHotEncoder(sparse=False, handle_unknown='ignore')\n",
    "enc.fit(y_train.reshape(-1, 1))\n",
    "y_train = enc.transform(y_train.reshape(-1, 1))\n",
    "y_test = enc.transform(y_test.reshape(-1, 1))"
   ]
  },
  {
   "cell_type": "code",
   "execution_count": 6,
   "id": "5c52d6bd",
   "metadata": {},
   "outputs": [
    {
     "name": "stdout",
     "output_type": "stream",
     "text": [
      "(18000, 6) (1500, 6)\n"
     ]
    }
   ],
   "source": [
    "print(y_train.shape, y_test.shape)"
   ]
  },
  {
   "cell_type": "markdown",
   "id": "ccf0c799",
   "metadata": {},
   "source": [
    "# scale the features"
   ]
  },
  {
   "cell_type": "code",
   "execution_count": 7,
   "id": "3c544b11",
   "metadata": {},
   "outputs": [],
   "source": [
    "scaler = MinMaxScaler()\n",
    "scaler.fit(X_train)\n",
    "X_train = scaler.transform(X_train)\n",
    "X_test = scaler.transform(X_test)"
   ]
  },
  {
   "cell_type": "code",
   "execution_count": 8,
   "id": "e3e4af3c",
   "metadata": {},
   "outputs": [],
   "source": [
    "model = Sequential()\n",
    "\n",
    "model.add(Dense(units=64,activation='relu'))\n",
    "model.add(Dense(units=128,activation='relu'))\n",
    "model.add(Dropout(0.5))\n",
    "\n",
    "model.add(Dense(units=128,activation='relu'))\n",
    "model.add(Dense(units=512,activation='relu'))\n",
    "model.add(Dropout(0.5))\n",
    "\n",
    "model.add(Dense(units=521,activation='relu'))\n",
    "model.add(Dropout(0.5))\n",
    "\n",
    "model.add(Dense(6, activation='softmax'))\n",
    "# Compile model\n",
    "model.compile(optimizer='adam',\n",
    "              loss='categorical_crossentropy',\n",
    "              metrics=['accuracy'])"
   ]
  },
  {
   "cell_type": "code",
   "execution_count": 9,
   "id": "3fd0d04b",
   "metadata": {},
   "outputs": [
    {
     "name": "stdout",
     "output_type": "stream",
     "text": [
      "Train on 18000 samples, validate on 1500 samples\n",
      "Epoch 1/100\n",
      "18000/18000 [==============================] - 2s 85us/sample - loss: 1.7179 - accuracy: 0.2560 - val_loss: 1.5578 - val_accuracy: 0.4033\n",
      "Epoch 2/100\n",
      "18000/18000 [==============================] - 0s 23us/sample - loss: 1.4693 - accuracy: 0.4225 - val_loss: 1.3235 - val_accuracy: 0.4920\n",
      "Epoch 3/100\n",
      "18000/18000 [==============================] - 0s 22us/sample - loss: 1.3308 - accuracy: 0.4801 - val_loss: 1.2512 - val_accuracy: 0.5327\n",
      "Epoch 4/100\n",
      "18000/18000 [==============================] - 0s 24us/sample - loss: 1.2443 - accuracy: 0.5139 - val_loss: 1.2099 - val_accuracy: 0.5540\n",
      "Epoch 5/100\n",
      "18000/18000 [==============================] - 0s 23us/sample - loss: 1.1930 - accuracy: 0.5399 - val_loss: 1.1811 - val_accuracy: 0.5607\n",
      "Epoch 6/100\n",
      "18000/18000 [==============================] - 0s 23us/sample - loss: 1.1390 - accuracy: 0.5641 - val_loss: 1.1303 - val_accuracy: 0.5893\n",
      "Epoch 7/100\n",
      "18000/18000 [==============================] - 0s 23us/sample - loss: 1.0967 - accuracy: 0.5768 - val_loss: 1.0758 - val_accuracy: 0.6093\n",
      "Epoch 8/100\n",
      "18000/18000 [==============================] - 0s 23us/sample - loss: 1.0572 - accuracy: 0.5961 - val_loss: 1.0392 - val_accuracy: 0.6367\n",
      "Epoch 9/100\n",
      "18000/18000 [==============================] - 0s 23us/sample - loss: 1.0281 - accuracy: 0.6072 - val_loss: 0.9907 - val_accuracy: 0.6307\n",
      "Epoch 10/100\n",
      "18000/18000 [==============================] - 0s 22us/sample - loss: 0.9909 - accuracy: 0.6201 - val_loss: 0.9686 - val_accuracy: 0.6413\n",
      "Epoch 11/100\n",
      "18000/18000 [==============================] - 0s 22us/sample - loss: 0.9620 - accuracy: 0.6291 - val_loss: 0.9098 - val_accuracy: 0.6713\n",
      "Epoch 12/100\n",
      "18000/18000 [==============================] - 0s 23us/sample - loss: 0.9370 - accuracy: 0.6384 - val_loss: 0.8936 - val_accuracy: 0.6587\n",
      "Epoch 13/100\n",
      "18000/18000 [==============================] - 0s 23us/sample - loss: 0.9171 - accuracy: 0.6479 - val_loss: 0.8370 - val_accuracy: 0.6727\n",
      "Epoch 14/100\n",
      "18000/18000 [==============================] - 0s 23us/sample - loss: 0.8933 - accuracy: 0.6568 - val_loss: 0.8116 - val_accuracy: 0.6933\n",
      "Epoch 15/100\n",
      "18000/18000 [==============================] - 0s 22us/sample - loss: 0.8610 - accuracy: 0.6723 - val_loss: 0.7767 - val_accuracy: 0.7093\n",
      "Epoch 16/100\n",
      "18000/18000 [==============================] - 0s 23us/sample - loss: 0.8470 - accuracy: 0.6748 - val_loss: 0.7608 - val_accuracy: 0.6940\n",
      "Epoch 17/100\n",
      "18000/18000 [==============================] - 0s 22us/sample - loss: 0.8295 - accuracy: 0.6803 - val_loss: 0.7372 - val_accuracy: 0.7087\n",
      "Epoch 18/100\n",
      "18000/18000 [==============================] - 0s 22us/sample - loss: 0.8000 - accuracy: 0.6922 - val_loss: 0.7158 - val_accuracy: 0.7127\n",
      "Epoch 19/100\n",
      "18000/18000 [==============================] - 0s 22us/sample - loss: 0.7757 - accuracy: 0.7028 - val_loss: 0.7076 - val_accuracy: 0.7367\n",
      "Epoch 20/100\n",
      "18000/18000 [==============================] - 0s 22us/sample - loss: 0.7652 - accuracy: 0.7076 - val_loss: 0.6819 - val_accuracy: 0.7347\n",
      "Epoch 21/100\n",
      "18000/18000 [==============================] - 0s 24us/sample - loss: 0.7457 - accuracy: 0.7118 - val_loss: 0.6716 - val_accuracy: 0.7427\n",
      "Epoch 22/100\n",
      "18000/18000 [==============================] - 0s 22us/sample - loss: 0.7316 - accuracy: 0.7216 - val_loss: 0.6302 - val_accuracy: 0.7680\n",
      "Epoch 23/100\n",
      "18000/18000 [==============================] - 0s 23us/sample - loss: 0.7068 - accuracy: 0.7298 - val_loss: 0.6490 - val_accuracy: 0.7613\n",
      "Epoch 24/100\n",
      "18000/18000 [==============================] - 0s 22us/sample - loss: 0.6935 - accuracy: 0.7378 - val_loss: 0.6640 - val_accuracy: 0.7467\n",
      "Epoch 25/100\n",
      "18000/18000 [==============================] - 0s 23us/sample - loss: 0.6850 - accuracy: 0.7374 - val_loss: 0.6174 - val_accuracy: 0.7587\n",
      "Epoch 26/100\n",
      "18000/18000 [==============================] - 0s 23us/sample - loss: 0.6622 - accuracy: 0.7444 - val_loss: 0.6026 - val_accuracy: 0.7747\n",
      "Epoch 27/100\n",
      "18000/18000 [==============================] - 0s 22us/sample - loss: 0.6552 - accuracy: 0.7503 - val_loss: 0.6203 - val_accuracy: 0.7573\n",
      "Epoch 28/100\n",
      "18000/18000 [==============================] - 0s 23us/sample - loss: 0.6347 - accuracy: 0.7593 - val_loss: 0.5781 - val_accuracy: 0.7747\n",
      "Epoch 29/100\n",
      "18000/18000 [==============================] - 0s 23us/sample - loss: 0.6307 - accuracy: 0.7603 - val_loss: 0.5890 - val_accuracy: 0.7847\n",
      "Epoch 30/100\n",
      "18000/18000 [==============================] - 0s 23us/sample - loss: 0.6183 - accuracy: 0.7633 - val_loss: 0.6039 - val_accuracy: 0.7607\n",
      "Epoch 31/100\n",
      "18000/18000 [==============================] - 0s 23us/sample - loss: 0.5921 - accuracy: 0.7739 - val_loss: 0.5731 - val_accuracy: 0.7967\n",
      "Epoch 32/100\n",
      "18000/18000 [==============================] - 0s 23us/sample - loss: 0.5904 - accuracy: 0.7746 - val_loss: 0.5557 - val_accuracy: 0.7973\n",
      "Epoch 33/100\n",
      "18000/18000 [==============================] - 0s 24us/sample - loss: 0.5877 - accuracy: 0.7729 - val_loss: 0.5597 - val_accuracy: 0.7693\n",
      "Epoch 34/100\n",
      "18000/18000 [==============================] - 0s 23us/sample - loss: 0.5688 - accuracy: 0.7854 - val_loss: 0.5464 - val_accuracy: 0.7987\n",
      "Epoch 35/100\n",
      "18000/18000 [==============================] - 0s 23us/sample - loss: 0.5616 - accuracy: 0.7836 - val_loss: 0.5310 - val_accuracy: 0.8200\n",
      "Epoch 36/100\n",
      "18000/18000 [==============================] - 0s 24us/sample - loss: 0.5468 - accuracy: 0.7921 - val_loss: 0.5459 - val_accuracy: 0.7967\n",
      "Epoch 37/100\n",
      "18000/18000 [==============================] - 0s 23us/sample - loss: 0.5478 - accuracy: 0.7949 - val_loss: 0.5385 - val_accuracy: 0.8067\n",
      "Epoch 38/100\n",
      "18000/18000 [==============================] - 0s 24us/sample - loss: 0.5397 - accuracy: 0.7940 - val_loss: 0.5403 - val_accuracy: 0.8107\n",
      "Epoch 39/100\n",
      "18000/18000 [==============================] - 0s 23us/sample - loss: 0.5306 - accuracy: 0.7984 - val_loss: 0.5306 - val_accuracy: 0.8233\n",
      "Epoch 40/100\n",
      "18000/18000 [==============================] - 0s 23us/sample - loss: 0.5236 - accuracy: 0.8044 - val_loss: 0.4712 - val_accuracy: 0.8540\n",
      "Epoch 41/100\n",
      "18000/18000 [==============================] - 0s 23us/sample - loss: 0.5163 - accuracy: 0.8037 - val_loss: 0.4916 - val_accuracy: 0.8393\n",
      "Epoch 42/100\n",
      "18000/18000 [==============================] - 0s 23us/sample - loss: 0.5153 - accuracy: 0.8052 - val_loss: 0.5142 - val_accuracy: 0.8160\n",
      "Epoch 43/100\n",
      "18000/18000 [==============================] - 0s 25us/sample - loss: 0.4995 - accuracy: 0.8086 - val_loss: 0.4746 - val_accuracy: 0.8453\n",
      "Epoch 44/100\n",
      "18000/18000 [==============================] - 0s 24us/sample - loss: 0.5014 - accuracy: 0.8101 - val_loss: 0.4783 - val_accuracy: 0.8473\n",
      "Epoch 45/100\n",
      "18000/18000 [==============================] - 0s 26us/sample - loss: 0.4962 - accuracy: 0.8107 - val_loss: 0.5075 - val_accuracy: 0.8267\n",
      "Epoch 46/100\n",
      "18000/18000 [==============================] - 0s 27us/sample - loss: 0.4770 - accuracy: 0.8165 - val_loss: 0.4757 - val_accuracy: 0.8480\n",
      "Epoch 47/100\n",
      "18000/18000 [==============================] - 0s 23us/sample - loss: 0.4634 - accuracy: 0.8248 - val_loss: 0.4789 - val_accuracy: 0.8540\n",
      "Epoch 48/100\n",
      "18000/18000 [==============================] - 0s 23us/sample - loss: 0.4675 - accuracy: 0.8211 - val_loss: 0.4669 - val_accuracy: 0.8627\n",
      "Epoch 49/100\n",
      "18000/18000 [==============================] - 0s 23us/sample - loss: 0.4706 - accuracy: 0.8231 - val_loss: 0.4887 - val_accuracy: 0.8393\n",
      "Epoch 50/100\n",
      "18000/18000 [==============================] - 0s 23us/sample - loss: 0.4576 - accuracy: 0.8293 - val_loss: 0.4891 - val_accuracy: 0.8467\n",
      "Epoch 51/100\n",
      "18000/18000 [==============================] - 0s 22us/sample - loss: 0.4625 - accuracy: 0.8233 - val_loss: 0.4256 - val_accuracy: 0.8547\n",
      "Epoch 52/100\n",
      "18000/18000 [==============================] - 0s 23us/sample - loss: 0.4484 - accuracy: 0.8312 - val_loss: 0.4458 - val_accuracy: 0.8440\n",
      "Epoch 53/100\n",
      "18000/18000 [==============================] - 0s 23us/sample - loss: 0.4544 - accuracy: 0.8292 - val_loss: 0.4695 - val_accuracy: 0.8753\n",
      "Epoch 54/100\n",
      "18000/18000 [==============================] - 0s 23us/sample - loss: 0.4269 - accuracy: 0.8383 - val_loss: 0.4579 - val_accuracy: 0.8607\n"
     ]
    },
    {
     "name": "stdout",
     "output_type": "stream",
     "text": [
      "Epoch 55/100\n",
      "18000/18000 [==============================] - 1s 28us/sample - loss: 0.4358 - accuracy: 0.8370 - val_loss: 0.4061 - val_accuracy: 0.8827\n",
      "Epoch 56/100\n",
      "18000/18000 [==============================] - 1s 29us/sample - loss: 0.4188 - accuracy: 0.8403 - val_loss: 0.4402 - val_accuracy: 0.8627\n",
      "Epoch 57/100\n",
      "18000/18000 [==============================] - 0s 22us/sample - loss: 0.4250 - accuracy: 0.8405 - val_loss: 0.4590 - val_accuracy: 0.8673\n",
      "Epoch 58/100\n",
      "18000/18000 [==============================] - 0s 24us/sample - loss: 0.4170 - accuracy: 0.8436 - val_loss: 0.4703 - val_accuracy: 0.8607\n",
      "Epoch 59/100\n",
      "18000/18000 [==============================] - 0s 24us/sample - loss: 0.4096 - accuracy: 0.8419 - val_loss: 0.4620 - val_accuracy: 0.8567\n",
      "Epoch 60/100\n",
      "18000/18000 [==============================] - 1s 36us/sample - loss: 0.4157 - accuracy: 0.8418 - val_loss: 0.4785 - val_accuracy: 0.8753\n",
      "Epoch 61/100\n",
      "18000/18000 [==============================] - 0s 25us/sample - loss: 0.4027 - accuracy: 0.8452 - val_loss: 0.4395 - val_accuracy: 0.8800\n",
      "Epoch 62/100\n",
      "18000/18000 [==============================] - 0s 23us/sample - loss: 0.3980 - accuracy: 0.8482 - val_loss: 0.4261 - val_accuracy: 0.8680\n",
      "Epoch 63/100\n",
      "18000/18000 [==============================] - 0s 23us/sample - loss: 0.4018 - accuracy: 0.8493 - val_loss: 0.4339 - val_accuracy: 0.8807\n",
      "Epoch 64/100\n",
      "18000/18000 [==============================] - 0s 23us/sample - loss: 0.3849 - accuracy: 0.8544 - val_loss: 0.4832 - val_accuracy: 0.8647\n",
      "Epoch 65/100\n",
      "18000/18000 [==============================] - 0s 24us/sample - loss: 0.3940 - accuracy: 0.8489 - val_loss: 0.4485 - val_accuracy: 0.8680\n",
      "Epoch 66/100\n",
      "18000/18000 [==============================] - 0s 23us/sample - loss: 0.3909 - accuracy: 0.8524 - val_loss: 0.4557 - val_accuracy: 0.8813\n",
      "Epoch 67/100\n",
      "18000/18000 [==============================] - 0s 22us/sample - loss: 0.3799 - accuracy: 0.8587 - val_loss: 0.4352 - val_accuracy: 0.8853\n",
      "Epoch 68/100\n",
      "18000/18000 [==============================] - 0s 24us/sample - loss: 0.3867 - accuracy: 0.8524 - val_loss: 0.4202 - val_accuracy: 0.9047\n",
      "Epoch 69/100\n",
      "18000/18000 [==============================] - 0s 24us/sample - loss: 0.3753 - accuracy: 0.8596 - val_loss: 0.4356 - val_accuracy: 0.8860\n",
      "Epoch 70/100\n",
      "18000/18000 [==============================] - 0s 24us/sample - loss: 0.3737 - accuracy: 0.8598 - val_loss: 0.4458 - val_accuracy: 0.8893\n",
      "Epoch 71/100\n",
      "18000/18000 [==============================] - 0s 24us/sample - loss: 0.3611 - accuracy: 0.8624 - val_loss: 0.4098 - val_accuracy: 0.9027\n",
      "Epoch 72/100\n",
      "18000/18000 [==============================] - 0s 24us/sample - loss: 0.3747 - accuracy: 0.8611 - val_loss: 0.4904 - val_accuracy: 0.8600\n",
      "Epoch 73/100\n",
      "18000/18000 [==============================] - 0s 23us/sample - loss: 0.3632 - accuracy: 0.8618 - val_loss: 0.4859 - val_accuracy: 0.8807\n",
      "Epoch 74/100\n",
      "18000/18000 [==============================] - 0s 23us/sample - loss: 0.3665 - accuracy: 0.8608 - val_loss: 0.4344 - val_accuracy: 0.8800\n",
      "Epoch 75/100\n",
      "18000/18000 [==============================] - 0s 23us/sample - loss: 0.3565 - accuracy: 0.8694 - val_loss: 0.4298 - val_accuracy: 0.8887\n",
      "Epoch 76/100\n",
      "18000/18000 [==============================] - 0s 23us/sample - loss: 0.3549 - accuracy: 0.8666 - val_loss: 0.4332 - val_accuracy: 0.8913\n",
      "Epoch 77/100\n",
      "18000/18000 [==============================] - 0s 23us/sample - loss: 0.3505 - accuracy: 0.8667 - val_loss: 0.4658 - val_accuracy: 0.8793\n",
      "Epoch 78/100\n",
      "18000/18000 [==============================] - 0s 22us/sample - loss: 0.3556 - accuracy: 0.8643 - val_loss: 0.4782 - val_accuracy: 0.8947\n",
      "Epoch 79/100\n",
      "18000/18000 [==============================] - 0s 22us/sample - loss: 0.3615 - accuracy: 0.8633 - val_loss: 0.3949 - val_accuracy: 0.9067\n",
      "Epoch 80/100\n",
      "18000/18000 [==============================] - 0s 22us/sample - loss: 0.3361 - accuracy: 0.8729 - val_loss: 0.4877 - val_accuracy: 0.8813\n",
      "Epoch 81/100\n",
      "18000/18000 [==============================] - 0s 22us/sample - loss: 0.3501 - accuracy: 0.8672 - val_loss: 0.4696 - val_accuracy: 0.8847\n",
      "Epoch 82/100\n",
      "18000/18000 [==============================] - 0s 22us/sample - loss: 0.3446 - accuracy: 0.8699 - val_loss: 0.4369 - val_accuracy: 0.8940\n",
      "Epoch 83/100\n",
      "18000/18000 [==============================] - 0s 23us/sample - loss: 0.3374 - accuracy: 0.8721 - val_loss: 0.4240 - val_accuracy: 0.8967\n",
      "Epoch 84/100\n",
      "18000/18000 [==============================] - 0s 23us/sample - loss: 0.3430 - accuracy: 0.8686 - val_loss: 0.4750 - val_accuracy: 0.8787\n",
      "Epoch 85/100\n",
      "18000/18000 [==============================] - 0s 23us/sample - loss: 0.3327 - accuracy: 0.8734 - val_loss: 0.4793 - val_accuracy: 0.8773\n",
      "Epoch 86/100\n",
      "18000/18000 [==============================] - 0s 24us/sample - loss: 0.3375 - accuracy: 0.8718 - val_loss: 0.4175 - val_accuracy: 0.9013\n",
      "Epoch 87/100\n",
      "18000/18000 [==============================] - 0s 24us/sample - loss: 0.3283 - accuracy: 0.8732 - val_loss: 0.4680 - val_accuracy: 0.8880\n",
      "Epoch 88/100\n",
      "18000/18000 [==============================] - 0s 22us/sample - loss: 0.3276 - accuracy: 0.8789 - val_loss: 0.4608 - val_accuracy: 0.8947\n",
      "Epoch 89/100\n",
      "18000/18000 [==============================] - 0s 23us/sample - loss: 0.3234 - accuracy: 0.8770 - val_loss: 0.4387 - val_accuracy: 0.9000\n",
      "Epoch 90/100\n",
      "18000/18000 [==============================] - 0s 23us/sample - loss: 0.3258 - accuracy: 0.8776 - val_loss: 0.4583 - val_accuracy: 0.8980\n",
      "Epoch 91/100\n",
      "18000/18000 [==============================] - 0s 22us/sample - loss: 0.3184 - accuracy: 0.8799 - val_loss: 0.5059 - val_accuracy: 0.8967\n",
      "Epoch 92/100\n",
      "18000/18000 [==============================] - 0s 24us/sample - loss: 0.3236 - accuracy: 0.8769 - val_loss: 0.4175 - val_accuracy: 0.9060\n",
      "Epoch 93/100\n",
      "18000/18000 [==============================] - 0s 23us/sample - loss: 0.3210 - accuracy: 0.8796 - val_loss: 0.4550 - val_accuracy: 0.8920\n",
      "Epoch 94/100\n",
      "18000/18000 [==============================] - 0s 23us/sample - loss: 0.3099 - accuracy: 0.8832 - val_loss: 0.4495 - val_accuracy: 0.9133\n",
      "Epoch 95/100\n",
      "18000/18000 [==============================] - 0s 23us/sample - loss: 0.3154 - accuracy: 0.8831 - val_loss: 0.4201 - val_accuracy: 0.9120\n",
      "Epoch 96/100\n",
      "18000/18000 [==============================] - 0s 23us/sample - loss: 0.3198 - accuracy: 0.8804 - val_loss: 0.4734 - val_accuracy: 0.9127\n",
      "Epoch 97/100\n",
      "18000/18000 [==============================] - 0s 23us/sample - loss: 0.3250 - accuracy: 0.8768 - val_loss: 0.4740 - val_accuracy: 0.9100\n",
      "Epoch 98/100\n",
      "18000/18000 [==============================] - 0s 23us/sample - loss: 0.3095 - accuracy: 0.8847 - val_loss: 0.4874 - val_accuracy: 0.9020\n",
      "Epoch 99/100\n",
      "18000/18000 [==============================] - 0s 23us/sample - loss: 0.3002 - accuracy: 0.8859 - val_loss: 0.4891 - val_accuracy: 0.8967\n",
      "Epoch 100/100\n",
      "18000/18000 [==============================] - 0s 23us/sample - loss: 0.3079 - accuracy: 0.8814 - val_loss: 0.5104 - val_accuracy: 0.9013\n",
      "Wall time: 46.3 s\n"
     ]
    },
    {
     "data": {
      "text/plain": [
       "<tensorflow.python.keras.callbacks.History at 0x1ae87ce6188>"
      ]
     },
     "execution_count": 9,
     "metadata": {},
     "output_type": "execute_result"
    }
   ],
   "source": [
    "%%time\n",
    "model.fit(x=X_train, y=y_train, epochs=100, batch_size=512, validation_data=(X_test, y_test))"
   ]
  },
  {
   "cell_type": "markdown",
   "id": "e4fe55d6",
   "metadata": {},
   "source": [
    "# Modle Performance"
   ]
  },
  {
   "cell_type": "code",
   "execution_count": 10,
   "id": "95f922ea",
   "metadata": {},
   "outputs": [],
   "source": [
    "losses = pd.DataFrame(model.history.history)"
   ]
  },
  {
   "cell_type": "code",
   "execution_count": 11,
   "id": "858af874",
   "metadata": {},
   "outputs": [
    {
     "data": {
      "text/plain": [
       "<AxesSubplot:>"
      ]
     },
     "execution_count": 11,
     "metadata": {},
     "output_type": "execute_result"
    },
    {
     "data": {
      "image/png": "[encoded data removed]",
      "text/plain": [
       "<Figure size 432x288 with 1 Axes>"
      ]
     },
     "metadata": {
      "needs_background": "light"
     },
     "output_type": "display_data"
    }
   ],
   "source": [
    "losses[['loss','val_loss']].plot()"
   ]
  },
  {
   "cell_type": "markdown",
   "id": "93b49aac",
   "metadata": {},
   "source": [
    "# Predict"
   ]
  },
  {
   "cell_type": "code",
   "execution_count": 12,
   "id": "ce2c6191",
   "metadata": {},
   "outputs": [],
   "source": [
    "predictions = model.predict(X_test)"
   ]
  },
  {
   "cell_type": "markdown",
   "id": "d57637f8",
   "metadata": {},
   "source": [
    "\n",
    "# Confusion Matrix"
   ]
  },
  {
   "cell_type": "code",
   "execution_count": 13,
   "id": "1dfbf087",
   "metadata": {},
   "outputs": [],
   "source": [
    "y_test_arg=np.argmax(y_test,axis=1)\n",
    "Y_pred = np.argmax(predictions,axis=1)"
   ]
  },
  {
   "cell_type": "code",
   "execution_count": 14,
   "id": "5e7bef94",
   "metadata": {},
   "outputs": [
    {
     "name": "stdout",
     "output_type": "stream",
     "text": [
      "[[250   0   0   0   0   0]\n",
      " [  0 237   0   0  13   0]\n",
      " [ 10   1 189   0   0  50]\n",
      " [  0   1   0 249   0   0]\n",
      " [  0   8   0   0 240   2]\n",
      " [ 17   6  31   5   4 187]]\n"
     ]
    }
   ],
   "source": [
    "print(confusion_matrix(y_test_arg, Y_pred))"
   ]
  },
  {
   "cell_type": "code",
   "execution_count": 15,
   "id": "a9aff162",
   "metadata": {},
   "outputs": [
    {
     "data": {
      "text/plain": [
       "<AxesSubplot:>"
      ]
     },
     "execution_count": 15,
     "metadata": {},
     "output_type": "execute_result"
    },
    {
     "data": {
      "image/png": "[encoded data removed]",
      "text/plain": [
       "<Figure size 432x288 with 2 Axes>"
      ]
     },
     "metadata": {},
     "output_type": "display_data"
    }
   ],
   "source": [
    "array = metrics.confusion_matrix(y_test_arg, Y_pred)\n",
    "df_cm = pd.DataFrame(array, range(6), range(6))\n",
    "# plt.figure(figsize=(10,7))\n",
    "sns.set(font_scale=1) # for label size\n",
    "sns.heatmap(df_cm, annot=True, annot_kws={\"size\": 11}, cmap=\"OrRd\") # font size"
   ]
  },
  {
   "cell_type": "markdown",
   "id": "42627778",
   "metadata": {},
   "source": [
    "# classification Report"
   ]
  },
  {
   "cell_type": "code",
   "execution_count": 16,
   "id": "947405a5",
   "metadata": {},
   "outputs": [
    {
     "name": "stdout",
     "output_type": "stream",
     "text": [
      "              precision    recall  f1-score   support\n",
      "\n",
      "           0       0.90      1.00      0.95       250\n",
      "           1       0.94      0.95      0.94       250\n",
      "           2       0.86      0.76      0.80       250\n",
      "           3       0.98      1.00      0.99       250\n",
      "           4       0.93      0.96      0.95       250\n",
      "           5       0.78      0.75      0.76       250\n",
      "\n",
      "    accuracy                           0.90      1500\n",
      "   macro avg       0.90      0.90      0.90      1500\n",
      "weighted avg       0.90      0.90      0.90      1500\n",
      "\n"
     ]
    }
   ],
   "source": [
    "print(classification_report(y_test_arg, Y_pred))"
   ]
  },
  {
   "cell_type": "code",
   "execution_count": null,
   "id": "17de918c",
   "metadata": {},
   "outputs": [],
   "source": []
  }
 ],
 "metadata": {
  "kernelspec": {
   "display_name": "Python 3.7 (tensorflow)",
   "language": "python",
   "name": "tensorflow"
  },
  "language_info": {
   "codemirror_mode": {
    "name": "ipython",
    "version": 3
   },
   "file_extension": ".py",
   "mimetype": "text/x-python",
   "name": "python",
   "nbconvert_exporter": "python",
   "pygments_lexer": "ipython3",
   "version": "3.7.9"
  }
 },
 "nbformat": 4,
 "nbformat_minor": 5
}
