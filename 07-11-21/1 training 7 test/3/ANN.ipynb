{
 "cells": [
  {
   "cell_type": "markdown",
   "id": "c17badd4",
   "metadata": {},
   "source": [
    "# ANN"
   ]
  },
  {
   "cell_type": "code",
   "execution_count": 1,
   "id": "f5df428c",
   "metadata": {},
   "outputs": [],
   "source": [
    "import pandas as pd\n",
    "import numpy as np\n",
    "import matplotlib.pyplot as plt\n",
    "import seaborn as sns\n",
    "%matplotlib inline\n",
    "\n",
    "from sklearn.preprocessing import OneHotEncoder, MinMaxScaler\n",
    "\n",
    "import tensorflow as tf\n",
    "from tensorflow.keras.models import Sequential\n",
    "from tensorflow.keras.layers import Dense, Activation,Dropout\n",
    "from sklearn.metrics import classification_report,confusion_matrix, plot_confusion_matrix\n",
    "import sklearn.metrics as metrics"
   ]
  },
  {
   "cell_type": "markdown",
   "id": "f9a4b800",
   "metadata": {},
   "source": [
    "# Input Data"
   ]
  },
  {
   "cell_type": "code",
   "execution_count": 2,
   "id": "fe15956c",
   "metadata": {},
   "outputs": [],
   "source": [
    "df = pd.read_csv('../Data.csv')"
   ]
  },
  {
   "cell_type": "code",
   "execution_count": 3,
   "id": "bef654bb",
   "metadata": {},
   "outputs": [],
   "source": [
    "dft = pd.read_csv('testing3.csv')"
   ]
  },
  {
   "cell_type": "code",
   "execution_count": 4,
   "id": "0f5337c0",
   "metadata": {},
   "outputs": [],
   "source": [
    "# X_train, X_test, y_train, y_test = train_test_split(X,y,test_size=0.25,random_state=101)\n",
    "X_train = df.drop('label',axis=1).values\n",
    "y_train = df['label'].values\n",
    "\n",
    "X_test = dft.drop('label',axis=1).values\n",
    "y_test = dft['label'].values"
   ]
  },
  {
   "cell_type": "markdown",
   "id": "b1318dcd",
   "metadata": {},
   "source": [
    "# One-hot encode the target"
   ]
  },
  {
   "cell_type": "code",
   "execution_count": 5,
   "id": "87b0bdf6",
   "metadata": {},
   "outputs": [],
   "source": [
    "enc = OneHotEncoder(sparse=False, handle_unknown='ignore')\n",
    "enc.fit(y_train.reshape(-1, 1))\n",
    "y_train = enc.transform(y_train.reshape(-1, 1))\n",
    "y_test = enc.transform(y_test.reshape(-1, 1))"
   ]
  },
  {
   "cell_type": "code",
   "execution_count": 6,
   "id": "5c52d6bd",
   "metadata": {},
   "outputs": [
    {
     "name": "stdout",
     "output_type": "stream",
     "text": [
      "(18000, 6) (1500, 6)\n"
     ]
    }
   ],
   "source": [
    "print(y_train.shape, y_test.shape)"
   ]
  },
  {
   "cell_type": "markdown",
   "id": "ccf0c799",
   "metadata": {},
   "source": [
    "# scale the features"
   ]
  },
  {
   "cell_type": "code",
   "execution_count": 7,
   "id": "3c544b11",
   "metadata": {},
   "outputs": [],
   "source": [
    "scaler = MinMaxScaler()\n",
    "scaler.fit(X_train)\n",
    "X_train = scaler.transform(X_train)\n",
    "X_test = scaler.transform(X_test)"
   ]
  },
  {
   "cell_type": "code",
   "execution_count": 8,
   "id": "e3e4af3c",
   "metadata": {},
   "outputs": [],
   "source": [
    "model = Sequential()\n",
    "\n",
    "model.add(Dense(units=64,activation='relu'))\n",
    "model.add(Dense(units=128,activation='relu'))\n",
    "model.add(Dropout(0.5))\n",
    "\n",
    "model.add(Dense(units=128,activation='relu'))\n",
    "model.add(Dense(units=512,activation='relu'))\n",
    "model.add(Dropout(0.5))\n",
    "\n",
    "model.add(Dense(units=521,activation='relu'))\n",
    "model.add(Dropout(0.5))\n",
    "\n",
    "model.add(Dense(6, activation='softmax'))\n",
    "# Compile model\n",
    "model.compile(optimizer='adam',\n",
    "              loss='categorical_crossentropy',\n",
    "              metrics=['accuracy'])"
   ]
  },
  {
   "cell_type": "code",
   "execution_count": 9,
   "id": "3fd0d04b",
   "metadata": {},
   "outputs": [
    {
     "name": "stdout",
     "output_type": "stream",
     "text": [
      "Train on 18000 samples, validate on 1500 samples\n",
      "Epoch 1/100\n",
      "18000/18000 [==============================] - 2s 136us/sample - loss: 1.7043 - accuracy: 0.2591 - val_loss: 1.5369 - val_accuracy: 0.3580\n",
      "Epoch 2/100\n",
      "18000/18000 [==============================] - 0s 26us/sample - loss: 1.4726 - accuracy: 0.4106 - val_loss: 1.3744 - val_accuracy: 0.4553\n",
      "Epoch 3/100\n",
      "18000/18000 [==============================] - 0s 23us/sample - loss: 1.3682 - accuracy: 0.4680 - val_loss: 1.3114 - val_accuracy: 0.5287\n",
      "Epoch 4/100\n",
      "18000/18000 [==============================] - 0s 22us/sample - loss: 1.2838 - accuracy: 0.5063 - val_loss: 1.2346 - val_accuracy: 0.5747\n",
      "Epoch 5/100\n",
      "18000/18000 [==============================] - 0s 22us/sample - loss: 1.2228 - accuracy: 0.5324 - val_loss: 1.1545 - val_accuracy: 0.5967\n",
      "Epoch 6/100\n",
      "18000/18000 [==============================] - 0s 24us/sample - loss: 1.1665 - accuracy: 0.5552 - val_loss: 1.0844 - val_accuracy: 0.6293\n",
      "Epoch 7/100\n",
      "18000/18000 [==============================] - 0s 23us/sample - loss: 1.1397 - accuracy: 0.5664 - val_loss: 1.0563 - val_accuracy: 0.6340\n",
      "Epoch 8/100\n",
      "18000/18000 [==============================] - 0s 22us/sample - loss: 1.0825 - accuracy: 0.5893 - val_loss: 1.0228 - val_accuracy: 0.6500\n",
      "Epoch 9/100\n",
      "18000/18000 [==============================] - 0s 23us/sample - loss: 1.0503 - accuracy: 0.6066 - val_loss: 0.9935 - val_accuracy: 0.6613\n",
      "Epoch 10/100\n",
      "18000/18000 [==============================] - 0s 24us/sample - loss: 1.0215 - accuracy: 0.6158 - val_loss: 0.9430 - val_accuracy: 0.6707\n",
      "Epoch 11/100\n",
      "18000/18000 [==============================] - 0s 25us/sample - loss: 0.9861 - accuracy: 0.6237 - val_loss: 0.9036 - val_accuracy: 0.6867\n",
      "Epoch 12/100\n",
      "18000/18000 [==============================] - 0s 22us/sample - loss: 0.9528 - accuracy: 0.6393 - val_loss: 0.8594 - val_accuracy: 0.6833\n",
      "Epoch 13/100\n",
      "18000/18000 [==============================] - 0s 24us/sample - loss: 0.9267 - accuracy: 0.6534 - val_loss: 0.7855 - val_accuracy: 0.7420\n",
      "Epoch 14/100\n",
      "18000/18000 [==============================] - 0s 24us/sample - loss: 0.9033 - accuracy: 0.6577 - val_loss: 0.7548 - val_accuracy: 0.7247\n",
      "Epoch 15/100\n",
      "18000/18000 [==============================] - 0s 22us/sample - loss: 0.8823 - accuracy: 0.6677 - val_loss: 0.7530 - val_accuracy: 0.7260\n",
      "Epoch 16/100\n",
      "18000/18000 [==============================] - 0s 23us/sample - loss: 0.8585 - accuracy: 0.6768 - val_loss: 0.7350 - val_accuracy: 0.7393\n",
      "Epoch 17/100\n",
      "18000/18000 [==============================] - 0s 22us/sample - loss: 0.8411 - accuracy: 0.6812 - val_loss: 0.7358 - val_accuracy: 0.7220\n",
      "Epoch 18/100\n",
      "18000/18000 [==============================] - 0s 22us/sample - loss: 0.8091 - accuracy: 0.6964 - val_loss: 0.6647 - val_accuracy: 0.7613\n",
      "Epoch 19/100\n",
      "18000/18000 [==============================] - 0s 28us/sample - loss: 0.7903 - accuracy: 0.7024 - val_loss: 0.6434 - val_accuracy: 0.7667\n",
      "Epoch 20/100\n",
      "18000/18000 [==============================] - 0s 24us/sample - loss: 0.7736 - accuracy: 0.7086 - val_loss: 0.5692 - val_accuracy: 0.7780\n",
      "Epoch 21/100\n",
      "18000/18000 [==============================] - 0s 26us/sample - loss: 0.7659 - accuracy: 0.7108 - val_loss: 0.5638 - val_accuracy: 0.8093\n",
      "Epoch 22/100\n",
      "18000/18000 [==============================] - 0s 25us/sample - loss: 0.7405 - accuracy: 0.7202 - val_loss: 0.5430 - val_accuracy: 0.8140\n",
      "Epoch 23/100\n",
      "18000/18000 [==============================] - 0s 23us/sample - loss: 0.7247 - accuracy: 0.7273 - val_loss: 0.5417 - val_accuracy: 0.7740\n",
      "Epoch 24/100\n",
      "18000/18000 [==============================] - 0s 25us/sample - loss: 0.7153 - accuracy: 0.7291 - val_loss: 0.4762 - val_accuracy: 0.8287\n",
      "Epoch 25/100\n",
      "18000/18000 [==============================] - 0s 23us/sample - loss: 0.6923 - accuracy: 0.7370 - val_loss: 0.4459 - val_accuracy: 0.8367\n",
      "Epoch 26/100\n",
      "18000/18000 [==============================] - 0s 23us/sample - loss: 0.6745 - accuracy: 0.7467 - val_loss: 0.4767 - val_accuracy: 0.8407\n",
      "Epoch 27/100\n",
      "18000/18000 [==============================] - 0s 23us/sample - loss: 0.6666 - accuracy: 0.7449 - val_loss: 0.4365 - val_accuracy: 0.8380\n",
      "Epoch 28/100\n",
      "18000/18000 [==============================] - 0s 23us/sample - loss: 0.6582 - accuracy: 0.7523 - val_loss: 0.4155 - val_accuracy: 0.8447\n",
      "Epoch 29/100\n",
      "18000/18000 [==============================] - 0s 23us/sample - loss: 0.6364 - accuracy: 0.7584 - val_loss: 0.4389 - val_accuracy: 0.8313\n",
      "Epoch 30/100\n",
      "18000/18000 [==============================] - 0s 24us/sample - loss: 0.6327 - accuracy: 0.7611 - val_loss: 0.3848 - val_accuracy: 0.8667\n",
      "Epoch 31/100\n",
      "18000/18000 [==============================] - 0s 23us/sample - loss: 0.6177 - accuracy: 0.7670 - val_loss: 0.4041 - val_accuracy: 0.8667\n",
      "Epoch 32/100\n",
      "18000/18000 [==============================] - 0s 25us/sample - loss: 0.6161 - accuracy: 0.7660 - val_loss: 0.3671 - val_accuracy: 0.8787\n",
      "Epoch 33/100\n",
      "18000/18000 [==============================] - 0s 24us/sample - loss: 0.6046 - accuracy: 0.7671 - val_loss: 0.3412 - val_accuracy: 0.8820\n",
      "Epoch 34/100\n",
      "18000/18000 [==============================] - 0s 23us/sample - loss: 0.5898 - accuracy: 0.7794 - val_loss: 0.3288 - val_accuracy: 0.8907\n",
      "Epoch 35/100\n",
      "18000/18000 [==============================] - 0s 23us/sample - loss: 0.5813 - accuracy: 0.7824 - val_loss: 0.3841 - val_accuracy: 0.8653\n",
      "Epoch 36/100\n",
      "18000/18000 [==============================] - 0s 23us/sample - loss: 0.5737 - accuracy: 0.7808 - val_loss: 0.3176 - val_accuracy: 0.9047\n",
      "Epoch 37/100\n",
      "18000/18000 [==============================] - 0s 24us/sample - loss: 0.5695 - accuracy: 0.7836 - val_loss: 0.3280 - val_accuracy: 0.8933\n",
      "Epoch 38/100\n",
      "18000/18000 [==============================] - 0s 22us/sample - loss: 0.5548 - accuracy: 0.7886 - val_loss: 0.2996 - val_accuracy: 0.9073\n",
      "Epoch 39/100\n",
      "18000/18000 [==============================] - 0s 22us/sample - loss: 0.5337 - accuracy: 0.7970 - val_loss: 0.2909 - val_accuracy: 0.8987\n",
      "Epoch 40/100\n",
      "18000/18000 [==============================] - 0s 22us/sample - loss: 0.5369 - accuracy: 0.7965 - val_loss: 0.2816 - val_accuracy: 0.9160\n",
      "Epoch 41/100\n",
      "18000/18000 [==============================] - 0s 23us/sample - loss: 0.5271 - accuracy: 0.7986 - val_loss: 0.2908 - val_accuracy: 0.9013\n",
      "Epoch 42/100\n",
      "18000/18000 [==============================] - 0s 23us/sample - loss: 0.5175 - accuracy: 0.8050 - val_loss: 0.2761 - val_accuracy: 0.9133\n",
      "Epoch 43/100\n",
      "18000/18000 [==============================] - 0s 23us/sample - loss: 0.5172 - accuracy: 0.8056 - val_loss: 0.2542 - val_accuracy: 0.9273\n",
      "Epoch 44/100\n",
      "18000/18000 [==============================] - 0s 22us/sample - loss: 0.5102 - accuracy: 0.8053 - val_loss: 0.2329 - val_accuracy: 0.9500\n",
      "Epoch 45/100\n",
      "18000/18000 [==============================] - 0s 23us/sample - loss: 0.4999 - accuracy: 0.8098 - val_loss: 0.2415 - val_accuracy: 0.9300\n",
      "Epoch 46/100\n",
      "18000/18000 [==============================] - 0s 23us/sample - loss: 0.5020 - accuracy: 0.8102 - val_loss: 0.2498 - val_accuracy: 0.9227\n",
      "Epoch 47/100\n",
      "18000/18000 [==============================] - 0s 23us/sample - loss: 0.5014 - accuracy: 0.8085 - val_loss: 0.2608 - val_accuracy: 0.9313\n",
      "Epoch 48/100\n",
      "18000/18000 [==============================] - 0s 22us/sample - loss: 0.4873 - accuracy: 0.8144 - val_loss: 0.2334 - val_accuracy: 0.9327\n",
      "Epoch 49/100\n",
      "18000/18000 [==============================] - 0s 23us/sample - loss: 0.4692 - accuracy: 0.8210 - val_loss: 0.2269 - val_accuracy: 0.9280\n",
      "Epoch 50/100\n",
      "18000/18000 [==============================] - 0s 23us/sample - loss: 0.4785 - accuracy: 0.8172 - val_loss: 0.1909 - val_accuracy: 0.9547\n",
      "Epoch 51/100\n",
      "18000/18000 [==============================] - 0s 23us/sample - loss: 0.4667 - accuracy: 0.8254 - val_loss: 0.2156 - val_accuracy: 0.9473\n",
      "Epoch 52/100\n",
      "18000/18000 [==============================] - 0s 23us/sample - loss: 0.4682 - accuracy: 0.8235 - val_loss: 0.2165 - val_accuracy: 0.9527\n",
      "Epoch 53/100\n",
      "18000/18000 [==============================] - 0s 22us/sample - loss: 0.4592 - accuracy: 0.8226 - val_loss: 0.2185 - val_accuracy: 0.9280\n",
      "Epoch 54/100\n",
      "18000/18000 [==============================] - 0s 23us/sample - loss: 0.4543 - accuracy: 0.8267 - val_loss: 0.1902 - val_accuracy: 0.9527\n"
     ]
    },
    {
     "name": "stdout",
     "output_type": "stream",
     "text": [
      "Epoch 55/100\n",
      "18000/18000 [==============================] - 0s 23us/sample - loss: 0.4494 - accuracy: 0.8271 - val_loss: 0.2124 - val_accuracy: 0.9480\n",
      "Epoch 56/100\n",
      "18000/18000 [==============================] - 0s 22us/sample - loss: 0.4360 - accuracy: 0.8343 - val_loss: 0.1932 - val_accuracy: 0.9527\n",
      "Epoch 57/100\n",
      "18000/18000 [==============================] - 0s 22us/sample - loss: 0.4410 - accuracy: 0.8342 - val_loss: 0.2089 - val_accuracy: 0.9393\n",
      "Epoch 58/100\n",
      "18000/18000 [==============================] - 0s 22us/sample - loss: 0.4478 - accuracy: 0.8293 - val_loss: 0.1952 - val_accuracy: 0.9560\n",
      "Epoch 59/100\n",
      "18000/18000 [==============================] - 0s 23us/sample - loss: 0.4265 - accuracy: 0.8383 - val_loss: 0.2065 - val_accuracy: 0.9447\n",
      "Epoch 60/100\n",
      "18000/18000 [==============================] - 0s 23us/sample - loss: 0.4256 - accuracy: 0.8393 - val_loss: 0.1741 - val_accuracy: 0.9613\n",
      "Epoch 61/100\n",
      "18000/18000 [==============================] - 0s 24us/sample - loss: 0.4140 - accuracy: 0.8419 - val_loss: 0.1730 - val_accuracy: 0.9567\n",
      "Epoch 62/100\n",
      "18000/18000 [==============================] - 0s 24us/sample - loss: 0.4226 - accuracy: 0.8392 - val_loss: 0.1753 - val_accuracy: 0.9493\n",
      "Epoch 63/100\n",
      "18000/18000 [==============================] - 0s 24us/sample - loss: 0.4188 - accuracy: 0.8427 - val_loss: 0.1792 - val_accuracy: 0.9520\n",
      "Epoch 64/100\n",
      "18000/18000 [==============================] - 0s 25us/sample - loss: 0.4156 - accuracy: 0.8400 - val_loss: 0.1741 - val_accuracy: 0.9627\n",
      "Epoch 65/100\n",
      "18000/18000 [==============================] - 0s 24us/sample - loss: 0.4036 - accuracy: 0.8462 - val_loss: 0.1588 - val_accuracy: 0.9567\n",
      "Epoch 66/100\n",
      "18000/18000 [==============================] - 0s 25us/sample - loss: 0.4092 - accuracy: 0.8441 - val_loss: 0.1717 - val_accuracy: 0.9580\n",
      "Epoch 67/100\n",
      "18000/18000 [==============================] - 0s 24us/sample - loss: 0.3958 - accuracy: 0.8487 - val_loss: 0.1841 - val_accuracy: 0.9433\n",
      "Epoch 68/100\n",
      "18000/18000 [==============================] - 0s 25us/sample - loss: 0.4158 - accuracy: 0.8373 - val_loss: 0.1609 - val_accuracy: 0.9547\n",
      "Epoch 69/100\n",
      "18000/18000 [==============================] - 0s 23us/sample - loss: 0.3995 - accuracy: 0.8485 - val_loss: 0.1450 - val_accuracy: 0.9620\n",
      "Epoch 70/100\n",
      "18000/18000 [==============================] - 0s 24us/sample - loss: 0.3921 - accuracy: 0.8509 - val_loss: 0.1540 - val_accuracy: 0.9640\n",
      "Epoch 71/100\n",
      "18000/18000 [==============================] - 0s 25us/sample - loss: 0.3916 - accuracy: 0.8510 - val_loss: 0.1428 - val_accuracy: 0.9687\n",
      "Epoch 72/100\n",
      "18000/18000 [==============================] - 0s 24us/sample - loss: 0.3862 - accuracy: 0.8536 - val_loss: 0.1524 - val_accuracy: 0.9660\n",
      "Epoch 73/100\n",
      "18000/18000 [==============================] - 0s 24us/sample - loss: 0.3827 - accuracy: 0.8534 - val_loss: 0.1447 - val_accuracy: 0.9680\n",
      "Epoch 74/100\n",
      "18000/18000 [==============================] - 0s 25us/sample - loss: 0.3876 - accuracy: 0.8543 - val_loss: 0.1452 - val_accuracy: 0.9680\n",
      "Epoch 75/100\n",
      "18000/18000 [==============================] - 0s 24us/sample - loss: 0.3871 - accuracy: 0.8540 - val_loss: 0.1351 - val_accuracy: 0.9707\n",
      "Epoch 76/100\n",
      "18000/18000 [==============================] - 0s 23us/sample - loss: 0.3969 - accuracy: 0.8471 - val_loss: 0.1399 - val_accuracy: 0.9593\n",
      "Epoch 77/100\n",
      "18000/18000 [==============================] - 0s 24us/sample - loss: 0.3825 - accuracy: 0.8557 - val_loss: 0.1410 - val_accuracy: 0.9673\n",
      "Epoch 78/100\n",
      "18000/18000 [==============================] - 0s 23us/sample - loss: 0.3798 - accuracy: 0.8556 - val_loss: 0.1370 - val_accuracy: 0.9673\n",
      "Epoch 79/100\n",
      "18000/18000 [==============================] - 0s 26us/sample - loss: 0.3652 - accuracy: 0.8577 - val_loss: 0.1210 - val_accuracy: 0.9747\n",
      "Epoch 80/100\n",
      "18000/18000 [==============================] - 0s 23us/sample - loss: 0.3694 - accuracy: 0.8603 - val_loss: 0.1302 - val_accuracy: 0.9693\n",
      "Epoch 81/100\n",
      "18000/18000 [==============================] - 0s 23us/sample - loss: 0.3580 - accuracy: 0.8646 - val_loss: 0.1213 - val_accuracy: 0.9760\n",
      "Epoch 82/100\n",
      "18000/18000 [==============================] - 0s 23us/sample - loss: 0.3672 - accuracy: 0.8612 - val_loss: 0.1274 - val_accuracy: 0.9687\n",
      "Epoch 83/100\n",
      "18000/18000 [==============================] - 0s 23us/sample - loss: 0.3612 - accuracy: 0.8647 - val_loss: 0.1129 - val_accuracy: 0.9767\n",
      "Epoch 84/100\n",
      "18000/18000 [==============================] - 0s 23us/sample - loss: 0.3561 - accuracy: 0.8654 - val_loss: 0.1298 - val_accuracy: 0.9667\n",
      "Epoch 85/100\n",
      "18000/18000 [==============================] - 0s 23us/sample - loss: 0.3487 - accuracy: 0.8726 - val_loss: 0.1195 - val_accuracy: 0.9687\n",
      "Epoch 86/100\n",
      "18000/18000 [==============================] - 0s 23us/sample - loss: 0.3548 - accuracy: 0.8649 - val_loss: 0.1274 - val_accuracy: 0.9687\n",
      "Epoch 87/100\n",
      "18000/18000 [==============================] - 0s 23us/sample - loss: 0.3595 - accuracy: 0.8652 - val_loss: 0.1433 - val_accuracy: 0.9613\n",
      "Epoch 88/100\n",
      "18000/18000 [==============================] - 0s 23us/sample - loss: 0.3559 - accuracy: 0.8662 - val_loss: 0.1101 - val_accuracy: 0.9713\n",
      "Epoch 89/100\n",
      "18000/18000 [==============================] - 0s 23us/sample - loss: 0.3459 - accuracy: 0.8694 - val_loss: 0.1128 - val_accuracy: 0.9767\n",
      "Epoch 90/100\n",
      "18000/18000 [==============================] - 0s 23us/sample - loss: 0.3435 - accuracy: 0.8732 - val_loss: 0.1218 - val_accuracy: 0.9727\n",
      "Epoch 91/100\n",
      "18000/18000 [==============================] - 0s 23us/sample - loss: 0.3384 - accuracy: 0.8723 - val_loss: 0.1194 - val_accuracy: 0.9707\n",
      "Epoch 92/100\n",
      "18000/18000 [==============================] - 0s 23us/sample - loss: 0.3324 - accuracy: 0.8747 - val_loss: 0.1138 - val_accuracy: 0.9687\n",
      "Epoch 93/100\n",
      "18000/18000 [==============================] - 0s 23us/sample - loss: 0.3510 - accuracy: 0.8667 - val_loss: 0.1252 - val_accuracy: 0.9680\n",
      "Epoch 94/100\n",
      "18000/18000 [==============================] - 0s 24us/sample - loss: 0.3410 - accuracy: 0.8713 - val_loss: 0.1104 - val_accuracy: 0.9727\n",
      "Epoch 95/100\n",
      "18000/18000 [==============================] - 0s 23us/sample - loss: 0.3359 - accuracy: 0.8758 - val_loss: 0.1345 - val_accuracy: 0.9620\n",
      "Epoch 96/100\n",
      "18000/18000 [==============================] - 0s 23us/sample - loss: 0.3327 - accuracy: 0.8755 - val_loss: 0.1173 - val_accuracy: 0.9680\n",
      "Epoch 97/100\n",
      "18000/18000 [==============================] - 0s 23us/sample - loss: 0.3287 - accuracy: 0.8772 - val_loss: 0.1016 - val_accuracy: 0.9773\n",
      "Epoch 98/100\n",
      "18000/18000 [==============================] - 0s 23us/sample - loss: 0.3321 - accuracy: 0.8745 - val_loss: 0.0993 - val_accuracy: 0.9727\n",
      "Epoch 99/100\n",
      "18000/18000 [==============================] - 0s 23us/sample - loss: 0.3340 - accuracy: 0.8754 - val_loss: 0.1211 - val_accuracy: 0.9600\n",
      "Epoch 100/100\n",
      "18000/18000 [==============================] - 0s 23us/sample - loss: 0.3383 - accuracy: 0.8706 - val_loss: 0.1089 - val_accuracy: 0.9720\n",
      "Wall time: 53.9 s\n"
     ]
    },
    {
     "data": {
      "text/plain": [
       "<tensorflow.python.keras.callbacks.History at 0x2814ac651c8>"
      ]
     },
     "execution_count": 9,
     "metadata": {},
     "output_type": "execute_result"
    }
   ],
   "source": [
    "%%time\n",
    "model.fit(x=X_train, y=y_train, epochs=100, batch_size=512, validation_data=(X_test, y_test))"
   ]
  },
  {
   "cell_type": "markdown",
   "id": "e4fe55d6",
   "metadata": {},
   "source": [
    "# Modle Performance"
   ]
  },
  {
   "cell_type": "code",
   "execution_count": 10,
   "id": "95f922ea",
   "metadata": {},
   "outputs": [],
   "source": [
    "losses = pd.DataFrame(model.history.history)"
   ]
  },
  {
   "cell_type": "code",
   "execution_count": 11,
   "id": "858af874",
   "metadata": {},
   "outputs": [
    {
     "data": {
      "text/plain": [
       "<AxesSubplot:>"
      ]
     },
     "execution_count": 11,
     "metadata": {},
     "output_type": "execute_result"
    },
    {
     "data": {
      "image/png": "[encoded data removed]",
      "text/plain": [
       "<Figure size 432x288 with 1 Axes>"
      ]
     },
     "metadata": {
      "needs_background": "light"
     },
     "output_type": "display_data"
    }
   ],
   "source": [
    "losses[['loss','val_loss']].plot()"
   ]
  },
  {
   "cell_type": "markdown",
   "id": "93b49aac",
   "metadata": {},
   "source": [
    "# Predict"
   ]
  },
  {
   "cell_type": "code",
   "execution_count": 12,
   "id": "ce2c6191",
   "metadata": {},
   "outputs": [],
   "source": [
    "predictions = model.predict(X_test)"
   ]
  },
  {
   "cell_type": "markdown",
   "id": "d57637f8",
   "metadata": {},
   "source": [
    "\n",
    "# Confusion Matrix"
   ]
  },
  {
   "cell_type": "code",
   "execution_count": 13,
   "id": "1dfbf087",
   "metadata": {},
   "outputs": [],
   "source": [
    "y_test_arg=np.argmax(y_test,axis=1)\n",
    "Y_pred = np.argmax(predictions,axis=1)"
   ]
  },
  {
   "cell_type": "code",
   "execution_count": 14,
   "id": "5e7bef94",
   "metadata": {},
   "outputs": [
    {
     "name": "stdout",
     "output_type": "stream",
     "text": [
      "[[243   1   0   0   0   6]\n",
      " [  0 250   0   0   0   0]\n",
      " [  0   0 249   0   0   1]\n",
      " [  6   0   0 244   0   0]\n",
      " [  8   0   2   0 227  13]\n",
      " [  5   0   0   0   0 245]]\n"
     ]
    }
   ],
   "source": [
    "print(confusion_matrix(y_test_arg, Y_pred))"
   ]
  },
  {
   "cell_type": "code",
   "execution_count": 15,
   "id": "a9aff162",
   "metadata": {},
   "outputs": [
    {
     "data": {
      "text/plain": [
       "<AxesSubplot:>"
      ]
     },
     "execution_count": 15,
     "metadata": {},
     "output_type": "execute_result"
    },
    {
     "data": {
      "image/png": "[encoded data removed]",
      "text/plain": [
       "<Figure size 432x288 with 2 Axes>"
      ]
     },
     "metadata": {},
     "output_type": "display_data"
    }
   ],
   "source": [
    "array = metrics.confusion_matrix(y_test_arg, Y_pred)\n",
    "df_cm = pd.DataFrame(array, range(6), range(6))\n",
    "# plt.figure(figsize=(10,7))\n",
    "sns.set(font_scale=1) # for label size\n",
    "sns.heatmap(df_cm, annot=True, annot_kws={\"size\": 11}, cmap=\"OrRd\") # font size"
   ]
  },
  {
   "cell_type": "markdown",
   "id": "42627778",
   "metadata": {},
   "source": [
    "# classification Report"
   ]
  },
  {
   "cell_type": "code",
   "execution_count": 16,
   "id": "947405a5",
   "metadata": {},
   "outputs": [
    {
     "name": "stdout",
     "output_type": "stream",
     "text": [
      "              precision    recall  f1-score   support\n",
      "\n",
      "           0       0.93      0.97      0.95       250\n",
      "           1       1.00      1.00      1.00       250\n",
      "           2       0.99      1.00      0.99       250\n",
      "           3       1.00      0.98      0.99       250\n",
      "           4       1.00      0.91      0.95       250\n",
      "           5       0.92      0.98      0.95       250\n",
      "\n",
      "    accuracy                           0.97      1500\n",
      "   macro avg       0.97      0.97      0.97      1500\n",
      "weighted avg       0.97      0.97      0.97      1500\n",
      "\n"
     ]
    }
   ],
   "source": [
    "print(classification_report(y_test_arg, Y_pred))"
   ]
  },
  {
   "cell_type": "code",
   "execution_count": null,
   "id": "17de918c",
   "metadata": {},
   "outputs": [],
   "source": []
  }
 ],
 "metadata": {
  "kernelspec": {
   "display_name": "Python 3.7 (tensorflow)",
   "language": "python",
   "name": "tensorflow"
  },
  "language_info": {
   "codemirror_mode": {
    "name": "ipython",
    "version": 3
   },
   "file_extension": ".py",
   "mimetype": "text/x-python",
   "name": "python",
   "nbconvert_exporter": "python",
   "pygments_lexer": "ipython3",
   "version": "3.7.9"
  }
 },
 "nbformat": 4,
 "nbformat_minor": 5
}
