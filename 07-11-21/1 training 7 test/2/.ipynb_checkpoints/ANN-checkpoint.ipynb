{
 "cells": [
  {
   "cell_type": "markdown",
   "id": "c17badd4",
   "metadata": {},
   "source": [
    "# ANN"
   ]
  },
  {
   "cell_type": "code",
   "execution_count": 1,
   "id": "f5df428c",
   "metadata": {},
   "outputs": [],
   "source": [
    "import pandas as pd\n",
    "import numpy as np\n",
    "import matplotlib.pyplot as plt\n",
    "import seaborn as sns\n",
    "%matplotlib inline\n",
    "\n",
    "from sklearn.preprocessing import OneHotEncoder, MinMaxScaler\n",
    "\n",
    "import tensorflow as tf\n",
    "from tensorflow.keras.models import Sequential\n",
    "from tensorflow.keras.layers import Dense, Activation,Dropout\n",
    "from sklearn.metrics import classification_report,confusion_matrix, plot_confusion_matrix\n",
    "import sklearn.metrics as metrics"
   ]
  },
  {
   "cell_type": "markdown",
   "id": "f9a4b800",
   "metadata": {},
   "source": [
    "# Input Data"
   ]
  },
  {
   "cell_type": "code",
   "execution_count": 2,
   "id": "fe15956c",
   "metadata": {},
   "outputs": [],
   "source": [
    "df = pd.read_csv('../Data.csv')"
   ]
  },
  {
   "cell_type": "code",
   "execution_count": 3,
   "id": "bef654bb",
   "metadata": {},
   "outputs": [],
   "source": [
    "dft = pd.read_csv('testing2.csv')"
   ]
  },
  {
   "cell_type": "code",
   "execution_count": 4,
   "id": "0f5337c0",
   "metadata": {},
   "outputs": [],
   "source": [
    "# X_train, X_test, y_train, y_test = train_test_split(X,y,test_size=0.25,random_state=101)\n",
    "X_train = df.drop('label',axis=1).values\n",
    "y_train = df['label'].values\n",
    "\n",
    "X_test = dft.drop('label',axis=1).values\n",
    "y_test = dft['label'].values"
   ]
  },
  {
   "cell_type": "markdown",
   "id": "b1318dcd",
   "metadata": {},
   "source": [
    "# One-hot encode the target"
   ]
  },
  {
   "cell_type": "code",
   "execution_count": 5,
   "id": "87b0bdf6",
   "metadata": {},
   "outputs": [],
   "source": [
    "enc = OneHotEncoder(sparse=False, handle_unknown='ignore')\n",
    "enc.fit(y_train.reshape(-1, 1))\n",
    "y_train = enc.transform(y_train.reshape(-1, 1))\n",
    "y_test = enc.transform(y_test.reshape(-1, 1))"
   ]
  },
  {
   "cell_type": "code",
   "execution_count": 6,
   "id": "5c52d6bd",
   "metadata": {},
   "outputs": [
    {
     "name": "stdout",
     "output_type": "stream",
     "text": [
      "(18000, 6) (1500, 6)\n"
     ]
    }
   ],
   "source": [
    "print(y_train.shape, y_test.shape)"
   ]
  },
  {
   "cell_type": "markdown",
   "id": "ccf0c799",
   "metadata": {},
   "source": [
    "# scale the features"
   ]
  },
  {
   "cell_type": "code",
   "execution_count": 7,
   "id": "3c544b11",
   "metadata": {},
   "outputs": [],
   "source": [
    "scaler = MinMaxScaler()\n",
    "scaler.fit(X_train)\n",
    "X_train = scaler.transform(X_train)\n",
    "X_test = scaler.transform(X_test)"
   ]
  },
  {
   "cell_type": "code",
   "execution_count": 8,
   "id": "e3e4af3c",
   "metadata": {},
   "outputs": [],
   "source": [
    "model = Sequential()\n",
    "\n",
    "model.add(Dense(units=64,activation='relu'))\n",
    "model.add(Dense(units=128,activation='relu'))\n",
    "model.add(Dropout(0.5))\n",
    "\n",
    "model.add(Dense(units=128,activation='relu'))\n",
    "model.add(Dense(units=512,activation='relu'))\n",
    "model.add(Dropout(0.5))\n",
    "\n",
    "model.add(Dense(units=521,activation='relu'))\n",
    "model.add(Dropout(0.5))\n",
    "\n",
    "model.add(Dense(6, activation='softmax'))\n",
    "# Compile model\n",
    "model.compile(optimizer='adam',\n",
    "              loss='categorical_crossentropy',\n",
    "              metrics=['accuracy'])"
   ]
  },
  {
   "cell_type": "code",
   "execution_count": 9,
   "id": "3fd0d04b",
   "metadata": {},
   "outputs": [
    {
     "name": "stdout",
     "output_type": "stream",
     "text": [
      "Train on 18000 samples, validate on 1500 samples\n",
      "Epoch 1/100\n",
      "18000/18000 [==============================] - 1s 80us/sample - loss: 1.7088 - accuracy: 0.2518 - val_loss: 1.5426 - val_accuracy: 0.4480\n",
      "Epoch 2/100\n",
      "18000/18000 [==============================] - 0s 26us/sample - loss: 1.4653 - accuracy: 0.4172 - val_loss: 1.3629 - val_accuracy: 0.4820\n",
      "Epoch 3/100\n",
      "18000/18000 [==============================] - 0s 23us/sample - loss: 1.3393 - accuracy: 0.4856 - val_loss: 1.2674 - val_accuracy: 0.5407\n",
      "Epoch 4/100\n",
      "18000/18000 [==============================] - 0s 22us/sample - loss: 1.2457 - accuracy: 0.5233 - val_loss: 1.1837 - val_accuracy: 0.6120\n",
      "Epoch 5/100\n",
      "18000/18000 [==============================] - 0s 22us/sample - loss: 1.1690 - accuracy: 0.5550 - val_loss: 1.1206 - val_accuracy: 0.6187\n",
      "Epoch 6/100\n",
      "18000/18000 [==============================] - 0s 22us/sample - loss: 1.1187 - accuracy: 0.5786 - val_loss: 1.0534 - val_accuracy: 0.6407\n",
      "Epoch 7/100\n",
      "18000/18000 [==============================] - 0s 22us/sample - loss: 1.0795 - accuracy: 0.5923 - val_loss: 1.0408 - val_accuracy: 0.6520\n",
      "Epoch 8/100\n",
      "18000/18000 [==============================] - 0s 22us/sample - loss: 1.0354 - accuracy: 0.6086 - val_loss: 1.0235 - val_accuracy: 0.6407\n",
      "Epoch 9/100\n",
      "18000/18000 [==============================] - 0s 22us/sample - loss: 0.9946 - accuracy: 0.6244 - val_loss: 0.9736 - val_accuracy: 0.6867\n",
      "Epoch 10/100\n",
      "18000/18000 [==============================] - 0s 22us/sample - loss: 0.9629 - accuracy: 0.6357 - val_loss: 0.9249 - val_accuracy: 0.6980\n",
      "Epoch 11/100\n",
      "18000/18000 [==============================] - 0s 22us/sample - loss: 0.9310 - accuracy: 0.6460 - val_loss: 0.9056 - val_accuracy: 0.6967\n",
      "Epoch 12/100\n",
      "18000/18000 [==============================] - 0s 23us/sample - loss: 0.9061 - accuracy: 0.6549 - val_loss: 0.9524 - val_accuracy: 0.6767\n",
      "Epoch 13/100\n",
      "18000/18000 [==============================] - 0s 23us/sample - loss: 0.8830 - accuracy: 0.6658 - val_loss: 0.8887 - val_accuracy: 0.7213\n",
      "Epoch 14/100\n",
      "18000/18000 [==============================] - 0s 23us/sample - loss: 0.8384 - accuracy: 0.6821 - val_loss: 0.8689 - val_accuracy: 0.7460\n",
      "Epoch 15/100\n",
      "18000/18000 [==============================] - 0s 22us/sample - loss: 0.8192 - accuracy: 0.6911 - val_loss: 0.8943 - val_accuracy: 0.7367\n",
      "Epoch 16/100\n",
      "18000/18000 [==============================] - 0s 22us/sample - loss: 0.7922 - accuracy: 0.6989 - val_loss: 0.8925 - val_accuracy: 0.7313\n",
      "Epoch 17/100\n",
      "18000/18000 [==============================] - 0s 23us/sample - loss: 0.7714 - accuracy: 0.7059 - val_loss: 0.8578 - val_accuracy: 0.7767\n",
      "Epoch 18/100\n",
      "18000/18000 [==============================] - 0s 23us/sample - loss: 0.7489 - accuracy: 0.7126 - val_loss: 0.8384 - val_accuracy: 0.7680\n",
      "Epoch 19/100\n",
      "18000/18000 [==============================] - 0s 22us/sample - loss: 0.7232 - accuracy: 0.7264 - val_loss: 0.8206 - val_accuracy: 0.7660\n",
      "Epoch 20/100\n",
      "18000/18000 [==============================] - 0s 22us/sample - loss: 0.7032 - accuracy: 0.7325 - val_loss: 0.8142 - val_accuracy: 0.7800\n",
      "Epoch 21/100\n",
      "18000/18000 [==============================] - 0s 22us/sample - loss: 0.6923 - accuracy: 0.7371 - val_loss: 0.7980 - val_accuracy: 0.8007\n",
      "Epoch 22/100\n",
      "18000/18000 [==============================] - 0s 22us/sample - loss: 0.6759 - accuracy: 0.7419 - val_loss: 0.7736 - val_accuracy: 0.7987\n",
      "Epoch 23/100\n",
      "18000/18000 [==============================] - 0s 23us/sample - loss: 0.6622 - accuracy: 0.7482 - val_loss: 0.7793 - val_accuracy: 0.8127\n",
      "Epoch 24/100\n",
      "18000/18000 [==============================] - 0s 22us/sample - loss: 0.6393 - accuracy: 0.7571 - val_loss: 0.7779 - val_accuracy: 0.8100\n",
      "Epoch 25/100\n",
      "18000/18000 [==============================] - 0s 23us/sample - loss: 0.6238 - accuracy: 0.7607 - val_loss: 0.7784 - val_accuracy: 0.8113\n",
      "Epoch 26/100\n",
      "18000/18000 [==============================] - 0s 25us/sample - loss: 0.6099 - accuracy: 0.7678 - val_loss: 0.7961 - val_accuracy: 0.8053\n",
      "Epoch 27/100\n",
      "18000/18000 [==============================] - 0s 25us/sample - loss: 0.5984 - accuracy: 0.7736 - val_loss: 0.7751 - val_accuracy: 0.8053\n",
      "Epoch 28/100\n",
      "18000/18000 [==============================] - 0s 24us/sample - loss: 0.5881 - accuracy: 0.7741 - val_loss: 0.7612 - val_accuracy: 0.8287\n",
      "Epoch 29/100\n",
      "18000/18000 [==============================] - 0s 24us/sample - loss: 0.5820 - accuracy: 0.7787 - val_loss: 0.7591 - val_accuracy: 0.8207\n",
      "Epoch 30/100\n",
      "18000/18000 [==============================] - 0s 24us/sample - loss: 0.5646 - accuracy: 0.7843 - val_loss: 0.7886 - val_accuracy: 0.8273\n",
      "Epoch 31/100\n",
      "18000/18000 [==============================] - 0s 25us/sample - loss: 0.5640 - accuracy: 0.7844 - val_loss: 0.7497 - val_accuracy: 0.8293\n",
      "Epoch 32/100\n",
      "18000/18000 [==============================] - 0s 25us/sample - loss: 0.5480 - accuracy: 0.7898 - val_loss: 0.7794 - val_accuracy: 0.8333\n",
      "Epoch 33/100\n",
      "18000/18000 [==============================] - 0s 23us/sample - loss: 0.5297 - accuracy: 0.7993 - val_loss: 0.7445 - val_accuracy: 0.8467\n",
      "Epoch 34/100\n",
      "18000/18000 [==============================] - 0s 25us/sample - loss: 0.5213 - accuracy: 0.8022 - val_loss: 0.7651 - val_accuracy: 0.8440\n",
      "Epoch 35/100\n",
      "18000/18000 [==============================] - 0s 24us/sample - loss: 0.5308 - accuracy: 0.7968 - val_loss: 0.7339 - val_accuracy: 0.8480\n",
      "Epoch 36/100\n",
      "18000/18000 [==============================] - 0s 23us/sample - loss: 0.5044 - accuracy: 0.8083 - val_loss: 0.7064 - val_accuracy: 0.8573\n",
      "Epoch 37/100\n",
      "18000/18000 [==============================] - 0s 22us/sample - loss: 0.4893 - accuracy: 0.8147 - val_loss: 0.7697 - val_accuracy: 0.8460\n",
      "Epoch 38/100\n",
      "18000/18000 [==============================] - 0s 24us/sample - loss: 0.4989 - accuracy: 0.8087 - val_loss: 0.7321 - val_accuracy: 0.8433\n",
      "Epoch 39/100\n",
      "18000/18000 [==============================] - 0s 24us/sample - loss: 0.4748 - accuracy: 0.8201 - val_loss: 0.7747 - val_accuracy: 0.8520\n",
      "Epoch 40/100\n",
      "18000/18000 [==============================] - 0s 22us/sample - loss: 0.4760 - accuracy: 0.8167 - val_loss: 0.7057 - val_accuracy: 0.8567\n",
      "Epoch 41/100\n",
      "18000/18000 [==============================] - 0s 23us/sample - loss: 0.4790 - accuracy: 0.8198 - val_loss: 0.8106 - val_accuracy: 0.8467\n",
      "Epoch 42/100\n",
      "18000/18000 [==============================] - 0s 25us/sample - loss: 0.4621 - accuracy: 0.8240 - val_loss: 0.6896 - val_accuracy: 0.8773\n",
      "Epoch 43/100\n",
      "18000/18000 [==============================] - 0s 23us/sample - loss: 0.4575 - accuracy: 0.8243 - val_loss: 0.6958 - val_accuracy: 0.8813\n",
      "Epoch 44/100\n",
      "18000/18000 [==============================] - 0s 22us/sample - loss: 0.4451 - accuracy: 0.8309 - val_loss: 0.7094 - val_accuracy: 0.8807\n",
      "Epoch 45/100\n",
      "18000/18000 [==============================] - 0s 22us/sample - loss: 0.4431 - accuracy: 0.8331 - val_loss: 0.7214 - val_accuracy: 0.8713\n",
      "Epoch 46/100\n",
      "18000/18000 [==============================] - 0s 22us/sample - loss: 0.4407 - accuracy: 0.8316 - val_loss: 0.6593 - val_accuracy: 0.8793\n",
      "Epoch 47/100\n",
      "18000/18000 [==============================] - 0s 24us/sample - loss: 0.4293 - accuracy: 0.8392 - val_loss: 0.7460 - val_accuracy: 0.8720\n",
      "Epoch 48/100\n",
      "18000/18000 [==============================] - 0s 25us/sample - loss: 0.4375 - accuracy: 0.8304 - val_loss: 0.7906 - val_accuracy: 0.8753\n",
      "Epoch 49/100\n",
      "18000/18000 [==============================] - 0s 22us/sample - loss: 0.4324 - accuracy: 0.8357 - val_loss: 0.8003 - val_accuracy: 0.8667\n",
      "Epoch 50/100\n",
      "18000/18000 [==============================] - 0s 23us/sample - loss: 0.4157 - accuracy: 0.8408 - val_loss: 0.7349 - val_accuracy: 0.8927\n",
      "Epoch 51/100\n",
      "18000/18000 [==============================] - 0s 24us/sample - loss: 0.4267 - accuracy: 0.8362 - val_loss: 0.6582 - val_accuracy: 0.8947\n",
      "Epoch 52/100\n",
      "18000/18000 [==============================] - 0s 23us/sample - loss: 0.4150 - accuracy: 0.8406 - val_loss: 0.7543 - val_accuracy: 0.8880\n",
      "Epoch 53/100\n",
      "18000/18000 [==============================] - 0s 22us/sample - loss: 0.4090 - accuracy: 0.8431 - val_loss: 0.7267 - val_accuracy: 0.8847\n",
      "Epoch 54/100\n",
      "18000/18000 [==============================] - 0s 23us/sample - loss: 0.4064 - accuracy: 0.8469 - val_loss: 0.7507 - val_accuracy: 0.8907\n"
     ]
    },
    {
     "name": "stdout",
     "output_type": "stream",
     "text": [
      "Epoch 55/100\n",
      "18000/18000 [==============================] - 0s 24us/sample - loss: 0.4070 - accuracy: 0.8481 - val_loss: 0.7398 - val_accuracy: 0.8867\n",
      "Epoch 56/100\n",
      "18000/18000 [==============================] - 0s 24us/sample - loss: 0.3801 - accuracy: 0.8529 - val_loss: 0.7638 - val_accuracy: 0.9013\n",
      "Epoch 57/100\n",
      "18000/18000 [==============================] - 0s 22us/sample - loss: 0.3989 - accuracy: 0.8467 - val_loss: 0.7792 - val_accuracy: 0.8867\n",
      "Epoch 58/100\n",
      "18000/18000 [==============================] - 0s 23us/sample - loss: 0.3984 - accuracy: 0.8479 - val_loss: 0.7172 - val_accuracy: 0.8960\n",
      "Epoch 59/100\n",
      "18000/18000 [==============================] - 0s 22us/sample - loss: 0.3829 - accuracy: 0.8547 - val_loss: 0.7498 - val_accuracy: 0.8893\n",
      "Epoch 60/100\n",
      "18000/18000 [==============================] - 0s 22us/sample - loss: 0.3751 - accuracy: 0.8561 - val_loss: 0.7769 - val_accuracy: 0.8900\n",
      "Epoch 61/100\n",
      "18000/18000 [==============================] - 0s 22us/sample - loss: 0.3755 - accuracy: 0.8558 - val_loss: 0.7870 - val_accuracy: 0.8967\n",
      "Epoch 62/100\n",
      "18000/18000 [==============================] - 0s 23us/sample - loss: 0.3816 - accuracy: 0.8559 - val_loss: 0.7602 - val_accuracy: 0.9020\n",
      "Epoch 63/100\n",
      "18000/18000 [==============================] - 0s 22us/sample - loss: 0.3662 - accuracy: 0.8614 - val_loss: 0.7583 - val_accuracy: 0.9040\n",
      "Epoch 64/100\n",
      "18000/18000 [==============================] - ETA: 0s - loss: 0.3656 - accuracy: 0.86 - 0s 23us/sample - loss: 0.3641 - accuracy: 0.8602 - val_loss: 0.7103 - val_accuracy: 0.9127\n",
      "Epoch 65/100\n",
      "18000/18000 [==============================] - 0s 22us/sample - loss: 0.3548 - accuracy: 0.8666 - val_loss: 0.7681 - val_accuracy: 0.9020\n",
      "Epoch 66/100\n",
      "18000/18000 [==============================] - 0s 23us/sample - loss: 0.3489 - accuracy: 0.8649 - val_loss: 0.7709 - val_accuracy: 0.9053\n",
      "Epoch 67/100\n",
      "18000/18000 [==============================] - 0s 23us/sample - loss: 0.3534 - accuracy: 0.8668 - val_loss: 0.7718 - val_accuracy: 0.9007\n",
      "Epoch 68/100\n",
      "18000/18000 [==============================] - 0s 23us/sample - loss: 0.3450 - accuracy: 0.8699 - val_loss: 0.7677 - val_accuracy: 0.9140\n",
      "Epoch 69/100\n",
      "18000/18000 [==============================] - 0s 22us/sample - loss: 0.3435 - accuracy: 0.8686 - val_loss: 0.7461 - val_accuracy: 0.9040\n",
      "Epoch 70/100\n",
      "18000/18000 [==============================] - 0s 22us/sample - loss: 0.3443 - accuracy: 0.8700 - val_loss: 0.7967 - val_accuracy: 0.9040\n",
      "Epoch 71/100\n",
      "18000/18000 [==============================] - 0s 22us/sample - loss: 0.3470 - accuracy: 0.8676 - val_loss: 0.6979 - val_accuracy: 0.9160\n",
      "Epoch 72/100\n",
      "18000/18000 [==============================] - 0s 23us/sample - loss: 0.3379 - accuracy: 0.8698 - val_loss: 0.7657 - val_accuracy: 0.9047\n",
      "Epoch 73/100\n",
      "18000/18000 [==============================] - 0s 23us/sample - loss: 0.3372 - accuracy: 0.8719 - val_loss: 0.7867 - val_accuracy: 0.9060\n",
      "Epoch 74/100\n",
      "18000/18000 [==============================] - 0s 23us/sample - loss: 0.3291 - accuracy: 0.8784 - val_loss: 0.8013 - val_accuracy: 0.9100\n",
      "Epoch 75/100\n",
      "18000/18000 [==============================] - 0s 23us/sample - loss: 0.3418 - accuracy: 0.8724 - val_loss: 0.7471 - val_accuracy: 0.9133\n",
      "Epoch 76/100\n",
      "18000/18000 [==============================] - 0s 23us/sample - loss: 0.3350 - accuracy: 0.8711 - val_loss: 0.7959 - val_accuracy: 0.9047\n",
      "Epoch 77/100\n",
      "18000/18000 [==============================] - 0s 23us/sample - loss: 0.3296 - accuracy: 0.8762 - val_loss: 0.8200 - val_accuracy: 0.9100\n",
      "Epoch 78/100\n",
      "18000/18000 [==============================] - 0s 23us/sample - loss: 0.3280 - accuracy: 0.8759 - val_loss: 0.7128 - val_accuracy: 0.9120\n",
      "Epoch 79/100\n",
      "18000/18000 [==============================] - 0s 24us/sample - loss: 0.3287 - accuracy: 0.8743 - val_loss: 0.8145 - val_accuracy: 0.9127\n",
      "Epoch 80/100\n",
      "18000/18000 [==============================] - 0s 22us/sample - loss: 0.3180 - accuracy: 0.8795 - val_loss: 0.7793 - val_accuracy: 0.9160\n",
      "Epoch 81/100\n",
      "18000/18000 [==============================] - 0s 23us/sample - loss: 0.3239 - accuracy: 0.8769 - val_loss: 0.8418 - val_accuracy: 0.9067\n",
      "Epoch 82/100\n",
      "18000/18000 [==============================] - 0s 23us/sample - loss: 0.3346 - accuracy: 0.8741 - val_loss: 0.7518 - val_accuracy: 0.9160\n",
      "Epoch 83/100\n",
      "18000/18000 [==============================] - 0s 23us/sample - loss: 0.3114 - accuracy: 0.8838 - val_loss: 0.7596 - val_accuracy: 0.9073\n",
      "Epoch 84/100\n",
      "18000/18000 [==============================] - 0s 22us/sample - loss: 0.3261 - accuracy: 0.8761 - val_loss: 0.7808 - val_accuracy: 0.9033\n",
      "Epoch 85/100\n",
      "18000/18000 [==============================] - 0s 23us/sample - loss: 0.3131 - accuracy: 0.8838 - val_loss: 0.8116 - val_accuracy: 0.9133\n",
      "Epoch 86/100\n",
      "18000/18000 [==============================] - 0s 23us/sample - loss: 0.2990 - accuracy: 0.8879 - val_loss: 0.7595 - val_accuracy: 0.9207\n",
      "Epoch 87/100\n",
      "18000/18000 [==============================] - 0s 23us/sample - loss: 0.3147 - accuracy: 0.8820 - val_loss: 0.7721 - val_accuracy: 0.9107\n",
      "Epoch 88/100\n",
      "18000/18000 [==============================] - 0s 23us/sample - loss: 0.3152 - accuracy: 0.8835 - val_loss: 0.7659 - val_accuracy: 0.9147\n",
      "Epoch 89/100\n",
      "18000/18000 [==============================] - 0s 26us/sample - loss: 0.3056 - accuracy: 0.8848 - val_loss: 0.8033 - val_accuracy: 0.9180\n",
      "Epoch 90/100\n",
      "18000/18000 [==============================] - 0s 28us/sample - loss: 0.3138 - accuracy: 0.8832 - val_loss: 0.7921 - val_accuracy: 0.9173\n",
      "Epoch 91/100\n",
      "18000/18000 [==============================] - 0s 23us/sample - loss: 0.3053 - accuracy: 0.8870 - val_loss: 0.8162 - val_accuracy: 0.9187\n",
      "Epoch 92/100\n",
      "18000/18000 [==============================] - 0s 23us/sample - loss: 0.2952 - accuracy: 0.8896 - val_loss: 0.8719 - val_accuracy: 0.9147\n",
      "Epoch 93/100\n",
      "18000/18000 [==============================] - 0s 23us/sample - loss: 0.2894 - accuracy: 0.8881 - val_loss: 0.8275 - val_accuracy: 0.9173\n",
      "Epoch 94/100\n",
      "18000/18000 [==============================] - 0s 23us/sample - loss: 0.2909 - accuracy: 0.8907 - val_loss: 0.8231 - val_accuracy: 0.9220\n",
      "Epoch 95/100\n",
      "18000/18000 [==============================] - 0s 23us/sample - loss: 0.2996 - accuracy: 0.8871 - val_loss: 0.8080 - val_accuracy: 0.9093\n",
      "Epoch 96/100\n",
      "18000/18000 [==============================] - 0s 23us/sample - loss: 0.2891 - accuracy: 0.8889 - val_loss: 0.8236 - val_accuracy: 0.9227\n",
      "Epoch 97/100\n",
      "18000/18000 [==============================] - 0s 25us/sample - loss: 0.2896 - accuracy: 0.8907 - val_loss: 0.8491 - val_accuracy: 0.9180\n",
      "Epoch 98/100\n",
      "18000/18000 [==============================] - 0s 24us/sample - loss: 0.2916 - accuracy: 0.8916 - val_loss: 0.9024 - val_accuracy: 0.9133\n",
      "Epoch 99/100\n",
      "18000/18000 [==============================] - 0s 24us/sample - loss: 0.2982 - accuracy: 0.8899 - val_loss: 0.7810 - val_accuracy: 0.9247\n",
      "Epoch 100/100\n",
      "18000/18000 [==============================] - 0s 25us/sample - loss: 0.2786 - accuracy: 0.8969 - val_loss: 0.8750 - val_accuracy: 0.9153\n",
      "Wall time: 45.9 s\n"
     ]
    },
    {
     "data": {
      "text/plain": [
       "<tensorflow.python.keras.callbacks.History at 0x1b2af626188>"
      ]
     },
     "execution_count": 9,
     "metadata": {},
     "output_type": "execute_result"
    }
   ],
   "source": [
    "%%time\n",
    "model.fit(x=X_train, y=y_train, epochs=100, batch_size=512, validation_data=(X_test, y_test))"
   ]
  },
  {
   "cell_type": "markdown",
   "id": "e4fe55d6",
   "metadata": {},
   "source": [
    "# Modle Performance"
   ]
  },
  {
   "cell_type": "code",
   "execution_count": 10,
   "id": "95f922ea",
   "metadata": {},
   "outputs": [],
   "source": [
    "losses = pd.DataFrame(model.history.history)"
   ]
  },
  {
   "cell_type": "code",
   "execution_count": 11,
   "id": "858af874",
   "metadata": {},
   "outputs": [
    {
     "data": {
      "text/plain": [
       "<AxesSubplot:>"
      ]
     },
     "execution_count": 11,
     "metadata": {},
     "output_type": "execute_result"
    },
    {
     "data": {
      "image/png": "[encoded data removed]",
      "text/plain": [
       "<Figure size 432x288 with 1 Axes>"
      ]
     },
     "metadata": {
      "needs_background": "light"
     },
     "output_type": "display_data"
    }
   ],
   "source": [
    "losses[['loss','val_loss']].plot()"
   ]
  },
  {
   "cell_type": "markdown",
   "id": "93b49aac",
   "metadata": {},
   "source": [
    "# Predict"
   ]
  },
  {
   "cell_type": "code",
   "execution_count": 12,
   "id": "ce2c6191",
   "metadata": {},
   "outputs": [],
   "source": [
    "predictions = model.predict(X_test)"
   ]
  },
  {
   "cell_type": "markdown",
   "id": "d57637f8",
   "metadata": {},
   "source": [
    "\n",
    "# Confusion Matrix"
   ]
  },
  {
   "cell_type": "code",
   "execution_count": 13,
   "id": "1dfbf087",
   "metadata": {},
   "outputs": [],
   "source": [
    "y_test_arg=np.argmax(y_test,axis=1)\n",
    "Y_pred = np.argmax(predictions,axis=1)"
   ]
  },
  {
   "cell_type": "code",
   "execution_count": 14,
   "id": "5e7bef94",
   "metadata": {},
   "outputs": [
    {
     "name": "stdout",
     "output_type": "stream",
     "text": [
      "[[243   3   0   0   1   3]\n",
      " [  5 198   0  44   0   3]\n",
      " [  2   0 235   0   0  13]\n",
      " [  0   0   0 250   0   0]\n",
      " [ 47   0   0   0 198   5]\n",
      " [  0   0   0   0   1 249]]\n"
     ]
    }
   ],
   "source": [
    "print(confusion_matrix(y_test_arg, Y_pred))"
   ]
  },
  {
   "cell_type": "code",
   "execution_count": 15,
   "id": "a9aff162",
   "metadata": {},
   "outputs": [
    {
     "data": {
      "text/plain": [
       "<AxesSubplot:>"
      ]
     },
     "execution_count": 15,
     "metadata": {},
     "output_type": "execute_result"
    },
    {
     "data": {
      "image/png": "[encoded data removed]",
      "text/plain": [
       "<Figure size 432x288 with 2 Axes>"
      ]
     },
     "metadata": {},
     "output_type": "display_data"
    }
   ],
   "source": [
    "array = metrics.confusion_matrix(y_test_arg, Y_pred)\n",
    "df_cm = pd.DataFrame(array, range(6), range(6))\n",
    "# plt.figure(figsize=(10,7))\n",
    "sns.set(font_scale=1) # for label size\n",
    "sns.heatmap(df_cm, annot=True, annot_kws={\"size\": 11}, cmap=\"OrRd\") # font size"
   ]
  },
  {
   "cell_type": "markdown",
   "id": "42627778",
   "metadata": {},
   "source": [
    "# classification Report"
   ]
  },
  {
   "cell_type": "code",
   "execution_count": 16,
   "id": "947405a5",
   "metadata": {},
   "outputs": [
    {
     "name": "stdout",
     "output_type": "stream",
     "text": [
      "              precision    recall  f1-score   support\n",
      "\n",
      "           0       0.82      0.97      0.89       250\n",
      "           1       0.99      0.79      0.88       250\n",
      "           2       1.00      0.94      0.97       250\n",
      "           3       0.85      1.00      0.92       250\n",
      "           4       0.99      0.79      0.88       250\n",
      "           5       0.91      1.00      0.95       250\n",
      "\n",
      "    accuracy                           0.92      1500\n",
      "   macro avg       0.93      0.92      0.91      1500\n",
      "weighted avg       0.93      0.92      0.91      1500\n",
      "\n"
     ]
    }
   ],
   "source": [
    "print(classification_report(y_test_arg, Y_pred))"
   ]
  },
  {
   "cell_type": "code",
   "execution_count": null,
   "id": "17de918c",
   "metadata": {},
   "outputs": [],
   "source": []
  }
 ],
 "metadata": {
  "kernelspec": {
   "display_name": "Python 3.7 (tensorflow)",
   "language": "python",
   "name": "tensorflow"
  },
  "language_info": {
   "codemirror_mode": {
    "name": "ipython",
    "version": 3
   },
   "file_extension": ".py",
   "mimetype": "text/x-python",
   "name": "python",
   "nbconvert_exporter": "python",
   "pygments_lexer": "ipython3",
   "version": "3.7.9"
  }
 },
 "nbformat": 4,
 "nbformat_minor": 5
}
