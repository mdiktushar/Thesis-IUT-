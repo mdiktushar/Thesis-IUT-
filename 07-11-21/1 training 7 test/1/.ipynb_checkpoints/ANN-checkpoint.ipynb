{
 "cells": [
  {
   "cell_type": "markdown",
   "id": "c17badd4",
   "metadata": {},
   "source": [
    "# ANN"
   ]
  },
  {
   "cell_type": "code",
   "execution_count": 1,
   "id": "f5df428c",
   "metadata": {},
   "outputs": [],
   "source": [
    "import pandas as pd\n",
    "import numpy as np\n",
    "import matplotlib.pyplot as plt\n",
    "import seaborn as sns\n",
    "%matplotlib inline\n",
    "\n",
    "from sklearn.preprocessing import OneHotEncoder, MinMaxScaler\n",
    "\n",
    "import tensorflow as tf\n",
    "from tensorflow.keras.models import Sequential\n",
    "from tensorflow.keras.layers import Dense, Activation,Dropout\n",
    "from sklearn.metrics import classification_report,confusion_matrix, plot_confusion_matrix\n",
    "import sklearn.metrics as metrics"
   ]
  },
  {
   "cell_type": "markdown",
   "id": "f9a4b800",
   "metadata": {},
   "source": [
    "# Input Data"
   ]
  },
  {
   "cell_type": "code",
   "execution_count": 2,
   "id": "fe15956c",
   "metadata": {},
   "outputs": [],
   "source": [
    "df = pd.read_csv('../Data.csv')"
   ]
  },
  {
   "cell_type": "code",
   "execution_count": 3,
   "id": "bef654bb",
   "metadata": {},
   "outputs": [],
   "source": [
    "dft = pd.read_csv('testing1.csv')"
   ]
  },
  {
   "cell_type": "code",
   "execution_count": 4,
   "id": "0f5337c0",
   "metadata": {},
   "outputs": [],
   "source": [
    "# X_train, X_test, y_train, y_test = train_test_split(X,y,test_size=0.25,random_state=101)\n",
    "X_train = df.drop('label',axis=1).values\n",
    "y_train = df['label'].values\n",
    "\n",
    "X_test = dft.drop('label',axis=1).values\n",
    "y_test = dft['label'].values"
   ]
  },
  {
   "cell_type": "markdown",
   "id": "b1318dcd",
   "metadata": {},
   "source": [
    "# One-hot encode the target"
   ]
  },
  {
   "cell_type": "code",
   "execution_count": 5,
   "id": "87b0bdf6",
   "metadata": {},
   "outputs": [],
   "source": [
    "enc = OneHotEncoder(sparse=False, handle_unknown='ignore')\n",
    "enc.fit(y_train.reshape(-1, 1))\n",
    "y_train = enc.transform(y_train.reshape(-1, 1))\n",
    "y_test = enc.transform(y_test.reshape(-1, 1))"
   ]
  },
  {
   "cell_type": "code",
   "execution_count": 6,
   "id": "5c52d6bd",
   "metadata": {},
   "outputs": [
    {
     "name": "stdout",
     "output_type": "stream",
     "text": [
      "(18000, 6) (1500, 6)\n"
     ]
    }
   ],
   "source": [
    "print(y_train.shape, y_test.shape)"
   ]
  },
  {
   "cell_type": "markdown",
   "id": "ccf0c799",
   "metadata": {},
   "source": [
    "# scale the features"
   ]
  },
  {
   "cell_type": "code",
   "execution_count": 7,
   "id": "3c544b11",
   "metadata": {},
   "outputs": [],
   "source": [
    "scaler = MinMaxScaler()\n",
    "scaler.fit(X_train)\n",
    "X_train = scaler.transform(X_train)\n",
    "X_test = scaler.transform(X_test)"
   ]
  },
  {
   "cell_type": "code",
   "execution_count": 8,
   "id": "e3e4af3c",
   "metadata": {},
   "outputs": [],
   "source": [
    "model = Sequential()\n",
    "\n",
    "model.add(Dense(units=64,activation='relu'))\n",
    "model.add(Dense(units=128,activation='relu'))\n",
    "model.add(Dropout(0.5))\n",
    "\n",
    "model.add(Dense(units=128,activation='relu'))\n",
    "model.add(Dense(units=512,activation='relu'))\n",
    "model.add(Dropout(0.5))\n",
    "\n",
    "model.add(Dense(units=521,activation='relu'))\n",
    "model.add(Dropout(0.5))\n",
    "\n",
    "model.add(Dense(6, activation='softmax'))\n",
    "# Compile model\n",
    "model.compile(optimizer='adam',\n",
    "              loss='categorical_crossentropy',\n",
    "              metrics=['accuracy'])"
   ]
  },
  {
   "cell_type": "code",
   "execution_count": 9,
   "id": "3fd0d04b",
   "metadata": {},
   "outputs": [
    {
     "name": "stdout",
     "output_type": "stream",
     "text": [
      "Train on 18000 samples, validate on 1500 samples\n",
      "Epoch 1/100\n",
      "18000/18000 [==============================] - 2s 100us/sample - loss: 1.7325 - accuracy: 0.2399 - val_loss: 1.5583 - val_accuracy: 0.3580\n",
      "Epoch 2/100\n",
      "18000/18000 [==============================] - 0s 25us/sample - loss: 1.4876 - accuracy: 0.4181 - val_loss: 1.2685 - val_accuracy: 0.5207\n",
      "Epoch 3/100\n",
      "18000/18000 [==============================] - 0s 26us/sample - loss: 1.3268 - accuracy: 0.4909 - val_loss: 1.2249 - val_accuracy: 0.5187\n",
      "Epoch 4/100\n",
      "18000/18000 [==============================] - 0s 26us/sample - loss: 1.2538 - accuracy: 0.5185 - val_loss: 1.1607 - val_accuracy: 0.5627\n",
      "Epoch 5/100\n",
      "18000/18000 [==============================] - 0s 25us/sample - loss: 1.1959 - accuracy: 0.5454 - val_loss: 1.1109 - val_accuracy: 0.5607\n",
      "Epoch 6/100\n",
      "18000/18000 [==============================] - 0s 25us/sample - loss: 1.1520 - accuracy: 0.5601 - val_loss: 1.1356 - val_accuracy: 0.5533\n",
      "Epoch 7/100\n",
      "18000/18000 [==============================] - 0s 27us/sample - loss: 1.1028 - accuracy: 0.5817 - val_loss: 1.1106 - val_accuracy: 0.5607\n",
      "Epoch 8/100\n",
      "18000/18000 [==============================] - 0s 26us/sample - loss: 1.0707 - accuracy: 0.5956 - val_loss: 1.0241 - val_accuracy: 0.6007\n",
      "Epoch 9/100\n",
      "18000/18000 [==============================] - 0s 24us/sample - loss: 1.0339 - accuracy: 0.6137 - val_loss: 1.0031 - val_accuracy: 0.6287\n",
      "Epoch 10/100\n",
      "18000/18000 [==============================] - 0s 27us/sample - loss: 0.9942 - accuracy: 0.6287 - val_loss: 0.9465 - val_accuracy: 0.6613\n",
      "Epoch 11/100\n",
      "18000/18000 [==============================] - 0s 24us/sample - loss: 0.9714 - accuracy: 0.6358 - val_loss: 0.9479 - val_accuracy: 0.6660\n",
      "Epoch 12/100\n",
      "18000/18000 [==============================] - 0s 26us/sample - loss: 0.9418 - accuracy: 0.6446 - val_loss: 0.8656 - val_accuracy: 0.7093\n",
      "Epoch 13/100\n",
      "18000/18000 [==============================] - 1s 44us/sample - loss: 0.9107 - accuracy: 0.6595 - val_loss: 0.8399 - val_accuracy: 0.7047\n",
      "Epoch 14/100\n",
      "18000/18000 [==============================] - 1s 46us/sample - loss: 0.8675 - accuracy: 0.6786 - val_loss: 0.8081 - val_accuracy: 0.7193\n",
      "Epoch 15/100\n",
      "18000/18000 [==============================] - 1s 32us/sample - loss: 0.8513 - accuracy: 0.6784 - val_loss: 0.8172 - val_accuracy: 0.7127\n",
      "Epoch 16/100\n",
      "18000/18000 [==============================] - 1s 34us/sample - loss: 0.8260 - accuracy: 0.6904 - val_loss: 0.7541 - val_accuracy: 0.7340\n",
      "Epoch 17/100\n",
      "18000/18000 [==============================] - 0s 27us/sample - loss: 0.8102 - accuracy: 0.6937 - val_loss: 0.8012 - val_accuracy: 0.7360\n",
      "Epoch 18/100\n",
      "18000/18000 [==============================] - 0s 27us/sample - loss: 0.7935 - accuracy: 0.6999 - val_loss: 0.7674 - val_accuracy: 0.7373\n",
      "Epoch 19/100\n",
      "18000/18000 [==============================] - 0s 26us/sample - loss: 0.7651 - accuracy: 0.7154 - val_loss: 0.7534 - val_accuracy: 0.7413\n",
      "Epoch 20/100\n",
      "18000/18000 [==============================] - 0s 26us/sample - loss: 0.7441 - accuracy: 0.7194 - val_loss: 0.7375 - val_accuracy: 0.7467\n",
      "Epoch 21/100\n",
      "18000/18000 [==============================] - 0s 28us/sample - loss: 0.7279 - accuracy: 0.7269 - val_loss: 0.7107 - val_accuracy: 0.7693\n",
      "Epoch 22/100\n",
      "18000/18000 [==============================] - 1s 30us/sample - loss: 0.7039 - accuracy: 0.7363 - val_loss: 0.7396 - val_accuracy: 0.7680\n",
      "Epoch 23/100\n",
      "18000/18000 [==============================] - 1s 29us/sample - loss: 0.6830 - accuracy: 0.7434 - val_loss: 0.6891 - val_accuracy: 0.7800\n",
      "Epoch 24/100\n",
      "18000/18000 [==============================] - 1s 28us/sample - loss: 0.6819 - accuracy: 0.7440 - val_loss: 0.6147 - val_accuracy: 0.8153\n",
      "Epoch 25/100\n",
      "18000/18000 [==============================] - 1s 29us/sample - loss: 0.6610 - accuracy: 0.7501 - val_loss: 0.6504 - val_accuracy: 0.8140\n",
      "Epoch 26/100\n",
      "18000/18000 [==============================] - 1s 34us/sample - loss: 0.6554 - accuracy: 0.7574 - val_loss: 0.6231 - val_accuracy: 0.8060\n",
      "Epoch 27/100\n",
      "18000/18000 [==============================] - 0s 27us/sample - loss: 0.6420 - accuracy: 0.7570 - val_loss: 0.5946 - val_accuracy: 0.8253\n",
      "Epoch 28/100\n",
      "18000/18000 [==============================] - 1s 29us/sample - loss: 0.6174 - accuracy: 0.7663 - val_loss: 0.6494 - val_accuracy: 0.8080\n",
      "Epoch 29/100\n",
      "18000/18000 [==============================] - 1s 28us/sample - loss: 0.6057 - accuracy: 0.7685 - val_loss: 0.5940 - val_accuracy: 0.8087\n",
      "Epoch 30/100\n",
      "18000/18000 [==============================] - 1s 30us/sample - loss: 0.5983 - accuracy: 0.7759 - val_loss: 0.5945 - val_accuracy: 0.8580\n",
      "Epoch 31/100\n",
      "18000/18000 [==============================] - 1s 37us/sample - loss: 0.5847 - accuracy: 0.7790 - val_loss: 0.5900 - val_accuracy: 0.8667\n",
      "Epoch 32/100\n",
      "18000/18000 [==============================] - 1s 54us/sample - loss: 0.5848 - accuracy: 0.7794 - val_loss: 0.5862 - val_accuracy: 0.8320\n",
      "Epoch 33/100\n",
      "18000/18000 [==============================] - 1s 29us/sample - loss: 0.5735 - accuracy: 0.7851 - val_loss: 0.6234 - val_accuracy: 0.8360\n",
      "Epoch 34/100\n",
      "18000/18000 [==============================] - 0s 27us/sample - loss: 0.5564 - accuracy: 0.7881 - val_loss: 0.5706 - val_accuracy: 0.8720\n",
      "Epoch 35/100\n",
      "18000/18000 [==============================] - 1s 28us/sample - loss: 0.5507 - accuracy: 0.7932 - val_loss: 0.5441 - val_accuracy: 0.8667\n",
      "Epoch 36/100\n",
      "18000/18000 [==============================] - 1s 31us/sample - loss: 0.5469 - accuracy: 0.7913 - val_loss: 0.5628 - val_accuracy: 0.8807\n",
      "Epoch 37/100\n",
      "18000/18000 [==============================] - 1s 30us/sample - loss: 0.5303 - accuracy: 0.7988 - val_loss: 0.5760 - val_accuracy: 0.8607\n",
      "Epoch 38/100\n",
      "18000/18000 [==============================] - 0s 28us/sample - loss: 0.5302 - accuracy: 0.8006 - val_loss: 0.5560 - val_accuracy: 0.8820\n",
      "Epoch 39/100\n",
      "18000/18000 [==============================] - 0s 27us/sample - loss: 0.5214 - accuracy: 0.8036 - val_loss: 0.5954 - val_accuracy: 0.8680\n",
      "Epoch 40/100\n",
      "18000/18000 [==============================] - 1s 29us/sample - loss: 0.5206 - accuracy: 0.8043 - val_loss: 0.4810 - val_accuracy: 0.9067\n",
      "Epoch 41/100\n",
      "18000/18000 [==============================] - 1s 30us/sample - loss: 0.5130 - accuracy: 0.8039 - val_loss: 0.5476 - val_accuracy: 0.8900\n",
      "Epoch 42/100\n",
      "18000/18000 [==============================] - 1s 31us/sample - loss: 0.4887 - accuracy: 0.8172 - val_loss: 0.6020 - val_accuracy: 0.8807\n",
      "Epoch 43/100\n",
      "18000/18000 [==============================] - 1s 32us/sample - loss: 0.4944 - accuracy: 0.8143 - val_loss: 0.5647 - val_accuracy: 0.8807\n",
      "Epoch 44/100\n",
      "18000/18000 [==============================] - 1s 29us/sample - loss: 0.4892 - accuracy: 0.8142 - val_loss: 0.5808 - val_accuracy: 0.8847\n",
      "Epoch 45/100\n",
      "18000/18000 [==============================] - 1s 32us/sample - loss: 0.4777 - accuracy: 0.8200 - val_loss: 0.5306 - val_accuracy: 0.8920\n",
      "Epoch 46/100\n",
      "18000/18000 [==============================] - 1s 29us/sample - loss: 0.4691 - accuracy: 0.8205 - val_loss: 0.5617 - val_accuracy: 0.8873\n",
      "Epoch 47/100\n",
      "18000/18000 [==============================] - 1s 30us/sample - loss: 0.4506 - accuracy: 0.8306 - val_loss: 0.5531 - val_accuracy: 0.9067\n",
      "Epoch 48/100\n",
      "18000/18000 [==============================] - 1s 34us/sample - loss: 0.4579 - accuracy: 0.8254 - val_loss: 0.5764 - val_accuracy: 0.8980\n",
      "Epoch 49/100\n",
      "18000/18000 [==============================] - 0s 27us/sample - loss: 0.4588 - accuracy: 0.8261 - val_loss: 0.5141 - val_accuracy: 0.9033\n",
      "Epoch 50/100\n",
      "18000/18000 [==============================] - 1s 33us/sample - loss: 0.4382 - accuracy: 0.8349 - val_loss: 0.4907 - val_accuracy: 0.9213\n",
      "Epoch 51/100\n",
      "18000/18000 [==============================] - 1s 30us/sample - loss: 0.4423 - accuracy: 0.8296 - val_loss: 0.5442 - val_accuracy: 0.8907\n",
      "Epoch 52/100\n",
      "18000/18000 [==============================] - 1s 28us/sample - loss: 0.4247 - accuracy: 0.8376 - val_loss: 0.5427 - val_accuracy: 0.9040\n",
      "Epoch 53/100\n",
      "18000/18000 [==============================] - 1s 36us/sample - loss: 0.4392 - accuracy: 0.8309 - val_loss: 0.5175 - val_accuracy: 0.9073\n",
      "Epoch 54/100\n",
      "18000/18000 [==============================] - 1s 30us/sample - loss: 0.4375 - accuracy: 0.8350 - val_loss: 0.5438 - val_accuracy: 0.8993\n"
     ]
    },
    {
     "name": "stdout",
     "output_type": "stream",
     "text": [
      "Epoch 55/100\n",
      "18000/18000 [==============================] - 1s 31us/sample - loss: 0.4368 - accuracy: 0.8353 - val_loss: 0.5142 - val_accuracy: 0.9160\n",
      "Epoch 56/100\n",
      "18000/18000 [==============================] - 1s 29us/sample - loss: 0.4218 - accuracy: 0.8393 - val_loss: 0.5281 - val_accuracy: 0.9153\n",
      "Epoch 57/100\n",
      "18000/18000 [==============================] - 1s 40us/sample - loss: 0.4277 - accuracy: 0.8408 - val_loss: 0.5242 - val_accuracy: 0.9193\n",
      "Epoch 58/100\n",
      "18000/18000 [==============================] - 1s 30us/sample - loss: 0.4118 - accuracy: 0.8422 - val_loss: 0.5327 - val_accuracy: 0.9067\n",
      "Epoch 59/100\n",
      "18000/18000 [==============================] - 1s 33us/sample - loss: 0.4020 - accuracy: 0.8466 - val_loss: 0.4906 - val_accuracy: 0.9193\n",
      "Epoch 60/100\n",
      "18000/18000 [==============================] - 1s 32us/sample - loss: 0.4053 - accuracy: 0.8471 - val_loss: 0.5769 - val_accuracy: 0.8927\n",
      "Epoch 61/100\n",
      "18000/18000 [==============================] - 1s 29us/sample - loss: 0.4030 - accuracy: 0.8503 - val_loss: 0.5050 - val_accuracy: 0.9147\n",
      "Epoch 62/100\n",
      "18000/18000 [==============================] - 1s 29us/sample - loss: 0.4028 - accuracy: 0.8505 - val_loss: 0.5043 - val_accuracy: 0.9207\n",
      "Epoch 63/100\n",
      "18000/18000 [==============================] - 1s 31us/sample - loss: 0.4023 - accuracy: 0.8507 - val_loss: 0.5195 - val_accuracy: 0.9107\n",
      "Epoch 64/100\n",
      "18000/18000 [==============================] - 1s 29us/sample - loss: 0.3905 - accuracy: 0.8534 - val_loss: 0.4937 - val_accuracy: 0.9167\n",
      "Epoch 65/100\n",
      "18000/18000 [==============================] - 1s 31us/sample - loss: 0.3946 - accuracy: 0.8535 - val_loss: 0.5262 - val_accuracy: 0.9087\n",
      "Epoch 66/100\n",
      "18000/18000 [==============================] - 1s 31us/sample - loss: 0.3925 - accuracy: 0.8494 - val_loss: 0.5246 - val_accuracy: 0.9173\n",
      "Epoch 67/100\n",
      "18000/18000 [==============================] - 1s 32us/sample - loss: 0.3825 - accuracy: 0.8571 - val_loss: 0.5178 - val_accuracy: 0.9193\n",
      "Epoch 68/100\n",
      "18000/18000 [==============================] - 1s 31us/sample - loss: 0.3722 - accuracy: 0.8602 - val_loss: 0.4924 - val_accuracy: 0.9220\n",
      "Epoch 69/100\n",
      "18000/18000 [==============================] - 1s 31us/sample - loss: 0.3653 - accuracy: 0.8638 - val_loss: 0.5408 - val_accuracy: 0.9227\n",
      "Epoch 70/100\n",
      "18000/18000 [==============================] - 1s 28us/sample - loss: 0.3745 - accuracy: 0.8607 - val_loss: 0.5113 - val_accuracy: 0.9300\n",
      "Epoch 71/100\n",
      "18000/18000 [==============================] - 0s 27us/sample - loss: 0.3660 - accuracy: 0.8624 - val_loss: 0.5879 - val_accuracy: 0.9193\n",
      "Epoch 72/100\n",
      "18000/18000 [==============================] - 0s 26us/sample - loss: 0.3744 - accuracy: 0.8601 - val_loss: 0.5062 - val_accuracy: 0.9213\n",
      "Epoch 73/100\n",
      "18000/18000 [==============================] - 1s 30us/sample - loss: 0.3684 - accuracy: 0.8600 - val_loss: 0.5080 - val_accuracy: 0.9400\n",
      "Epoch 74/100\n",
      "18000/18000 [==============================] - 1s 28us/sample - loss: 0.3750 - accuracy: 0.8608 - val_loss: 0.5479 - val_accuracy: 0.9127\n",
      "Epoch 75/100\n",
      "18000/18000 [==============================] - 1s 29us/sample - loss: 0.3612 - accuracy: 0.8629 - val_loss: 0.5417 - val_accuracy: 0.9247\n",
      "Epoch 76/100\n",
      "18000/18000 [==============================] - 1s 30us/sample - loss: 0.3634 - accuracy: 0.8617 - val_loss: 0.5504 - val_accuracy: 0.9353\n",
      "Epoch 77/100\n",
      "18000/18000 [==============================] - 0s 26us/sample - loss: 0.3523 - accuracy: 0.8664 - val_loss: 0.5771 - val_accuracy: 0.9307\n",
      "Epoch 78/100\n",
      "18000/18000 [==============================] - 1s 28us/sample - loss: 0.3566 - accuracy: 0.8672 - val_loss: 0.4920 - val_accuracy: 0.9347\n",
      "Epoch 79/100\n",
      "18000/18000 [==============================] - 0s 28us/sample - loss: 0.3380 - accuracy: 0.8727 - val_loss: 0.5168 - val_accuracy: 0.9347\n",
      "Epoch 80/100\n",
      "18000/18000 [==============================] - 1s 31us/sample - loss: 0.3611 - accuracy: 0.8631 - val_loss: 0.5113 - val_accuracy: 0.9227\n",
      "Epoch 81/100\n",
      "18000/18000 [==============================] - 1s 35us/sample - loss: 0.3499 - accuracy: 0.8666 - val_loss: 0.5205 - val_accuracy: 0.9233\n",
      "Epoch 82/100\n",
      "18000/18000 [==============================] - 1s 30us/sample - loss: 0.3524 - accuracy: 0.8691 - val_loss: 0.4562 - val_accuracy: 0.9320\n",
      "Epoch 83/100\n",
      "18000/18000 [==============================] - 1s 30us/sample - loss: 0.3495 - accuracy: 0.8661 - val_loss: 0.4697 - val_accuracy: 0.9367\n",
      "Epoch 84/100\n",
      "18000/18000 [==============================] - 0s 27us/sample - loss: 0.3294 - accuracy: 0.8743 - val_loss: 0.5560 - val_accuracy: 0.9280\n",
      "Epoch 85/100\n",
      "18000/18000 [==============================] - 0s 28us/sample - loss: 0.3323 - accuracy: 0.8757 - val_loss: 0.5548 - val_accuracy: 0.9387\n",
      "Epoch 86/100\n",
      "18000/18000 [==============================] - 1s 29us/sample - loss: 0.3398 - accuracy: 0.8734 - val_loss: 0.5245 - val_accuracy: 0.9260\n",
      "Epoch 87/100\n",
      "18000/18000 [==============================] - 1s 30us/sample - loss: 0.3370 - accuracy: 0.8737 - val_loss: 0.5050 - val_accuracy: 0.9287\n",
      "Epoch 88/100\n",
      "18000/18000 [==============================] - 0s 27us/sample - loss: 0.3366 - accuracy: 0.8753 - val_loss: 0.5124 - val_accuracy: 0.9307\n",
      "Epoch 89/100\n",
      "18000/18000 [==============================] - 1s 31us/sample - loss: 0.3256 - accuracy: 0.8771 - val_loss: 0.4900 - val_accuracy: 0.9327\n",
      "Epoch 90/100\n",
      "18000/18000 [==============================] - 1s 32us/sample - loss: 0.3260 - accuracy: 0.8791 - val_loss: 0.4653 - val_accuracy: 0.9427\n",
      "Epoch 91/100\n",
      "18000/18000 [==============================] - 1s 36us/sample - loss: 0.3234 - accuracy: 0.8798 - val_loss: 0.5151 - val_accuracy: 0.9400\n",
      "Epoch 92/100\n",
      "18000/18000 [==============================] - 1s 29us/sample - loss: 0.3286 - accuracy: 0.8772 - val_loss: 0.4950 - val_accuracy: 0.9433\n",
      "Epoch 93/100\n",
      "18000/18000 [==============================] - 1s 29us/sample - loss: 0.3157 - accuracy: 0.8817 - val_loss: 0.5114 - val_accuracy: 0.9380\n",
      "Epoch 94/100\n",
      "18000/18000 [==============================] - 1s 33us/sample - loss: 0.3169 - accuracy: 0.8804 - val_loss: 0.5069 - val_accuracy: 0.9340\n",
      "Epoch 95/100\n",
      "18000/18000 [==============================] - 1s 33us/sample - loss: 0.3245 - accuracy: 0.8778 - val_loss: 0.5101 - val_accuracy: 0.9267\n",
      "Epoch 96/100\n",
      "18000/18000 [==============================] - 1s 35us/sample - loss: 0.3074 - accuracy: 0.8854 - val_loss: 0.5317 - val_accuracy: 0.9387\n",
      "Epoch 97/100\n",
      "18000/18000 [==============================] - 0s 25us/sample - loss: 0.3103 - accuracy: 0.8830 - val_loss: 0.5192 - val_accuracy: 0.9360\n",
      "Epoch 98/100\n",
      "18000/18000 [==============================] - 0s 26us/sample - loss: 0.3222 - accuracy: 0.8773 - val_loss: 0.4866 - val_accuracy: 0.9347\n",
      "Epoch 99/100\n",
      "18000/18000 [==============================] - 0s 24us/sample - loss: 0.3088 - accuracy: 0.8854 - val_loss: 0.5067 - val_accuracy: 0.9387\n",
      "Epoch 100/100\n",
      "18000/18000 [==============================] - 0s 22us/sample - loss: 0.3070 - accuracy: 0.8853 - val_loss: 0.5376 - val_accuracy: 0.9393\n",
      "Wall time: 57.5 s\n"
     ]
    },
    {
     "data": {
      "text/plain": [
       "<tensorflow.python.keras.callbacks.History at 0x200daf85248>"
      ]
     },
     "execution_count": 9,
     "metadata": {},
     "output_type": "execute_result"
    }
   ],
   "source": [
    "%%time\n",
    "model.fit(x=X_train, y=y_train, epochs=100, batch_size=512, validation_data=(X_test, y_test))"
   ]
  },
  {
   "cell_type": "markdown",
   "id": "e4fe55d6",
   "metadata": {},
   "source": [
    "# Modle Performance"
   ]
  },
  {
   "cell_type": "code",
   "execution_count": 10,
   "id": "95f922ea",
   "metadata": {},
   "outputs": [],
   "source": [
    "losses = pd.DataFrame(model.history.history)"
   ]
  },
  {
   "cell_type": "code",
   "execution_count": 11,
   "id": "858af874",
   "metadata": {},
   "outputs": [
    {
     "data": {
      "text/plain": [
       "<AxesSubplot:>"
      ]
     },
     "execution_count": 11,
     "metadata": {},
     "output_type": "execute_result"
    },
    {
     "data": {
      "image/png": "[encoded data removed]",
      "text/plain": [
       "<Figure size 432x288 with 1 Axes>"
      ]
     },
     "metadata": {
      "needs_background": "light"
     },
     "output_type": "display_data"
    }
   ],
   "source": [
    "losses[['loss','val_loss']].plot()"
   ]
  },
  {
   "cell_type": "markdown",
   "id": "93b49aac",
   "metadata": {},
   "source": [
    "# Predict"
   ]
  },
  {
   "cell_type": "code",
   "execution_count": 12,
   "id": "ce2c6191",
   "metadata": {},
   "outputs": [],
   "source": [
    "predictions = model.predict(X_test)"
   ]
  },
  {
   "cell_type": "markdown",
   "id": "d57637f8",
   "metadata": {},
   "source": [
    "\n",
    "# Confusion Matrix"
   ]
  },
  {
   "cell_type": "code",
   "execution_count": 13,
   "id": "1dfbf087",
   "metadata": {},
   "outputs": [],
   "source": [
    "y_test_arg=np.argmax(y_test,axis=1)\n",
    "Y_pred = np.argmax(predictions,axis=1)"
   ]
  },
  {
   "cell_type": "code",
   "execution_count": 14,
   "id": "5e7bef94",
   "metadata": {},
   "outputs": [
    {
     "name": "stdout",
     "output_type": "stream",
     "text": [
      "[[247   0   2   0   0   1]\n",
      " [  0 250   0   0   0   0]\n",
      " [  1   0 240   7   0   2]\n",
      " [  0   6   0 189  55   0]\n",
      " [  0   0   0   0 250   0]\n",
      " [ 13   0   0   1   3 233]]\n"
     ]
    }
   ],
   "source": [
    "print(confusion_matrix(y_test_arg, Y_pred))"
   ]
  },
  {
   "cell_type": "code",
   "execution_count": 15,
   "id": "a9aff162",
   "metadata": {},
   "outputs": [
    {
     "data": {
      "text/plain": [
       "<AxesSubplot:>"
      ]
     },
     "execution_count": 15,
     "metadata": {},
     "output_type": "execute_result"
    },
    {
     "data": {
      "image/png": "[encoded data removed]",
      "text/plain": [
       "<Figure size 432x288 with 2 Axes>"
      ]
     },
     "metadata": {},
     "output_type": "display_data"
    }
   ],
   "source": [
    "array = metrics.confusion_matrix(y_test_arg, Y_pred)\n",
    "df_cm = pd.DataFrame(array, range(6), range(6))\n",
    "# plt.figure(figsize=(10,7))\n",
    "sns.set(font_scale=1) # for label size\n",
    "sns.heatmap(df_cm, annot=True, annot_kws={\"size\": 11}, cmap=\"OrRd\") # font size"
   ]
  },
  {
   "cell_type": "markdown",
   "id": "42627778",
   "metadata": {},
   "source": [
    "# classification Report"
   ]
  },
  {
   "cell_type": "code",
   "execution_count": 16,
   "id": "947405a5",
   "metadata": {},
   "outputs": [
    {
     "name": "stdout",
     "output_type": "stream",
     "text": [
      "              precision    recall  f1-score   support\n",
      "\n",
      "           0       0.95      0.99      0.97       250\n",
      "           1       0.98      1.00      0.99       250\n",
      "           2       0.99      0.96      0.98       250\n",
      "           3       0.96      0.76      0.85       250\n",
      "           4       0.81      1.00      0.90       250\n",
      "           5       0.99      0.93      0.96       250\n",
      "\n",
      "    accuracy                           0.94      1500\n",
      "   macro avg       0.95      0.94      0.94      1500\n",
      "weighted avg       0.95      0.94      0.94      1500\n",
      "\n"
     ]
    }
   ],
   "source": [
    "print(classification_report(y_test_arg, Y_pred))"
   ]
  },
  {
   "cell_type": "code",
   "execution_count": null,
   "id": "17de918c",
   "metadata": {},
   "outputs": [],
   "source": []
  }
 ],
 "metadata": {
  "kernelspec": {
   "display_name": "Python 3.7 (tensorflow)",
   "language": "python",
   "name": "tensorflow"
  },
  "language_info": {
   "codemirror_mode": {
    "name": "ipython",
    "version": 3
   },
   "file_extension": ".py",
   "mimetype": "text/x-python",
   "name": "python",
   "nbconvert_exporter": "python",
   "pygments_lexer": "ipython3",
   "version": "3.7.9"
  }
 },
 "nbformat": 4,
 "nbformat_minor": 5
}
