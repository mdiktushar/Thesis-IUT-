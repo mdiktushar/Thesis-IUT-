{
 "cells": [
  {
   "cell_type": "markdown",
   "id": "c17badd4",
   "metadata": {},
   "source": [
    "# ANN"
   ]
  },
  {
   "cell_type": "code",
   "execution_count": 1,
   "id": "f5df428c",
   "metadata": {},
   "outputs": [],
   "source": [
    "import pandas as pd\n",
    "import numpy as np\n",
    "import matplotlib.pyplot as plt\n",
    "import seaborn as sns\n",
    "%matplotlib inline\n",
    "\n",
    "from sklearn.preprocessing import OneHotEncoder, MinMaxScaler\n",
    "\n",
    "import tensorflow as tf\n",
    "from tensorflow.keras.models import Sequential\n",
    "from tensorflow.keras.layers import Dense, Activation,Dropout\n",
    "from sklearn.metrics import classification_report,confusion_matrix, plot_confusion_matrix\n",
    "import sklearn.metrics as metrics"
   ]
  },
  {
   "cell_type": "markdown",
   "id": "f9a4b800",
   "metadata": {},
   "source": [
    "# Input Data"
   ]
  },
  {
   "cell_type": "code",
   "execution_count": 2,
   "id": "fe15956c",
   "metadata": {},
   "outputs": [],
   "source": [
    "df = pd.read_csv('../Data.csv')"
   ]
  },
  {
   "cell_type": "code",
   "execution_count": 3,
   "id": "bef654bb",
   "metadata": {},
   "outputs": [],
   "source": [
    "dft = pd.read_csv('testing5.csv')"
   ]
  },
  {
   "cell_type": "code",
   "execution_count": 4,
   "id": "0f5337c0",
   "metadata": {},
   "outputs": [],
   "source": [
    "# X_train, X_test, y_train, y_test = train_test_split(X,y,test_size=0.25,random_state=101)\n",
    "X_train = df.drop('label',axis=1).values\n",
    "y_train = df['label'].values\n",
    "\n",
    "X_test = dft.drop('label',axis=1).values\n",
    "y_test = dft['label'].values"
   ]
  },
  {
   "cell_type": "markdown",
   "id": "b1318dcd",
   "metadata": {},
   "source": [
    "# One-hot encode the target"
   ]
  },
  {
   "cell_type": "code",
   "execution_count": 5,
   "id": "87b0bdf6",
   "metadata": {},
   "outputs": [],
   "source": [
    "enc = OneHotEncoder(sparse=False, handle_unknown='ignore')\n",
    "enc.fit(y_train.reshape(-1, 1))\n",
    "y_train = enc.transform(y_train.reshape(-1, 1))\n",
    "y_test = enc.transform(y_test.reshape(-1, 1))"
   ]
  },
  {
   "cell_type": "code",
   "execution_count": 6,
   "id": "5c52d6bd",
   "metadata": {},
   "outputs": [
    {
     "name": "stdout",
     "output_type": "stream",
     "text": [
      "(18000, 6) (1500, 6)\n"
     ]
    }
   ],
   "source": [
    "print(y_train.shape, y_test.shape)"
   ]
  },
  {
   "cell_type": "markdown",
   "id": "ccf0c799",
   "metadata": {},
   "source": [
    "# scale the features"
   ]
  },
  {
   "cell_type": "code",
   "execution_count": 7,
   "id": "3c544b11",
   "metadata": {},
   "outputs": [],
   "source": [
    "scaler = MinMaxScaler()\n",
    "scaler.fit(X_train)\n",
    "X_train = scaler.transform(X_train)\n",
    "X_test = scaler.transform(X_test)"
   ]
  },
  {
   "cell_type": "code",
   "execution_count": 8,
   "id": "e3e4af3c",
   "metadata": {},
   "outputs": [],
   "source": [
    "model = Sequential()\n",
    "\n",
    "model.add(Dense(units=64,activation='relu'))\n",
    "model.add(Dense(units=128,activation='relu'))\n",
    "model.add(Dropout(0.5))\n",
    "\n",
    "model.add(Dense(units=128,activation='relu'))\n",
    "model.add(Dense(units=512,activation='relu'))\n",
    "model.add(Dropout(0.5))\n",
    "\n",
    "model.add(Dense(units=521,activation='relu'))\n",
    "model.add(Dropout(0.5))\n",
    "\n",
    "model.add(Dense(6, activation='softmax'))\n",
    "# Compile model\n",
    "model.compile(optimizer='adam',\n",
    "              loss='categorical_crossentropy',\n",
    "              metrics=['accuracy'])"
   ]
  },
  {
   "cell_type": "code",
   "execution_count": 9,
   "id": "3fd0d04b",
   "metadata": {},
   "outputs": [
    {
     "name": "stdout",
     "output_type": "stream",
     "text": [
      "Train on 18000 samples, validate on 1500 samples\n",
      "Epoch 1/100\n",
      "18000/18000 [==============================] - 1s 80us/sample - loss: 1.7141 - accuracy: 0.2492 - val_loss: 1.4857 - val_accuracy: 0.4240\n",
      "Epoch 2/100\n",
      "18000/18000 [==============================] - 0s 24us/sample - loss: 1.4580 - accuracy: 0.4222 - val_loss: 1.2713 - val_accuracy: 0.4627\n",
      "Epoch 3/100\n",
      "18000/18000 [==============================] - 0s 24us/sample - loss: 1.3306 - accuracy: 0.4862 - val_loss: 1.1201 - val_accuracy: 0.5313\n",
      "Epoch 4/100\n",
      "18000/18000 [==============================] - 0s 23us/sample - loss: 1.2314 - accuracy: 0.5268 - val_loss: 1.1219 - val_accuracy: 0.5207\n",
      "Epoch 5/100\n",
      "18000/18000 [==============================] - 0s 22us/sample - loss: 1.1815 - accuracy: 0.5516 - val_loss: 1.0460 - val_accuracy: 0.5433\n",
      "Epoch 6/100\n",
      "18000/18000 [==============================] - 0s 22us/sample - loss: 1.1323 - accuracy: 0.5701 - val_loss: 1.0038 - val_accuracy: 0.5747\n",
      "Epoch 7/100\n",
      "18000/18000 [==============================] - 0s 22us/sample - loss: 1.1033 - accuracy: 0.5853 - val_loss: 0.9833 - val_accuracy: 0.5827\n",
      "Epoch 8/100\n",
      "18000/18000 [==============================] - 0s 22us/sample - loss: 1.0543 - accuracy: 0.6003 - val_loss: 0.9674 - val_accuracy: 0.5993\n",
      "Epoch 9/100\n",
      "18000/18000 [==============================] - 0s 23us/sample - loss: 1.0165 - accuracy: 0.6149 - val_loss: 0.9267 - val_accuracy: 0.6180\n",
      "Epoch 10/100\n",
      "18000/18000 [==============================] - 0s 22us/sample - loss: 0.9827 - accuracy: 0.6324 - val_loss: 0.8724 - val_accuracy: 0.6507\n",
      "Epoch 11/100\n",
      "18000/18000 [==============================] - 0s 22us/sample - loss: 0.9503 - accuracy: 0.6373 - val_loss: 0.8678 - val_accuracy: 0.6480\n",
      "Epoch 12/100\n",
      "18000/18000 [==============================] - 0s 22us/sample - loss: 0.9257 - accuracy: 0.6471 - val_loss: 0.8169 - val_accuracy: 0.6600\n",
      "Epoch 13/100\n",
      "18000/18000 [==============================] - 0s 22us/sample - loss: 0.8976 - accuracy: 0.6617 - val_loss: 0.8065 - val_accuracy: 0.6720\n",
      "Epoch 14/100\n",
      "18000/18000 [==============================] - 0s 22us/sample - loss: 0.8716 - accuracy: 0.6658 - val_loss: 0.7610 - val_accuracy: 0.6947\n",
      "Epoch 15/100\n",
      "18000/18000 [==============================] - 0s 22us/sample - loss: 0.8485 - accuracy: 0.6772 - val_loss: 0.7530 - val_accuracy: 0.7167\n",
      "Epoch 16/100\n",
      "18000/18000 [==============================] - 0s 22us/sample - loss: 0.8229 - accuracy: 0.6875 - val_loss: 0.8085 - val_accuracy: 0.6873\n",
      "Epoch 17/100\n",
      "18000/18000 [==============================] - 0s 22us/sample - loss: 0.8005 - accuracy: 0.6943 - val_loss: 0.6691 - val_accuracy: 0.7613\n",
      "Epoch 18/100\n",
      "18000/18000 [==============================] - 0s 22us/sample - loss: 0.7737 - accuracy: 0.7056 - val_loss: 0.6927 - val_accuracy: 0.7473\n",
      "Epoch 19/100\n",
      "18000/18000 [==============================] - 0s 23us/sample - loss: 0.7495 - accuracy: 0.7134 - val_loss: 0.7319 - val_accuracy: 0.7180\n",
      "Epoch 20/100\n",
      "18000/18000 [==============================] - 0s 22us/sample - loss: 0.7355 - accuracy: 0.7197 - val_loss: 0.6408 - val_accuracy: 0.7707\n",
      "Epoch 21/100\n",
      "18000/18000 [==============================] - 0s 23us/sample - loss: 0.7144 - accuracy: 0.7277 - val_loss: 0.6513 - val_accuracy: 0.7680\n",
      "Epoch 22/100\n",
      "18000/18000 [==============================] - 0s 24us/sample - loss: 0.6917 - accuracy: 0.7334 - val_loss: 0.5955 - val_accuracy: 0.7987\n",
      "Epoch 23/100\n",
      "18000/18000 [==============================] - 0s 25us/sample - loss: 0.6734 - accuracy: 0.7440 - val_loss: 0.6066 - val_accuracy: 0.8173\n",
      "Epoch 24/100\n",
      "18000/18000 [==============================] - 0s 22us/sample - loss: 0.6606 - accuracy: 0.7477 - val_loss: 0.6023 - val_accuracy: 0.8120\n",
      "Epoch 25/100\n",
      "18000/18000 [==============================] - 0s 22us/sample - loss: 0.6490 - accuracy: 0.7537 - val_loss: 0.6303 - val_accuracy: 0.7813\n",
      "Epoch 26/100\n",
      "18000/18000 [==============================] - 0s 22us/sample - loss: 0.6455 - accuracy: 0.7513 - val_loss: 0.5631 - val_accuracy: 0.8227\n",
      "Epoch 27/100\n",
      "18000/18000 [==============================] - 0s 22us/sample - loss: 0.6147 - accuracy: 0.7637 - val_loss: 0.5740 - val_accuracy: 0.8127\n",
      "Epoch 28/100\n",
      "18000/18000 [==============================] - 0s 22us/sample - loss: 0.6153 - accuracy: 0.7634 - val_loss: 0.5393 - val_accuracy: 0.8147\n",
      "Epoch 29/100\n",
      "18000/18000 [==============================] - 0s 23us/sample - loss: 0.5902 - accuracy: 0.7737 - val_loss: 0.5233 - val_accuracy: 0.8353\n",
      "Epoch 30/100\n",
      "18000/18000 [==============================] - 0s 23us/sample - loss: 0.5836 - accuracy: 0.7753 - val_loss: 0.5567 - val_accuracy: 0.8307\n",
      "Epoch 31/100\n",
      "18000/18000 [==============================] - 0s 22us/sample - loss: 0.5738 - accuracy: 0.7833 - val_loss: 0.5049 - val_accuracy: 0.8440\n",
      "Epoch 32/100\n",
      "18000/18000 [==============================] - 0s 23us/sample - loss: 0.5712 - accuracy: 0.7839 - val_loss: 0.5230 - val_accuracy: 0.8287\n",
      "Epoch 33/100\n",
      "18000/18000 [==============================] - 0s 22us/sample - loss: 0.5494 - accuracy: 0.7897 - val_loss: 0.5619 - val_accuracy: 0.8193\n",
      "Epoch 34/100\n",
      "18000/18000 [==============================] - 0s 23us/sample - loss: 0.5409 - accuracy: 0.7939 - val_loss: 0.5195 - val_accuracy: 0.8593\n",
      "Epoch 35/100\n",
      "18000/18000 [==============================] - 0s 23us/sample - loss: 0.5314 - accuracy: 0.7956 - val_loss: 0.4994 - val_accuracy: 0.8480\n",
      "Epoch 36/100\n",
      "18000/18000 [==============================] - 0s 23us/sample - loss: 0.5265 - accuracy: 0.7962 - val_loss: 0.4840 - val_accuracy: 0.8620\n",
      "Epoch 37/100\n",
      "18000/18000 [==============================] - 0s 23us/sample - loss: 0.5245 - accuracy: 0.8031 - val_loss: 0.4961 - val_accuracy: 0.8627\n",
      "Epoch 38/100\n",
      "18000/18000 [==============================] - 0s 23us/sample - loss: 0.5096 - accuracy: 0.8076 - val_loss: 0.4799 - val_accuracy: 0.8533\n",
      "Epoch 39/100\n",
      "18000/18000 [==============================] - 0s 23us/sample - loss: 0.5007 - accuracy: 0.8101 - val_loss: 0.4749 - val_accuracy: 0.8733\n",
      "Epoch 40/100\n",
      "18000/18000 [==============================] - 0s 23us/sample - loss: 0.4944 - accuracy: 0.8139 - val_loss: 0.4865 - val_accuracy: 0.8887\n",
      "Epoch 41/100\n",
      "18000/18000 [==============================] - 0s 22us/sample - loss: 0.4923 - accuracy: 0.8154 - val_loss: 0.4455 - val_accuracy: 0.8933\n",
      "Epoch 42/100\n",
      "18000/18000 [==============================] - 0s 22us/sample - loss: 0.4881 - accuracy: 0.8152 - val_loss: 0.4295 - val_accuracy: 0.8807\n",
      "Epoch 43/100\n",
      "18000/18000 [==============================] - 0s 23us/sample - loss: 0.4710 - accuracy: 0.8222 - val_loss: 0.4380 - val_accuracy: 0.8900\n",
      "Epoch 44/100\n",
      "18000/18000 [==============================] - 0s 22us/sample - loss: 0.4686 - accuracy: 0.8201 - val_loss: 0.4053 - val_accuracy: 0.9120\n",
      "Epoch 45/100\n",
      "18000/18000 [==============================] - 0s 22us/sample - loss: 0.4692 - accuracy: 0.8203 - val_loss: 0.4116 - val_accuracy: 0.8947\n",
      "Epoch 46/100\n",
      "18000/18000 [==============================] - 0s 23us/sample - loss: 0.4503 - accuracy: 0.8289 - val_loss: 0.4413 - val_accuracy: 0.8873\n",
      "Epoch 47/100\n",
      "18000/18000 [==============================] - 0s 23us/sample - loss: 0.4582 - accuracy: 0.8274 - val_loss: 0.4216 - val_accuracy: 0.8927\n",
      "Epoch 48/100\n",
      "18000/18000 [==============================] - 0s 23us/sample - loss: 0.4363 - accuracy: 0.8336 - val_loss: 0.4388 - val_accuracy: 0.9113\n",
      "Epoch 49/100\n",
      "18000/18000 [==============================] - 0s 22us/sample - loss: 0.4418 - accuracy: 0.8318 - val_loss: 0.4448 - val_accuracy: 0.9020\n",
      "Epoch 50/100\n",
      "18000/18000 [==============================] - 0s 22us/sample - loss: 0.4297 - accuracy: 0.8374 - val_loss: 0.4232 - val_accuracy: 0.8847\n",
      "Epoch 51/100\n",
      "18000/18000 [==============================] - 0s 22us/sample - loss: 0.4386 - accuracy: 0.8362 - val_loss: 0.4203 - val_accuracy: 0.9100\n",
      "Epoch 52/100\n",
      "18000/18000 [==============================] - 0s 22us/sample - loss: 0.4307 - accuracy: 0.8356 - val_loss: 0.4180 - val_accuracy: 0.8993\n",
      "Epoch 53/100\n",
      "18000/18000 [==============================] - 0s 23us/sample - loss: 0.4167 - accuracy: 0.8448 - val_loss: 0.4143 - val_accuracy: 0.9120\n",
      "Epoch 54/100\n",
      "18000/18000 [==============================] - 0s 22us/sample - loss: 0.4182 - accuracy: 0.8403 - val_loss: 0.4304 - val_accuracy: 0.9020\n"
     ]
    },
    {
     "name": "stdout",
     "output_type": "stream",
     "text": [
      "Epoch 55/100\n",
      "18000/18000 [==============================] - 0s 22us/sample - loss: 0.4121 - accuracy: 0.8442 - val_loss: 0.4064 - val_accuracy: 0.9060\n",
      "Epoch 56/100\n",
      "18000/18000 [==============================] - 0s 22us/sample - loss: 0.3994 - accuracy: 0.8501 - val_loss: 0.4266 - val_accuracy: 0.9220\n",
      "Epoch 57/100\n",
      "18000/18000 [==============================] - 0s 22us/sample - loss: 0.3977 - accuracy: 0.8494 - val_loss: 0.4457 - val_accuracy: 0.9247\n",
      "Epoch 58/100\n",
      "18000/18000 [==============================] - 0s 22us/sample - loss: 0.4084 - accuracy: 0.8454 - val_loss: 0.4500 - val_accuracy: 0.9160\n",
      "Epoch 59/100\n",
      "18000/18000 [==============================] - 0s 22us/sample - loss: 0.3947 - accuracy: 0.8499 - val_loss: 0.4381 - val_accuracy: 0.9127\n",
      "Epoch 60/100\n",
      "18000/18000 [==============================] - 0s 22us/sample - loss: 0.3889 - accuracy: 0.8529 - val_loss: 0.4192 - val_accuracy: 0.9147\n",
      "Epoch 61/100\n",
      "18000/18000 [==============================] - 0s 23us/sample - loss: 0.3851 - accuracy: 0.8539 - val_loss: 0.4043 - val_accuracy: 0.9167\n",
      "Epoch 62/100\n",
      "18000/18000 [==============================] - 0s 22us/sample - loss: 0.3933 - accuracy: 0.8491 - val_loss: 0.4137 - val_accuracy: 0.9120\n",
      "Epoch 63/100\n",
      "18000/18000 [==============================] - 0s 22us/sample - loss: 0.3863 - accuracy: 0.8535 - val_loss: 0.4014 - val_accuracy: 0.9180\n",
      "Epoch 64/100\n",
      "18000/18000 [==============================] - 0s 22us/sample - loss: 0.3758 - accuracy: 0.8585 - val_loss: 0.3903 - val_accuracy: 0.9300\n",
      "Epoch 65/100\n",
      "18000/18000 [==============================] - 0s 24us/sample - loss: 0.3837 - accuracy: 0.8534 - val_loss: 0.3795 - val_accuracy: 0.9260\n",
      "Epoch 66/100\n",
      "18000/18000 [==============================] - 0s 23us/sample - loss: 0.3652 - accuracy: 0.8608 - val_loss: 0.4001 - val_accuracy: 0.9173\n",
      "Epoch 67/100\n",
      "18000/18000 [==============================] - 0s 23us/sample - loss: 0.3725 - accuracy: 0.8590 - val_loss: 0.4301 - val_accuracy: 0.9267\n",
      "Epoch 68/100\n",
      "18000/18000 [==============================] - 0s 22us/sample - loss: 0.3611 - accuracy: 0.8621 - val_loss: 0.4119 - val_accuracy: 0.9140\n",
      "Epoch 69/100\n",
      "18000/18000 [==============================] - 0s 22us/sample - loss: 0.3692 - accuracy: 0.8604 - val_loss: 0.4262 - val_accuracy: 0.9373\n",
      "Epoch 70/100\n",
      "18000/18000 [==============================] - 0s 22us/sample - loss: 0.3651 - accuracy: 0.8627 - val_loss: 0.4407 - val_accuracy: 0.9320\n",
      "Epoch 71/100\n",
      "18000/18000 [==============================] - 0s 23us/sample - loss: 0.3532 - accuracy: 0.8664 - val_loss: 0.4056 - val_accuracy: 0.9240\n",
      "Epoch 72/100\n",
      "18000/18000 [==============================] - 0s 22us/sample - loss: 0.3636 - accuracy: 0.8627 - val_loss: 0.3799 - val_accuracy: 0.9333\n",
      "Epoch 73/100\n",
      "18000/18000 [==============================] - 0s 23us/sample - loss: 0.3492 - accuracy: 0.8663 - val_loss: 0.4128 - val_accuracy: 0.9367\n",
      "Epoch 74/100\n",
      "18000/18000 [==============================] - 0s 23us/sample - loss: 0.3519 - accuracy: 0.8660 - val_loss: 0.4153 - val_accuracy: 0.9293\n",
      "Epoch 75/100\n",
      "18000/18000 [==============================] - 0s 23us/sample - loss: 0.3416 - accuracy: 0.8712 - val_loss: 0.4206 - val_accuracy: 0.9333\n",
      "Epoch 76/100\n",
      "18000/18000 [==============================] - 0s 23us/sample - loss: 0.3579 - accuracy: 0.8644 - val_loss: 0.4283 - val_accuracy: 0.9480\n",
      "Epoch 77/100\n",
      "18000/18000 [==============================] - 0s 22us/sample - loss: 0.3441 - accuracy: 0.8674 - val_loss: 0.4285 - val_accuracy: 0.9200\n",
      "Epoch 78/100\n",
      "18000/18000 [==============================] - 0s 23us/sample - loss: 0.3547 - accuracy: 0.8644 - val_loss: 0.4291 - val_accuracy: 0.9313\n",
      "Epoch 79/100\n",
      "18000/18000 [==============================] - 0s 22us/sample - loss: 0.3396 - accuracy: 0.8734 - val_loss: 0.4261 - val_accuracy: 0.9453\n",
      "Epoch 80/100\n",
      "18000/18000 [==============================] - 0s 23us/sample - loss: 0.3382 - accuracy: 0.8743 - val_loss: 0.4269 - val_accuracy: 0.9307\n",
      "Epoch 81/100\n",
      "18000/18000 [==============================] - 0s 23us/sample - loss: 0.3380 - accuracy: 0.8714 - val_loss: 0.4008 - val_accuracy: 0.9513\n",
      "Epoch 82/100\n",
      "18000/18000 [==============================] - 0s 23us/sample - loss: 0.3462 - accuracy: 0.8703 - val_loss: 0.4139 - val_accuracy: 0.9420\n",
      "Epoch 83/100\n",
      "18000/18000 [==============================] - 0s 22us/sample - loss: 0.3278 - accuracy: 0.8741 - val_loss: 0.3913 - val_accuracy: 0.9413\n",
      "Epoch 84/100\n",
      "18000/18000 [==============================] - 0s 22us/sample - loss: 0.3231 - accuracy: 0.8781 - val_loss: 0.3968 - val_accuracy: 0.9253\n",
      "Epoch 85/100\n",
      "18000/18000 [==============================] - 0s 23us/sample - loss: 0.3257 - accuracy: 0.8802 - val_loss: 0.3918 - val_accuracy: 0.9360\n",
      "Epoch 86/100\n",
      "18000/18000 [==============================] - 0s 23us/sample - loss: 0.3160 - accuracy: 0.8791 - val_loss: 0.4094 - val_accuracy: 0.9420\n",
      "Epoch 87/100\n",
      "18000/18000 [==============================] - 0s 23us/sample - loss: 0.3292 - accuracy: 0.8758 - val_loss: 0.4146 - val_accuracy: 0.9407\n",
      "Epoch 88/100\n",
      "18000/18000 [==============================] - 0s 23us/sample - loss: 0.3182 - accuracy: 0.8796 - val_loss: 0.4037 - val_accuracy: 0.9500\n",
      "Epoch 89/100\n",
      "18000/18000 [==============================] - 0s 22us/sample - loss: 0.3090 - accuracy: 0.8837 - val_loss: 0.4406 - val_accuracy: 0.9453\n",
      "Epoch 90/100\n",
      "18000/18000 [==============================] - 0s 23us/sample - loss: 0.3016 - accuracy: 0.8887 - val_loss: 0.4275 - val_accuracy: 0.9480\n",
      "Epoch 91/100\n",
      "18000/18000 [==============================] - 0s 22us/sample - loss: 0.3145 - accuracy: 0.8809 - val_loss: 0.4394 - val_accuracy: 0.9333\n",
      "Epoch 92/100\n",
      "18000/18000 [==============================] - 0s 23us/sample - loss: 0.3181 - accuracy: 0.8804 - val_loss: 0.3943 - val_accuracy: 0.9447\n",
      "Epoch 93/100\n",
      "18000/18000 [==============================] - ETA: 0s - loss: 0.3161 - accuracy: 0.88 - 0s 24us/sample - loss: 0.3168 - accuracy: 0.8830 - val_loss: 0.4143 - val_accuracy: 0.9433\n",
      "Epoch 94/100\n",
      "18000/18000 [==============================] - 0s 23us/sample - loss: 0.3223 - accuracy: 0.8793 - val_loss: 0.4230 - val_accuracy: 0.9420\n",
      "Epoch 95/100\n",
      "18000/18000 [==============================] - 0s 23us/sample - loss: 0.3102 - accuracy: 0.8862 - val_loss: 0.4538 - val_accuracy: 0.9420\n",
      "Epoch 96/100\n",
      "18000/18000 [==============================] - 0s 23us/sample - loss: 0.3010 - accuracy: 0.8874 - val_loss: 0.3587 - val_accuracy: 0.9533\n",
      "Epoch 97/100\n",
      "18000/18000 [==============================] - 0s 23us/sample - loss: 0.3061 - accuracy: 0.8870 - val_loss: 0.4531 - val_accuracy: 0.9420\n",
      "Epoch 98/100\n",
      "18000/18000 [==============================] - 0s 23us/sample - loss: 0.3102 - accuracy: 0.8842 - val_loss: 0.4170 - val_accuracy: 0.9493\n",
      "Epoch 99/100\n",
      "18000/18000 [==============================] - 0s 22us/sample - loss: 0.2916 - accuracy: 0.8922 - val_loss: 0.4333 - val_accuracy: 0.9413\n",
      "Epoch 100/100\n",
      "18000/18000 [==============================] - 0s 22us/sample - loss: 0.2937 - accuracy: 0.8901 - val_loss: 0.3939 - val_accuracy: 0.9580\n",
      "Wall time: 1min 24s\n"
     ]
    },
    {
     "data": {
      "text/plain": [
       "<tensorflow.python.keras.callbacks.History at 0x1171fa72988>"
      ]
     },
     "execution_count": 9,
     "metadata": {},
     "output_type": "execute_result"
    }
   ],
   "source": [
    "%%time\n",
    "model.fit(x=X_train, y=y_train, epochs=100, batch_size=512, validation_data=(X_test, y_test))"
   ]
  },
  {
   "cell_type": "markdown",
   "id": "e4fe55d6",
   "metadata": {},
   "source": [
    "# Modle Performance"
   ]
  },
  {
   "cell_type": "code",
   "execution_count": 10,
   "id": "95f922ea",
   "metadata": {},
   "outputs": [],
   "source": [
    "losses = pd.DataFrame(model.history.history)"
   ]
  },
  {
   "cell_type": "code",
   "execution_count": 11,
   "id": "858af874",
   "metadata": {},
   "outputs": [
    {
     "data": {
      "text/plain": [
       "<AxesSubplot:>"
      ]
     },
     "execution_count": 11,
     "metadata": {},
     "output_type": "execute_result"
    },
    {
     "data": {
      "image/png": "[encoded data removed]",
      "text/plain": [
       "<Figure size 432x288 with 1 Axes>"
      ]
     },
     "metadata": {
      "needs_background": "light"
     },
     "output_type": "display_data"
    }
   ],
   "source": [
    "losses[['loss','val_loss']].plot()"
   ]
  },
  {
   "cell_type": "markdown",
   "id": "93b49aac",
   "metadata": {},
   "source": [
    "# Predict"
   ]
  },
  {
   "cell_type": "code",
   "execution_count": 12,
   "id": "ce2c6191",
   "metadata": {},
   "outputs": [],
   "source": [
    "predictions = model.predict(X_test)"
   ]
  },
  {
   "cell_type": "markdown",
   "id": "d57637f8",
   "metadata": {},
   "source": [
    "\n",
    "# Confusion Matrix"
   ]
  },
  {
   "cell_type": "code",
   "execution_count": 13,
   "id": "1dfbf087",
   "metadata": {},
   "outputs": [],
   "source": [
    "y_test_arg=np.argmax(y_test,axis=1)\n",
    "Y_pred = np.argmax(predictions,axis=1)"
   ]
  },
  {
   "cell_type": "code",
   "execution_count": 14,
   "id": "5e7bef94",
   "metadata": {},
   "outputs": [
    {
     "name": "stdout",
     "output_type": "stream",
     "text": [
      "[[248   1   0   1   0   0]\n",
      " [  0 250   0   0   0   0]\n",
      " [  0   0 197   0   0  53]\n",
      " [  0   2   0 243   0   5]\n",
      " [  0   0   0   0 249   1]\n",
      " [  0   0   0   0   0 250]]\n"
     ]
    }
   ],
   "source": [
    "print(confusion_matrix(y_test_arg, Y_pred))"
   ]
  },
  {
   "cell_type": "code",
   "execution_count": 15,
   "id": "a9aff162",
   "metadata": {},
   "outputs": [
    {
     "data": {
      "text/plain": [
       "<AxesSubplot:>"
      ]
     },
     "execution_count": 15,
     "metadata": {},
     "output_type": "execute_result"
    },
    {
     "data": {
      "image/png": "[encoded data removed]",
      "text/plain": [
       "<Figure size 432x288 with 2 Axes>"
      ]
     },
     "metadata": {},
     "output_type": "display_data"
    }
   ],
   "source": [
    "array = metrics.confusion_matrix(y_test_arg, Y_pred)\n",
    "df_cm = pd.DataFrame(array, range(6), range(6))\n",
    "# plt.figure(figsize=(10,7))\n",
    "sns.set(font_scale=1) # for label size\n",
    "sns.heatmap(df_cm, annot=True, annot_kws={\"size\": 11}, cmap=\"OrRd\") # font size"
   ]
  },
  {
   "cell_type": "markdown",
   "id": "42627778",
   "metadata": {},
   "source": [
    "# classification Report"
   ]
  },
  {
   "cell_type": "code",
   "execution_count": 16,
   "id": "947405a5",
   "metadata": {},
   "outputs": [
    {
     "name": "stdout",
     "output_type": "stream",
     "text": [
      "              precision    recall  f1-score   support\n",
      "\n",
      "           0       1.00      0.99      1.00       250\n",
      "           1       0.99      1.00      0.99       250\n",
      "           2       1.00      0.79      0.88       250\n",
      "           3       1.00      0.97      0.98       250\n",
      "           4       1.00      1.00      1.00       250\n",
      "           5       0.81      1.00      0.89       250\n",
      "\n",
      "    accuracy                           0.96      1500\n",
      "   macro avg       0.97      0.96      0.96      1500\n",
      "weighted avg       0.97      0.96      0.96      1500\n",
      "\n"
     ]
    }
   ],
   "source": [
    "print(classification_report(y_test_arg, Y_pred))"
   ]
  },
  {
   "cell_type": "code",
   "execution_count": null,
   "id": "17de918c",
   "metadata": {},
   "outputs": [],
   "source": []
  }
 ],
 "metadata": {
  "kernelspec": {
   "display_name": "Python 3.7 (tensorflow)",
   "language": "python",
   "name": "tensorflow"
  },
  "language_info": {
   "codemirror_mode": {
    "name": "ipython",
    "version": 3
   },
   "file_extension": ".py",
   "mimetype": "text/x-python",
   "name": "python",
   "nbconvert_exporter": "python",
   "pygments_lexer": "ipython3",
   "version": "3.7.9"
  }
 },
 "nbformat": 4,
 "nbformat_minor": 5
}
