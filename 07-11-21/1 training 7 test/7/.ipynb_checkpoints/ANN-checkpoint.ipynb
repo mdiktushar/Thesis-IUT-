{
 "cells": [
  {
   "cell_type": "markdown",
   "id": "c17badd4",
   "metadata": {},
   "source": [
    "# ANN"
   ]
  },
  {
   "cell_type": "code",
   "execution_count": 1,
   "id": "f5df428c",
   "metadata": {},
   "outputs": [],
   "source": [
    "import pandas as pd\n",
    "import numpy as np\n",
    "import matplotlib.pyplot as plt\n",
    "import seaborn as sns\n",
    "%matplotlib inline\n",
    "\n",
    "from sklearn.preprocessing import OneHotEncoder, MinMaxScaler\n",
    "\n",
    "import tensorflow as tf\n",
    "from tensorflow.keras.models import Sequential\n",
    "from tensorflow.keras.layers import Dense, Activation,Dropout\n",
    "from sklearn.metrics import classification_report,confusion_matrix, plot_confusion_matrix\n",
    "import sklearn.metrics as metrics"
   ]
  },
  {
   "cell_type": "markdown",
   "id": "f9a4b800",
   "metadata": {},
   "source": [
    "# Input Data"
   ]
  },
  {
   "cell_type": "code",
   "execution_count": 2,
   "id": "fe15956c",
   "metadata": {},
   "outputs": [],
   "source": [
    "df = pd.read_csv('../Data.csv')"
   ]
  },
  {
   "cell_type": "code",
   "execution_count": 3,
   "id": "bef654bb",
   "metadata": {},
   "outputs": [],
   "source": [
    "dft = pd.read_csv('testing7.csv')"
   ]
  },
  {
   "cell_type": "code",
   "execution_count": 4,
   "id": "0f5337c0",
   "metadata": {},
   "outputs": [],
   "source": [
    "# X_train, X_test, y_train, y_test = train_test_split(X,y,test_size=0.25,random_state=101)\n",
    "X_train = df.drop('label',axis=1).values\n",
    "y_train = df['label'].values\n",
    "\n",
    "X_test = dft.drop('label',axis=1).values\n",
    "y_test = dft['label'].values"
   ]
  },
  {
   "cell_type": "markdown",
   "id": "b1318dcd",
   "metadata": {},
   "source": [
    "# One-hot encode the target"
   ]
  },
  {
   "cell_type": "code",
   "execution_count": 5,
   "id": "87b0bdf6",
   "metadata": {},
   "outputs": [],
   "source": [
    "enc = OneHotEncoder(sparse=False, handle_unknown='ignore')\n",
    "enc.fit(y_train.reshape(-1, 1))\n",
    "y_train = enc.transform(y_train.reshape(-1, 1))\n",
    "y_test = enc.transform(y_test.reshape(-1, 1))"
   ]
  },
  {
   "cell_type": "code",
   "execution_count": 6,
   "id": "5c52d6bd",
   "metadata": {},
   "outputs": [
    {
     "name": "stdout",
     "output_type": "stream",
     "text": [
      "(18000, 6) (1500, 6)\n"
     ]
    }
   ],
   "source": [
    "print(y_train.shape, y_test.shape)"
   ]
  },
  {
   "cell_type": "markdown",
   "id": "ccf0c799",
   "metadata": {},
   "source": [
    "# scale the features"
   ]
  },
  {
   "cell_type": "code",
   "execution_count": 7,
   "id": "3c544b11",
   "metadata": {},
   "outputs": [],
   "source": [
    "scaler = MinMaxScaler()\n",
    "scaler.fit(X_train)\n",
    "X_train = scaler.transform(X_train)\n",
    "X_test = scaler.transform(X_test)"
   ]
  },
  {
   "cell_type": "code",
   "execution_count": 8,
   "id": "e3e4af3c",
   "metadata": {},
   "outputs": [],
   "source": [
    "model = Sequential()\n",
    "\n",
    "model.add(Dense(units=64,activation='relu'))\n",
    "model.add(Dense(units=128,activation='relu'))\n",
    "model.add(Dropout(0.5))\n",
    "\n",
    "model.add(Dense(units=128,activation='relu'))\n",
    "model.add(Dense(units=512,activation='relu'))\n",
    "model.add(Dropout(0.5))\n",
    "\n",
    "model.add(Dense(units=521,activation='relu'))\n",
    "model.add(Dropout(0.5))\n",
    "\n",
    "model.add(Dense(6, activation='softmax'))\n",
    "# Compile model\n",
    "model.compile(optimizer='adam',\n",
    "              loss='categorical_crossentropy',\n",
    "              metrics=['accuracy'])"
   ]
  },
  {
   "cell_type": "code",
   "execution_count": 9,
   "id": "3fd0d04b",
   "metadata": {},
   "outputs": [
    {
     "name": "stdout",
     "output_type": "stream",
     "text": [
      "Train on 18000 samples, validate on 1500 samples\n",
      "Epoch 1/100\n",
      "18000/18000 [==============================] - 2s 89us/sample - loss: 1.6929 - accuracy: 0.2702 - val_loss: 1.6460 - val_accuracy: 0.3100\n",
      "Epoch 2/100\n",
      "18000/18000 [==============================] - 0s 23us/sample - loss: 1.4419 - accuracy: 0.4242 - val_loss: 1.4964 - val_accuracy: 0.4260\n",
      "Epoch 3/100\n",
      "18000/18000 [==============================] - 0s 23us/sample - loss: 1.3237 - accuracy: 0.4942 - val_loss: 1.2767 - val_accuracy: 0.5860\n",
      "Epoch 4/100\n",
      "18000/18000 [==============================] - 0s 23us/sample - loss: 1.2314 - accuracy: 0.5354 - val_loss: 1.1683 - val_accuracy: 0.5993\n",
      "Epoch 5/100\n",
      "18000/18000 [==============================] - 0s 23us/sample - loss: 1.1684 - accuracy: 0.5574 - val_loss: 1.1204 - val_accuracy: 0.6147\n",
      "Epoch 6/100\n",
      "18000/18000 [==============================] - 0s 23us/sample - loss: 1.1193 - accuracy: 0.5773 - val_loss: 1.0529 - val_accuracy: 0.6500\n",
      "Epoch 7/100\n",
      "18000/18000 [==============================] - 0s 22us/sample - loss: 1.0735 - accuracy: 0.5967 - val_loss: 0.9455 - val_accuracy: 0.6940\n",
      "Epoch 8/100\n",
      "18000/18000 [==============================] - 0s 23us/sample - loss: 1.0293 - accuracy: 0.6120 - val_loss: 0.9180 - val_accuracy: 0.6693\n",
      "Epoch 9/100\n",
      "18000/18000 [==============================] - 0s 22us/sample - loss: 0.9920 - accuracy: 0.6236 - val_loss: 0.8689 - val_accuracy: 0.6727\n",
      "Epoch 10/100\n",
      "18000/18000 [==============================] - 0s 22us/sample - loss: 0.9683 - accuracy: 0.6331 - val_loss: 0.7877 - val_accuracy: 0.7373\n",
      "Epoch 11/100\n",
      "18000/18000 [==============================] - 0s 22us/sample - loss: 0.9277 - accuracy: 0.6497 - val_loss: 0.7865 - val_accuracy: 0.7380\n",
      "Epoch 12/100\n",
      "18000/18000 [==============================] - 0s 22us/sample - loss: 0.9021 - accuracy: 0.6581 - val_loss: 0.7241 - val_accuracy: 0.7653\n",
      "Epoch 13/100\n",
      "18000/18000 [==============================] - 0s 23us/sample - loss: 0.8682 - accuracy: 0.6688 - val_loss: 0.6833 - val_accuracy: 0.7707\n",
      "Epoch 14/100\n",
      "18000/18000 [==============================] - 0s 22us/sample - loss: 0.8503 - accuracy: 0.6760 - val_loss: 0.6850 - val_accuracy: 0.7687\n",
      "Epoch 15/100\n",
      "18000/18000 [==============================] - 0s 23us/sample - loss: 0.8106 - accuracy: 0.6882 - val_loss: 0.6289 - val_accuracy: 0.7780\n",
      "Epoch 16/100\n",
      "18000/18000 [==============================] - 0s 23us/sample - loss: 0.7951 - accuracy: 0.6966 - val_loss: 0.6349 - val_accuracy: 0.7787\n",
      "Epoch 17/100\n",
      "18000/18000 [==============================] - 0s 23us/sample - loss: 0.7694 - accuracy: 0.7062 - val_loss: 0.5913 - val_accuracy: 0.8220\n",
      "Epoch 18/100\n",
      "18000/18000 [==============================] - 0s 24us/sample - loss: 0.7503 - accuracy: 0.7129 - val_loss: 0.5548 - val_accuracy: 0.8040\n",
      "Epoch 19/100\n",
      "18000/18000 [==============================] - 0s 22us/sample - loss: 0.7291 - accuracy: 0.7236 - val_loss: 0.5508 - val_accuracy: 0.7913\n",
      "Epoch 20/100\n",
      "18000/18000 [==============================] - 0s 23us/sample - loss: 0.7199 - accuracy: 0.7279 - val_loss: 0.5591 - val_accuracy: 0.8160\n",
      "Epoch 21/100\n",
      "18000/18000 [==============================] - 0s 22us/sample - loss: 0.6921 - accuracy: 0.7366 - val_loss: 0.5603 - val_accuracy: 0.8233\n",
      "Epoch 22/100\n",
      "18000/18000 [==============================] - 0s 23us/sample - loss: 0.6703 - accuracy: 0.7469 - val_loss: 0.5138 - val_accuracy: 0.8247\n",
      "Epoch 23/100\n",
      "18000/18000 [==============================] - 0s 23us/sample - loss: 0.6565 - accuracy: 0.7486 - val_loss: 0.5247 - val_accuracy: 0.8187\n",
      "Epoch 24/100\n",
      "18000/18000 [==============================] - 0s 23us/sample - loss: 0.6480 - accuracy: 0.7513 - val_loss: 0.5058 - val_accuracy: 0.8187\n",
      "Epoch 25/100\n",
      "18000/18000 [==============================] - 0s 23us/sample - loss: 0.6314 - accuracy: 0.7634 - val_loss: 0.5074 - val_accuracy: 0.8220\n",
      "Epoch 26/100\n",
      "18000/18000 [==============================] - 0s 23us/sample - loss: 0.6210 - accuracy: 0.7613 - val_loss: 0.4902 - val_accuracy: 0.8327\n",
      "Epoch 27/100\n",
      "18000/18000 [==============================] - 0s 23us/sample - loss: 0.6022 - accuracy: 0.7696 - val_loss: 0.4804 - val_accuracy: 0.8273\n",
      "Epoch 28/100\n",
      "18000/18000 [==============================] - 0s 23us/sample - loss: 0.5856 - accuracy: 0.7749 - val_loss: 0.5251 - val_accuracy: 0.8180\n",
      "Epoch 29/100\n",
      "18000/18000 [==============================] - 0s 23us/sample - loss: 0.5735 - accuracy: 0.7821 - val_loss: 0.5161 - val_accuracy: 0.8233\n",
      "Epoch 30/100\n",
      "18000/18000 [==============================] - 0s 23us/sample - loss: 0.5703 - accuracy: 0.7812 - val_loss: 0.5036 - val_accuracy: 0.8273\n",
      "Epoch 31/100\n",
      "18000/18000 [==============================] - 0s 23us/sample - loss: 0.5571 - accuracy: 0.7886 - val_loss: 0.5045 - val_accuracy: 0.8073\n",
      "Epoch 32/100\n",
      "18000/18000 [==============================] - 0s 23us/sample - loss: 0.5339 - accuracy: 0.7954 - val_loss: 0.5122 - val_accuracy: 0.8280\n",
      "Epoch 33/100\n",
      "18000/18000 [==============================] - 0s 23us/sample - loss: 0.5338 - accuracy: 0.7954 - val_loss: 0.4718 - val_accuracy: 0.8480\n",
      "Epoch 34/100\n",
      "18000/18000 [==============================] - 0s 23us/sample - loss: 0.5172 - accuracy: 0.8057 - val_loss: 0.4696 - val_accuracy: 0.8353\n",
      "Epoch 35/100\n",
      "18000/18000 [==============================] - 0s 23us/sample - loss: 0.5086 - accuracy: 0.8076 - val_loss: 0.4238 - val_accuracy: 0.8767\n",
      "Epoch 36/100\n",
      "18000/18000 [==============================] - 0s 23us/sample - loss: 0.5042 - accuracy: 0.8112 - val_loss: 0.4456 - val_accuracy: 0.8467\n",
      "Epoch 37/100\n",
      "18000/18000 [==============================] - 0s 23us/sample - loss: 0.5001 - accuracy: 0.8099 - val_loss: 0.4587 - val_accuracy: 0.8500\n",
      "Epoch 38/100\n",
      "18000/18000 [==============================] - 0s 23us/sample - loss: 0.4858 - accuracy: 0.8147 - val_loss: 0.4369 - val_accuracy: 0.8860\n",
      "Epoch 39/100\n",
      "18000/18000 [==============================] - 0s 25us/sample - loss: 0.4757 - accuracy: 0.8198 - val_loss: 0.4871 - val_accuracy: 0.8440\n",
      "Epoch 40/100\n",
      "18000/18000 [==============================] - 0s 23us/sample - loss: 0.4724 - accuracy: 0.8230 - val_loss: 0.4911 - val_accuracy: 0.8367\n",
      "Epoch 41/100\n",
      "18000/18000 [==============================] - 0s 23us/sample - loss: 0.4664 - accuracy: 0.8212 - val_loss: 0.4044 - val_accuracy: 0.8993\n",
      "Epoch 42/100\n",
      "18000/18000 [==============================] - 0s 23us/sample - loss: 0.4687 - accuracy: 0.8208 - val_loss: 0.4227 - val_accuracy: 0.8700\n",
      "Epoch 43/100\n",
      "18000/18000 [==============================] - 0s 24us/sample - loss: 0.4633 - accuracy: 0.8231 - val_loss: 0.4337 - val_accuracy: 0.8453\n",
      "Epoch 44/100\n",
      "18000/18000 [==============================] - 0s 24us/sample - loss: 0.4495 - accuracy: 0.8255 - val_loss: 0.4661 - val_accuracy: 0.8487\n",
      "Epoch 45/100\n",
      "18000/18000 [==============================] - 0s 23us/sample - loss: 0.4364 - accuracy: 0.8331 - val_loss: 0.4385 - val_accuracy: 0.8740\n",
      "Epoch 46/100\n",
      "18000/18000 [==============================] - 0s 23us/sample - loss: 0.4373 - accuracy: 0.8326 - val_loss: 0.4454 - val_accuracy: 0.8827\n",
      "Epoch 47/100\n",
      "18000/18000 [==============================] - 0s 23us/sample - loss: 0.4313 - accuracy: 0.8372 - val_loss: 0.4521 - val_accuracy: 0.8673\n",
      "Epoch 48/100\n",
      "18000/18000 [==============================] - 0s 23us/sample - loss: 0.4196 - accuracy: 0.8415 - val_loss: 0.4319 - val_accuracy: 0.8767\n",
      "Epoch 49/100\n",
      "18000/18000 [==============================] - 0s 25us/sample - loss: 0.4201 - accuracy: 0.8389 - val_loss: 0.4212 - val_accuracy: 0.8620\n",
      "Epoch 50/100\n",
      "18000/18000 [==============================] - 0s 25us/sample - loss: 0.4207 - accuracy: 0.8399 - val_loss: 0.4846 - val_accuracy: 0.8507\n",
      "Epoch 51/100\n",
      "18000/18000 [==============================] - 0s 23us/sample - loss: 0.4067 - accuracy: 0.8483 - val_loss: 0.4941 - val_accuracy: 0.8453\n",
      "Epoch 52/100\n",
      "18000/18000 [==============================] - 0s 23us/sample - loss: 0.4021 - accuracy: 0.8449 - val_loss: 0.4578 - val_accuracy: 0.8767\n",
      "Epoch 53/100\n",
      "18000/18000 [==============================] - 0s 23us/sample - loss: 0.3998 - accuracy: 0.8474 - val_loss: 0.5073 - val_accuracy: 0.8767\n",
      "Epoch 54/100\n",
      "18000/18000 [==============================] - 0s 23us/sample - loss: 0.3959 - accuracy: 0.8513 - val_loss: 0.4511 - val_accuracy: 0.8780\n"
     ]
    },
    {
     "name": "stdout",
     "output_type": "stream",
     "text": [
      "Epoch 55/100\n",
      "18000/18000 [==============================] - 0s 23us/sample - loss: 0.3879 - accuracy: 0.8518 - val_loss: 0.4770 - val_accuracy: 0.8673\n",
      "Epoch 56/100\n",
      "18000/18000 [==============================] - 0s 23us/sample - loss: 0.3793 - accuracy: 0.8569 - val_loss: 0.4998 - val_accuracy: 0.8760\n",
      "Epoch 57/100\n",
      "18000/18000 [==============================] - 0s 23us/sample - loss: 0.3831 - accuracy: 0.8537 - val_loss: 0.5020 - val_accuracy: 0.8667\n",
      "Epoch 58/100\n",
      "18000/18000 [==============================] - 0s 23us/sample - loss: 0.3770 - accuracy: 0.8580 - val_loss: 0.4661 - val_accuracy: 0.8740\n",
      "Epoch 59/100\n",
      "18000/18000 [==============================] - 0s 23us/sample - loss: 0.3672 - accuracy: 0.8606 - val_loss: 0.4887 - val_accuracy: 0.8627\n",
      "Epoch 60/100\n",
      "18000/18000 [==============================] - 0s 23us/sample - loss: 0.3741 - accuracy: 0.8589 - val_loss: 0.4369 - val_accuracy: 0.8807\n",
      "Epoch 61/100\n",
      "18000/18000 [==============================] - 0s 23us/sample - loss: 0.3684 - accuracy: 0.8602 - val_loss: 0.4256 - val_accuracy: 0.8860\n",
      "Epoch 62/100\n",
      "18000/18000 [==============================] - 0s 23us/sample - loss: 0.3689 - accuracy: 0.8574 - val_loss: 0.4893 - val_accuracy: 0.8587\n",
      "Epoch 63/100\n",
      "18000/18000 [==============================] - 0s 24us/sample - loss: 0.3667 - accuracy: 0.8605 - val_loss: 0.4567 - val_accuracy: 0.8900\n",
      "Epoch 64/100\n",
      "18000/18000 [==============================] - 0s 23us/sample - loss: 0.3517 - accuracy: 0.8666 - val_loss: 0.4899 - val_accuracy: 0.8820\n",
      "Epoch 65/100\n",
      "18000/18000 [==============================] - 0s 23us/sample - loss: 0.3643 - accuracy: 0.8592 - val_loss: 0.4320 - val_accuracy: 0.8860\n",
      "Epoch 66/100\n",
      "18000/18000 [==============================] - 0s 23us/sample - loss: 0.3479 - accuracy: 0.8683 - val_loss: 0.5062 - val_accuracy: 0.8587\n",
      "Epoch 67/100\n",
      "18000/18000 [==============================] - 0s 23us/sample - loss: 0.3431 - accuracy: 0.8701 - val_loss: 0.4659 - val_accuracy: 0.8820\n",
      "Epoch 68/100\n",
      "18000/18000 [==============================] - 0s 24us/sample - loss: 0.3523 - accuracy: 0.8664 - val_loss: 0.4295 - val_accuracy: 0.8867\n",
      "Epoch 69/100\n",
      "18000/18000 [==============================] - 0s 23us/sample - loss: 0.3448 - accuracy: 0.8690 - val_loss: 0.3930 - val_accuracy: 0.8820\n",
      "Epoch 70/100\n",
      "18000/18000 [==============================] - 0s 23us/sample - loss: 0.3422 - accuracy: 0.8686 - val_loss: 0.4710 - val_accuracy: 0.8780\n",
      "Epoch 71/100\n",
      "18000/18000 [==============================] - 0s 25us/sample - loss: 0.3327 - accuracy: 0.8731 - val_loss: 0.4879 - val_accuracy: 0.8753\n",
      "Epoch 72/100\n",
      "18000/18000 [==============================] - 0s 24us/sample - loss: 0.3339 - accuracy: 0.8736 - val_loss: 0.3931 - val_accuracy: 0.8967\n",
      "Epoch 73/100\n",
      "18000/18000 [==============================] - 0s 23us/sample - loss: 0.3371 - accuracy: 0.8691 - val_loss: 0.4506 - val_accuracy: 0.8820\n",
      "Epoch 74/100\n",
      "18000/18000 [==============================] - 0s 25us/sample - loss: 0.3279 - accuracy: 0.8768 - val_loss: 0.4281 - val_accuracy: 0.8920\n",
      "Epoch 75/100\n",
      "18000/18000 [==============================] - 0s 24us/sample - loss: 0.3327 - accuracy: 0.8740 - val_loss: 0.4481 - val_accuracy: 0.8893\n",
      "Epoch 76/100\n",
      "18000/18000 [==============================] - 0s 23us/sample - loss: 0.3145 - accuracy: 0.8817 - val_loss: 0.5000 - val_accuracy: 0.8840\n",
      "Epoch 77/100\n",
      "18000/18000 [==============================] - 0s 24us/sample - loss: 0.3295 - accuracy: 0.8712 - val_loss: 0.4736 - val_accuracy: 0.8827\n",
      "Epoch 78/100\n",
      "18000/18000 [==============================] - 0s 24us/sample - loss: 0.3202 - accuracy: 0.8807 - val_loss: 0.4619 - val_accuracy: 0.8813\n",
      "Epoch 79/100\n",
      "18000/18000 [==============================] - 0s 23us/sample - loss: 0.3163 - accuracy: 0.8814 - val_loss: 0.4803 - val_accuracy: 0.8820\n",
      "Epoch 80/100\n",
      "18000/18000 [==============================] - 0s 23us/sample - loss: 0.3189 - accuracy: 0.8784 - val_loss: 0.4453 - val_accuracy: 0.8960\n",
      "Epoch 81/100\n",
      "18000/18000 [==============================] - 0s 23us/sample - loss: 0.3202 - accuracy: 0.8805 - val_loss: 0.4339 - val_accuracy: 0.8847\n",
      "Epoch 82/100\n",
      "18000/18000 [==============================] - 0s 23us/sample - loss: 0.3145 - accuracy: 0.8814 - val_loss: 0.4402 - val_accuracy: 0.8913\n",
      "Epoch 83/100\n",
      "18000/18000 [==============================] - 0s 23us/sample - loss: 0.3111 - accuracy: 0.8796 - val_loss: 0.5131 - val_accuracy: 0.8880\n",
      "Epoch 84/100\n",
      "18000/18000 [==============================] - 0s 23us/sample - loss: 0.3108 - accuracy: 0.8799 - val_loss: 0.3923 - val_accuracy: 0.9087\n",
      "Epoch 85/100\n",
      "18000/18000 [==============================] - 0s 23us/sample - loss: 0.3094 - accuracy: 0.8856 - val_loss: 0.4729 - val_accuracy: 0.8840\n",
      "Epoch 86/100\n",
      "18000/18000 [==============================] - 0s 24us/sample - loss: 0.3030 - accuracy: 0.8837 - val_loss: 0.4901 - val_accuracy: 0.8927\n",
      "Epoch 87/100\n",
      "18000/18000 [==============================] - 0s 23us/sample - loss: 0.3036 - accuracy: 0.8856 - val_loss: 0.4672 - val_accuracy: 0.8833\n",
      "Epoch 88/100\n",
      "18000/18000 [==============================] - 0s 23us/sample - loss: 0.2997 - accuracy: 0.8876 - val_loss: 0.5658 - val_accuracy: 0.8733\n",
      "Epoch 89/100\n",
      "18000/18000 [==============================] - 0s 23us/sample - loss: 0.3041 - accuracy: 0.8865 - val_loss: 0.4611 - val_accuracy: 0.8913\n",
      "Epoch 90/100\n",
      "18000/18000 [==============================] - 0s 25us/sample - loss: 0.3091 - accuracy: 0.8799 - val_loss: 0.4783 - val_accuracy: 0.8813\n",
      "Epoch 91/100\n",
      "18000/18000 [==============================] - 0s 23us/sample - loss: 0.3039 - accuracy: 0.8873 - val_loss: 0.4518 - val_accuracy: 0.9000\n",
      "Epoch 92/100\n",
      "18000/18000 [==============================] - 0s 23us/sample - loss: 0.2950 - accuracy: 0.8893 - val_loss: 0.4601 - val_accuracy: 0.8780\n",
      "Epoch 93/100\n",
      "18000/18000 [==============================] - 0s 23us/sample - loss: 0.2953 - accuracy: 0.8873 - val_loss: 0.5003 - val_accuracy: 0.8893\n",
      "Epoch 94/100\n",
      "18000/18000 [==============================] - 0s 23us/sample - loss: 0.3029 - accuracy: 0.8876 - val_loss: 0.4196 - val_accuracy: 0.8940\n",
      "Epoch 95/100\n",
      "18000/18000 [==============================] - 0s 25us/sample - loss: 0.2948 - accuracy: 0.8903 - val_loss: 0.5486 - val_accuracy: 0.8927\n",
      "Epoch 96/100\n",
      "18000/18000 [==============================] - 0s 24us/sample - loss: 0.2821 - accuracy: 0.8949 - val_loss: 0.5619 - val_accuracy: 0.8893\n",
      "Epoch 97/100\n",
      "18000/18000 [==============================] - 0s 24us/sample - loss: 0.2867 - accuracy: 0.8941 - val_loss: 0.4786 - val_accuracy: 0.8920\n",
      "Epoch 98/100\n",
      "18000/18000 [==============================] - 0s 24us/sample - loss: 0.2892 - accuracy: 0.8892 - val_loss: 0.4922 - val_accuracy: 0.8773\n",
      "Epoch 99/100\n",
      "18000/18000 [==============================] - 0s 25us/sample - loss: 0.2941 - accuracy: 0.8883 - val_loss: 0.4933 - val_accuracy: 0.8860\n",
      "Epoch 100/100\n",
      "18000/18000 [==============================] - 0s 24us/sample - loss: 0.2852 - accuracy: 0.8931 - val_loss: 0.4441 - val_accuracy: 0.8960\n",
      "Wall time: 45.4 s\n"
     ]
    },
    {
     "data": {
      "text/plain": [
       "<tensorflow.python.keras.callbacks.History at 0x205a16b4348>"
      ]
     },
     "execution_count": 9,
     "metadata": {},
     "output_type": "execute_result"
    }
   ],
   "source": [
    "%%time\n",
    "model.fit(x=X_train, y=y_train, epochs=100, batch_size=512, validation_data=(X_test, y_test))"
   ]
  },
  {
   "cell_type": "markdown",
   "id": "e4fe55d6",
   "metadata": {},
   "source": [
    "# Modle Performance"
   ]
  },
  {
   "cell_type": "code",
   "execution_count": 10,
   "id": "95f922ea",
   "metadata": {},
   "outputs": [],
   "source": [
    "losses = pd.DataFrame(model.history.history)"
   ]
  },
  {
   "cell_type": "code",
   "execution_count": 11,
   "id": "858af874",
   "metadata": {},
   "outputs": [
    {
     "data": {
      "text/plain": [
       "<AxesSubplot:>"
      ]
     },
     "execution_count": 11,
     "metadata": {},
     "output_type": "execute_result"
    },
    {
     "data": {
      "image/png": "[encoded data removed]",
      "text/plain": [
       "<Figure size 432x288 with 1 Axes>"
      ]
     },
     "metadata": {
      "needs_background": "light"
     },
     "output_type": "display_data"
    }
   ],
   "source": [
    "losses[['loss','val_loss']].plot()"
   ]
  },
  {
   "cell_type": "markdown",
   "id": "93b49aac",
   "metadata": {},
   "source": [
    "# Predict"
   ]
  },
  {
   "cell_type": "code",
   "execution_count": 12,
   "id": "ce2c6191",
   "metadata": {},
   "outputs": [],
   "source": [
    "predictions = model.predict(X_test)"
   ]
  },
  {
   "cell_type": "markdown",
   "id": "d57637f8",
   "metadata": {},
   "source": [
    "\n",
    "# Confusion Matrix"
   ]
  },
  {
   "cell_type": "code",
   "execution_count": 13,
   "id": "1dfbf087",
   "metadata": {},
   "outputs": [],
   "source": [
    "y_test_arg=np.argmax(y_test,axis=1)\n",
    "Y_pred = np.argmax(predictions,axis=1)"
   ]
  },
  {
   "cell_type": "code",
   "execution_count": 14,
   "id": "5e7bef94",
   "metadata": {},
   "outputs": [
    {
     "name": "stdout",
     "output_type": "stream",
     "text": [
      "[[248   1   0   0   1   0]\n",
      " [  0 152   0   0  98   0]\n",
      " [  0   0 237   0   0  13]\n",
      " [  0  37   1 211   0   1]\n",
      " [  0   0   0   0 250   0]\n",
      " [  4   0   0   0   0 246]]\n"
     ]
    }
   ],
   "source": [
    "print(confusion_matrix(y_test_arg, Y_pred))"
   ]
  },
  {
   "cell_type": "code",
   "execution_count": 15,
   "id": "a9aff162",
   "metadata": {},
   "outputs": [
    {
     "data": {
      "text/plain": [
       "<AxesSubplot:>"
      ]
     },
     "execution_count": 15,
     "metadata": {},
     "output_type": "execute_result"
    },
    {
     "data": {
      "image/png": "[encoded data removed]",
      "text/plain": [
       "<Figure size 432x288 with 2 Axes>"
      ]
     },
     "metadata": {},
     "output_type": "display_data"
    }
   ],
   "source": [
    "array = metrics.confusion_matrix(y_test_arg, Y_pred)\n",
    "df_cm = pd.DataFrame(array, range(6), range(6))\n",
    "# plt.figure(figsize=(10,7))\n",
    "sns.set(font_scale=1) # for label size\n",
    "sns.heatmap(df_cm, annot=True, annot_kws={\"size\": 11}, cmap=\"OrRd\") # font size"
   ]
  },
  {
   "cell_type": "markdown",
   "id": "42627778",
   "metadata": {},
   "source": [
    "# classification Report"
   ]
  },
  {
   "cell_type": "code",
   "execution_count": 16,
   "id": "947405a5",
   "metadata": {},
   "outputs": [
    {
     "name": "stdout",
     "output_type": "stream",
     "text": [
      "              precision    recall  f1-score   support\n",
      "\n",
      "           0       0.98      0.99      0.99       250\n",
      "           1       0.80      0.61      0.69       250\n",
      "           2       1.00      0.95      0.97       250\n",
      "           3       1.00      0.84      0.92       250\n",
      "           4       0.72      1.00      0.83       250\n",
      "           5       0.95      0.98      0.96       250\n",
      "\n",
      "    accuracy                           0.90      1500\n",
      "   macro avg       0.91      0.90      0.89      1500\n",
      "weighted avg       0.91      0.90      0.89      1500\n",
      "\n"
     ]
    }
   ],
   "source": [
    "print(classification_report(y_test_arg, Y_pred))"
   ]
  },
  {
   "cell_type": "code",
   "execution_count": null,
   "id": "17de918c",
   "metadata": {},
   "outputs": [],
   "source": []
  }
 ],
 "metadata": {
  "kernelspec": {
   "display_name": "Python 3.7 (tensorflow)",
   "language": "python",
   "name": "tensorflow"
  },
  "language_info": {
   "codemirror_mode": {
    "name": "ipython",
    "version": 3
   },
   "file_extension": ".py",
   "mimetype": "text/x-python",
   "name": "python",
   "nbconvert_exporter": "python",
   "pygments_lexer": "ipython3",
   "version": "3.7.9"
  }
 },
 "nbformat": 4,
 "nbformat_minor": 5
}
