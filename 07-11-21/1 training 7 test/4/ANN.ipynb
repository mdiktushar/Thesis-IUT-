{
 "cells": [
  {
   "cell_type": "markdown",
   "id": "c17badd4",
   "metadata": {},
   "source": [
    "# ANN"
   ]
  },
  {
   "cell_type": "code",
   "execution_count": 1,
   "id": "f5df428c",
   "metadata": {},
   "outputs": [],
   "source": [
    "import pandas as pd\n",
    "import numpy as np\n",
    "import matplotlib.pyplot as plt\n",
    "import seaborn as sns\n",
    "%matplotlib inline\n",
    "\n",
    "from sklearn.preprocessing import OneHotEncoder, MinMaxScaler\n",
    "\n",
    "import tensorflow as tf\n",
    "from tensorflow.keras.models import Sequential\n",
    "from tensorflow.keras.layers import Dense, Activation,Dropout\n",
    "from sklearn.metrics import classification_report,confusion_matrix, plot_confusion_matrix\n",
    "import sklearn.metrics as metrics"
   ]
  },
  {
   "cell_type": "markdown",
   "id": "f9a4b800",
   "metadata": {},
   "source": [
    "# Input Data"
   ]
  },
  {
   "cell_type": "code",
   "execution_count": 2,
   "id": "fe15956c",
   "metadata": {},
   "outputs": [],
   "source": [
    "df = pd.read_csv('../Data.csv')"
   ]
  },
  {
   "cell_type": "code",
   "execution_count": 3,
   "id": "bef654bb",
   "metadata": {},
   "outputs": [],
   "source": [
    "dft = pd.read_csv('testing4.csv')"
   ]
  },
  {
   "cell_type": "code",
   "execution_count": 4,
   "id": "0f5337c0",
   "metadata": {},
   "outputs": [],
   "source": [
    "# X_train, X_test, y_train, y_test = train_test_split(X,y,test_size=0.25,random_state=101)\n",
    "X_train = df.drop('label',axis=1).values\n",
    "y_train = df['label'].values\n",
    "\n",
    "X_test = dft.drop('label',axis=1).values\n",
    "y_test = dft['label'].values"
   ]
  },
  {
   "cell_type": "markdown",
   "id": "b1318dcd",
   "metadata": {},
   "source": [
    "# One-hot encode the target"
   ]
  },
  {
   "cell_type": "code",
   "execution_count": 5,
   "id": "87b0bdf6",
   "metadata": {},
   "outputs": [],
   "source": [
    "enc = OneHotEncoder(sparse=False, handle_unknown='ignore')\n",
    "enc.fit(y_train.reshape(-1, 1))\n",
    "y_train = enc.transform(y_train.reshape(-1, 1))\n",
    "y_test = enc.transform(y_test.reshape(-1, 1))"
   ]
  },
  {
   "cell_type": "code",
   "execution_count": 6,
   "id": "5c52d6bd",
   "metadata": {},
   "outputs": [
    {
     "name": "stdout",
     "output_type": "stream",
     "text": [
      "(18000, 6) (1500, 6)\n"
     ]
    }
   ],
   "source": [
    "print(y_train.shape, y_test.shape)"
   ]
  },
  {
   "cell_type": "markdown",
   "id": "ccf0c799",
   "metadata": {},
   "source": [
    "# scale the features"
   ]
  },
  {
   "cell_type": "code",
   "execution_count": 7,
   "id": "3c544b11",
   "metadata": {},
   "outputs": [],
   "source": [
    "scaler = MinMaxScaler()\n",
    "scaler.fit(X_train)\n",
    "X_train = scaler.transform(X_train)\n",
    "X_test = scaler.transform(X_test)"
   ]
  },
  {
   "cell_type": "code",
   "execution_count": 8,
   "id": "e3e4af3c",
   "metadata": {},
   "outputs": [],
   "source": [
    "model = Sequential()\n",
    "\n",
    "model.add(Dense(units=64,activation='relu'))\n",
    "model.add(Dense(units=128,activation='relu'))\n",
    "model.add(Dropout(0.5))\n",
    "\n",
    "model.add(Dense(units=128,activation='relu'))\n",
    "model.add(Dense(units=512,activation='relu'))\n",
    "model.add(Dropout(0.5))\n",
    "\n",
    "model.add(Dense(units=521,activation='relu'))\n",
    "model.add(Dropout(0.5))\n",
    "\n",
    "model.add(Dense(6, activation='softmax'))\n",
    "# Compile model\n",
    "model.compile(optimizer='adam',\n",
    "              loss='categorical_crossentropy',\n",
    "              metrics=['accuracy'])"
   ]
  },
  {
   "cell_type": "code",
   "execution_count": 9,
   "id": "3fd0d04b",
   "metadata": {},
   "outputs": [
    {
     "name": "stdout",
     "output_type": "stream",
     "text": [
      "Train on 18000 samples, validate on 1500 samples\n",
      "Epoch 1/100\n",
      "18000/18000 [==============================] - 13s 731us/sample - loss: 1.7051 - accuracy: 0.2571 - val_loss: 1.4286 - val_accuracy: 0.4053\n",
      "Epoch 2/100\n",
      "18000/18000 [==============================] - 1s 30us/sample - loss: 1.4842 - accuracy: 0.4059 - val_loss: 1.2364 - val_accuracy: 0.5613\n",
      "Epoch 3/100\n",
      "18000/18000 [==============================] - 0s 22us/sample - loss: 1.3522 - accuracy: 0.4788 - val_loss: 1.0820 - val_accuracy: 0.6033\n",
      "Epoch 4/100\n",
      "18000/18000 [==============================] - 0s 23us/sample - loss: 1.2571 - accuracy: 0.5241 - val_loss: 1.0051 - val_accuracy: 0.6287\n",
      "Epoch 5/100\n",
      "18000/18000 [==============================] - 0s 22us/sample - loss: 1.2006 - accuracy: 0.5457 - val_loss: 0.9678 - val_accuracy: 0.6273\n",
      "Epoch 6/100\n",
      "18000/18000 [==============================] - 0s 23us/sample - loss: 1.1593 - accuracy: 0.5602 - val_loss: 0.9290 - val_accuracy: 0.6620\n",
      "Epoch 7/100\n",
      "18000/18000 [==============================] - 0s 23us/sample - loss: 1.1159 - accuracy: 0.5778 - val_loss: 0.8764 - val_accuracy: 0.6960\n",
      "Epoch 8/100\n",
      "18000/18000 [==============================] - 0s 23us/sample - loss: 1.0739 - accuracy: 0.5943 - val_loss: 0.8785 - val_accuracy: 0.6880\n",
      "Epoch 9/100\n",
      "18000/18000 [==============================] - 0s 23us/sample - loss: 1.0435 - accuracy: 0.6069 - val_loss: 0.8350 - val_accuracy: 0.6793\n",
      "Epoch 10/100\n",
      "18000/18000 [==============================] - 0s 24us/sample - loss: 1.0062 - accuracy: 0.6204 - val_loss: 0.7943 - val_accuracy: 0.7080\n",
      "Epoch 11/100\n",
      "18000/18000 [==============================] - 0s 23us/sample - loss: 0.9751 - accuracy: 0.6326 - val_loss: 0.7658 - val_accuracy: 0.7060\n",
      "Epoch 12/100\n",
      "18000/18000 [==============================] - 0s 25us/sample - loss: 0.9363 - accuracy: 0.6479 - val_loss: 0.7577 - val_accuracy: 0.7073\n",
      "Epoch 13/100\n",
      "18000/18000 [==============================] - 0s 24us/sample - loss: 0.9136 - accuracy: 0.6574 - val_loss: 0.7250 - val_accuracy: 0.7333\n",
      "Epoch 14/100\n",
      "18000/18000 [==============================] - 0s 23us/sample - loss: 0.8819 - accuracy: 0.6668 - val_loss: 0.6681 - val_accuracy: 0.7367\n",
      "Epoch 15/100\n",
      "18000/18000 [==============================] - 0s 22us/sample - loss: 0.8609 - accuracy: 0.6746 - val_loss: 0.6599 - val_accuracy: 0.7373\n",
      "Epoch 16/100\n",
      "18000/18000 [==============================] - 0s 23us/sample - loss: 0.8430 - accuracy: 0.6827 - val_loss: 0.6727 - val_accuracy: 0.7453\n",
      "Epoch 17/100\n",
      "18000/18000 [==============================] - 0s 25us/sample - loss: 0.8084 - accuracy: 0.6905 - val_loss: 0.6146 - val_accuracy: 0.7713\n",
      "Epoch 18/100\n",
      "18000/18000 [==============================] - 0s 23us/sample - loss: 0.7874 - accuracy: 0.6991 - val_loss: 0.6079 - val_accuracy: 0.7553\n",
      "Epoch 19/100\n",
      "18000/18000 [==============================] - 0s 23us/sample - loss: 0.7739 - accuracy: 0.7021 - val_loss: 0.5871 - val_accuracy: 0.7707\n",
      "Epoch 20/100\n",
      "18000/18000 [==============================] - 0s 24us/sample - loss: 0.7548 - accuracy: 0.7157 - val_loss: 0.5648 - val_accuracy: 0.7773\n",
      "Epoch 21/100\n",
      "18000/18000 [==============================] - 0s 23us/sample - loss: 0.7503 - accuracy: 0.7192 - val_loss: 0.5545 - val_accuracy: 0.7813\n",
      "Epoch 22/100\n",
      "18000/18000 [==============================] - 0s 22us/sample - loss: 0.7147 - accuracy: 0.7321 - val_loss: 0.5544 - val_accuracy: 0.7627\n",
      "Epoch 23/100\n",
      "18000/18000 [==============================] - 0s 23us/sample - loss: 0.7115 - accuracy: 0.7298 - val_loss: 0.5667 - val_accuracy: 0.7733\n",
      "Epoch 24/100\n",
      "18000/18000 [==============================] - 0s 26us/sample - loss: 0.6888 - accuracy: 0.7409 - val_loss: 0.4615 - val_accuracy: 0.8040\n",
      "Epoch 25/100\n",
      "18000/18000 [==============================] - 0s 23us/sample - loss: 0.6857 - accuracy: 0.7413 - val_loss: 0.4542 - val_accuracy: 0.8167\n",
      "Epoch 26/100\n",
      "18000/18000 [==============================] - 0s 23us/sample - loss: 0.6565 - accuracy: 0.7545 - val_loss: 0.4171 - val_accuracy: 0.8293\n",
      "Epoch 27/100\n",
      "18000/18000 [==============================] - 0s 23us/sample - loss: 0.6450 - accuracy: 0.7568 - val_loss: 0.4331 - val_accuracy: 0.8193\n",
      "Epoch 28/100\n",
      "18000/18000 [==============================] - 0s 23us/sample - loss: 0.6302 - accuracy: 0.7642 - val_loss: 0.4329 - val_accuracy: 0.8233\n",
      "Epoch 29/100\n",
      "18000/18000 [==============================] - 0s 24us/sample - loss: 0.6220 - accuracy: 0.7683 - val_loss: 0.3944 - val_accuracy: 0.8333\n",
      "Epoch 30/100\n",
      "18000/18000 [==============================] - 0s 23us/sample - loss: 0.6131 - accuracy: 0.7682 - val_loss: 0.3709 - val_accuracy: 0.8440\n",
      "Epoch 31/100\n",
      "18000/18000 [==============================] - 0s 27us/sample - loss: 0.6032 - accuracy: 0.7718 - val_loss: 0.4090 - val_accuracy: 0.8200\n",
      "Epoch 32/100\n",
      "18000/18000 [==============================] - 0s 24us/sample - loss: 0.5988 - accuracy: 0.7735 - val_loss: 0.3231 - val_accuracy: 0.8793\n",
      "Epoch 33/100\n",
      "18000/18000 [==============================] - 0s 24us/sample - loss: 0.5769 - accuracy: 0.7817 - val_loss: 0.3932 - val_accuracy: 0.8360\n",
      "Epoch 34/100\n",
      "18000/18000 [==============================] - 0s 23us/sample - loss: 0.5740 - accuracy: 0.7849 - val_loss: 0.3177 - val_accuracy: 0.8853\n",
      "Epoch 35/100\n",
      "18000/18000 [==============================] - 0s 24us/sample - loss: 0.5813 - accuracy: 0.7806 - val_loss: 0.3718 - val_accuracy: 0.8327\n",
      "Epoch 36/100\n",
      "18000/18000 [==============================] - 0s 24us/sample - loss: 0.5564 - accuracy: 0.7908 - val_loss: 0.3605 - val_accuracy: 0.8500\n",
      "Epoch 37/100\n",
      "18000/18000 [==============================] - 0s 22us/sample - loss: 0.5507 - accuracy: 0.7929 - val_loss: 0.2960 - val_accuracy: 0.8727\n",
      "Epoch 38/100\n",
      "18000/18000 [==============================] - 0s 23us/sample - loss: 0.5447 - accuracy: 0.7940 - val_loss: 0.3392 - val_accuracy: 0.8520\n",
      "Epoch 39/100\n",
      "18000/18000 [==============================] - 0s 23us/sample - loss: 0.5276 - accuracy: 0.8041 - val_loss: 0.3009 - val_accuracy: 0.8700\n",
      "Epoch 40/100\n",
      "18000/18000 [==============================] - 0s 24us/sample - loss: 0.5280 - accuracy: 0.8039 - val_loss: 0.3130 - val_accuracy: 0.8613\n",
      "Epoch 41/100\n",
      "18000/18000 [==============================] - 0s 24us/sample - loss: 0.5197 - accuracy: 0.8065 - val_loss: 0.2848 - val_accuracy: 0.8907\n",
      "Epoch 42/100\n",
      "18000/18000 [==============================] - 0s 23us/sample - loss: 0.5274 - accuracy: 0.8054 - val_loss: 0.2696 - val_accuracy: 0.9020\n",
      "Epoch 43/100\n",
      "18000/18000 [==============================] - 0s 24us/sample - loss: 0.4993 - accuracy: 0.8122 - val_loss: 0.2485 - val_accuracy: 0.9133\n",
      "Epoch 44/100\n",
      "18000/18000 [==============================] - 0s 23us/sample - loss: 0.5034 - accuracy: 0.8098 - val_loss: 0.3036 - val_accuracy: 0.8673\n",
      "Epoch 45/100\n",
      "18000/18000 [==============================] - 0s 24us/sample - loss: 0.4909 - accuracy: 0.8168 - val_loss: 0.2928 - val_accuracy: 0.8773\n",
      "Epoch 46/100\n",
      "18000/18000 [==============================] - 0s 24us/sample - loss: 0.4860 - accuracy: 0.8183 - val_loss: 0.2632 - val_accuracy: 0.8953\n",
      "Epoch 47/100\n",
      "18000/18000 [==============================] - 0s 26us/sample - loss: 0.4780 - accuracy: 0.8221 - val_loss: 0.2379 - val_accuracy: 0.9153\n",
      "Epoch 48/100\n",
      "18000/18000 [==============================] - 0s 25us/sample - loss: 0.4787 - accuracy: 0.8184 - val_loss: 0.2669 - val_accuracy: 0.9040\n",
      "Epoch 49/100\n",
      "18000/18000 [==============================] - 0s 26us/sample - loss: 0.4690 - accuracy: 0.8224 - val_loss: 0.2282 - val_accuracy: 0.9220\n",
      "Epoch 50/100\n",
      "18000/18000 [==============================] - 0s 23us/sample - loss: 0.4666 - accuracy: 0.8237 - val_loss: 0.2515 - val_accuracy: 0.8993\n",
      "Epoch 51/100\n",
      "18000/18000 [==============================] - 0s 24us/sample - loss: 0.4602 - accuracy: 0.8247 - val_loss: 0.2423 - val_accuracy: 0.9187\n",
      "Epoch 52/100\n",
      "18000/18000 [==============================] - 0s 26us/sample - loss: 0.4492 - accuracy: 0.8310 - val_loss: 0.2248 - val_accuracy: 0.9187\n",
      "Epoch 53/100\n",
      "18000/18000 [==============================] - 0s 24us/sample - loss: 0.4539 - accuracy: 0.8296 - val_loss: 0.2217 - val_accuracy: 0.9180\n",
      "Epoch 54/100\n",
      "18000/18000 [==============================] - 0s 25us/sample - loss: 0.4365 - accuracy: 0.8355 - val_loss: 0.2185 - val_accuracy: 0.9180\n"
     ]
    },
    {
     "name": "stdout",
     "output_type": "stream",
     "text": [
      "Epoch 55/100\n",
      "18000/18000 [==============================] - 0s 25us/sample - loss: 0.4462 - accuracy: 0.8321 - val_loss: 0.2251 - val_accuracy: 0.9220\n",
      "Epoch 56/100\n",
      "18000/18000 [==============================] - 0s 25us/sample - loss: 0.4272 - accuracy: 0.8368 - val_loss: 0.2356 - val_accuracy: 0.9173\n",
      "Epoch 57/100\n",
      "18000/18000 [==============================] - 0s 25us/sample - loss: 0.4371 - accuracy: 0.8357 - val_loss: 0.2078 - val_accuracy: 0.9260\n",
      "Epoch 58/100\n",
      "18000/18000 [==============================] - 0s 24us/sample - loss: 0.4136 - accuracy: 0.8471 - val_loss: 0.2033 - val_accuracy: 0.9147\n",
      "Epoch 59/100\n",
      "18000/18000 [==============================] - 0s 24us/sample - loss: 0.4180 - accuracy: 0.8434 - val_loss: 0.2274 - val_accuracy: 0.9147\n",
      "Epoch 60/100\n",
      "18000/18000 [==============================] - 0s 24us/sample - loss: 0.4113 - accuracy: 0.8452 - val_loss: 0.2113 - val_accuracy: 0.9160\n",
      "Epoch 61/100\n",
      "18000/18000 [==============================] - 0s 24us/sample - loss: 0.4102 - accuracy: 0.8440 - val_loss: 0.1779 - val_accuracy: 0.9287\n",
      "Epoch 62/100\n",
      "18000/18000 [==============================] - 0s 24us/sample - loss: 0.4052 - accuracy: 0.8502 - val_loss: 0.1784 - val_accuracy: 0.9360\n",
      "Epoch 63/100\n",
      "18000/18000 [==============================] - 0s 24us/sample - loss: 0.4034 - accuracy: 0.8482 - val_loss: 0.1857 - val_accuracy: 0.9320\n",
      "Epoch 64/100\n",
      "18000/18000 [==============================] - 0s 23us/sample - loss: 0.4171 - accuracy: 0.8410 - val_loss: 0.1972 - val_accuracy: 0.9193\n",
      "Epoch 65/100\n",
      "18000/18000 [==============================] - 0s 23us/sample - loss: 0.4024 - accuracy: 0.8511 - val_loss: 0.1976 - val_accuracy: 0.9267\n",
      "Epoch 66/100\n",
      "18000/18000 [==============================] - 0s 22us/sample - loss: 0.3929 - accuracy: 0.8557 - val_loss: 0.1849 - val_accuracy: 0.9287\n",
      "Epoch 67/100\n",
      "18000/18000 [==============================] - 0s 23us/sample - loss: 0.3928 - accuracy: 0.8516 - val_loss: 0.1762 - val_accuracy: 0.9367\n",
      "Epoch 68/100\n",
      "18000/18000 [==============================] - 0s 23us/sample - loss: 0.3936 - accuracy: 0.8511 - val_loss: 0.1790 - val_accuracy: 0.9220\n",
      "Epoch 69/100\n",
      "18000/18000 [==============================] - 0s 24us/sample - loss: 0.3937 - accuracy: 0.8527 - val_loss: 0.1855 - val_accuracy: 0.9233\n",
      "Epoch 70/100\n",
      "18000/18000 [==============================] - 0s 23us/sample - loss: 0.3775 - accuracy: 0.8585 - val_loss: 0.1592 - val_accuracy: 0.9360\n",
      "Epoch 71/100\n",
      "18000/18000 [==============================] - 0s 23us/sample - loss: 0.3842 - accuracy: 0.8573 - val_loss: 0.1861 - val_accuracy: 0.9273\n",
      "Epoch 72/100\n",
      "18000/18000 [==============================] - 0s 24us/sample - loss: 0.3714 - accuracy: 0.8626 - val_loss: 0.1730 - val_accuracy: 0.9333\n",
      "Epoch 73/100\n",
      "18000/18000 [==============================] - 0s 23us/sample - loss: 0.3702 - accuracy: 0.8608 - val_loss: 0.2035 - val_accuracy: 0.9240\n",
      "Epoch 74/100\n",
      "18000/18000 [==============================] - 0s 23us/sample - loss: 0.3702 - accuracy: 0.8616 - val_loss: 0.1338 - val_accuracy: 0.9587\n",
      "Epoch 75/100\n",
      "18000/18000 [==============================] - 0s 23us/sample - loss: 0.3756 - accuracy: 0.8588 - val_loss: 0.1734 - val_accuracy: 0.9373\n",
      "Epoch 76/100\n",
      "18000/18000 [==============================] - 0s 23us/sample - loss: 0.3776 - accuracy: 0.8612 - val_loss: 0.1804 - val_accuracy: 0.9213\n",
      "Epoch 77/100\n",
      "18000/18000 [==============================] - 0s 23us/sample - loss: 0.3539 - accuracy: 0.8667 - val_loss: 0.1719 - val_accuracy: 0.9347\n",
      "Epoch 78/100\n",
      "18000/18000 [==============================] - 0s 23us/sample - loss: 0.3609 - accuracy: 0.8681 - val_loss: 0.1718 - val_accuracy: 0.9233\n",
      "Epoch 79/100\n",
      "18000/18000 [==============================] - 0s 23us/sample - loss: 0.3606 - accuracy: 0.8652 - val_loss: 0.1908 - val_accuracy: 0.9220\n",
      "Epoch 80/100\n",
      "18000/18000 [==============================] - 0s 23us/sample - loss: 0.3553 - accuracy: 0.8688 - val_loss: 0.1939 - val_accuracy: 0.9193\n",
      "Epoch 81/100\n",
      "18000/18000 [==============================] - 0s 23us/sample - loss: 0.3660 - accuracy: 0.8631 - val_loss: 0.1729 - val_accuracy: 0.9287\n",
      "Epoch 82/100\n",
      "18000/18000 [==============================] - 0s 24us/sample - loss: 0.3635 - accuracy: 0.8638 - val_loss: 0.1463 - val_accuracy: 0.9567\n",
      "Epoch 83/100\n",
      "18000/18000 [==============================] - 0s 23us/sample - loss: 0.3581 - accuracy: 0.8660 - val_loss: 0.1465 - val_accuracy: 0.9640\n",
      "Epoch 84/100\n",
      "18000/18000 [==============================] - 0s 23us/sample - loss: 0.3401 - accuracy: 0.8741 - val_loss: 0.1567 - val_accuracy: 0.9453\n",
      "Epoch 85/100\n",
      "18000/18000 [==============================] - 0s 23us/sample - loss: 0.3491 - accuracy: 0.8667 - val_loss: 0.1675 - val_accuracy: 0.9373\n",
      "Epoch 86/100\n",
      "18000/18000 [==============================] - 0s 23us/sample - loss: 0.3454 - accuracy: 0.8716 - val_loss: 0.1408 - val_accuracy: 0.9493\n",
      "Epoch 87/100\n",
      "18000/18000 [==============================] - 0s 23us/sample - loss: 0.3393 - accuracy: 0.8717 - val_loss: 0.1543 - val_accuracy: 0.9273\n",
      "Epoch 88/100\n",
      "18000/18000 [==============================] - 0s 23us/sample - loss: 0.3424 - accuracy: 0.8711 - val_loss: 0.1486 - val_accuracy: 0.9467\n",
      "Epoch 89/100\n",
      "18000/18000 [==============================] - 0s 23us/sample - loss: 0.3361 - accuracy: 0.8731 - val_loss: 0.1528 - val_accuracy: 0.9387\n",
      "Epoch 90/100\n",
      "18000/18000 [==============================] - 0s 23us/sample - loss: 0.3312 - accuracy: 0.8773 - val_loss: 0.1341 - val_accuracy: 0.9487\n",
      "Epoch 91/100\n",
      "18000/18000 [==============================] - 0s 23us/sample - loss: 0.3446 - accuracy: 0.8733 - val_loss: 0.1733 - val_accuracy: 0.9267\n",
      "Epoch 92/100\n",
      "18000/18000 [==============================] - 0s 23us/sample - loss: 0.3271 - accuracy: 0.8794 - val_loss: 0.1417 - val_accuracy: 0.9473\n",
      "Epoch 93/100\n",
      "18000/18000 [==============================] - 0s 23us/sample - loss: 0.3400 - accuracy: 0.8745 - val_loss: 0.1432 - val_accuracy: 0.9433\n",
      "Epoch 94/100\n",
      "18000/18000 [==============================] - 0s 23us/sample - loss: 0.3279 - accuracy: 0.8773 - val_loss: 0.1459 - val_accuracy: 0.9460\n",
      "Epoch 95/100\n",
      "18000/18000 [==============================] - 0s 23us/sample - loss: 0.3303 - accuracy: 0.8773 - val_loss: 0.1322 - val_accuracy: 0.9540\n",
      "Epoch 96/100\n",
      "18000/18000 [==============================] - 0s 23us/sample - loss: 0.3201 - accuracy: 0.8814 - val_loss: 0.1367 - val_accuracy: 0.9560\n",
      "Epoch 97/100\n",
      "18000/18000 [==============================] - 0s 24us/sample - loss: 0.3220 - accuracy: 0.8819 - val_loss: 0.1514 - val_accuracy: 0.9533\n",
      "Epoch 98/100\n",
      "18000/18000 [==============================] - 0s 24us/sample - loss: 0.3254 - accuracy: 0.8775 - val_loss: 0.1501 - val_accuracy: 0.9347\n",
      "Epoch 99/100\n",
      "18000/18000 [==============================] - 0s 24us/sample - loss: 0.3246 - accuracy: 0.8813 - val_loss: 0.1574 - val_accuracy: 0.9493\n",
      "Epoch 100/100\n",
      "18000/18000 [==============================] - 0s 24us/sample - loss: 0.3184 - accuracy: 0.8797 - val_loss: 0.1582 - val_accuracy: 0.9520\n",
      "Wall time: 1min 17s\n"
     ]
    },
    {
     "data": {
      "text/plain": [
       "<tensorflow.python.keras.callbacks.History at 0x18d81e141c8>"
      ]
     },
     "execution_count": 9,
     "metadata": {},
     "output_type": "execute_result"
    }
   ],
   "source": [
    "%%time\n",
    "model.fit(x=X_train, y=y_train, epochs=100, batch_size=512, validation_data=(X_test, y_test))"
   ]
  },
  {
   "cell_type": "markdown",
   "id": "e4fe55d6",
   "metadata": {},
   "source": [
    "# Modle Performance"
   ]
  },
  {
   "cell_type": "code",
   "execution_count": 10,
   "id": "95f922ea",
   "metadata": {},
   "outputs": [],
   "source": [
    "losses = pd.DataFrame(model.history.history)"
   ]
  },
  {
   "cell_type": "code",
   "execution_count": 11,
   "id": "858af874",
   "metadata": {},
   "outputs": [
    {
     "data": {
      "text/plain": [
       "<AxesSubplot:>"
      ]
     },
     "execution_count": 11,
     "metadata": {},
     "output_type": "execute_result"
    },
    {
     "data": {
      "image/png": "[encoded data removed]",
      "text/plain": [
       "<Figure size 432x288 with 1 Axes>"
      ]
     },
     "metadata": {
      "needs_background": "light"
     },
     "output_type": "display_data"
    }
   ],
   "source": [
    "losses[['loss','val_loss']].plot()"
   ]
  },
  {
   "cell_type": "markdown",
   "id": "93b49aac",
   "metadata": {},
   "source": [
    "# Predict"
   ]
  },
  {
   "cell_type": "code",
   "execution_count": 12,
   "id": "ce2c6191",
   "metadata": {},
   "outputs": [],
   "source": [
    "predictions = model.predict(X_test)"
   ]
  },
  {
   "cell_type": "markdown",
   "id": "d57637f8",
   "metadata": {},
   "source": [
    "\n",
    "# Confusion Matrix"
   ]
  },
  {
   "cell_type": "code",
   "execution_count": 13,
   "id": "1dfbf087",
   "metadata": {},
   "outputs": [],
   "source": [
    "y_test_arg=np.argmax(y_test,axis=1)\n",
    "Y_pred = np.argmax(predictions,axis=1)"
   ]
  },
  {
   "cell_type": "code",
   "execution_count": 14,
   "id": "5e7bef94",
   "metadata": {},
   "outputs": [
    {
     "name": "stdout",
     "output_type": "stream",
     "text": [
      "[[215   0   0   0  27   8]\n",
      " [  2 244   0   0   0   4]\n",
      " [  0   0 237   3   0  10]\n",
      " [  0   7   0 242   0   1]\n",
      " [  0   0   0   3 247   0]\n",
      " [  7   0   0   0   0 243]]\n"
     ]
    }
   ],
   "source": [
    "print(confusion_matrix(y_test_arg, Y_pred))"
   ]
  },
  {
   "cell_type": "code",
   "execution_count": 15,
   "id": "a9aff162",
   "metadata": {},
   "outputs": [
    {
     "data": {
      "text/plain": [
       "<AxesSubplot:>"
      ]
     },
     "execution_count": 15,
     "metadata": {},
     "output_type": "execute_result"
    },
    {
     "data": {
      "image/png": "[encoded data removed]",
      "text/plain": [
       "<Figure size 432x288 with 2 Axes>"
      ]
     },
     "metadata": {},
     "output_type": "display_data"
    }
   ],
   "source": [
    "array = metrics.confusion_matrix(y_test_arg, Y_pred)\n",
    "df_cm = pd.DataFrame(array, range(6), range(6))\n",
    "# plt.figure(figsize=(10,7))\n",
    "sns.set(font_scale=1) # for label size\n",
    "sns.heatmap(df_cm, annot=True, annot_kws={\"size\": 11}, cmap=\"OrRd\") # font size"
   ]
  },
  {
   "cell_type": "markdown",
   "id": "42627778",
   "metadata": {},
   "source": [
    "# classification Report"
   ]
  },
  {
   "cell_type": "code",
   "execution_count": 16,
   "id": "947405a5",
   "metadata": {},
   "outputs": [
    {
     "name": "stdout",
     "output_type": "stream",
     "text": [
      "              precision    recall  f1-score   support\n",
      "\n",
      "           0       0.96      0.86      0.91       250\n",
      "           1       0.97      0.98      0.97       250\n",
      "           2       1.00      0.95      0.97       250\n",
      "           3       0.98      0.97      0.97       250\n",
      "           4       0.90      0.99      0.94       250\n",
      "           5       0.91      0.97      0.94       250\n",
      "\n",
      "    accuracy                           0.95      1500\n",
      "   macro avg       0.95      0.95      0.95      1500\n",
      "weighted avg       0.95      0.95      0.95      1500\n",
      "\n"
     ]
    }
   ],
   "source": [
    "print(classification_report(y_test_arg, Y_pred))"
   ]
  },
  {
   "cell_type": "code",
   "execution_count": null,
   "id": "17de918c",
   "metadata": {},
   "outputs": [],
   "source": []
  }
 ],
 "metadata": {
  "kernelspec": {
   "display_name": "Python 3.7 (tensorflow)",
   "language": "python",
   "name": "tensorflow"
  },
  "language_info": {
   "codemirror_mode": {
    "name": "ipython",
    "version": 3
   },
   "file_extension": ".py",
   "mimetype": "text/x-python",
   "name": "python",
   "nbconvert_exporter": "python",
   "pygments_lexer": "ipython3",
   "version": "3.7.9"
  }
 },
 "nbformat": 4,
 "nbformat_minor": 5
}
