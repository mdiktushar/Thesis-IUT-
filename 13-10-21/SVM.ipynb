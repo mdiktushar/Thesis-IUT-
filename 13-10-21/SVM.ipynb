{
 "cells": [
  {
   "cell_type": "code",
   "execution_count": 1,
   "id": "f5df428c",
   "metadata": {},
   "outputs": [],
   "source": [
    "import pandas as pd\n",
    "import numpy as np\n",
    "import matplotlib.pyplot as plt\n",
    "import seaborn as sns\n",
    "%matplotlib inline"
   ]
  },
  {
   "cell_type": "code",
   "execution_count": 2,
   "id": "fe15956c",
   "metadata": {},
   "outputs": [],
   "source": [
    "df = pd.read_csv('Data.csv')"
   ]
  },
  {
   "cell_type": "code",
   "execution_count": 3,
   "id": "f675bda3",
   "metadata": {},
   "outputs": [
    {
     "data": {
      "text/html": [
       "<div>\n",
       "<style scoped>\n",
       "    .dataframe tbody tr th:only-of-type {\n",
       "        vertical-align: middle;\n",
       "    }\n",
       "\n",
       "    .dataframe tbody tr th {\n",
       "        vertical-align: top;\n",
       "    }\n",
       "\n",
       "    .dataframe thead th {\n",
       "        text-align: right;\n",
       "    }\n",
       "</style>\n",
       "<table border=\"1\" class=\"dataframe\">\n",
       "  <thead>\n",
       "    <tr style=\"text-align: right;\">\n",
       "      <th></th>\n",
       "      <th>channel1</th>\n",
       "      <th>channel2</th>\n",
       "      <th>channel3</th>\n",
       "      <th>channel4</th>\n",
       "      <th>channel5</th>\n",
       "      <th>channel6</th>\n",
       "      <th>channel7</th>\n",
       "      <th>channel8</th>\n",
       "      <th>label</th>\n",
       "    </tr>\n",
       "  </thead>\n",
       "  <tbody>\n",
       "    <tr>\n",
       "      <th>0</th>\n",
       "      <td>71</td>\n",
       "      <td>71</td>\n",
       "      <td>64</td>\n",
       "      <td>98</td>\n",
       "      <td>150</td>\n",
       "      <td>86</td>\n",
       "      <td>68</td>\n",
       "      <td>209</td>\n",
       "      <td>left</td>\n",
       "    </tr>\n",
       "    <tr>\n",
       "      <th>1</th>\n",
       "      <td>72</td>\n",
       "      <td>72</td>\n",
       "      <td>63</td>\n",
       "      <td>98</td>\n",
       "      <td>149</td>\n",
       "      <td>84</td>\n",
       "      <td>69</td>\n",
       "      <td>205</td>\n",
       "      <td>left</td>\n",
       "    </tr>\n",
       "    <tr>\n",
       "      <th>2</th>\n",
       "      <td>72</td>\n",
       "      <td>75</td>\n",
       "      <td>66</td>\n",
       "      <td>98</td>\n",
       "      <td>152</td>\n",
       "      <td>82</td>\n",
       "      <td>73</td>\n",
       "      <td>202</td>\n",
       "      <td>left</td>\n",
       "    </tr>\n",
       "    <tr>\n",
       "      <th>3</th>\n",
       "      <td>75</td>\n",
       "      <td>72</td>\n",
       "      <td>66</td>\n",
       "      <td>98</td>\n",
       "      <td>154</td>\n",
       "      <td>84</td>\n",
       "      <td>75</td>\n",
       "      <td>199</td>\n",
       "      <td>left</td>\n",
       "    </tr>\n",
       "    <tr>\n",
       "      <th>4</th>\n",
       "      <td>74</td>\n",
       "      <td>75</td>\n",
       "      <td>65</td>\n",
       "      <td>98</td>\n",
       "      <td>159</td>\n",
       "      <td>85</td>\n",
       "      <td>79</td>\n",
       "      <td>195</td>\n",
       "      <td>left</td>\n",
       "    </tr>\n",
       "  </tbody>\n",
       "</table>\n",
       "</div>"
      ],
      "text/plain": [
       "   channel1  channel2  channel3  channel4  channel5  channel6  channel7  \\\n",
       "0        71        71        64        98       150        86        68   \n",
       "1        72        72        63        98       149        84        69   \n",
       "2        72        75        66        98       152        82        73   \n",
       "3        75        72        66        98       154        84        75   \n",
       "4        74        75        65        98       159        85        79   \n",
       "\n",
       "   channel8 label  \n",
       "0       209  left  \n",
       "1       205  left  \n",
       "2       202  left  \n",
       "3       199  left  \n",
       "4       195  left  "
      ]
     },
     "execution_count": 3,
     "metadata": {},
     "output_type": "execute_result"
    }
   ],
   "source": [
    "df.head()"
   ]
  },
  {
   "cell_type": "code",
   "execution_count": 4,
   "id": "8175e79d",
   "metadata": {},
   "outputs": [],
   "source": [
    "from sklearn.model_selection import train_test_split"
   ]
  },
  {
   "cell_type": "code",
   "execution_count": 13,
   "id": "3e638a2e",
   "metadata": {},
   "outputs": [
    {
     "name": "stdout",
     "output_type": "stream",
     "text": [
      "Splitted Successfully\n"
     ]
    }
   ],
   "source": [
    "X_train, X_test, y_train, y_test = train_test_split(df.drop('label',axis=1) , df['label'], test_size=0.25)\n",
    "print('Splitted Successfully')"
   ]
  },
  {
   "cell_type": "code",
   "execution_count": 14,
   "id": "8b189e78",
   "metadata": {},
   "outputs": [],
   "source": [
    "from sklearn.svm import SVC"
   ]
  },
  {
   "cell_type": "code",
   "execution_count": 15,
   "id": "c5a6923e",
   "metadata": {},
   "outputs": [],
   "source": [
    "model = SVC()"
   ]
  },
  {
   "cell_type": "code",
   "execution_count": 16,
   "id": "2b7c31a6",
   "metadata": {},
   "outputs": [
    {
     "data": {
      "text/plain": [
       "SVC()"
      ]
     },
     "execution_count": 16,
     "metadata": {},
     "output_type": "execute_result"
    }
   ],
   "source": [
    "model.fit(X_train,y_train)"
   ]
  },
  {
   "cell_type": "code",
   "execution_count": 17,
   "id": "dc48dc38",
   "metadata": {},
   "outputs": [],
   "source": [
    "predictions = model.predict(X_test)"
   ]
  },
  {
   "cell_type": "code",
   "execution_count": 18,
   "id": "94daa1b4",
   "metadata": {},
   "outputs": [],
   "source": [
    "from sklearn.metrics import classification_report,confusion_matrix"
   ]
  },
  {
   "cell_type": "code",
   "execution_count": 19,
   "id": "8853a030",
   "metadata": {},
   "outputs": [
    {
     "name": "stdout",
     "output_type": "stream",
     "text": [
      "[[663  13   2   9   4  56]\n",
      " [ 46 629  11   8   8  19]\n",
      " [ 41  36 556  39  22  52]\n",
      " [ 27  88  10 576  14  46]\n",
      " [ 33  40  14  16 618  40]\n",
      " [125  63  12  18  25 521]]\n"
     ]
    }
   ],
   "source": [
    "print(confusion_matrix(y_test,predictions))"
   ]
  },
  {
   "cell_type": "code",
   "execution_count": 20,
   "id": "9f8dfbc9",
   "metadata": {},
   "outputs": [
    {
     "name": "stdout",
     "output_type": "stream",
     "text": [
      "              precision    recall  f1-score   support\n",
      "\n",
      "        back       0.71      0.89      0.79       747\n",
      "       front       0.72      0.87      0.79       721\n",
      "        left       0.92      0.75      0.82       746\n",
      "       right       0.86      0.76      0.81       761\n",
      "       start       0.89      0.81      0.85       761\n",
      "        stop       0.71      0.68      0.70       764\n",
      "\n",
      "    accuracy                           0.79      4500\n",
      "   macro avg       0.80      0.79      0.79      4500\n",
      "weighted avg       0.80      0.79      0.79      4500\n",
      "\n"
     ]
    }
   ],
   "source": [
    "print(classification_report(y_test,predictions))"
   ]
  },
  {
   "cell_type": "code",
   "execution_count": 13,
   "id": "dc014ba5",
   "metadata": {},
   "outputs": [],
   "source": [
    "# a = np.arange(0.01, 1, 0.01)\n",
    "# b = np.arange(0.01, 1, 0.01)"
   ]
  },
  {
   "cell_type": "code",
   "execution_count": 14,
   "id": "c86abe09",
   "metadata": {},
   "outputs": [],
   "source": [
    "# a = a[::-1]"
   ]
  },
  {
   "cell_type": "code",
   "execution_count": 21,
   "id": "87a4ad75",
   "metadata": {},
   "outputs": [],
   "source": [
    "# param_grid = {'C': a, 'gamma': b, 'kernel': ['rbf']} \n",
    "param_grid = {'C': [0.1,1,2, 10, 100, 1000, 1050, 2000, 2500], 'gamma': [1,0.1,0.01,0.00101, 0.001,0.005,0.0001], 'kernel': ['rbf']} "
   ]
  },
  {
   "cell_type": "code",
   "execution_count": 22,
   "id": "3456b641",
   "metadata": {},
   "outputs": [],
   "source": [
    "from sklearn.model_selection import GridSearchCV"
   ]
  },
  {
   "cell_type": "code",
   "execution_count": 23,
   "id": "826fb5f2",
   "metadata": {},
   "outputs": [],
   "source": [
    "grid = GridSearchCV(SVC(),param_grid,refit=True,verbose=3)"
   ]
  },
  {
   "cell_type": "code",
   "execution_count": 24,
   "id": "e189f8fb",
   "metadata": {},
   "outputs": [
    {
     "name": "stdout",
     "output_type": "stream",
     "text": [
      "Fitting 5 folds for each of 63 candidates, totalling 315 fits\n",
      "[CV 1/5] END ........C=0.1, gamma=1, kernel=rbf;, score=0.169 total time=  23.2s\n",
      "[CV 2/5] END ........C=0.1, gamma=1, kernel=rbf;, score=0.169 total time=  23.3s\n",
      "[CV 3/5] END ........C=0.1, gamma=1, kernel=rbf;, score=0.169 total time=  23.0s\n",
      "[CV 4/5] END ........C=0.1, gamma=1, kernel=rbf;, score=0.169 total time=  24.1s\n",
      "[CV 5/5] END ........C=0.1, gamma=1, kernel=rbf;, score=0.169 total time=  34.2s\n",
      "[CV 1/5] END ......C=0.1, gamma=0.1, kernel=rbf;, score=0.169 total time=  29.7s\n",
      "[CV 2/5] END ......C=0.1, gamma=0.1, kernel=rbf;, score=0.169 total time=  30.8s\n",
      "[CV 3/5] END ......C=0.1, gamma=0.1, kernel=rbf;, score=0.169 total time=  25.4s\n",
      "[CV 4/5] END ......C=0.1, gamma=0.1, kernel=rbf;, score=0.169 total time=  29.8s\n",
      "[CV 5/5] END ......C=0.1, gamma=0.1, kernel=rbf;, score=0.169 total time=  28.6s\n",
      "[CV 1/5] END .....C=0.1, gamma=0.01, kernel=rbf;, score=0.174 total time=  23.8s\n",
      "[CV 2/5] END .....C=0.1, gamma=0.01, kernel=rbf;, score=0.175 total time=  20.8s\n",
      "[CV 3/5] END .....C=0.1, gamma=0.01, kernel=rbf;, score=0.172 total time=  23.9s\n",
      "[CV 4/5] END .....C=0.1, gamma=0.01, kernel=rbf;, score=0.175 total time=  23.1s\n",
      "[CV 5/5] END .....C=0.1, gamma=0.01, kernel=rbf;, score=0.176 total time=  27.4s\n",
      "[CV 1/5] END ..C=0.1, gamma=0.00101, kernel=rbf;, score=0.910 total time=  28.7s\n",
      "[CV 2/5] END ..C=0.1, gamma=0.00101, kernel=rbf;, score=0.916 total time=  21.6s\n",
      "[CV 3/5] END ..C=0.1, gamma=0.00101, kernel=rbf;, score=0.901 total time=  19.7s\n",
      "[CV 4/5] END ..C=0.1, gamma=0.00101, kernel=rbf;, score=0.914 total time=  20.5s\n",
      "[CV 5/5] END ..C=0.1, gamma=0.00101, kernel=rbf;, score=0.903 total time=  17.8s\n",
      "[CV 1/5] END ....C=0.1, gamma=0.001, kernel=rbf;, score=0.912 total time=  17.0s\n",
      "[CV 2/5] END ....C=0.1, gamma=0.001, kernel=rbf;, score=0.916 total time=  15.6s\n",
      "[CV 3/5] END ....C=0.1, gamma=0.001, kernel=rbf;, score=0.902 total time=  14.9s\n",
      "[CV 4/5] END ....C=0.1, gamma=0.001, kernel=rbf;, score=0.914 total time=  19.3s\n",
      "[CV 5/5] END ....C=0.1, gamma=0.001, kernel=rbf;, score=0.903 total time=  16.6s\n",
      "[CV 1/5] END ....C=0.1, gamma=0.005, kernel=rbf;, score=0.575 total time=  14.4s\n",
      "[CV 2/5] END ....C=0.1, gamma=0.005, kernel=rbf;, score=0.611 total time=  15.6s\n",
      "[CV 3/5] END ....C=0.1, gamma=0.005, kernel=rbf;, score=0.546 total time=  18.1s\n",
      "[CV 4/5] END ....C=0.1, gamma=0.005, kernel=rbf;, score=0.606 total time=  15.5s\n",
      "[CV 5/5] END ....C=0.1, gamma=0.005, kernel=rbf;, score=0.569 total time=  14.8s\n",
      "[CV 1/5] END ...C=0.1, gamma=0.0001, kernel=rbf;, score=0.714 total time=   8.8s\n",
      "[CV 2/5] END ...C=0.1, gamma=0.0001, kernel=rbf;, score=0.706 total time=  10.1s\n",
      "[CV 3/5] END ...C=0.1, gamma=0.0001, kernel=rbf;, score=0.723 total time=  12.7s\n",
      "[CV 4/5] END ...C=0.1, gamma=0.0001, kernel=rbf;, score=0.708 total time=  10.8s\n",
      "[CV 5/5] END ...C=0.1, gamma=0.0001, kernel=rbf;, score=0.721 total time=  12.0s\n",
      "[CV 1/5] END ..........C=1, gamma=1, kernel=rbf;, score=0.170 total time=  31.1s\n",
      "[CV 2/5] END ..........C=1, gamma=1, kernel=rbf;, score=0.172 total time=  23.3s\n",
      "[CV 3/5] END ..........C=1, gamma=1, kernel=rbf;, score=0.170 total time=  24.0s\n",
      "[CV 4/5] END ..........C=1, gamma=1, kernel=rbf;, score=0.172 total time=  23.7s\n",
      "[CV 5/5] END ..........C=1, gamma=1, kernel=rbf;, score=0.170 total time=  24.3s\n",
      "[CV 1/5] END ........C=1, gamma=0.1, kernel=rbf;, score=0.497 total time=  25.3s\n",
      "[CV 2/5] END ........C=1, gamma=0.1, kernel=rbf;, score=0.497 total time=  24.6s\n",
      "[CV 3/5] END ........C=1, gamma=0.1, kernel=rbf;, score=0.506 total time=  25.7s\n",
      "[CV 4/5] END ........C=1, gamma=0.1, kernel=rbf;, score=0.522 total time=  26.5s\n",
      "[CV 5/5] END ........C=1, gamma=0.1, kernel=rbf;, score=0.494 total time=  25.4s\n",
      "[CV 1/5] END .......C=1, gamma=0.01, kernel=rbf;, score=0.972 total time=  20.5s\n",
      "[CV 2/5] END .......C=1, gamma=0.01, kernel=rbf;, score=0.961 total time=  19.9s\n",
      "[CV 3/5] END .......C=1, gamma=0.01, kernel=rbf;, score=0.967 total time=  20.6s\n",
      "[CV 4/5] END .......C=1, gamma=0.01, kernel=rbf;, score=0.974 total time=  21.3s\n",
      "[CV 5/5] END .......C=1, gamma=0.01, kernel=rbf;, score=0.962 total time=  20.2s\n",
      "[CV 1/5] END ....C=1, gamma=0.00101, kernel=rbf;, score=0.996 total time=  16.3s\n",
      "[CV 2/5] END ....C=1, gamma=0.00101, kernel=rbf;, score=0.997 total time=  12.2s\n",
      "[CV 3/5] END ....C=1, gamma=0.00101, kernel=rbf;, score=0.995 total time=  11.0s\n",
      "[CV 4/5] END ....C=1, gamma=0.00101, kernel=rbf;, score=0.996 total time=  11.6s\n",
      "[CV 5/5] END ....C=1, gamma=0.00101, kernel=rbf;, score=0.996 total time=  12.1s\n",
      "[CV 1/5] END ......C=1, gamma=0.001, kernel=rbf;, score=0.996 total time=  11.0s\n",
      "[CV 2/5] END ......C=1, gamma=0.001, kernel=rbf;, score=0.997 total time=  10.9s\n",
      "[CV 3/5] END ......C=1, gamma=0.001, kernel=rbf;, score=0.995 total time=  11.3s\n",
      "[CV 4/5] END ......C=1, gamma=0.001, kernel=rbf;, score=0.996 total time=  12.5s\n",
      "[CV 5/5] END ......C=1, gamma=0.001, kernel=rbf;, score=0.996 total time=  11.8s\n",
      "[CV 1/5] END ......C=1, gamma=0.005, kernel=rbf;, score=0.991 total time=  21.5s\n",
      "[CV 2/5] END ......C=1, gamma=0.005, kernel=rbf;, score=0.990 total time=  19.6s\n",
      "[CV 3/5] END ......C=1, gamma=0.005, kernel=rbf;, score=0.987 total time=  19.3s\n",
      "[CV 4/5] END ......C=1, gamma=0.005, kernel=rbf;, score=0.991 total time=  17.5s\n",
      "[CV 5/5] END ......C=1, gamma=0.005, kernel=rbf;, score=0.986 total time=  18.2s\n",
      "[CV 1/5] END .....C=1, gamma=0.0001, kernel=rbf;, score=0.875 total time=   5.2s\n",
      "[CV 2/5] END .....C=1, gamma=0.0001, kernel=rbf;, score=0.877 total time=   5.3s\n",
      "[CV 3/5] END .....C=1, gamma=0.0001, kernel=rbf;, score=0.870 total time=   5.5s\n",
      "[CV 4/5] END .....C=1, gamma=0.0001, kernel=rbf;, score=0.876 total time=   5.2s\n",
      "[CV 5/5] END .....C=1, gamma=0.0001, kernel=rbf;, score=0.885 total time=   5.1s\n",
      "[CV 1/5] END ..........C=2, gamma=1, kernel=rbf;, score=0.171 total time=  24.2s\n",
      "[CV 2/5] END ..........C=2, gamma=1, kernel=rbf;, score=0.172 total time=  23.4s\n",
      "[CV 3/5] END ..........C=2, gamma=1, kernel=rbf;, score=0.171 total time=  24.6s\n",
      "[CV 4/5] END ..........C=2, gamma=1, kernel=rbf;, score=0.172 total time=  23.7s\n",
      "[CV 5/5] END ..........C=2, gamma=1, kernel=rbf;, score=0.171 total time=  31.8s\n",
      "[CV 1/5] END ........C=2, gamma=0.1, kernel=rbf;, score=0.521 total time=  28.2s\n",
      "[CV 2/5] END ........C=2, gamma=0.1, kernel=rbf;, score=0.524 total time=  27.2s\n",
      "[CV 3/5] END ........C=2, gamma=0.1, kernel=rbf;, score=0.532 total time=  22.5s\n",
      "[CV 4/5] END ........C=2, gamma=0.1, kernel=rbf;, score=0.547 total time=  22.0s\n",
      "[CV 5/5] END ........C=2, gamma=0.1, kernel=rbf;, score=0.526 total time=  22.8s\n",
      "[CV 1/5] END .......C=2, gamma=0.01, kernel=rbf;, score=0.973 total time=  17.6s\n",
      "[CV 2/5] END .......C=2, gamma=0.01, kernel=rbf;, score=0.961 total time=  17.6s\n",
      "[CV 3/5] END .......C=2, gamma=0.01, kernel=rbf;, score=0.968 total time=  18.0s\n",
      "[CV 4/5] END .......C=2, gamma=0.01, kernel=rbf;, score=0.974 total time=  17.4s\n",
      "[CV 5/5] END .......C=2, gamma=0.01, kernel=rbf;, score=0.963 total time=  19.6s\n",
      "[CV 1/5] END ....C=2, gamma=0.00101, kernel=rbf;, score=0.999 total time=  12.2s\n",
      "[CV 2/5] END ....C=2, gamma=0.00101, kernel=rbf;, score=0.999 total time=  11.3s\n",
      "[CV 3/5] END ....C=2, gamma=0.00101, kernel=rbf;, score=0.997 total time=  11.5s\n",
      "[CV 4/5] END ....C=2, gamma=0.00101, kernel=rbf;, score=0.999 total time=  10.7s\n",
      "[CV 5/5] END ....C=2, gamma=0.00101, kernel=rbf;, score=0.997 total time=  10.1s\n",
      "[CV 1/5] END ......C=2, gamma=0.001, kernel=rbf;, score=0.999 total time=  10.7s\n",
      "[CV 2/5] END ......C=2, gamma=0.001, kernel=rbf;, score=0.999 total time=  10.9s\n",
      "[CV 3/5] END ......C=2, gamma=0.001, kernel=rbf;, score=0.997 total time=  11.2s\n",
      "[CV 4/5] END ......C=2, gamma=0.001, kernel=rbf;, score=0.999 total time=  10.6s\n",
      "[CV 5/5] END ......C=2, gamma=0.001, kernel=rbf;, score=0.996 total time=  10.0s\n",
      "[CV 1/5] END ......C=2, gamma=0.005, kernel=rbf;, score=0.991 total time=  15.9s\n",
      "[CV 2/5] END ......C=2, gamma=0.005, kernel=rbf;, score=0.991 total time=  15.4s\n",
      "[CV 3/5] END ......C=2, gamma=0.005, kernel=rbf;, score=0.987 total time=  15.2s\n",
      "[CV 4/5] END ......C=2, gamma=0.005, kernel=rbf;, score=0.991 total time=  15.3s\n",
      "[CV 5/5] END ......C=2, gamma=0.005, kernel=rbf;, score=0.987 total time=  16.1s\n",
      "[CV 1/5] END .....C=2, gamma=0.0001, kernel=rbf;, score=0.911 total time=   4.0s\n"
     ]
    },
    {
     "name": "stdout",
     "output_type": "stream",
     "text": [
      "[CV 2/5] END .....C=2, gamma=0.0001, kernel=rbf;, score=0.913 total time=   3.9s\n",
      "[CV 3/5] END .....C=2, gamma=0.0001, kernel=rbf;, score=0.911 total time=   3.9s\n",
      "[CV 4/5] END .....C=2, gamma=0.0001, kernel=rbf;, score=0.906 total time=   3.8s\n",
      "[CV 5/5] END .....C=2, gamma=0.0001, kernel=rbf;, score=0.917 total time=   4.0s\n",
      "[CV 1/5] END .........C=10, gamma=1, kernel=rbf;, score=0.171 total time=  20.8s\n",
      "[CV 2/5] END .........C=10, gamma=1, kernel=rbf;, score=0.172 total time=  20.8s\n",
      "[CV 3/5] END .........C=10, gamma=1, kernel=rbf;, score=0.171 total time=  21.2s\n",
      "[CV 4/5] END .........C=10, gamma=1, kernel=rbf;, score=0.172 total time=  20.8s\n",
      "[CV 5/5] END .........C=10, gamma=1, kernel=rbf;, score=0.171 total time=  20.7s\n",
      "[CV 1/5] END .......C=10, gamma=0.1, kernel=rbf;, score=0.521 total time=  20.7s\n",
      "[CV 2/5] END .......C=10, gamma=0.1, kernel=rbf;, score=0.524 total time=  20.2s\n",
      "[CV 3/5] END .......C=10, gamma=0.1, kernel=rbf;, score=0.532 total time=  20.9s\n",
      "[CV 4/5] END .......C=10, gamma=0.1, kernel=rbf;, score=0.547 total time=  20.3s\n",
      "[CV 5/5] END .......C=10, gamma=0.1, kernel=rbf;, score=0.526 total time=  21.3s\n",
      "[CV 1/5] END ......C=10, gamma=0.01, kernel=rbf;, score=0.973 total time=  15.8s\n",
      "[CV 2/5] END ......C=10, gamma=0.01, kernel=rbf;, score=0.961 total time=  17.0s\n",
      "[CV 3/5] END ......C=10, gamma=0.01, kernel=rbf;, score=0.968 total time=  16.0s\n",
      "[CV 4/5] END ......C=10, gamma=0.01, kernel=rbf;, score=0.974 total time=  16.1s\n",
      "[CV 5/5] END ......C=10, gamma=0.01, kernel=rbf;, score=0.963 total time=  16.9s\n",
      "[CV 1/5] END ...C=10, gamma=0.00101, kernel=rbf;, score=1.000 total time=   9.5s\n",
      "[CV 2/5] END ...C=10, gamma=0.00101, kernel=rbf;, score=0.999 total time=  10.2s\n",
      "[CV 3/5] END ...C=10, gamma=0.00101, kernel=rbf;, score=0.997 total time=   9.8s\n",
      "[CV 4/5] END ...C=10, gamma=0.00101, kernel=rbf;, score=0.999 total time=   9.7s\n",
      "[CV 5/5] END ...C=10, gamma=0.00101, kernel=rbf;, score=0.997 total time=   9.8s\n",
      "[CV 1/5] END .....C=10, gamma=0.001, kernel=rbf;, score=1.000 total time=   9.2s\n",
      "[CV 2/5] END .....C=10, gamma=0.001, kernel=rbf;, score=0.999 total time=  10.1s\n",
      "[CV 3/5] END .....C=10, gamma=0.001, kernel=rbf;, score=0.997 total time=  10.0s\n",
      "[CV 4/5] END .....C=10, gamma=0.001, kernel=rbf;, score=0.999 total time=  10.1s\n",
      "[CV 5/5] END .....C=10, gamma=0.001, kernel=rbf;, score=0.997 total time=   9.4s\n",
      "[CV 1/5] END .....C=10, gamma=0.005, kernel=rbf;, score=0.991 total time=  15.9s\n",
      "[CV 2/5] END .....C=10, gamma=0.005, kernel=rbf;, score=0.991 total time=  16.4s\n",
      "[CV 3/5] END .....C=10, gamma=0.005, kernel=rbf;, score=0.987 total time=  16.1s\n",
      "[CV 4/5] END .....C=10, gamma=0.005, kernel=rbf;, score=0.991 total time=  16.3s\n",
      "[CV 5/5] END .....C=10, gamma=0.005, kernel=rbf;, score=0.987 total time=  15.2s\n",
      "[CV 1/5] END ....C=10, gamma=0.0001, kernel=rbf;, score=0.959 total time=   3.1s\n",
      "[CV 2/5] END ....C=10, gamma=0.0001, kernel=rbf;, score=0.964 total time=   3.1s\n",
      "[CV 3/5] END ....C=10, gamma=0.0001, kernel=rbf;, score=0.964 total time=   3.1s\n",
      "[CV 4/5] END ....C=10, gamma=0.0001, kernel=rbf;, score=0.960 total time=   3.0s\n",
      "[CV 5/5] END ....C=10, gamma=0.0001, kernel=rbf;, score=0.962 total time=   3.0s\n",
      "[CV 1/5] END ........C=100, gamma=1, kernel=rbf;, score=0.171 total time=  20.9s\n",
      "[CV 2/5] END ........C=100, gamma=1, kernel=rbf;, score=0.172 total time=  20.8s\n",
      "[CV 3/5] END ........C=100, gamma=1, kernel=rbf;, score=0.171 total time=  21.2s\n",
      "[CV 4/5] END ........C=100, gamma=1, kernel=rbf;, score=0.172 total time=  20.7s\n",
      "[CV 5/5] END ........C=100, gamma=1, kernel=rbf;, score=0.171 total time=  21.4s\n",
      "[CV 1/5] END ......C=100, gamma=0.1, kernel=rbf;, score=0.521 total time=  20.3s\n",
      "[CV 2/5] END ......C=100, gamma=0.1, kernel=rbf;, score=0.524 total time=  20.6s\n",
      "[CV 3/5] END ......C=100, gamma=0.1, kernel=rbf;, score=0.532 total time=  20.4s\n",
      "[CV 4/5] END ......C=100, gamma=0.1, kernel=rbf;, score=0.547 total time=  20.6s\n",
      "[CV 5/5] END ......C=100, gamma=0.1, kernel=rbf;, score=0.526 total time=  20.3s\n",
      "[CV 1/5] END .....C=100, gamma=0.01, kernel=rbf;, score=0.973 total time=  15.8s\n",
      "[CV 2/5] END .....C=100, gamma=0.01, kernel=rbf;, score=0.961 total time=  16.4s\n",
      "[CV 3/5] END .....C=100, gamma=0.01, kernel=rbf;, score=0.968 total time=  16.8s\n",
      "[CV 4/5] END .....C=100, gamma=0.01, kernel=rbf;, score=0.974 total time=  16.2s\n",
      "[CV 5/5] END .....C=100, gamma=0.01, kernel=rbf;, score=0.963 total time=  16.2s\n",
      "[CV 1/5] END ..C=100, gamma=0.00101, kernel=rbf;, score=1.000 total time=  10.0s\n",
      "[CV 2/5] END ..C=100, gamma=0.00101, kernel=rbf;, score=0.999 total time=   9.6s\n",
      "[CV 3/5] END ..C=100, gamma=0.00101, kernel=rbf;, score=0.997 total time=   9.9s\n",
      "[CV 4/5] END ..C=100, gamma=0.00101, kernel=rbf;, score=0.999 total time=  10.0s\n",
      "[CV 5/5] END ..C=100, gamma=0.00101, kernel=rbf;, score=0.997 total time=   9.2s\n",
      "[CV 1/5] END ....C=100, gamma=0.001, kernel=rbf;, score=1.000 total time=   9.3s\n",
      "[CV 2/5] END ....C=100, gamma=0.001, kernel=rbf;, score=0.999 total time=   9.4s\n",
      "[CV 3/5] END ....C=100, gamma=0.001, kernel=rbf;, score=0.997 total time=   9.6s\n",
      "[CV 4/5] END ....C=100, gamma=0.001, kernel=rbf;, score=0.999 total time=   9.6s\n",
      "[CV 5/5] END ....C=100, gamma=0.001, kernel=rbf;, score=0.997 total time=   9.3s\n",
      "[CV 1/5] END ....C=100, gamma=0.005, kernel=rbf;, score=0.991 total time=  15.1s\n",
      "[CV 2/5] END ....C=100, gamma=0.005, kernel=rbf;, score=0.991 total time=  15.3s\n",
      "[CV 3/5] END ....C=100, gamma=0.005, kernel=rbf;, score=0.987 total time=  15.3s\n",
      "[CV 4/5] END ....C=100, gamma=0.005, kernel=rbf;, score=0.991 total time=  16.2s\n",
      "[CV 5/5] END ....C=100, gamma=0.005, kernel=rbf;, score=0.987 total time=  16.1s\n",
      "[CV 1/5] END ...C=100, gamma=0.0001, kernel=rbf;, score=0.991 total time=   2.6s\n",
      "[CV 2/5] END ...C=100, gamma=0.0001, kernel=rbf;, score=0.996 total time=   2.7s\n",
      "[CV 3/5] END ...C=100, gamma=0.0001, kernel=rbf;, score=0.992 total time=   2.7s\n",
      "[CV 4/5] END ...C=100, gamma=0.0001, kernel=rbf;, score=0.989 total time=   2.7s\n",
      "[CV 5/5] END ...C=100, gamma=0.0001, kernel=rbf;, score=0.992 total time=   2.7s\n",
      "[CV 1/5] END .......C=1000, gamma=1, kernel=rbf;, score=0.171 total time=  21.9s\n",
      "[CV 2/5] END .......C=1000, gamma=1, kernel=rbf;, score=0.172 total time=  21.7s\n",
      "[CV 3/5] END .......C=1000, gamma=1, kernel=rbf;, score=0.171 total time=  21.0s\n",
      "[CV 4/5] END .......C=1000, gamma=1, kernel=rbf;, score=0.172 total time=  21.9s\n",
      "[CV 5/5] END .......C=1000, gamma=1, kernel=rbf;, score=0.171 total time=  21.9s\n",
      "[CV 1/5] END .....C=1000, gamma=0.1, kernel=rbf;, score=0.521 total time=  21.4s\n",
      "[CV 2/5] END .....C=1000, gamma=0.1, kernel=rbf;, score=0.524 total time=  21.2s\n",
      "[CV 3/5] END .....C=1000, gamma=0.1, kernel=rbf;, score=0.532 total time=  21.2s\n",
      "[CV 4/5] END .....C=1000, gamma=0.1, kernel=rbf;, score=0.547 total time=  21.1s\n",
      "[CV 5/5] END .....C=1000, gamma=0.1, kernel=rbf;, score=0.526 total time=  21.3s\n",
      "[CV 1/5] END ....C=1000, gamma=0.01, kernel=rbf;, score=0.973 total time=  16.6s\n",
      "[CV 2/5] END ....C=1000, gamma=0.01, kernel=rbf;, score=0.961 total time=  16.9s\n",
      "[CV 3/5] END ....C=1000, gamma=0.01, kernel=rbf;, score=0.968 total time=  16.7s\n",
      "[CV 4/5] END ....C=1000, gamma=0.01, kernel=rbf;, score=0.974 total time=  16.9s\n",
      "[CV 5/5] END ....C=1000, gamma=0.01, kernel=rbf;, score=0.963 total time=  16.9s\n",
      "[CV 1/5] END .C=1000, gamma=0.00101, kernel=rbf;, score=1.000 total time=   9.5s\n",
      "[CV 2/5] END .C=1000, gamma=0.00101, kernel=rbf;, score=0.999 total time=   9.7s\n",
      "[CV 3/5] END .C=1000, gamma=0.00101, kernel=rbf;, score=0.997 total time=  10.0s\n",
      "[CV 4/5] END .C=1000, gamma=0.00101, kernel=rbf;, score=0.999 total time=   9.6s\n",
      "[CV 5/5] END .C=1000, gamma=0.00101, kernel=rbf;, score=0.997 total time=   9.4s\n",
      "[CV 1/5] END ...C=1000, gamma=0.001, kernel=rbf;, score=1.000 total time=   9.5s\n",
      "[CV 2/5] END ...C=1000, gamma=0.001, kernel=rbf;, score=0.999 total time=   9.3s\n",
      "[CV 3/5] END ...C=1000, gamma=0.001, kernel=rbf;, score=0.997 total time=   9.4s\n",
      "[CV 4/5] END ...C=1000, gamma=0.001, kernel=rbf;, score=0.999 total time=   9.7s\n",
      "[CV 5/5] END ...C=1000, gamma=0.001, kernel=rbf;, score=0.997 total time=   9.4s\n",
      "[CV 1/5] END ...C=1000, gamma=0.005, kernel=rbf;, score=0.991 total time=  16.0s\n",
      "[CV 2/5] END ...C=1000, gamma=0.005, kernel=rbf;, score=0.991 total time=  16.2s\n",
      "[CV 3/5] END ...C=1000, gamma=0.005, kernel=rbf;, score=0.987 total time=  16.3s\n"
     ]
    },
    {
     "name": "stdout",
     "output_type": "stream",
     "text": [
      "[CV 4/5] END ...C=1000, gamma=0.005, kernel=rbf;, score=0.991 total time=  16.3s\n",
      "[CV 5/5] END ...C=1000, gamma=0.005, kernel=rbf;, score=0.987 total time=  15.5s\n",
      "[CV 1/5] END ..C=1000, gamma=0.0001, kernel=rbf;, score=0.994 total time=   2.9s\n",
      "[CV 2/5] END ..C=1000, gamma=0.0001, kernel=rbf;, score=0.996 total time=   3.0s\n",
      "[CV 3/5] END ..C=1000, gamma=0.0001, kernel=rbf;, score=0.997 total time=   3.0s\n",
      "[CV 4/5] END ..C=1000, gamma=0.0001, kernel=rbf;, score=0.996 total time=   3.0s\n",
      "[CV 5/5] END ..C=1000, gamma=0.0001, kernel=rbf;, score=0.997 total time=   3.0s\n",
      "[CV 1/5] END .......C=1050, gamma=1, kernel=rbf;, score=0.171 total time=  21.2s\n",
      "[CV 2/5] END .......C=1050, gamma=1, kernel=rbf;, score=0.172 total time=  21.0s\n",
      "[CV 3/5] END .......C=1050, gamma=1, kernel=rbf;, score=0.171 total time=  20.8s\n",
      "[CV 4/5] END .......C=1050, gamma=1, kernel=rbf;, score=0.172 total time=  20.8s\n",
      "[CV 5/5] END .......C=1050, gamma=1, kernel=rbf;, score=0.171 total time=  21.0s\n",
      "[CV 1/5] END .....C=1050, gamma=0.1, kernel=rbf;, score=0.521 total time=  20.4s\n",
      "[CV 2/5] END .....C=1050, gamma=0.1, kernel=rbf;, score=0.524 total time=  20.4s\n",
      "[CV 3/5] END .....C=1050, gamma=0.1, kernel=rbf;, score=0.532 total time=  20.5s\n",
      "[CV 4/5] END .....C=1050, gamma=0.1, kernel=rbf;, score=0.547 total time=  20.4s\n",
      "[CV 5/5] END .....C=1050, gamma=0.1, kernel=rbf;, score=0.526 total time=  20.5s\n",
      "[CV 1/5] END ....C=1050, gamma=0.01, kernel=rbf;, score=0.973 total time=  15.8s\n",
      "[CV 2/5] END ....C=1050, gamma=0.01, kernel=rbf;, score=0.961 total time=  16.1s\n",
      "[CV 3/5] END ....C=1050, gamma=0.01, kernel=rbf;, score=0.968 total time=  15.9s\n",
      "[CV 4/5] END ....C=1050, gamma=0.01, kernel=rbf;, score=0.974 total time=  16.0s\n",
      "[CV 5/5] END ....C=1050, gamma=0.01, kernel=rbf;, score=0.963 total time=  16.2s\n",
      "[CV 1/5] END .C=1050, gamma=0.00101, kernel=rbf;, score=1.000 total time=   9.5s\n",
      "[CV 2/5] END .C=1050, gamma=0.00101, kernel=rbf;, score=0.999 total time=  10.1s\n",
      "[CV 3/5] END .C=1050, gamma=0.00101, kernel=rbf;, score=0.997 total time=   9.6s\n",
      "[CV 4/5] END .C=1050, gamma=0.00101, kernel=rbf;, score=0.999 total time=   9.6s\n",
      "[CV 5/5] END .C=1050, gamma=0.00101, kernel=rbf;, score=0.997 total time=   9.3s\n",
      "[CV 1/5] END ...C=1050, gamma=0.001, kernel=rbf;, score=1.000 total time=   9.2s\n",
      "[CV 2/5] END ...C=1050, gamma=0.001, kernel=rbf;, score=0.999 total time=   9.8s\n",
      "[CV 3/5] END ...C=1050, gamma=0.001, kernel=rbf;, score=0.997 total time=   9.4s\n",
      "[CV 4/5] END ...C=1050, gamma=0.001, kernel=rbf;, score=0.999 total time=   9.5s\n",
      "[CV 5/5] END ...C=1050, gamma=0.001, kernel=rbf;, score=0.997 total time=   9.8s\n",
      "[CV 1/5] END ...C=1050, gamma=0.005, kernel=rbf;, score=0.991 total time=  16.0s\n",
      "[CV 2/5] END ...C=1050, gamma=0.005, kernel=rbf;, score=0.991 total time=  15.5s\n",
      "[CV 3/5] END ...C=1050, gamma=0.005, kernel=rbf;, score=0.987 total time=  15.1s\n",
      "[CV 4/5] END ...C=1050, gamma=0.005, kernel=rbf;, score=0.991 total time=  15.3s\n",
      "[CV 5/5] END ...C=1050, gamma=0.005, kernel=rbf;, score=0.987 total time=  15.3s\n",
      "[CV 1/5] END ..C=1050, gamma=0.0001, kernel=rbf;, score=0.994 total time=   2.8s\n",
      "[CV 2/5] END ..C=1050, gamma=0.0001, kernel=rbf;, score=0.996 total time=   2.9s\n",
      "[CV 3/5] END ..C=1050, gamma=0.0001, kernel=rbf;, score=0.997 total time=   3.0s\n",
      "[CV 4/5] END ..C=1050, gamma=0.0001, kernel=rbf;, score=0.996 total time=   3.0s\n",
      "[CV 5/5] END ..C=1050, gamma=0.0001, kernel=rbf;, score=0.997 total time=   2.9s\n",
      "[CV 1/5] END .......C=2000, gamma=1, kernel=rbf;, score=0.171 total time=  21.3s\n",
      "[CV 2/5] END .......C=2000, gamma=1, kernel=rbf;, score=0.172 total time=  21.0s\n",
      "[CV 3/5] END .......C=2000, gamma=1, kernel=rbf;, score=0.171 total time=  21.1s\n",
      "[CV 4/5] END .......C=2000, gamma=1, kernel=rbf;, score=0.172 total time=  20.9s\n",
      "[CV 5/5] END .......C=2000, gamma=1, kernel=rbf;, score=0.171 total time=  21.3s\n",
      "[CV 1/5] END .....C=2000, gamma=0.1, kernel=rbf;, score=0.521 total time=  20.5s\n",
      "[CV 2/5] END .....C=2000, gamma=0.1, kernel=rbf;, score=0.524 total time=  20.8s\n",
      "[CV 3/5] END .....C=2000, gamma=0.1, kernel=rbf;, score=0.532 total time=  21.0s\n",
      "[CV 4/5] END .....C=2000, gamma=0.1, kernel=rbf;, score=0.547 total time=  20.8s\n",
      "[CV 5/5] END .....C=2000, gamma=0.1, kernel=rbf;, score=0.526 total time=  20.7s\n",
      "[CV 1/5] END ....C=2000, gamma=0.01, kernel=rbf;, score=0.973 total time=  15.8s\n",
      "[CV 2/5] END ....C=2000, gamma=0.01, kernel=rbf;, score=0.961 total time=  16.3s\n",
      "[CV 3/5] END ....C=2000, gamma=0.01, kernel=rbf;, score=0.968 total time=  16.1s\n",
      "[CV 4/5] END ....C=2000, gamma=0.01, kernel=rbf;, score=0.974 total time=  16.1s\n",
      "[CV 5/5] END ....C=2000, gamma=0.01, kernel=rbf;, score=0.963 total time=  16.3s\n",
      "[CV 1/5] END .C=2000, gamma=0.00101, kernel=rbf;, score=1.000 total time=   9.4s\n",
      "[CV 2/5] END .C=2000, gamma=0.00101, kernel=rbf;, score=0.999 total time=   9.5s\n",
      "[CV 3/5] END .C=2000, gamma=0.00101, kernel=rbf;, score=0.997 total time=  10.0s\n",
      "[CV 4/5] END .C=2000, gamma=0.00101, kernel=rbf;, score=0.999 total time=   9.6s\n",
      "[CV 5/5] END .C=2000, gamma=0.00101, kernel=rbf;, score=0.997 total time=   9.5s\n",
      "[CV 1/5] END ...C=2000, gamma=0.001, kernel=rbf;, score=1.000 total time=   9.3s\n",
      "[CV 2/5] END ...C=2000, gamma=0.001, kernel=rbf;, score=0.999 total time=   9.3s\n",
      "[CV 3/5] END ...C=2000, gamma=0.001, kernel=rbf;, score=0.997 total time=   9.9s\n",
      "[CV 4/5] END ...C=2000, gamma=0.001, kernel=rbf;, score=0.999 total time=   9.6s\n",
      "[CV 5/5] END ...C=2000, gamma=0.001, kernel=rbf;, score=0.997 total time=   9.3s\n",
      "[CV 1/5] END ...C=2000, gamma=0.005, kernel=rbf;, score=0.991 total time=  15.0s\n",
      "[CV 2/5] END ...C=2000, gamma=0.005, kernel=rbf;, score=0.991 total time=  16.1s\n",
      "[CV 3/5] END ...C=2000, gamma=0.005, kernel=rbf;, score=0.987 total time=  15.3s\n",
      "[CV 4/5] END ...C=2000, gamma=0.005, kernel=rbf;, score=0.991 total time=  15.5s\n",
      "[CV 5/5] END ...C=2000, gamma=0.005, kernel=rbf;, score=0.987 total time=  16.2s\n",
      "[CV 1/5] END ..C=2000, gamma=0.0001, kernel=rbf;, score=0.994 total time=   2.8s\n",
      "[CV 2/5] END ..C=2000, gamma=0.0001, kernel=rbf;, score=0.996 total time=   2.9s\n",
      "[CV 3/5] END ..C=2000, gamma=0.0001, kernel=rbf;, score=0.997 total time=   2.9s\n",
      "[CV 4/5] END ..C=2000, gamma=0.0001, kernel=rbf;, score=0.996 total time=   2.9s\n",
      "[CV 5/5] END ..C=2000, gamma=0.0001, kernel=rbf;, score=0.995 total time=   2.9s\n",
      "[CV 1/5] END .......C=2500, gamma=1, kernel=rbf;, score=0.171 total time=  21.0s\n",
      "[CV 2/5] END .......C=2500, gamma=1, kernel=rbf;, score=0.172 total time=  21.1s\n",
      "[CV 3/5] END .......C=2500, gamma=1, kernel=rbf;, score=0.171 total time=  21.8s\n",
      "[CV 4/5] END .......C=2500, gamma=1, kernel=rbf;, score=0.172 total time=  20.7s\n",
      "[CV 5/5] END .......C=2500, gamma=1, kernel=rbf;, score=0.171 total time=  21.4s\n",
      "[CV 1/5] END .....C=2500, gamma=0.1, kernel=rbf;, score=0.521 total time=  20.5s\n",
      "[CV 2/5] END .....C=2500, gamma=0.1, kernel=rbf;, score=0.524 total time=  20.6s\n",
      "[CV 3/5] END .....C=2500, gamma=0.1, kernel=rbf;, score=0.532 total time=  20.5s\n",
      "[CV 4/5] END .....C=2500, gamma=0.1, kernel=rbf;, score=0.547 total time=  20.4s\n",
      "[CV 5/5] END .....C=2500, gamma=0.1, kernel=rbf;, score=0.526 total time=  20.5s\n",
      "[CV 1/5] END ....C=2500, gamma=0.01, kernel=rbf;, score=0.973 total time=  15.9s\n",
      "[CV 2/5] END ....C=2500, gamma=0.01, kernel=rbf;, score=0.961 total time=  16.2s\n",
      "[CV 3/5] END ....C=2500, gamma=0.01, kernel=rbf;, score=0.968 total time=  16.1s\n",
      "[CV 4/5] END ....C=2500, gamma=0.01, kernel=rbf;, score=0.974 total time=  15.9s\n",
      "[CV 5/5] END ....C=2500, gamma=0.01, kernel=rbf;, score=0.963 total time=  16.0s\n",
      "[CV 1/5] END .C=2500, gamma=0.00101, kernel=rbf;, score=1.000 total time=   9.5s\n",
      "[CV 2/5] END .C=2500, gamma=0.00101, kernel=rbf;, score=0.999 total time=  10.1s\n",
      "[CV 3/5] END .C=2500, gamma=0.00101, kernel=rbf;, score=0.997 total time=  10.2s\n",
      "[CV 4/5] END .C=2500, gamma=0.00101, kernel=rbf;, score=0.999 total time=   9.6s\n",
      "[CV 5/5] END .C=2500, gamma=0.00101, kernel=rbf;, score=0.997 total time=   9.3s\n",
      "[CV 1/5] END ...C=2500, gamma=0.001, kernel=rbf;, score=1.000 total time=   9.4s\n",
      "[CV 2/5] END ...C=2500, gamma=0.001, kernel=rbf;, score=0.999 total time=   9.4s\n",
      "[CV 3/5] END ...C=2500, gamma=0.001, kernel=rbf;, score=0.997 total time=  10.0s\n",
      "[CV 4/5] END ...C=2500, gamma=0.001, kernel=rbf;, score=0.999 total time=   9.5s\n",
      "[CV 5/5] END ...C=2500, gamma=0.001, kernel=rbf;, score=0.997 total time=   9.8s\n"
     ]
    },
    {
     "name": "stdout",
     "output_type": "stream",
     "text": [
      "[CV 1/5] END ...C=2500, gamma=0.005, kernel=rbf;, score=0.991 total time=  16.0s\n",
      "[CV 2/5] END ...C=2500, gamma=0.005, kernel=rbf;, score=0.991 total time=  16.3s\n",
      "[CV 3/5] END ...C=2500, gamma=0.005, kernel=rbf;, score=0.987 total time=  15.3s\n",
      "[CV 4/5] END ...C=2500, gamma=0.005, kernel=rbf;, score=0.991 total time=  17.1s\n",
      "[CV 5/5] END ...C=2500, gamma=0.005, kernel=rbf;, score=0.987 total time=  16.1s\n",
      "[CV 1/5] END ..C=2500, gamma=0.0001, kernel=rbf;, score=0.994 total time=   2.9s\n",
      "[CV 2/5] END ..C=2500, gamma=0.0001, kernel=rbf;, score=0.996 total time=   2.9s\n",
      "[CV 3/5] END ..C=2500, gamma=0.0001, kernel=rbf;, score=0.997 total time=   2.9s\n",
      "[CV 4/5] END ..C=2500, gamma=0.0001, kernel=rbf;, score=0.996 total time=   2.9s\n",
      "[CV 5/5] END ..C=2500, gamma=0.0001, kernel=rbf;, score=0.995 total time=   2.9s\n"
     ]
    },
    {
     "data": {
      "text/plain": [
       "GridSearchCV(estimator=SVC(),\n",
       "             param_grid={'C': [0.1, 1, 2, 10, 100, 1000, 1050, 2000, 2500],\n",
       "                         'gamma': [1, 0.1, 0.01, 0.00101, 0.001, 0.005, 0.0001],\n",
       "                         'kernel': ['rbf']},\n",
       "             verbose=3)"
      ]
     },
     "execution_count": 24,
     "metadata": {},
     "output_type": "execute_result"
    }
   ],
   "source": [
    "grid.fit(X_train,y_train)"
   ]
  },
  {
   "cell_type": "code",
   "execution_count": 25,
   "id": "130c79f2",
   "metadata": {},
   "outputs": [
    {
     "data": {
      "text/plain": [
       "{'C': 10, 'gamma': 0.00101, 'kernel': 'rbf'}"
      ]
     },
     "execution_count": 25,
     "metadata": {},
     "output_type": "execute_result"
    }
   ],
   "source": [
    "grid.best_params_"
   ]
  },
  {
   "cell_type": "code",
   "execution_count": 26,
   "id": "ec6ddb6d",
   "metadata": {},
   "outputs": [
    {
     "data": {
      "text/plain": [
       "SVC(C=10, gamma=0.00101)"
      ]
     },
     "execution_count": 26,
     "metadata": {},
     "output_type": "execute_result"
    }
   ],
   "source": [
    "grid.best_estimator_"
   ]
  },
  {
   "cell_type": "code",
   "execution_count": 27,
   "id": "4f6e8fde",
   "metadata": {},
   "outputs": [],
   "source": [
    "grid_predictions = grid.predict(X_test)"
   ]
  },
  {
   "cell_type": "code",
   "execution_count": 28,
   "id": "f0669db6",
   "metadata": {},
   "outputs": [
    {
     "name": "stdout",
     "output_type": "stream",
     "text": [
      "[[663  13   2   9   4  56]\n",
      " [ 46 629  11   8   8  19]\n",
      " [ 41  36 556  39  22  52]\n",
      " [ 27  88  10 576  14  46]\n",
      " [ 33  40  14  16 618  40]\n",
      " [125  63  12  18  25 521]]\n"
     ]
    }
   ],
   "source": [
    "print(confusion_matrix(y_test,predictions))"
   ]
  },
  {
   "cell_type": "code",
   "execution_count": 29,
   "id": "b9787789",
   "metadata": {},
   "outputs": [
    {
     "name": "stdout",
     "output_type": "stream",
     "text": [
      "              precision    recall  f1-score   support\n",
      "\n",
      "        back       0.71      0.89      0.79       747\n",
      "       front       0.72      0.87      0.79       721\n",
      "        left       0.92      0.75      0.82       746\n",
      "       right       0.86      0.76      0.81       761\n",
      "       start       0.89      0.81      0.85       761\n",
      "        stop       0.71      0.68      0.70       764\n",
      "\n",
      "    accuracy                           0.79      4500\n",
      "   macro avg       0.80      0.79      0.79      4500\n",
      "weighted avg       0.80      0.79      0.79      4500\n",
      "\n"
     ]
    }
   ],
   "source": [
    "print(classification_report(y_test,predictions))"
   ]
  },
  {
   "cell_type": "code",
   "execution_count": null,
   "id": "efc30791",
   "metadata": {},
   "outputs": [],
   "source": []
  }
 ],
 "metadata": {
  "kernelspec": {
   "display_name": "Python 3.7 (tensorflow)",
   "language": "python",
   "name": "tensorflow"
  },
  "language_info": {
   "codemirror_mode": {
    "name": "ipython",
    "version": 3
   },
   "file_extension": ".py",
   "mimetype": "text/x-python",
   "name": "python",
   "nbconvert_exporter": "python",
   "pygments_lexer": "ipython3",
   "version": "3.7.9"
  }
 },
 "nbformat": 4,
 "nbformat_minor": 5
}
