{
 "cells": [
  {
   "cell_type": "code",
   "execution_count": 1,
   "id": "f5df428c",
   "metadata": {},
   "outputs": [],
   "source": [
    "import pandas as pd\n",
    "import numpy as np\n",
    "import matplotlib.pyplot as plt\n",
    "import seaborn as sns\n",
    "%matplotlib inline"
   ]
  },
  {
   "cell_type": "code",
   "execution_count": 2,
   "id": "fe15956c",
   "metadata": {},
   "outputs": [],
   "source": [
    "df = pd.read_csv('Data.csv')"
   ]
  },
  {
   "cell_type": "code",
   "execution_count": 3,
   "id": "f675bda3",
   "metadata": {},
   "outputs": [
    {
     "data": {
      "text/html": [
       "<div>\n",
       "<style scoped>\n",
       "    .dataframe tbody tr th:only-of-type {\n",
       "        vertical-align: middle;\n",
       "    }\n",
       "\n",
       "    .dataframe tbody tr th {\n",
       "        vertical-align: top;\n",
       "    }\n",
       "\n",
       "    .dataframe thead th {\n",
       "        text-align: right;\n",
       "    }\n",
       "</style>\n",
       "<table border=\"1\" class=\"dataframe\">\n",
       "  <thead>\n",
       "    <tr style=\"text-align: right;\">\n",
       "      <th></th>\n",
       "      <th>channel1</th>\n",
       "      <th>channel2</th>\n",
       "      <th>channel3</th>\n",
       "      <th>channel4</th>\n",
       "      <th>channel5</th>\n",
       "      <th>channel6</th>\n",
       "      <th>channel7</th>\n",
       "      <th>channel8</th>\n",
       "      <th>label</th>\n",
       "    </tr>\n",
       "  </thead>\n",
       "  <tbody>\n",
       "    <tr>\n",
       "      <th>0</th>\n",
       "      <td>71</td>\n",
       "      <td>71</td>\n",
       "      <td>64</td>\n",
       "      <td>98</td>\n",
       "      <td>150</td>\n",
       "      <td>86</td>\n",
       "      <td>68</td>\n",
       "      <td>209</td>\n",
       "      <td>left</td>\n",
       "    </tr>\n",
       "    <tr>\n",
       "      <th>1</th>\n",
       "      <td>72</td>\n",
       "      <td>72</td>\n",
       "      <td>63</td>\n",
       "      <td>98</td>\n",
       "      <td>149</td>\n",
       "      <td>84</td>\n",
       "      <td>69</td>\n",
       "      <td>205</td>\n",
       "      <td>left</td>\n",
       "    </tr>\n",
       "    <tr>\n",
       "      <th>2</th>\n",
       "      <td>72</td>\n",
       "      <td>75</td>\n",
       "      <td>66</td>\n",
       "      <td>98</td>\n",
       "      <td>152</td>\n",
       "      <td>82</td>\n",
       "      <td>73</td>\n",
       "      <td>202</td>\n",
       "      <td>left</td>\n",
       "    </tr>\n",
       "    <tr>\n",
       "      <th>3</th>\n",
       "      <td>75</td>\n",
       "      <td>72</td>\n",
       "      <td>66</td>\n",
       "      <td>98</td>\n",
       "      <td>154</td>\n",
       "      <td>84</td>\n",
       "      <td>75</td>\n",
       "      <td>199</td>\n",
       "      <td>left</td>\n",
       "    </tr>\n",
       "    <tr>\n",
       "      <th>4</th>\n",
       "      <td>74</td>\n",
       "      <td>75</td>\n",
       "      <td>65</td>\n",
       "      <td>98</td>\n",
       "      <td>159</td>\n",
       "      <td>85</td>\n",
       "      <td>79</td>\n",
       "      <td>195</td>\n",
       "      <td>left</td>\n",
       "    </tr>\n",
       "  </tbody>\n",
       "</table>\n",
       "</div>"
      ],
      "text/plain": [
       "   channel1  channel2  channel3  channel4  channel5  channel6  channel7  \\\n",
       "0        71        71        64        98       150        86        68   \n",
       "1        72        72        63        98       149        84        69   \n",
       "2        72        75        66        98       152        82        73   \n",
       "3        75        72        66        98       154        84        75   \n",
       "4        74        75        65        98       159        85        79   \n",
       "\n",
       "   channel8 label  \n",
       "0       209  left  \n",
       "1       205  left  \n",
       "2       202  left  \n",
       "3       199  left  \n",
       "4       195  left  "
      ]
     },
     "execution_count": 3,
     "metadata": {},
     "output_type": "execute_result"
    }
   ],
   "source": [
    "df.head()"
   ]
  },
  {
   "cell_type": "code",
   "execution_count": 4,
   "id": "f8b28d5c",
   "metadata": {},
   "outputs": [],
   "source": [
    "from sklearn.model_selection import train_test_split"
   ]
  },
  {
   "cell_type": "code",
   "execution_count": 5,
   "id": "95db21e2",
   "metadata": {},
   "outputs": [
    {
     "name": "stdout",
     "output_type": "stream",
     "text": [
      "Splitted Successfully\n"
     ]
    }
   ],
   "source": [
    "X_train, X_test, y_train, y_test = train_test_split(df.drop('label',axis=1) , df['label'], test_size=0.30)\n",
    "print('Splitted Successfully')"
   ]
  },
  {
   "cell_type": "code",
   "execution_count": 6,
   "id": "8b189e78",
   "metadata": {},
   "outputs": [],
   "source": [
    "from sklearn.svm import SVC"
   ]
  },
  {
   "cell_type": "code",
   "execution_count": 7,
   "id": "c5a6923e",
   "metadata": {},
   "outputs": [],
   "source": [
    "model = SVC()"
   ]
  },
  {
   "cell_type": "code",
   "execution_count": 8,
   "id": "2b7c31a6",
   "metadata": {},
   "outputs": [
    {
     "data": {
      "text/plain": [
       "SVC()"
      ]
     },
     "execution_count": 8,
     "metadata": {},
     "output_type": "execute_result"
    }
   ],
   "source": [
    "model.fit(df.drop('Label',axis=1),df['Label'])"
   ]
  },
  {
   "cell_type": "code",
   "execution_count": 9,
   "id": "dc48dc38",
   "metadata": {},
   "outputs": [],
   "source": [
    "predictions = model.predict(dft.drop('label',axis=1))"
   ]
  },
  {
   "cell_type": "code",
   "execution_count": 10,
   "id": "94daa1b4",
   "metadata": {},
   "outputs": [],
   "source": [
    "from sklearn.metrics import classification_report,confusion_matrix"
   ]
  },
  {
   "cell_type": "code",
   "execution_count": 11,
   "id": "8853a030",
   "metadata": {},
   "outputs": [
    {
     "name": "stdout",
     "output_type": "stream",
     "text": [
      "[[ 93   0   0   0   0   9]\n",
      " [  0  82   0   0  19   0]\n",
      " [ 22   0  15  63   0   0]\n",
      " [  3   3   0  95   0   0]\n",
      " [  0   6   0  51  44   0]\n",
      " [  0   1   0   0   0 100]]\n"
     ]
    }
   ],
   "source": [
    "print(confusion_matrix(dft['label'],predictions))"
   ]
  },
  {
   "cell_type": "code",
   "execution_count": 12,
   "id": "9f8dfbc9",
   "metadata": {},
   "outputs": [
    {
     "name": "stdout",
     "output_type": "stream",
     "text": [
      "              precision    recall  f1-score   support\n",
      "\n",
      "        back       0.79      0.91      0.85       102\n",
      "       front       0.89      0.81      0.85       101\n",
      "        left       1.00      0.15      0.26       100\n",
      "       right       0.45      0.94      0.61       101\n",
      "       start       0.70      0.44      0.54       101\n",
      "        stop       0.92      0.99      0.95       101\n",
      "\n",
      "    accuracy                           0.71       606\n",
      "   macro avg       0.79      0.71      0.68       606\n",
      "weighted avg       0.79      0.71      0.68       606\n",
      "\n"
     ]
    }
   ],
   "source": [
    "print(classification_report(dft['label'],predictions))"
   ]
  },
  {
   "cell_type": "code",
   "execution_count": 13,
   "id": "dc014ba5",
   "metadata": {},
   "outputs": [],
   "source": [
    "# a = np.arange(0.01, 1, 0.01)\n",
    "# b = np.arange(0.01, 1, 0.01)"
   ]
  },
  {
   "cell_type": "code",
   "execution_count": 14,
   "id": "c86abe09",
   "metadata": {},
   "outputs": [],
   "source": [
    "# a = a[::-1]"
   ]
  },
  {
   "cell_type": "code",
   "execution_count": 15,
   "id": "87a4ad75",
   "metadata": {},
   "outputs": [],
   "source": [
    "# param_grid = {'C': a, 'gamma': b, 'kernel': ['rbf']} \n",
    "param_grid = {'C': [0.1,1,2, 10, 100, 1000, 1050, 2000, 2500], 'gamma': [1,0.1,0.01,0.00101, 0.001,0.005,0.0001], 'kernel': ['rbf']} "
   ]
  },
  {
   "cell_type": "code",
   "execution_count": 16,
   "id": "3456b641",
   "metadata": {},
   "outputs": [],
   "source": [
    "from sklearn.model_selection import GridSearchCV"
   ]
  },
  {
   "cell_type": "code",
   "execution_count": 17,
   "id": "826fb5f2",
   "metadata": {},
   "outputs": [],
   "source": [
    "grid = GridSearchCV(SVC(),param_grid,refit=True,verbose=3)"
   ]
  },
  {
   "cell_type": "code",
   "execution_count": 18,
   "id": "e189f8fb",
   "metadata": {},
   "outputs": [
    {
     "name": "stdout",
     "output_type": "stream",
     "text": [
      "Fitting 5 folds for each of 63 candidates, totalling 315 fits\n",
      "[CV 1/5] END ........C=0.1, gamma=1, kernel=rbf;, score=0.531 total time=   1.1s\n",
      "[CV 2/5] END ........C=0.1, gamma=1, kernel=rbf;, score=0.579 total time=   0.9s\n",
      "[CV 3/5] END ........C=0.1, gamma=1, kernel=rbf;, score=0.667 total time=   0.9s\n",
      "[CV 4/5] END ........C=0.1, gamma=1, kernel=rbf;, score=0.612 total time=   0.9s\n",
      "[CV 5/5] END ........C=0.1, gamma=1, kernel=rbf;, score=0.676 total time=   0.9s\n",
      "[CV 1/5] END ......C=0.1, gamma=0.1, kernel=rbf;, score=0.512 total time=   0.7s\n",
      "[CV 2/5] END ......C=0.1, gamma=0.1, kernel=rbf;, score=0.668 total time=   0.7s\n",
      "[CV 3/5] END ......C=0.1, gamma=0.1, kernel=rbf;, score=0.647 total time=   0.7s\n",
      "[CV 4/5] END ......C=0.1, gamma=0.1, kernel=rbf;, score=0.650 total time=   0.7s\n",
      "[CV 5/5] END ......C=0.1, gamma=0.1, kernel=rbf;, score=0.570 total time=   0.7s\n",
      "[CV 1/5] END .....C=0.1, gamma=0.01, kernel=rbf;, score=0.622 total time=   0.3s\n",
      "[CV 2/5] END .....C=0.1, gamma=0.01, kernel=rbf;, score=0.883 total time=   0.3s\n",
      "[CV 3/5] END .....C=0.1, gamma=0.01, kernel=rbf;, score=0.832 total time=   0.3s\n",
      "[CV 4/5] END .....C=0.1, gamma=0.01, kernel=rbf;, score=0.866 total time=   0.3s\n",
      "[CV 5/5] END .....C=0.1, gamma=0.01, kernel=rbf;, score=0.851 total time=   0.3s\n",
      "[CV 1/5] END ..C=0.1, gamma=0.00101, kernel=rbf;, score=0.632 total time=   0.1s\n",
      "[CV 2/5] END ..C=0.1, gamma=0.00101, kernel=rbf;, score=0.868 total time=   0.2s\n",
      "[CV 3/5] END ..C=0.1, gamma=0.00101, kernel=rbf;, score=0.830 total time=   0.1s\n",
      "[CV 4/5] END ..C=0.1, gamma=0.00101, kernel=rbf;, score=0.937 total time=   0.2s\n",
      "[CV 5/5] END ..C=0.1, gamma=0.00101, kernel=rbf;, score=0.810 total time=   0.1s\n",
      "[CV 1/5] END ....C=0.1, gamma=0.001, kernel=rbf;, score=0.634 total time=   0.1s\n",
      "[CV 2/5] END ....C=0.1, gamma=0.001, kernel=rbf;, score=0.868 total time=   0.2s\n",
      "[CV 3/5] END ....C=0.1, gamma=0.001, kernel=rbf;, score=0.830 total time=   0.2s\n",
      "[CV 4/5] END ....C=0.1, gamma=0.001, kernel=rbf;, score=0.937 total time=   0.2s\n",
      "[CV 5/5] END ....C=0.1, gamma=0.001, kernel=rbf;, score=0.810 total time=   0.2s\n",
      "[CV 1/5] END ....C=0.1, gamma=0.005, kernel=rbf;, score=0.632 total time=   0.4s\n",
      "[CV 2/5] END ....C=0.1, gamma=0.005, kernel=rbf;, score=0.888 total time=   0.4s\n",
      "[CV 3/5] END ....C=0.1, gamma=0.005, kernel=rbf;, score=0.856 total time=   0.3s\n",
      "[CV 4/5] END ....C=0.1, gamma=0.005, kernel=rbf;, score=0.884 total time=   0.3s\n",
      "[CV 5/5] END ....C=0.1, gamma=0.005, kernel=rbf;, score=0.793 total time=   0.2s\n",
      "[CV 1/5] END ...C=0.1, gamma=0.0001, kernel=rbf;, score=0.566 total time=   0.2s\n",
      "[CV 2/5] END ...C=0.1, gamma=0.0001, kernel=rbf;, score=0.739 total time=   0.3s\n",
      "[CV 3/5] END ...C=0.1, gamma=0.0001, kernel=rbf;, score=0.789 total time=   0.2s\n",
      "[CV 4/5] END ...C=0.1, gamma=0.0001, kernel=rbf;, score=0.817 total time=   0.3s\n",
      "[CV 5/5] END ...C=0.1, gamma=0.0001, kernel=rbf;, score=0.717 total time=   0.2s\n",
      "[CV 1/5] END ..........C=1, gamma=1, kernel=rbf;, score=0.757 total time=   0.7s\n",
      "[CV 2/5] END ..........C=1, gamma=1, kernel=rbf;, score=0.881 total time=   0.7s\n",
      "[CV 3/5] END ..........C=1, gamma=1, kernel=rbf;, score=0.880 total time=   0.7s\n",
      "[CV 4/5] END ..........C=1, gamma=1, kernel=rbf;, score=0.815 total time=   0.7s\n",
      "[CV 5/5] END ..........C=1, gamma=1, kernel=rbf;, score=0.855 total time=   0.7s\n",
      "[CV 1/5] END ........C=1, gamma=0.1, kernel=rbf;, score=0.777 total time=   0.4s\n",
      "[CV 2/5] END ........C=1, gamma=0.1, kernel=rbf;, score=0.889 total time=   0.5s\n",
      "[CV 3/5] END ........C=1, gamma=0.1, kernel=rbf;, score=0.909 total time=   0.4s\n",
      "[CV 4/5] END ........C=1, gamma=0.1, kernel=rbf;, score=0.814 total time=   0.4s\n",
      "[CV 5/5] END ........C=1, gamma=0.1, kernel=rbf;, score=0.860 total time=   0.5s\n",
      "[CV 1/5] END .......C=1, gamma=0.01, kernel=rbf;, score=0.632 total time=   0.1s\n",
      "[CV 2/5] END .......C=1, gamma=0.01, kernel=rbf;, score=0.965 total time=   0.2s\n",
      "[CV 3/5] END .......C=1, gamma=0.01, kernel=rbf;, score=0.863 total time=   0.2s\n",
      "[CV 4/5] END .......C=1, gamma=0.01, kernel=rbf;, score=0.934 total time=   0.1s\n",
      "[CV 5/5] END .......C=1, gamma=0.01, kernel=rbf;, score=0.812 total time=   0.1s\n",
      "[CV 1/5] END ....C=1, gamma=0.00101, kernel=rbf;, score=0.650 total time=   0.0s\n",
      "[CV 2/5] END ....C=1, gamma=0.00101, kernel=rbf;, score=0.917 total time=   0.0s\n",
      "[CV 3/5] END ....C=1, gamma=0.00101, kernel=rbf;, score=0.901 total time=   0.0s\n",
      "[CV 4/5] END ....C=1, gamma=0.00101, kernel=rbf;, score=0.980 total time=   0.0s\n",
      "[CV 5/5] END ....C=1, gamma=0.00101, kernel=rbf;, score=0.846 total time=   0.0s\n",
      "[CV 1/5] END ......C=1, gamma=0.001, kernel=rbf;, score=0.650 total time=   0.0s\n",
      "[CV 2/5] END ......C=1, gamma=0.001, kernel=rbf;, score=0.917 total time=   0.0s\n",
      "[CV 3/5] END ......C=1, gamma=0.001, kernel=rbf;, score=0.903 total time=   0.0s\n",
      "[CV 4/5] END ......C=1, gamma=0.001, kernel=rbf;, score=0.980 total time=   0.0s\n",
      "[CV 5/5] END ......C=1, gamma=0.001, kernel=rbf;, score=0.846 total time=   0.0s\n",
      "[CV 1/5] END ......C=1, gamma=0.005, kernel=rbf;, score=0.634 total time=   0.1s\n",
      "[CV 2/5] END ......C=1, gamma=0.005, kernel=rbf;, score=0.955 total time=   0.1s\n",
      "[CV 3/5] END ......C=1, gamma=0.005, kernel=rbf;, score=0.865 total time=   0.1s\n",
      "[CV 4/5] END ......C=1, gamma=0.005, kernel=rbf;, score=0.970 total time=   0.1s\n",
      "[CV 5/5] END ......C=1, gamma=0.005, kernel=rbf;, score=0.817 total time=   0.1s\n",
      "[CV 1/5] END .....C=1, gamma=0.0001, kernel=rbf;, score=0.620 total time=   0.1s\n",
      "[CV 2/5] END .....C=1, gamma=0.0001, kernel=rbf;, score=0.851 total time=   0.1s\n",
      "[CV 3/5] END .....C=1, gamma=0.0001, kernel=rbf;, score=0.828 total time=   0.1s\n",
      "[CV 4/5] END .....C=1, gamma=0.0001, kernel=rbf;, score=0.941 total time=   0.1s\n",
      "[CV 5/5] END .....C=1, gamma=0.0001, kernel=rbf;, score=0.782 total time=   0.1s\n",
      "[CV 1/5] END ..........C=2, gamma=1, kernel=rbf;, score=0.759 total time=   0.5s\n",
      "[CV 2/5] END ..........C=2, gamma=1, kernel=rbf;, score=0.883 total time=   0.6s\n",
      "[CV 3/5] END ..........C=2, gamma=1, kernel=rbf;, score=0.883 total time=   0.6s\n",
      "[CV 4/5] END ..........C=2, gamma=1, kernel=rbf;, score=0.815 total time=   0.5s\n",
      "[CV 5/5] END ..........C=2, gamma=1, kernel=rbf;, score=0.855 total time=   0.6s\n",
      "[CV 1/5] END ........C=2, gamma=0.1, kernel=rbf;, score=0.777 total time=   0.4s\n",
      "[CV 2/5] END ........C=2, gamma=0.1, kernel=rbf;, score=0.893 total time=   0.5s\n",
      "[CV 3/5] END ........C=2, gamma=0.1, kernel=rbf;, score=0.909 total time=   0.4s\n",
      "[CV 4/5] END ........C=2, gamma=0.1, kernel=rbf;, score=0.814 total time=   0.4s\n",
      "[CV 5/5] END ........C=2, gamma=0.1, kernel=rbf;, score=0.860 total time=   0.4s\n",
      "[CV 1/5] END .......C=2, gamma=0.01, kernel=rbf;, score=0.634 total time=   0.1s\n",
      "[CV 2/5] END .......C=2, gamma=0.01, kernel=rbf;, score=0.965 total time=   0.2s\n",
      "[CV 3/5] END .......C=2, gamma=0.01, kernel=rbf;, score=0.858 total time=   0.2s\n",
      "[CV 4/5] END .......C=2, gamma=0.01, kernel=rbf;, score=0.947 total time=   0.2s\n",
      "[CV 5/5] END .......C=2, gamma=0.01, kernel=rbf;, score=0.812 total time=   0.1s\n",
      "[CV 1/5] END ....C=2, gamma=0.00101, kernel=rbf;, score=0.647 total time=   0.0s\n",
      "[CV 2/5] END ....C=2, gamma=0.00101, kernel=rbf;, score=0.916 total time=   0.0s\n",
      "[CV 3/5] END ....C=2, gamma=0.00101, kernel=rbf;, score=0.901 total time=   0.0s\n",
      "[CV 4/5] END ....C=2, gamma=0.00101, kernel=rbf;, score=0.983 total time=   0.0s\n",
      "[CV 5/5] END ....C=2, gamma=0.00101, kernel=rbf;, score=0.846 total time=   0.0s\n",
      "[CV 1/5] END ......C=2, gamma=0.001, kernel=rbf;, score=0.647 total time=   0.0s\n",
      "[CV 2/5] END ......C=2, gamma=0.001, kernel=rbf;, score=0.914 total time=   0.0s\n",
      "[CV 3/5] END ......C=2, gamma=0.001, kernel=rbf;, score=0.899 total time=   0.0s\n",
      "[CV 4/5] END ......C=2, gamma=0.001, kernel=rbf;, score=0.983 total time=   0.0s\n",
      "[CV 5/5] END ......C=2, gamma=0.001, kernel=rbf;, score=0.850 total time=   0.0s\n",
      "[CV 1/5] END ......C=2, gamma=0.005, kernel=rbf;, score=0.635 total time=   0.1s\n",
      "[CV 2/5] END ......C=2, gamma=0.005, kernel=rbf;, score=0.960 total time=   0.1s\n",
      "[CV 3/5] END ......C=2, gamma=0.005, kernel=rbf;, score=0.868 total time=   0.1s\n",
      "[CV 4/5] END ......C=2, gamma=0.005, kernel=rbf;, score=0.969 total time=   0.1s\n",
      "[CV 5/5] END ......C=2, gamma=0.005, kernel=rbf;, score=0.818 total time=   0.1s\n",
      "[CV 1/5] END .....C=2, gamma=0.0001, kernel=rbf;, score=0.619 total time=   0.0s\n"
     ]
    },
    {
     "name": "stdout",
     "output_type": "stream",
     "text": [
      "[CV 2/5] END .....C=2, gamma=0.0001, kernel=rbf;, score=0.858 total time=   0.1s\n",
      "[CV 3/5] END .....C=2, gamma=0.0001, kernel=rbf;, score=0.871 total time=   0.0s\n",
      "[CV 4/5] END .....C=2, gamma=0.0001, kernel=rbf;, score=0.952 total time=   0.1s\n",
      "[CV 5/5] END .....C=2, gamma=0.0001, kernel=rbf;, score=0.798 total time=   0.0s\n",
      "[CV 1/5] END .........C=10, gamma=1, kernel=rbf;, score=0.759 total time=   0.6s\n",
      "[CV 2/5] END .........C=10, gamma=1, kernel=rbf;, score=0.883 total time=   0.6s\n",
      "[CV 3/5] END .........C=10, gamma=1, kernel=rbf;, score=0.883 total time=   0.6s\n",
      "[CV 4/5] END .........C=10, gamma=1, kernel=rbf;, score=0.815 total time=   0.6s\n",
      "[CV 5/5] END .........C=10, gamma=1, kernel=rbf;, score=0.855 total time=   0.6s\n",
      "[CV 1/5] END .......C=10, gamma=0.1, kernel=rbf;, score=0.777 total time=   0.4s\n",
      "[CV 2/5] END .......C=10, gamma=0.1, kernel=rbf;, score=0.893 total time=   0.4s\n",
      "[CV 3/5] END .......C=10, gamma=0.1, kernel=rbf;, score=0.909 total time=   0.4s\n",
      "[CV 4/5] END .......C=10, gamma=0.1, kernel=rbf;, score=0.814 total time=   0.4s\n",
      "[CV 5/5] END .......C=10, gamma=0.1, kernel=rbf;, score=0.860 total time=   0.4s\n",
      "[CV 1/5] END ......C=10, gamma=0.01, kernel=rbf;, score=0.632 total time=   0.1s\n",
      "[CV 2/5] END ......C=10, gamma=0.01, kernel=rbf;, score=0.969 total time=   0.2s\n",
      "[CV 3/5] END ......C=10, gamma=0.01, kernel=rbf;, score=0.858 total time=   0.2s\n",
      "[CV 4/5] END ......C=10, gamma=0.01, kernel=rbf;, score=0.936 total time=   0.1s\n",
      "[CV 5/5] END ......C=10, gamma=0.01, kernel=rbf;, score=0.813 total time=   0.1s\n",
      "[CV 1/5] END ...C=10, gamma=0.00101, kernel=rbf;, score=0.639 total time=   0.0s\n",
      "[CV 2/5] END ...C=10, gamma=0.00101, kernel=rbf;, score=0.922 total time=   0.0s\n",
      "[CV 3/5] END ...C=10, gamma=0.00101, kernel=rbf;, score=0.911 total time=   0.0s\n",
      "[CV 4/5] END ...C=10, gamma=0.00101, kernel=rbf;, score=0.960 total time=   0.0s\n",
      "[CV 5/5] END ...C=10, gamma=0.00101, kernel=rbf;, score=0.851 total time=   0.0s\n",
      "[CV 1/5] END .....C=10, gamma=0.001, kernel=rbf;, score=0.639 total time=   0.0s\n",
      "[CV 2/5] END .....C=10, gamma=0.001, kernel=rbf;, score=0.921 total time=   0.0s\n",
      "[CV 3/5] END .....C=10, gamma=0.001, kernel=rbf;, score=0.913 total time=   0.0s\n",
      "[CV 4/5] END .....C=10, gamma=0.001, kernel=rbf;, score=0.960 total time=   0.0s\n",
      "[CV 5/5] END .....C=10, gamma=0.001, kernel=rbf;, score=0.850 total time=   0.0s\n",
      "[CV 1/5] END .....C=10, gamma=0.005, kernel=rbf;, score=0.635 total time=   0.1s\n",
      "[CV 2/5] END .....C=10, gamma=0.005, kernel=rbf;, score=0.957 total time=   0.1s\n",
      "[CV 3/5] END .....C=10, gamma=0.005, kernel=rbf;, score=0.871 total time=   0.1s\n",
      "[CV 4/5] END .....C=10, gamma=0.005, kernel=rbf;, score=0.970 total time=   0.1s\n",
      "[CV 5/5] END .....C=10, gamma=0.005, kernel=rbf;, score=0.815 total time=   0.1s\n",
      "[CV 1/5] END ....C=10, gamma=0.0001, kernel=rbf;, score=0.625 total time=   0.0s\n",
      "[CV 2/5] END ....C=10, gamma=0.0001, kernel=rbf;, score=0.878 total time=   0.0s\n",
      "[CV 3/5] END ....C=10, gamma=0.0001, kernel=rbf;, score=0.898 total time=   0.0s\n",
      "[CV 4/5] END ....C=10, gamma=0.0001, kernel=rbf;, score=0.977 total time=   0.0s\n",
      "[CV 5/5] END ....C=10, gamma=0.0001, kernel=rbf;, score=0.838 total time=   0.0s\n",
      "[CV 1/5] END ........C=100, gamma=1, kernel=rbf;, score=0.759 total time=   0.6s\n",
      "[CV 2/5] END ........C=100, gamma=1, kernel=rbf;, score=0.883 total time=   0.7s\n",
      "[CV 3/5] END ........C=100, gamma=1, kernel=rbf;, score=0.883 total time=   0.7s\n",
      "[CV 4/5] END ........C=100, gamma=1, kernel=rbf;, score=0.815 total time=   0.8s\n",
      "[CV 5/5] END ........C=100, gamma=1, kernel=rbf;, score=0.855 total time=   0.6s\n",
      "[CV 1/5] END ......C=100, gamma=0.1, kernel=rbf;, score=0.777 total time=   0.5s\n",
      "[CV 2/5] END ......C=100, gamma=0.1, kernel=rbf;, score=0.893 total time=   0.6s\n",
      "[CV 3/5] END ......C=100, gamma=0.1, kernel=rbf;, score=0.909 total time=   0.5s\n",
      "[CV 4/5] END ......C=100, gamma=0.1, kernel=rbf;, score=0.814 total time=   0.4s\n",
      "[CV 5/5] END ......C=100, gamma=0.1, kernel=rbf;, score=0.860 total time=   0.5s\n",
      "[CV 1/5] END .....C=100, gamma=0.01, kernel=rbf;, score=0.632 total time=   0.1s\n",
      "[CV 2/5] END .....C=100, gamma=0.01, kernel=rbf;, score=0.969 total time=   0.2s\n",
      "[CV 3/5] END .....C=100, gamma=0.01, kernel=rbf;, score=0.858 total time=   0.2s\n",
      "[CV 4/5] END .....C=100, gamma=0.01, kernel=rbf;, score=0.936 total time=   0.1s\n",
      "[CV 5/5] END .....C=100, gamma=0.01, kernel=rbf;, score=0.813 total time=   0.1s\n",
      "[CV 1/5] END ..C=100, gamma=0.00101, kernel=rbf;, score=0.649 total time=   0.0s\n",
      "[CV 2/5] END ..C=100, gamma=0.00101, kernel=rbf;, score=0.946 total time=   0.0s\n",
      "[CV 3/5] END ..C=100, gamma=0.00101, kernel=rbf;, score=0.919 total time=   0.0s\n",
      "[CV 4/5] END ..C=100, gamma=0.00101, kernel=rbf;, score=0.952 total time=   0.0s\n",
      "[CV 5/5] END ..C=100, gamma=0.00101, kernel=rbf;, score=0.853 total time=   0.0s\n",
      "[CV 1/5] END ....C=100, gamma=0.001, kernel=rbf;, score=0.649 total time=   0.0s\n",
      "[CV 2/5] END ....C=100, gamma=0.001, kernel=rbf;, score=0.946 total time=   0.0s\n",
      "[CV 3/5] END ....C=100, gamma=0.001, kernel=rbf;, score=0.919 total time=   0.0s\n",
      "[CV 4/5] END ....C=100, gamma=0.001, kernel=rbf;, score=0.952 total time=   0.0s\n",
      "[CV 5/5] END ....C=100, gamma=0.001, kernel=rbf;, score=0.853 total time=   0.0s\n",
      "[CV 1/5] END ....C=100, gamma=0.005, kernel=rbf;, score=0.635 total time=   0.1s\n",
      "[CV 2/5] END ....C=100, gamma=0.005, kernel=rbf;, score=0.955 total time=   0.1s\n",
      "[CV 3/5] END ....C=100, gamma=0.005, kernel=rbf;, score=0.868 total time=   0.1s\n",
      "[CV 4/5] END ....C=100, gamma=0.005, kernel=rbf;, score=0.970 total time=   0.1s\n",
      "[CV 5/5] END ....C=100, gamma=0.005, kernel=rbf;, score=0.817 total time=   0.1s\n",
      "[CV 1/5] END ...C=100, gamma=0.0001, kernel=rbf;, score=0.634 total time=   0.0s\n",
      "[CV 2/5] END ...C=100, gamma=0.0001, kernel=rbf;, score=0.888 total time=   0.0s\n",
      "[CV 3/5] END ...C=100, gamma=0.0001, kernel=rbf;, score=0.913 total time=   0.0s\n",
      "[CV 4/5] END ...C=100, gamma=0.0001, kernel=rbf;, score=0.950 total time=   0.0s\n",
      "[CV 5/5] END ...C=100, gamma=0.0001, kernel=rbf;, score=0.841 total time=   0.0s\n",
      "[CV 1/5] END .......C=1000, gamma=1, kernel=rbf;, score=0.759 total time=   0.5s\n",
      "[CV 2/5] END .......C=1000, gamma=1, kernel=rbf;, score=0.883 total time=   0.6s\n",
      "[CV 3/5] END .......C=1000, gamma=1, kernel=rbf;, score=0.883 total time=   0.5s\n",
      "[CV 4/5] END .......C=1000, gamma=1, kernel=rbf;, score=0.815 total time=   0.7s\n",
      "[CV 5/5] END .......C=1000, gamma=1, kernel=rbf;, score=0.855 total time=   0.6s\n",
      "[CV 1/5] END .....C=1000, gamma=0.1, kernel=rbf;, score=0.777 total time=   0.4s\n",
      "[CV 2/5] END .....C=1000, gamma=0.1, kernel=rbf;, score=0.893 total time=   0.4s\n",
      "[CV 3/5] END .....C=1000, gamma=0.1, kernel=rbf;, score=0.909 total time=   0.4s\n",
      "[CV 4/5] END .....C=1000, gamma=0.1, kernel=rbf;, score=0.814 total time=   0.5s\n",
      "[CV 5/5] END .....C=1000, gamma=0.1, kernel=rbf;, score=0.860 total time=   0.5s\n",
      "[CV 1/5] END ....C=1000, gamma=0.01, kernel=rbf;, score=0.632 total time=   0.2s\n",
      "[CV 2/5] END ....C=1000, gamma=0.01, kernel=rbf;, score=0.969 total time=   0.3s\n",
      "[CV 3/5] END ....C=1000, gamma=0.01, kernel=rbf;, score=0.858 total time=   0.3s\n",
      "[CV 4/5] END ....C=1000, gamma=0.01, kernel=rbf;, score=0.936 total time=   0.2s\n",
      "[CV 5/5] END ....C=1000, gamma=0.01, kernel=rbf;, score=0.813 total time=   0.1s\n",
      "[CV 1/5] END .C=1000, gamma=0.00101, kernel=rbf;, score=0.650 total time=   0.0s\n",
      "[CV 2/5] END .C=1000, gamma=0.00101, kernel=rbf;, score=0.944 total time=   0.0s\n",
      "[CV 3/5] END .C=1000, gamma=0.00101, kernel=rbf;, score=0.916 total time=   0.0s\n",
      "[CV 4/5] END .C=1000, gamma=0.00101, kernel=rbf;, score=0.957 total time=   0.0s\n",
      "[CV 5/5] END .C=1000, gamma=0.00101, kernel=rbf;, score=0.853 total time=   0.0s\n",
      "[CV 1/5] END ...C=1000, gamma=0.001, kernel=rbf;, score=0.650 total time=   0.0s\n",
      "[CV 2/5] END ...C=1000, gamma=0.001, kernel=rbf;, score=0.942 total time=   0.0s\n",
      "[CV 3/5] END ...C=1000, gamma=0.001, kernel=rbf;, score=0.916 total time=   0.0s\n",
      "[CV 4/5] END ...C=1000, gamma=0.001, kernel=rbf;, score=0.957 total time=   0.0s\n",
      "[CV 5/5] END ...C=1000, gamma=0.001, kernel=rbf;, score=0.853 total time=   0.0s\n",
      "[CV 1/5] END ...C=1000, gamma=0.005, kernel=rbf;, score=0.635 total time=   0.1s\n",
      "[CV 2/5] END ...C=1000, gamma=0.005, kernel=rbf;, score=0.955 total time=   0.1s\n",
      "[CV 3/5] END ...C=1000, gamma=0.005, kernel=rbf;, score=0.868 total time=   0.1s\n",
      "[CV 4/5] END ...C=1000, gamma=0.005, kernel=rbf;, score=0.970 total time=   0.1s\n"
     ]
    },
    {
     "name": "stdout",
     "output_type": "stream",
     "text": [
      "[CV 5/5] END ...C=1000, gamma=0.005, kernel=rbf;, score=0.817 total time=   0.1s\n",
      "[CV 1/5] END ..C=1000, gamma=0.0001, kernel=rbf;, score=0.637 total time=   0.0s\n",
      "[CV 2/5] END ..C=1000, gamma=0.0001, kernel=rbf;, score=0.909 total time=   0.0s\n",
      "[CV 3/5] END ..C=1000, gamma=0.0001, kernel=rbf;, score=0.917 total time=   0.1s\n",
      "[CV 4/5] END ..C=1000, gamma=0.0001, kernel=rbf;, score=0.936 total time=   0.0s\n",
      "[CV 5/5] END ..C=1000, gamma=0.0001, kernel=rbf;, score=0.833 total time=   0.0s\n",
      "[CV 1/5] END .......C=1050, gamma=1, kernel=rbf;, score=0.759 total time=   0.6s\n",
      "[CV 2/5] END .......C=1050, gamma=1, kernel=rbf;, score=0.883 total time=   0.6s\n",
      "[CV 3/5] END .......C=1050, gamma=1, kernel=rbf;, score=0.883 total time=   0.7s\n",
      "[CV 4/5] END .......C=1050, gamma=1, kernel=rbf;, score=0.815 total time=   0.6s\n",
      "[CV 5/5] END .......C=1050, gamma=1, kernel=rbf;, score=0.855 total time=   0.7s\n",
      "[CV 1/5] END .....C=1050, gamma=0.1, kernel=rbf;, score=0.777 total time=   0.5s\n",
      "[CV 2/5] END .....C=1050, gamma=0.1, kernel=rbf;, score=0.893 total time=   0.5s\n",
      "[CV 3/5] END .....C=1050, gamma=0.1, kernel=rbf;, score=0.909 total time=   0.5s\n",
      "[CV 4/5] END .....C=1050, gamma=0.1, kernel=rbf;, score=0.814 total time=   0.9s\n",
      "[CV 5/5] END .....C=1050, gamma=0.1, kernel=rbf;, score=0.860 total time=   1.2s\n",
      "[CV 1/5] END ....C=1050, gamma=0.01, kernel=rbf;, score=0.632 total time=   0.3s\n",
      "[CV 2/5] END ....C=1050, gamma=0.01, kernel=rbf;, score=0.969 total time=   0.2s\n",
      "[CV 3/5] END ....C=1050, gamma=0.01, kernel=rbf;, score=0.858 total time=   0.4s\n",
      "[CV 4/5] END ....C=1050, gamma=0.01, kernel=rbf;, score=0.936 total time=   0.2s\n",
      "[CV 5/5] END ....C=1050, gamma=0.01, kernel=rbf;, score=0.813 total time=   0.1s\n",
      "[CV 1/5] END .C=1050, gamma=0.00101, kernel=rbf;, score=0.650 total time=   0.0s\n",
      "[CV 2/5] END .C=1050, gamma=0.00101, kernel=rbf;, score=0.944 total time=   0.0s\n",
      "[CV 3/5] END .C=1050, gamma=0.00101, kernel=rbf;, score=0.916 total time=   0.0s\n",
      "[CV 4/5] END .C=1050, gamma=0.00101, kernel=rbf;, score=0.957 total time=   0.0s\n",
      "[CV 5/5] END .C=1050, gamma=0.00101, kernel=rbf;, score=0.853 total time=   0.0s\n",
      "[CV 1/5] END ...C=1050, gamma=0.001, kernel=rbf;, score=0.650 total time=   0.0s\n",
      "[CV 2/5] END ...C=1050, gamma=0.001, kernel=rbf;, score=0.942 total time=   0.1s\n",
      "[CV 3/5] END ...C=1050, gamma=0.001, kernel=rbf;, score=0.916 total time=   0.1s\n",
      "[CV 4/5] END ...C=1050, gamma=0.001, kernel=rbf;, score=0.957 total time=   0.1s\n",
      "[CV 5/5] END ...C=1050, gamma=0.001, kernel=rbf;, score=0.853 total time=   0.0s\n",
      "[CV 1/5] END ...C=1050, gamma=0.005, kernel=rbf;, score=0.635 total time=   0.2s\n",
      "[CV 2/5] END ...C=1050, gamma=0.005, kernel=rbf;, score=0.955 total time=   0.2s\n",
      "[CV 3/5] END ...C=1050, gamma=0.005, kernel=rbf;, score=0.868 total time=   0.2s\n",
      "[CV 4/5] END ...C=1050, gamma=0.005, kernel=rbf;, score=0.970 total time=   0.1s\n",
      "[CV 5/5] END ...C=1050, gamma=0.005, kernel=rbf;, score=0.817 total time=   0.1s\n",
      "[CV 1/5] END ..C=1050, gamma=0.0001, kernel=rbf;, score=0.637 total time=   0.0s\n",
      "[CV 2/5] END ..C=1050, gamma=0.0001, kernel=rbf;, score=0.913 total time=   0.0s\n",
      "[CV 3/5] END ..C=1050, gamma=0.0001, kernel=rbf;, score=0.919 total time=   0.0s\n",
      "[CV 4/5] END ..C=1050, gamma=0.0001, kernel=rbf;, score=0.936 total time=   0.0s\n",
      "[CV 5/5] END ..C=1050, gamma=0.0001, kernel=rbf;, score=0.833 total time=   0.0s\n",
      "[CV 1/5] END .......C=2000, gamma=1, kernel=rbf;, score=0.759 total time=   0.5s\n",
      "[CV 2/5] END .......C=2000, gamma=1, kernel=rbf;, score=0.883 total time=   0.6s\n",
      "[CV 3/5] END .......C=2000, gamma=1, kernel=rbf;, score=0.883 total time=   0.9s\n",
      "[CV 4/5] END .......C=2000, gamma=1, kernel=rbf;, score=0.815 total time=   1.0s\n",
      "[CV 5/5] END .......C=2000, gamma=1, kernel=rbf;, score=0.855 total time=   0.8s\n",
      "[CV 1/5] END .....C=2000, gamma=0.1, kernel=rbf;, score=0.777 total time=   1.0s\n",
      "[CV 2/5] END .....C=2000, gamma=0.1, kernel=rbf;, score=0.893 total time=   0.5s\n",
      "[CV 3/5] END .....C=2000, gamma=0.1, kernel=rbf;, score=0.909 total time=   0.5s\n",
      "[CV 4/5] END .....C=2000, gamma=0.1, kernel=rbf;, score=0.814 total time=   0.7s\n",
      "[CV 5/5] END .....C=2000, gamma=0.1, kernel=rbf;, score=0.860 total time=   0.6s\n",
      "[CV 1/5] END ....C=2000, gamma=0.01, kernel=rbf;, score=0.632 total time=   0.1s\n",
      "[CV 2/5] END ....C=2000, gamma=0.01, kernel=rbf;, score=0.969 total time=   0.2s\n",
      "[CV 3/5] END ....C=2000, gamma=0.01, kernel=rbf;, score=0.858 total time=   0.1s\n",
      "[CV 4/5] END ....C=2000, gamma=0.01, kernel=rbf;, score=0.936 total time=   0.1s\n",
      "[CV 5/5] END ....C=2000, gamma=0.01, kernel=rbf;, score=0.813 total time=   0.1s\n",
      "[CV 1/5] END .C=2000, gamma=0.00101, kernel=rbf;, score=0.650 total time=   0.0s\n",
      "[CV 2/5] END .C=2000, gamma=0.00101, kernel=rbf;, score=0.944 total time=   0.0s\n",
      "[CV 3/5] END .C=2000, gamma=0.00101, kernel=rbf;, score=0.916 total time=   0.1s\n",
      "[CV 4/5] END .C=2000, gamma=0.00101, kernel=rbf;, score=0.957 total time=   0.0s\n",
      "[CV 5/5] END .C=2000, gamma=0.00101, kernel=rbf;, score=0.853 total time=   0.0s\n",
      "[CV 1/5] END ...C=2000, gamma=0.001, kernel=rbf;, score=0.650 total time=   0.0s\n",
      "[CV 2/5] END ...C=2000, gamma=0.001, kernel=rbf;, score=0.942 total time=   0.0s\n",
      "[CV 3/5] END ...C=2000, gamma=0.001, kernel=rbf;, score=0.916 total time=   0.0s\n",
      "[CV 4/5] END ...C=2000, gamma=0.001, kernel=rbf;, score=0.957 total time=   0.0s\n",
      "[CV 5/5] END ...C=2000, gamma=0.001, kernel=rbf;, score=0.853 total time=   0.0s\n",
      "[CV 1/5] END ...C=2000, gamma=0.005, kernel=rbf;, score=0.635 total time=   0.1s\n",
      "[CV 2/5] END ...C=2000, gamma=0.005, kernel=rbf;, score=0.955 total time=   0.1s\n",
      "[CV 3/5] END ...C=2000, gamma=0.005, kernel=rbf;, score=0.868 total time=   0.1s\n",
      "[CV 4/5] END ...C=2000, gamma=0.005, kernel=rbf;, score=0.970 total time=   0.2s\n",
      "[CV 5/5] END ...C=2000, gamma=0.005, kernel=rbf;, score=0.817 total time=   0.1s\n",
      "[CV 1/5] END ..C=2000, gamma=0.0001, kernel=rbf;, score=0.639 total time=   0.0s\n",
      "[CV 2/5] END ..C=2000, gamma=0.0001, kernel=rbf;, score=0.917 total time=   0.0s\n",
      "[CV 3/5] END ..C=2000, gamma=0.0001, kernel=rbf;, score=0.931 total time=   0.0s\n",
      "[CV 4/5] END ..C=2000, gamma=0.0001, kernel=rbf;, score=0.936 total time=   0.0s\n",
      "[CV 5/5] END ..C=2000, gamma=0.0001, kernel=rbf;, score=0.835 total time=   0.0s\n",
      "[CV 1/5] END .......C=2500, gamma=1, kernel=rbf;, score=0.759 total time=   0.5s\n",
      "[CV 2/5] END .......C=2500, gamma=1, kernel=rbf;, score=0.883 total time=   0.6s\n",
      "[CV 3/5] END .......C=2500, gamma=1, kernel=rbf;, score=0.883 total time=   0.6s\n",
      "[CV 4/5] END .......C=2500, gamma=1, kernel=rbf;, score=0.815 total time=   0.6s\n",
      "[CV 5/5] END .......C=2500, gamma=1, kernel=rbf;, score=0.855 total time=   0.7s\n",
      "[CV 1/5] END .....C=2500, gamma=0.1, kernel=rbf;, score=0.777 total time=   0.4s\n",
      "[CV 2/5] END .....C=2500, gamma=0.1, kernel=rbf;, score=0.893 total time=   0.4s\n",
      "[CV 3/5] END .....C=2500, gamma=0.1, kernel=rbf;, score=0.909 total time=   0.4s\n",
      "[CV 4/5] END .....C=2500, gamma=0.1, kernel=rbf;, score=0.814 total time=   0.8s\n",
      "[CV 5/5] END .....C=2500, gamma=0.1, kernel=rbf;, score=0.860 total time=   0.6s\n",
      "[CV 1/5] END ....C=2500, gamma=0.01, kernel=rbf;, score=0.632 total time=   0.2s\n",
      "[CV 2/5] END ....C=2500, gamma=0.01, kernel=rbf;, score=0.969 total time=   0.4s\n",
      "[CV 3/5] END ....C=2500, gamma=0.01, kernel=rbf;, score=0.858 total time=   0.2s\n",
      "[CV 4/5] END ....C=2500, gamma=0.01, kernel=rbf;, score=0.936 total time=   0.1s\n",
      "[CV 5/5] END ....C=2500, gamma=0.01, kernel=rbf;, score=0.813 total time=   0.1s\n",
      "[CV 1/5] END .C=2500, gamma=0.00101, kernel=rbf;, score=0.650 total time=   0.0s\n",
      "[CV 2/5] END .C=2500, gamma=0.00101, kernel=rbf;, score=0.944 total time=   0.0s\n",
      "[CV 3/5] END .C=2500, gamma=0.00101, kernel=rbf;, score=0.916 total time=   0.0s\n",
      "[CV 4/5] END .C=2500, gamma=0.00101, kernel=rbf;, score=0.957 total time=   0.0s\n",
      "[CV 5/5] END .C=2500, gamma=0.00101, kernel=rbf;, score=0.853 total time=   0.1s\n",
      "[CV 1/5] END ...C=2500, gamma=0.001, kernel=rbf;, score=0.650 total time=   0.0s\n",
      "[CV 2/5] END ...C=2500, gamma=0.001, kernel=rbf;, score=0.942 total time=   0.0s\n",
      "[CV 3/5] END ...C=2500, gamma=0.001, kernel=rbf;, score=0.916 total time=   0.0s\n",
      "[CV 4/5] END ...C=2500, gamma=0.001, kernel=rbf;, score=0.957 total time=   0.0s\n",
      "[CV 5/5] END ...C=2500, gamma=0.001, kernel=rbf;, score=0.853 total time=   0.0s\n",
      "[CV 1/5] END ...C=2500, gamma=0.005, kernel=rbf;, score=0.635 total time=   0.0s\n",
      "[CV 2/5] END ...C=2500, gamma=0.005, kernel=rbf;, score=0.955 total time=   0.1s\n"
     ]
    },
    {
     "name": "stdout",
     "output_type": "stream",
     "text": [
      "[CV 3/5] END ...C=2500, gamma=0.005, kernel=rbf;, score=0.868 total time=   0.1s\n",
      "[CV 4/5] END ...C=2500, gamma=0.005, kernel=rbf;, score=0.970 total time=   0.1s\n",
      "[CV 5/5] END ...C=2500, gamma=0.005, kernel=rbf;, score=0.817 total time=   0.1s\n",
      "[CV 1/5] END ..C=2500, gamma=0.0001, kernel=rbf;, score=0.639 total time=   0.0s\n",
      "[CV 2/5] END ..C=2500, gamma=0.0001, kernel=rbf;, score=0.917 total time=   0.0s\n",
      "[CV 3/5] END ..C=2500, gamma=0.0001, kernel=rbf;, score=0.931 total time=   0.0s\n",
      "[CV 4/5] END ..C=2500, gamma=0.0001, kernel=rbf;, score=0.934 total time=   0.0s\n",
      "[CV 5/5] END ..C=2500, gamma=0.0001, kernel=rbf;, score=0.835 total time=   0.1s\n"
     ]
    },
    {
     "data": {
      "text/plain": [
       "GridSearchCV(estimator=SVC(),\n",
       "             param_grid={'C': [0.1, 1, 2, 10, 100, 1000, 1050, 2000, 2500],\n",
       "                         'gamma': [1, 0.1, 0.01, 0.00101, 0.001, 0.005, 0.0001],\n",
       "                         'kernel': ['rbf']},\n",
       "             verbose=3)"
      ]
     },
     "execution_count": 18,
     "metadata": {},
     "output_type": "execute_result"
    }
   ],
   "source": [
    "grid.fit(df.drop('Label',axis=1),df['Label'])"
   ]
  },
  {
   "cell_type": "code",
   "execution_count": 19,
   "id": "130c79f2",
   "metadata": {},
   "outputs": [
    {
     "data": {
      "text/plain": [
       "{'C': 1000, 'gamma': 0.00101, 'kernel': 'rbf'}"
      ]
     },
     "execution_count": 19,
     "metadata": {},
     "output_type": "execute_result"
    }
   ],
   "source": [
    "grid.best_params_"
   ]
  },
  {
   "cell_type": "code",
   "execution_count": 20,
   "id": "ec6ddb6d",
   "metadata": {},
   "outputs": [
    {
     "data": {
      "text/plain": [
       "SVC(C=1000, gamma=0.00101)"
      ]
     },
     "execution_count": 20,
     "metadata": {},
     "output_type": "execute_result"
    }
   ],
   "source": [
    "grid.best_estimator_"
   ]
  },
  {
   "cell_type": "code",
   "execution_count": 21,
   "id": "4f6e8fde",
   "metadata": {},
   "outputs": [],
   "source": [
    "grid_predictions = grid.predict(dft.drop('label',axis=1))"
   ]
  },
  {
   "cell_type": "code",
   "execution_count": 22,
   "id": "f0669db6",
   "metadata": {},
   "outputs": [
    {
     "name": "stdout",
     "output_type": "stream",
     "text": [
      "[[ 93   0   0   0   0   9]\n",
      " [  0  82   0   0  19   0]\n",
      " [ 22   0  15  63   0   0]\n",
      " [  3   3   0  95   0   0]\n",
      " [  0   6   0  51  44   0]\n",
      " [  0   1   0   0   0 100]]\n"
     ]
    }
   ],
   "source": [
    "print(confusion_matrix(dft['label'],predictions))"
   ]
  },
  {
   "cell_type": "code",
   "execution_count": 23,
   "id": "b9787789",
   "metadata": {},
   "outputs": [
    {
     "name": "stdout",
     "output_type": "stream",
     "text": [
      "              precision    recall  f1-score   support\n",
      "\n",
      "        back       0.79      0.91      0.85       102\n",
      "       front       0.89      0.81      0.85       101\n",
      "        left       1.00      0.15      0.26       100\n",
      "       right       0.45      0.94      0.61       101\n",
      "       start       0.70      0.44      0.54       101\n",
      "        stop       0.92      0.99      0.95       101\n",
      "\n",
      "    accuracy                           0.71       606\n",
      "   macro avg       0.79      0.71      0.68       606\n",
      "weighted avg       0.79      0.71      0.68       606\n",
      "\n"
     ]
    }
   ],
   "source": [
    "print(classification_report(dft['label'],predictions))"
   ]
  },
  {
   "cell_type": "code",
   "execution_count": null,
   "id": "efc30791",
   "metadata": {},
   "outputs": [],
   "source": []
  }
 ],
 "metadata": {
  "kernelspec": {
   "display_name": "Python 3.7 (tensorflow)",
   "language": "python",
   "name": "tensorflow"
  },
  "language_info": {
   "codemirror_mode": {
    "name": "ipython",
    "version": 3
   },
   "file_extension": ".py",
   "mimetype": "text/x-python",
   "name": "python",
   "nbconvert_exporter": "python",
   "pygments_lexer": "ipython3",
   "version": "3.7.9"
  }
 },
 "nbformat": 4,
 "nbformat_minor": 5
}
