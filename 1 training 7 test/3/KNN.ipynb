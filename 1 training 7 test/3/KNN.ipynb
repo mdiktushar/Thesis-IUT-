{
 "cells": [
  {
   "cell_type": "code",
   "execution_count": 1,
   "id": "614f50d4",
   "metadata": {},
   "outputs": [],
   "source": [
    "import pandas as pd\n",
    "import numpy as np\n",
    "import matplotlib.pyplot as plt\n",
    "import seaborn as sns\n",
    "%matplotlib inline"
   ]
  },
  {
   "cell_type": "code",
   "execution_count": 2,
   "id": "a946c26b",
   "metadata": {},
   "outputs": [],
   "source": [
    "df = pd.read_csv('../Data.csv')"
   ]
  },
  {
   "cell_type": "code",
   "execution_count": 3,
   "id": "2e191221",
   "metadata": {},
   "outputs": [],
   "source": [
    "dft = pd.read_csv('testing3.csv')"
   ]
  },
  {
   "cell_type": "code",
   "execution_count": 4,
   "id": "be45b160",
   "metadata": {},
   "outputs": [
    {
     "data": {
      "text/html": [
       "<div>\n",
       "<style scoped>\n",
       "    .dataframe tbody tr th:only-of-type {\n",
       "        vertical-align: middle;\n",
       "    }\n",
       "\n",
       "    .dataframe tbody tr th {\n",
       "        vertical-align: top;\n",
       "    }\n",
       "\n",
       "    .dataframe thead th {\n",
       "        text-align: right;\n",
       "    }\n",
       "</style>\n",
       "<table border=\"1\" class=\"dataframe\">\n",
       "  <thead>\n",
       "    <tr style=\"text-align: right;\">\n",
       "      <th></th>\n",
       "      <th>channel1</th>\n",
       "      <th>channel2</th>\n",
       "      <th>channel3</th>\n",
       "      <th>channel4</th>\n",
       "      <th>channel5</th>\n",
       "      <th>channel6</th>\n",
       "      <th>channel7</th>\n",
       "      <th>channel8</th>\n",
       "      <th>label</th>\n",
       "    </tr>\n",
       "  </thead>\n",
       "  <tbody>\n",
       "    <tr>\n",
       "      <th>0</th>\n",
       "      <td>71</td>\n",
       "      <td>71</td>\n",
       "      <td>64</td>\n",
       "      <td>98</td>\n",
       "      <td>150</td>\n",
       "      <td>86</td>\n",
       "      <td>68</td>\n",
       "      <td>209</td>\n",
       "      <td>left</td>\n",
       "    </tr>\n",
       "    <tr>\n",
       "      <th>1</th>\n",
       "      <td>72</td>\n",
       "      <td>72</td>\n",
       "      <td>63</td>\n",
       "      <td>98</td>\n",
       "      <td>149</td>\n",
       "      <td>84</td>\n",
       "      <td>69</td>\n",
       "      <td>205</td>\n",
       "      <td>left</td>\n",
       "    </tr>\n",
       "    <tr>\n",
       "      <th>2</th>\n",
       "      <td>72</td>\n",
       "      <td>75</td>\n",
       "      <td>66</td>\n",
       "      <td>98</td>\n",
       "      <td>152</td>\n",
       "      <td>82</td>\n",
       "      <td>73</td>\n",
       "      <td>202</td>\n",
       "      <td>left</td>\n",
       "    </tr>\n",
       "    <tr>\n",
       "      <th>3</th>\n",
       "      <td>75</td>\n",
       "      <td>72</td>\n",
       "      <td>66</td>\n",
       "      <td>98</td>\n",
       "      <td>154</td>\n",
       "      <td>84</td>\n",
       "      <td>75</td>\n",
       "      <td>199</td>\n",
       "      <td>left</td>\n",
       "    </tr>\n",
       "    <tr>\n",
       "      <th>4</th>\n",
       "      <td>74</td>\n",
       "      <td>75</td>\n",
       "      <td>65</td>\n",
       "      <td>98</td>\n",
       "      <td>159</td>\n",
       "      <td>85</td>\n",
       "      <td>79</td>\n",
       "      <td>195</td>\n",
       "      <td>left</td>\n",
       "    </tr>\n",
       "  </tbody>\n",
       "</table>\n",
       "</div>"
      ],
      "text/plain": [
       "   channel1  channel2  channel3  channel4  channel5  channel6  channel7  \\\n",
       "0        71        71        64        98       150        86        68   \n",
       "1        72        72        63        98       149        84        69   \n",
       "2        72        75        66        98       152        82        73   \n",
       "3        75        72        66        98       154        84        75   \n",
       "4        74        75        65        98       159        85        79   \n",
       "\n",
       "   channel8 label  \n",
       "0       209  left  \n",
       "1       205  left  \n",
       "2       202  left  \n",
       "3       199  left  \n",
       "4       195  left  "
      ]
     },
     "execution_count": 4,
     "metadata": {},
     "output_type": "execute_result"
    }
   ],
   "source": [
    "df.head()"
   ]
  },
  {
   "cell_type": "code",
   "execution_count": 5,
   "id": "c1e4e760",
   "metadata": {},
   "outputs": [
    {
     "data": {
      "text/html": [
       "<div>\n",
       "<style scoped>\n",
       "    .dataframe tbody tr th:only-of-type {\n",
       "        vertical-align: middle;\n",
       "    }\n",
       "\n",
       "    .dataframe tbody tr th {\n",
       "        vertical-align: top;\n",
       "    }\n",
       "\n",
       "    .dataframe thead th {\n",
       "        text-align: right;\n",
       "    }\n",
       "</style>\n",
       "<table border=\"1\" class=\"dataframe\">\n",
       "  <thead>\n",
       "    <tr style=\"text-align: right;\">\n",
       "      <th></th>\n",
       "      <th>channel1</th>\n",
       "      <th>channel2</th>\n",
       "      <th>channel3</th>\n",
       "      <th>channel4</th>\n",
       "      <th>channel5</th>\n",
       "      <th>channel6</th>\n",
       "      <th>channel7</th>\n",
       "      <th>channel8</th>\n",
       "      <th>label</th>\n",
       "    </tr>\n",
       "  </thead>\n",
       "  <tbody>\n",
       "    <tr>\n",
       "      <th>0</th>\n",
       "      <td>126</td>\n",
       "      <td>161</td>\n",
       "      <td>86</td>\n",
       "      <td>71</td>\n",
       "      <td>89</td>\n",
       "      <td>107</td>\n",
       "      <td>64</td>\n",
       "      <td>56</td>\n",
       "      <td>left</td>\n",
       "    </tr>\n",
       "    <tr>\n",
       "      <th>1</th>\n",
       "      <td>124</td>\n",
       "      <td>158</td>\n",
       "      <td>86</td>\n",
       "      <td>70</td>\n",
       "      <td>91</td>\n",
       "      <td>103</td>\n",
       "      <td>61</td>\n",
       "      <td>54</td>\n",
       "      <td>left</td>\n",
       "    </tr>\n",
       "    <tr>\n",
       "      <th>2</th>\n",
       "      <td>122</td>\n",
       "      <td>160</td>\n",
       "      <td>86</td>\n",
       "      <td>71</td>\n",
       "      <td>94</td>\n",
       "      <td>109</td>\n",
       "      <td>59</td>\n",
       "      <td>54</td>\n",
       "      <td>left</td>\n",
       "    </tr>\n",
       "    <tr>\n",
       "      <th>3</th>\n",
       "      <td>121</td>\n",
       "      <td>164</td>\n",
       "      <td>86</td>\n",
       "      <td>70</td>\n",
       "      <td>98</td>\n",
       "      <td>112</td>\n",
       "      <td>57</td>\n",
       "      <td>53</td>\n",
       "      <td>left</td>\n",
       "    </tr>\n",
       "    <tr>\n",
       "      <th>4</th>\n",
       "      <td>119</td>\n",
       "      <td>159</td>\n",
       "      <td>86</td>\n",
       "      <td>72</td>\n",
       "      <td>100</td>\n",
       "      <td>110</td>\n",
       "      <td>56</td>\n",
       "      <td>52</td>\n",
       "      <td>left</td>\n",
       "    </tr>\n",
       "  </tbody>\n",
       "</table>\n",
       "</div>"
      ],
      "text/plain": [
       "   channel1  channel2  channel3  channel4  channel5  channel6  channel7  \\\n",
       "0       126       161        86        71        89       107        64   \n",
       "1       124       158        86        70        91       103        61   \n",
       "2       122       160        86        71        94       109        59   \n",
       "3       121       164        86        70        98       112        57   \n",
       "4       119       159        86        72       100       110        56   \n",
       "\n",
       "   channel8 label  \n",
       "0        56  left  \n",
       "1        54  left  \n",
       "2        54  left  \n",
       "3        53  left  \n",
       "4        52  left  "
      ]
     },
     "execution_count": 5,
     "metadata": {},
     "output_type": "execute_result"
    }
   ],
   "source": [
    "dft.head()"
   ]
  },
  {
   "cell_type": "code",
   "execution_count": 6,
   "id": "f38c79d4",
   "metadata": {},
   "outputs": [],
   "source": [
    "from sklearn.neighbors import KNeighborsClassifier"
   ]
  },
  {
   "cell_type": "code",
   "execution_count": 7,
   "id": "e2300ee1",
   "metadata": {},
   "outputs": [],
   "source": [
    "error_rate = []\n",
    "\n",
    "# Will take some time\n",
    "for i in range(1,50):\n",
    "    \n",
    "    knn = KNeighborsClassifier(n_neighbors=i)\n",
    "    knn.fit(df.drop('label',axis=1),df['label'])\n",
    "    pred_i = knn.predict(dft.drop('label',axis=1))\n",
    "    error_rate.append(np.mean(pred_i != dft['label']))"
   ]
  },
  {
   "cell_type": "code",
   "execution_count": 8,
   "id": "426c1aa1",
   "metadata": {},
   "outputs": [
    {
     "data": {
      "text/plain": [
       "Text(0, 0.5, 'Error Rate')"
      ]
     },
     "execution_count": 8,
     "metadata": {},
     "output_type": "execute_result"
    },
    {
     "data": {
      "image/png": "[encoded data removed]",
      "text/plain": [
       "<Figure size 1440x720 with 1 Axes>"
      ]
     },
     "metadata": {
      "needs_background": "light"
     },
     "output_type": "display_data"
    }
   ],
   "source": [
    "plt.figure(figsize=(20,10))\n",
    "plt.plot(range(1,50),error_rate,color='blue', linestyle='dashed', marker='o',\n",
    "         markerfacecolor='red', markersize=10)\n",
    "plt.title('Error Rate vs. K Value')\n",
    "plt.xlabel('K')\n",
    "plt.ylabel('Error Rate')"
   ]
  },
  {
   "cell_type": "code",
   "execution_count": 9,
   "id": "773c75c5",
   "metadata": {},
   "outputs": [],
   "source": [
    "knn = KNeighborsClassifier(n_neighbors=25) # Neighbor = 25\n",
    "knn.fit(df.drop('label',axis=1),df['label'])\n",
    "pred = knn.predict(dft.drop('label',axis=1))\n"
   ]
  },
  {
   "cell_type": "code",
   "execution_count": 10,
   "id": "c6f728cc",
   "metadata": {},
   "outputs": [
    {
     "name": "stdout",
     "output_type": "stream",
     "text": [
      "[[244   0   0   0   0   6]\n",
      " [  0 249   1   0   0   0]\n",
      " [  0   0 250   0   0   0]\n",
      " [  5   4   0 241   0   0]\n",
      " [  0   1   3   0 243   3]\n",
      " [  4   1  10   1   1 233]]\n"
     ]
    }
   ],
   "source": [
    "from sklearn.metrics import classification_report,confusion_matrix\n",
    "print(confusion_matrix(dft['label'],pred))\n"
   ]
  },
  {
   "cell_type": "code",
   "execution_count": 11,
   "id": "cb83e0b9",
   "metadata": {},
   "outputs": [
    {
     "name": "stdout",
     "output_type": "stream",
     "text": [
      "              precision    recall  f1-score   support\n",
      "\n",
      "        back       0.96      0.98      0.97       250\n",
      "       front       0.98      1.00      0.99       250\n",
      "        left       0.95      1.00      0.97       250\n",
      "       right       1.00      0.96      0.98       250\n",
      "       start       1.00      0.97      0.98       250\n",
      "        stop       0.96      0.93      0.95       250\n",
      "\n",
      "    accuracy                           0.97      1500\n",
      "   macro avg       0.97      0.97      0.97      1500\n",
      "weighted avg       0.97      0.97      0.97      1500\n",
      "\n"
     ]
    }
   ],
   "source": [
    "print(classification_report(dft['label'],pred))"
   ]
  },
  {
   "cell_type": "code",
   "execution_count": null,
   "id": "7a707712",
   "metadata": {},
   "outputs": [],
   "source": []
  }
 ],
 "metadata": {
  "kernelspec": {
   "display_name": "Python 3.7 (tensorflow)",
   "language": "python",
   "name": "tensorflow"
  },
  "language_info": {
   "codemirror_mode": {
    "name": "ipython",
    "version": 3
   },
   "file_extension": ".py",
   "mimetype": "text/x-python",
   "name": "python",
   "nbconvert_exporter": "python",
   "pygments_lexer": "ipython3",
   "version": "3.7.9"
  }
 },
 "nbformat": 4,
 "nbformat_minor": 5
}
