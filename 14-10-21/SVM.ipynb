{
 "cells": [
  {
   "cell_type": "code",
   "execution_count": 10,
   "id": "f5df428c",
   "metadata": {},
   "outputs": [],
   "source": [
    "import pandas as pd\n",
    "import numpy as np\n",
    "import matplotlib.pyplot as plt\n",
    "import seaborn as sns\n",
    "%matplotlib inline"
   ]
  },
  {
   "cell_type": "code",
   "execution_count": 11,
   "id": "fe15956c",
   "metadata": {},
   "outputs": [],
   "source": [
    "df = pd.read_csv('Data.csv')"
   ]
  },
  {
   "cell_type": "code",
   "execution_count": 12,
   "id": "bef654bb",
   "metadata": {},
   "outputs": [],
   "source": [
    "dft = pd.read_csv('testing1.csv')"
   ]
  },
  {
   "cell_type": "code",
   "execution_count": 13,
   "id": "f675bda3",
   "metadata": {},
   "outputs": [
    {
     "data": {
      "text/html": [
       "<div>\n",
       "<style scoped>\n",
       "    .dataframe tbody tr th:only-of-type {\n",
       "        vertical-align: middle;\n",
       "    }\n",
       "\n",
       "    .dataframe tbody tr th {\n",
       "        vertical-align: top;\n",
       "    }\n",
       "\n",
       "    .dataframe thead th {\n",
       "        text-align: right;\n",
       "    }\n",
       "</style>\n",
       "<table border=\"1\" class=\"dataframe\">\n",
       "  <thead>\n",
       "    <tr style=\"text-align: right;\">\n",
       "      <th></th>\n",
       "      <th>channel1</th>\n",
       "      <th>channel2</th>\n",
       "      <th>channel3</th>\n",
       "      <th>channel4</th>\n",
       "      <th>channel5</th>\n",
       "      <th>channel6</th>\n",
       "      <th>channel7</th>\n",
       "      <th>channel8</th>\n",
       "      <th>label</th>\n",
       "    </tr>\n",
       "  </thead>\n",
       "  <tbody>\n",
       "    <tr>\n",
       "      <th>0</th>\n",
       "      <td>71</td>\n",
       "      <td>71</td>\n",
       "      <td>64</td>\n",
       "      <td>98</td>\n",
       "      <td>150</td>\n",
       "      <td>86</td>\n",
       "      <td>68</td>\n",
       "      <td>209</td>\n",
       "      <td>left</td>\n",
       "    </tr>\n",
       "    <tr>\n",
       "      <th>1</th>\n",
       "      <td>72</td>\n",
       "      <td>72</td>\n",
       "      <td>63</td>\n",
       "      <td>98</td>\n",
       "      <td>149</td>\n",
       "      <td>84</td>\n",
       "      <td>69</td>\n",
       "      <td>205</td>\n",
       "      <td>left</td>\n",
       "    </tr>\n",
       "    <tr>\n",
       "      <th>2</th>\n",
       "      <td>72</td>\n",
       "      <td>75</td>\n",
       "      <td>66</td>\n",
       "      <td>98</td>\n",
       "      <td>152</td>\n",
       "      <td>82</td>\n",
       "      <td>73</td>\n",
       "      <td>202</td>\n",
       "      <td>left</td>\n",
       "    </tr>\n",
       "    <tr>\n",
       "      <th>3</th>\n",
       "      <td>75</td>\n",
       "      <td>72</td>\n",
       "      <td>66</td>\n",
       "      <td>98</td>\n",
       "      <td>154</td>\n",
       "      <td>84</td>\n",
       "      <td>75</td>\n",
       "      <td>199</td>\n",
       "      <td>left</td>\n",
       "    </tr>\n",
       "    <tr>\n",
       "      <th>4</th>\n",
       "      <td>74</td>\n",
       "      <td>75</td>\n",
       "      <td>65</td>\n",
       "      <td>98</td>\n",
       "      <td>159</td>\n",
       "      <td>85</td>\n",
       "      <td>79</td>\n",
       "      <td>195</td>\n",
       "      <td>left</td>\n",
       "    </tr>\n",
       "  </tbody>\n",
       "</table>\n",
       "</div>"
      ],
      "text/plain": [
       "   channel1  channel2  channel3  channel4  channel5  channel6  channel7  \\\n",
       "0        71        71        64        98       150        86        68   \n",
       "1        72        72        63        98       149        84        69   \n",
       "2        72        75        66        98       152        82        73   \n",
       "3        75        72        66        98       154        84        75   \n",
       "4        74        75        65        98       159        85        79   \n",
       "\n",
       "   channel8 label  \n",
       "0       209  left  \n",
       "1       205  left  \n",
       "2       202  left  \n",
       "3       199  left  \n",
       "4       195  left  "
      ]
     },
     "execution_count": 13,
     "metadata": {},
     "output_type": "execute_result"
    }
   ],
   "source": [
    "df.head()"
   ]
  },
  {
   "cell_type": "code",
   "execution_count": 14,
   "id": "48e89c3f",
   "metadata": {},
   "outputs": [
    {
     "data": {
      "text/html": [
       "<div>\n",
       "<style scoped>\n",
       "    .dataframe tbody tr th:only-of-type {\n",
       "        vertical-align: middle;\n",
       "    }\n",
       "\n",
       "    .dataframe tbody tr th {\n",
       "        vertical-align: top;\n",
       "    }\n",
       "\n",
       "    .dataframe thead th {\n",
       "        text-align: right;\n",
       "    }\n",
       "</style>\n",
       "<table border=\"1\" class=\"dataframe\">\n",
       "  <thead>\n",
       "    <tr style=\"text-align: right;\">\n",
       "      <th></th>\n",
       "      <th>channel1</th>\n",
       "      <th>channel2</th>\n",
       "      <th>channel3</th>\n",
       "      <th>channel4</th>\n",
       "      <th>channel5</th>\n",
       "      <th>channel6</th>\n",
       "      <th>channel7</th>\n",
       "      <th>channel8</th>\n",
       "      <th>label</th>\n",
       "    </tr>\n",
       "  </thead>\n",
       "  <tbody>\n",
       "    <tr>\n",
       "      <th>0</th>\n",
       "      <td>81</td>\n",
       "      <td>63</td>\n",
       "      <td>334</td>\n",
       "      <td>135</td>\n",
       "      <td>110</td>\n",
       "      <td>60</td>\n",
       "      <td>167</td>\n",
       "      <td>175</td>\n",
       "      <td>left</td>\n",
       "    </tr>\n",
       "    <tr>\n",
       "      <th>1</th>\n",
       "      <td>83</td>\n",
       "      <td>64</td>\n",
       "      <td>338</td>\n",
       "      <td>140</td>\n",
       "      <td>113</td>\n",
       "      <td>59</td>\n",
       "      <td>164</td>\n",
       "      <td>174</td>\n",
       "      <td>left</td>\n",
       "    </tr>\n",
       "    <tr>\n",
       "      <th>2</th>\n",
       "      <td>83</td>\n",
       "      <td>62</td>\n",
       "      <td>342</td>\n",
       "      <td>147</td>\n",
       "      <td>108</td>\n",
       "      <td>61</td>\n",
       "      <td>164</td>\n",
       "      <td>171</td>\n",
       "      <td>left</td>\n",
       "    </tr>\n",
       "    <tr>\n",
       "      <th>3</th>\n",
       "      <td>82</td>\n",
       "      <td>60</td>\n",
       "      <td>344</td>\n",
       "      <td>145</td>\n",
       "      <td>106</td>\n",
       "      <td>62</td>\n",
       "      <td>163</td>\n",
       "      <td>170</td>\n",
       "      <td>left</td>\n",
       "    </tr>\n",
       "    <tr>\n",
       "      <th>4</th>\n",
       "      <td>87</td>\n",
       "      <td>59</td>\n",
       "      <td>341</td>\n",
       "      <td>144</td>\n",
       "      <td>104</td>\n",
       "      <td>61</td>\n",
       "      <td>161</td>\n",
       "      <td>170</td>\n",
       "      <td>left</td>\n",
       "    </tr>\n",
       "  </tbody>\n",
       "</table>\n",
       "</div>"
      ],
      "text/plain": [
       "   channel1  channel2  channel3  channel4  channel5  channel6  channel7  \\\n",
       "0        81        63       334       135       110        60       167   \n",
       "1        83        64       338       140       113        59       164   \n",
       "2        83        62       342       147       108        61       164   \n",
       "3        82        60       344       145       106        62       163   \n",
       "4        87        59       341       144       104        61       161   \n",
       "\n",
       "   channel8 label  \n",
       "0       175  left  \n",
       "1       174  left  \n",
       "2       171  left  \n",
       "3       170  left  \n",
       "4       170  left  "
      ]
     },
     "execution_count": 14,
     "metadata": {},
     "output_type": "execute_result"
    }
   ],
   "source": [
    "dft.head()"
   ]
  },
  {
   "cell_type": "code",
   "execution_count": 15,
   "id": "8b189e78",
   "metadata": {},
   "outputs": [],
   "source": [
    "from sklearn.svm import SVC"
   ]
  },
  {
   "cell_type": "code",
   "execution_count": 16,
   "id": "c5a6923e",
   "metadata": {},
   "outputs": [],
   "source": [
    "model = SVC()"
   ]
  },
  {
   "cell_type": "code",
   "execution_count": 17,
   "id": "2b7c31a6",
   "metadata": {},
   "outputs": [
    {
     "data": {
      "text/plain": [
       "SVC()"
      ]
     },
     "execution_count": 17,
     "metadata": {},
     "output_type": "execute_result"
    }
   ],
   "source": [
    "model.fit(df.drop('label',axis=1),df['label'])"
   ]
  },
  {
   "cell_type": "code",
   "execution_count": 18,
   "id": "dc48dc38",
   "metadata": {},
   "outputs": [],
   "source": [
    "predictions = model.predict(dft.drop('label',axis=1))"
   ]
  },
  {
   "cell_type": "code",
   "execution_count": 19,
   "id": "94daa1b4",
   "metadata": {},
   "outputs": [],
   "source": [
    "from sklearn.metrics import classification_report,confusion_matrix"
   ]
  },
  {
   "cell_type": "code",
   "execution_count": 20,
   "id": "8853a030",
   "metadata": {},
   "outputs": [
    {
     "name": "stdout",
     "output_type": "stream",
     "text": [
      "[[209   0  10   1   4  26]\n",
      " [  0 193   0   0  57   0]\n",
      " [ 36  20 127  46  12   9]\n",
      " [  7  43   0 185  14   1]\n",
      " [  0   8  12  10 220   0]\n",
      " [ 31  58   2   1   0 158]]\n"
     ]
    }
   ],
   "source": [
    "print(confusion_matrix(dft['label'],predictions))"
   ]
  },
  {
   "cell_type": "code",
   "execution_count": 21,
   "id": "9f8dfbc9",
   "metadata": {},
   "outputs": [
    {
     "name": "stdout",
     "output_type": "stream",
     "text": [
      "              precision    recall  f1-score   support\n",
      "\n",
      "        back       0.74      0.84      0.78       250\n",
      "       front       0.60      0.77      0.67       250\n",
      "        left       0.84      0.51      0.63       250\n",
      "       right       0.76      0.74      0.75       250\n",
      "       start       0.72      0.88      0.79       250\n",
      "        stop       0.81      0.63      0.71       250\n",
      "\n",
      "    accuracy                           0.73      1500\n",
      "   macro avg       0.75      0.73      0.72      1500\n",
      "weighted avg       0.75      0.73      0.72      1500\n",
      "\n"
     ]
    }
   ],
   "source": [
    "print(classification_report(dft['label'],predictions))"
   ]
  },
  {
   "cell_type": "code",
   "execution_count": 13,
   "id": "dc014ba5",
   "metadata": {},
   "outputs": [],
   "source": [
    "# a = np.arange(0.01, 1, 0.01)\n",
    "# b = np.arange(0.01, 1, 0.01)"
   ]
  },
  {
   "cell_type": "code",
   "execution_count": 14,
   "id": "c86abe09",
   "metadata": {},
   "outputs": [],
   "source": [
    "# a = a[::-1]"
   ]
  },
  {
   "cell_type": "code",
   "execution_count": 22,
   "id": "87a4ad75",
   "metadata": {},
   "outputs": [],
   "source": [
    "# param_grid = {'C': a, 'gamma': b, 'kernel': ['rbf']} \n",
    "param_grid = {'C': [0.1,1,2, 10, 100, ], 'gamma': [1,0.1,0.01,0.00101,0.0001], 'kernel': ['rbf']} "
   ]
  },
  {
   "cell_type": "code",
   "execution_count": 23,
   "id": "3456b641",
   "metadata": {},
   "outputs": [],
   "source": [
    "from sklearn.model_selection import GridSearchCV"
   ]
  },
  {
   "cell_type": "code",
   "execution_count": 24,
   "id": "826fb5f2",
   "metadata": {},
   "outputs": [],
   "source": [
    "grid = GridSearchCV(SVC(),param_grid,refit=True,verbose=3)"
   ]
  },
  {
   "cell_type": "code",
   "execution_count": 26,
   "id": "e189f8fb",
   "metadata": {},
   "outputs": [
    {
     "name": "stdout",
     "output_type": "stream",
     "text": [
      "Fitting 5 folds for each of 25 candidates, totalling 125 fits\n",
      "[CV 1/5] END ........C=0.1, gamma=1, kernel=rbf;, score=0.167 total time=  39.6s\n",
      "[CV 2/5] END ........C=0.1, gamma=1, kernel=rbf;, score=0.167 total time=  40.3s\n",
      "[CV 3/5] END ........C=0.1, gamma=1, kernel=rbf;, score=0.175 total time= 1.1min\n",
      "[CV 4/5] END ........C=0.1, gamma=1, kernel=rbf;, score=0.167 total time=  45.5s\n",
      "[CV 5/5] END ........C=0.1, gamma=1, kernel=rbf;, score=0.175 total time=  50.7s\n",
      "[CV 1/5] END ......C=0.1, gamma=0.1, kernel=rbf;, score=0.167 total time=  46.9s\n",
      "[CV 2/5] END ......C=0.1, gamma=0.1, kernel=rbf;, score=0.167 total time=  43.0s\n",
      "[CV 3/5] END ......C=0.1, gamma=0.1, kernel=rbf;, score=0.175 total time=  41.7s\n",
      "[CV 4/5] END ......C=0.1, gamma=0.1, kernel=rbf;, score=0.167 total time=  40.5s\n",
      "[CV 5/5] END ......C=0.1, gamma=0.1, kernel=rbf;, score=0.175 total time=  39.8s\n",
      "[CV 1/5] END .....C=0.1, gamma=0.01, kernel=rbf;, score=0.167 total time=  33.5s\n",
      "[CV 2/5] END .....C=0.1, gamma=0.01, kernel=rbf;, score=0.169 total time=  33.0s\n",
      "[CV 3/5] END .....C=0.1, gamma=0.01, kernel=rbf;, score=0.179 total time=  34.9s\n",
      "[CV 4/5] END .....C=0.1, gamma=0.01, kernel=rbf;, score=0.170 total time=  30.6s\n",
      "[CV 5/5] END .....C=0.1, gamma=0.01, kernel=rbf;, score=0.174 total time=  35.3s\n",
      "[CV 1/5] END ..C=0.1, gamma=0.00101, kernel=rbf;, score=0.232 total time=  24.2s\n",
      "[CV 2/5] END ..C=0.1, gamma=0.00101, kernel=rbf;, score=0.267 total time=  20.0s\n",
      "[CV 3/5] END ..C=0.1, gamma=0.00101, kernel=rbf;, score=0.354 total time=  19.4s\n",
      "[CV 4/5] END ..C=0.1, gamma=0.00101, kernel=rbf;, score=0.385 total time=  20.0s\n",
      "[CV 5/5] END ..C=0.1, gamma=0.00101, kernel=rbf;, score=0.395 total time=  26.3s\n",
      "[CV 1/5] END ...C=0.1, gamma=0.0001, kernel=rbf;, score=0.332 total time=  16.5s\n",
      "[CV 2/5] END ...C=0.1, gamma=0.0001, kernel=rbf;, score=0.446 total time=  15.8s\n",
      "[CV 3/5] END ...C=0.1, gamma=0.0001, kernel=rbf;, score=0.478 total time=  13.4s\n",
      "[CV 4/5] END ...C=0.1, gamma=0.0001, kernel=rbf;, score=0.487 total time=  16.4s\n",
      "[CV 5/5] END ...C=0.1, gamma=0.0001, kernel=rbf;, score=0.469 total time=  13.7s\n",
      "[CV 1/5] END ..........C=1, gamma=1, kernel=rbf;, score=0.167 total time=  37.7s\n",
      "[CV 2/5] END ..........C=1, gamma=1, kernel=rbf;, score=0.167 total time=  36.8s\n",
      "[CV 3/5] END ..........C=1, gamma=1, kernel=rbf;, score=0.175 total time=  34.7s\n",
      "[CV 4/5] END ..........C=1, gamma=1, kernel=rbf;, score=0.167 total time=  36.7s\n",
      "[CV 5/5] END ..........C=1, gamma=1, kernel=rbf;, score=0.175 total time=  36.4s\n",
      "[CV 1/5] END ........C=1, gamma=0.1, kernel=rbf;, score=0.167 total time=  38.2s\n",
      "[CV 2/5] END ........C=1, gamma=0.1, kernel=rbf;, score=0.168 total time=  37.9s\n",
      "[CV 3/5] END ........C=1, gamma=0.1, kernel=rbf;, score=0.176 total time=  38.7s\n",
      "[CV 4/5] END ........C=1, gamma=0.1, kernel=rbf;, score=0.168 total time=  37.4s\n",
      "[CV 5/5] END ........C=1, gamma=0.1, kernel=rbf;, score=0.176 total time=  38.1s\n",
      "[CV 1/5] END .......C=1, gamma=0.01, kernel=rbf;, score=0.174 total time=  29.6s\n",
      "[CV 2/5] END .......C=1, gamma=0.01, kernel=rbf;, score=0.179 total time=  30.2s\n",
      "[CV 3/5] END .......C=1, gamma=0.01, kernel=rbf;, score=0.185 total time=  29.4s\n",
      "[CV 4/5] END .......C=1, gamma=0.01, kernel=rbf;, score=0.182 total time=  30.2s\n",
      "[CV 5/5] END .......C=1, gamma=0.01, kernel=rbf;, score=0.181 total time=  30.1s\n",
      "[CV 1/5] END ....C=1, gamma=0.00101, kernel=rbf;, score=0.234 total time=  11.7s\n",
      "[CV 2/5] END ....C=1, gamma=0.00101, kernel=rbf;, score=0.290 total time=  10.8s\n",
      "[CV 3/5] END ....C=1, gamma=0.00101, kernel=rbf;, score=0.377 total time=  11.4s\n",
      "[CV 4/5] END ....C=1, gamma=0.00101, kernel=rbf;, score=0.382 total time=  11.7s\n",
      "[CV 5/5] END ....C=1, gamma=0.00101, kernel=rbf;, score=0.415 total time=  11.8s\n",
      "[CV 1/5] END .....C=1, gamma=0.0001, kernel=rbf;, score=0.289 total time=   6.3s\n",
      "[CV 2/5] END .....C=1, gamma=0.0001, kernel=rbf;, score=0.394 total time=   6.2s\n",
      "[CV 3/5] END .....C=1, gamma=0.0001, kernel=rbf;, score=0.454 total time=   6.5s\n",
      "[CV 4/5] END .....C=1, gamma=0.0001, kernel=rbf;, score=0.464 total time=   6.5s\n",
      "[CV 5/5] END .....C=1, gamma=0.0001, kernel=rbf;, score=0.470 total time=   6.2s\n",
      "[CV 1/5] END ..........C=2, gamma=1, kernel=rbf;, score=0.167 total time=  34.9s\n",
      "[CV 2/5] END ..........C=2, gamma=1, kernel=rbf;, score=0.167 total time=  35.0s\n",
      "[CV 3/5] END ..........C=2, gamma=1, kernel=rbf;, score=0.175 total time=  33.6s\n",
      "[CV 4/5] END ..........C=2, gamma=1, kernel=rbf;, score=0.167 total time=  35.1s\n",
      "[CV 5/5] END ..........C=2, gamma=1, kernel=rbf;, score=0.175 total time=  35.6s\n",
      "[CV 1/5] END ........C=2, gamma=0.1, kernel=rbf;, score=0.167 total time=  35.2s\n",
      "[CV 2/5] END ........C=2, gamma=0.1, kernel=rbf;, score=0.168 total time=  35.2s\n",
      "[CV 3/5] END ........C=2, gamma=0.1, kernel=rbf;, score=0.176 total time=  36.1s\n",
      "[CV 4/5] END ........C=2, gamma=0.1, kernel=rbf;, score=0.169 total time=  36.8s\n",
      "[CV 5/5] END ........C=2, gamma=0.1, kernel=rbf;, score=0.176 total time=  35.7s\n",
      "[CV 1/5] END .......C=2, gamma=0.01, kernel=rbf;, score=0.174 total time=  28.5s\n",
      "[CV 2/5] END .......C=2, gamma=0.01, kernel=rbf;, score=0.179 total time=  29.6s\n",
      "[CV 3/5] END .......C=2, gamma=0.01, kernel=rbf;, score=0.185 total time=  28.8s\n",
      "[CV 4/5] END .......C=2, gamma=0.01, kernel=rbf;, score=0.182 total time=  30.3s\n",
      "[CV 5/5] END .......C=2, gamma=0.01, kernel=rbf;, score=0.181 total time=  29.1s\n",
      "[CV 1/5] END ....C=2, gamma=0.00101, kernel=rbf;, score=0.234 total time=  11.2s\n",
      "[CV 2/5] END ....C=2, gamma=0.00101, kernel=rbf;, score=0.289 total time=  11.1s\n",
      "[CV 3/5] END ....C=2, gamma=0.00101, kernel=rbf;, score=0.379 total time=  11.5s\n",
      "[CV 4/5] END ....C=2, gamma=0.00101, kernel=rbf;, score=0.380 total time=  12.0s\n",
      "[CV 5/5] END ....C=2, gamma=0.00101, kernel=rbf;, score=0.414 total time=  11.8s\n",
      "[CV 1/5] END .....C=2, gamma=0.0001, kernel=rbf;, score=0.275 total time=   5.1s\n",
      "[CV 2/5] END .....C=2, gamma=0.0001, kernel=rbf;, score=0.378 total time=   5.0s\n",
      "[CV 3/5] END .....C=2, gamma=0.0001, kernel=rbf;, score=0.434 total time=   5.1s\n",
      "[CV 4/5] END .....C=2, gamma=0.0001, kernel=rbf;, score=0.456 total time=   5.3s\n",
      "[CV 5/5] END .....C=2, gamma=0.0001, kernel=rbf;, score=0.467 total time=   5.1s\n",
      "[CV 1/5] END .........C=10, gamma=1, kernel=rbf;, score=0.167 total time=  34.5s\n",
      "[CV 2/5] END .........C=10, gamma=1, kernel=rbf;, score=0.167 total time=  35.8s\n",
      "[CV 3/5] END .........C=10, gamma=1, kernel=rbf;, score=0.175 total time=  34.9s\n",
      "[CV 4/5] END .........C=10, gamma=1, kernel=rbf;, score=0.167 total time=  35.7s\n",
      "[CV 5/5] END .........C=10, gamma=1, kernel=rbf;, score=0.175 total time=  33.6s\n",
      "[CV 1/5] END .......C=10, gamma=0.1, kernel=rbf;, score=0.167 total time=  36.4s\n",
      "[CV 2/5] END .......C=10, gamma=0.1, kernel=rbf;, score=0.168 total time=  36.5s\n",
      "[CV 3/5] END .......C=10, gamma=0.1, kernel=rbf;, score=0.176 total time=  36.6s\n",
      "[CV 4/5] END .......C=10, gamma=0.1, kernel=rbf;, score=0.169 total time=  36.7s\n",
      "[CV 5/5] END .......C=10, gamma=0.1, kernel=rbf;, score=0.176 total time=  36.4s\n",
      "[CV 1/5] END ......C=10, gamma=0.01, kernel=rbf;, score=0.174 total time=  29.9s\n",
      "[CV 2/5] END ......C=10, gamma=0.01, kernel=rbf;, score=0.179 total time=  29.7s\n",
      "[CV 3/5] END ......C=10, gamma=0.01, kernel=rbf;, score=0.185 total time=  28.9s\n",
      "[CV 4/5] END ......C=10, gamma=0.01, kernel=rbf;, score=0.182 total time=  29.8s\n",
      "[CV 5/5] END ......C=10, gamma=0.01, kernel=rbf;, score=0.181 total time=  30.0s\n",
      "[CV 1/5] END ...C=10, gamma=0.00101, kernel=rbf;, score=0.234 total time=  11.2s\n",
      "[CV 2/5] END ...C=10, gamma=0.00101, kernel=rbf;, score=0.289 total time=  11.0s\n",
      "[CV 3/5] END ...C=10, gamma=0.00101, kernel=rbf;, score=0.376 total time=  11.4s\n",
      "[CV 4/5] END ...C=10, gamma=0.00101, kernel=rbf;, score=0.379 total time=  11.9s\n",
      "[CV 5/5] END ...C=10, gamma=0.00101, kernel=rbf;, score=0.416 total time=  12.1s\n",
      "[CV 1/5] END ....C=10, gamma=0.0001, kernel=rbf;, score=0.310 total time=   3.7s\n",
      "[CV 2/5] END ....C=10, gamma=0.0001, kernel=rbf;, score=0.391 total time=   3.5s\n",
      "[CV 3/5] END ....C=10, gamma=0.0001, kernel=rbf;, score=0.410 total time=   3.6s\n",
      "[CV 4/5] END ....C=10, gamma=0.0001, kernel=rbf;, score=0.427 total time=   3.8s\n",
      "[CV 5/5] END ....C=10, gamma=0.0001, kernel=rbf;, score=0.461 total time=   3.4s\n",
      "[CV 1/5] END ........C=100, gamma=1, kernel=rbf;, score=0.167 total time=  35.9s\n"
     ]
    },
    {
     "name": "stdout",
     "output_type": "stream",
     "text": [
      "[CV 2/5] END ........C=100, gamma=1, kernel=rbf;, score=0.167 total time=  35.5s\n",
      "[CV 3/5] END ........C=100, gamma=1, kernel=rbf;, score=0.175 total time=  34.1s\n",
      "[CV 4/5] END ........C=100, gamma=1, kernel=rbf;, score=0.167 total time=  34.6s\n",
      "[CV 5/5] END ........C=100, gamma=1, kernel=rbf;, score=0.175 total time=  34.1s\n",
      "[CV 1/5] END ......C=100, gamma=0.1, kernel=rbf;, score=0.167 total time=  36.4s\n",
      "[CV 2/5] END ......C=100, gamma=0.1, kernel=rbf;, score=0.168 total time=  35.4s\n",
      "[CV 3/5] END ......C=100, gamma=0.1, kernel=rbf;, score=0.176 total time=  35.3s\n",
      "[CV 4/5] END ......C=100, gamma=0.1, kernel=rbf;, score=0.169 total time=  35.8s\n",
      "[CV 5/5] END ......C=100, gamma=0.1, kernel=rbf;, score=0.176 total time=  35.9s\n",
      "[CV 1/5] END .....C=100, gamma=0.01, kernel=rbf;, score=0.174 total time=  29.8s\n",
      "[CV 2/5] END .....C=100, gamma=0.01, kernel=rbf;, score=0.179 total time=  28.6s\n",
      "[CV 3/5] END .....C=100, gamma=0.01, kernel=rbf;, score=0.185 total time=  29.3s\n",
      "[CV 4/5] END .....C=100, gamma=0.01, kernel=rbf;, score=0.182 total time=  29.2s\n",
      "[CV 5/5] END .....C=100, gamma=0.01, kernel=rbf;, score=0.181 total time=  28.9s\n",
      "[CV 1/5] END ..C=100, gamma=0.00101, kernel=rbf;, score=0.234 total time=  11.4s\n",
      "[CV 2/5] END ..C=100, gamma=0.00101, kernel=rbf;, score=0.289 total time=  11.0s\n",
      "[CV 3/5] END ..C=100, gamma=0.00101, kernel=rbf;, score=0.376 total time=  11.4s\n",
      "[CV 4/5] END ..C=100, gamma=0.00101, kernel=rbf;, score=0.380 total time=  11.5s\n",
      "[CV 5/5] END ..C=100, gamma=0.00101, kernel=rbf;, score=0.416 total time=  11.7s\n",
      "[CV 1/5] END ...C=100, gamma=0.0001, kernel=rbf;, score=0.319 total time=   2.9s\n",
      "[CV 2/5] END ...C=100, gamma=0.0001, kernel=rbf;, score=0.384 total time=   2.7s\n",
      "[CV 3/5] END ...C=100, gamma=0.0001, kernel=rbf;, score=0.424 total time=   2.8s\n",
      "[CV 4/5] END ...C=100, gamma=0.0001, kernel=rbf;, score=0.415 total time=   3.0s\n",
      "[CV 5/5] END ...C=100, gamma=0.0001, kernel=rbf;, score=0.455 total time=   2.6s\n"
     ]
    },
    {
     "data": {
      "text/plain": [
       "GridSearchCV(estimator=SVC(),\n",
       "             param_grid={'C': [0.1, 1, 2, 10, 100],\n",
       "                         'gamma': [1, 0.1, 0.01, 0.00101, 0.0001],\n",
       "                         'kernel': ['rbf']},\n",
       "             verbose=3)"
      ]
     },
     "execution_count": 26,
     "metadata": {},
     "output_type": "execute_result"
    }
   ],
   "source": [
    "grid.fit(df.drop('label',axis=1),df['label'])"
   ]
  },
  {
   "cell_type": "code",
   "execution_count": 27,
   "id": "130c79f2",
   "metadata": {},
   "outputs": [
    {
     "data": {
      "text/plain": [
       "{'C': 0.1, 'gamma': 0.0001, 'kernel': 'rbf'}"
      ]
     },
     "execution_count": 27,
     "metadata": {},
     "output_type": "execute_result"
    }
   ],
   "source": [
    "grid.best_params_"
   ]
  },
  {
   "cell_type": "code",
   "execution_count": 28,
   "id": "ec6ddb6d",
   "metadata": {},
   "outputs": [
    {
     "data": {
      "text/plain": [
       "SVC(C=0.1, gamma=0.0001)"
      ]
     },
     "execution_count": 28,
     "metadata": {},
     "output_type": "execute_result"
    }
   ],
   "source": [
    "grid.best_estimator_"
   ]
  },
  {
   "cell_type": "code",
   "execution_count": 29,
   "id": "4f6e8fde",
   "metadata": {},
   "outputs": [],
   "source": [
    "grid_predictions = grid.predict(dft.drop('label',axis=1))"
   ]
  },
  {
   "cell_type": "code",
   "execution_count": 30,
   "id": "f0669db6",
   "metadata": {},
   "outputs": [
    {
     "name": "stdout",
     "output_type": "stream",
     "text": [
      "[[209   0  10   1   4  26]\n",
      " [  0 193   0   0  57   0]\n",
      " [ 36  20 127  46  12   9]\n",
      " [  7  43   0 185  14   1]\n",
      " [  0   8  12  10 220   0]\n",
      " [ 31  58   2   1   0 158]]\n"
     ]
    }
   ],
   "source": [
    "print(confusion_matrix(dft['label'],predictions))"
   ]
  },
  {
   "cell_type": "code",
   "execution_count": 31,
   "id": "b9787789",
   "metadata": {},
   "outputs": [
    {
     "name": "stdout",
     "output_type": "stream",
     "text": [
      "              precision    recall  f1-score   support\n",
      "\n",
      "        back       0.74      0.84      0.78       250\n",
      "       front       0.60      0.77      0.67       250\n",
      "        left       0.84      0.51      0.63       250\n",
      "       right       0.76      0.74      0.75       250\n",
      "       start       0.72      0.88      0.79       250\n",
      "        stop       0.81      0.63      0.71       250\n",
      "\n",
      "    accuracy                           0.73      1500\n",
      "   macro avg       0.75      0.73      0.72      1500\n",
      "weighted avg       0.75      0.73      0.72      1500\n",
      "\n"
     ]
    }
   ],
   "source": [
    "print(classification_report(dft['label'],predictions))"
   ]
  },
  {
   "cell_type": "code",
   "execution_count": null,
   "id": "efc30791",
   "metadata": {},
   "outputs": [],
   "source": []
  }
 ],
 "metadata": {
  "kernelspec": {
   "display_name": "Python 3.7 (tensorflow)",
   "language": "python",
   "name": "tensorflow"
  },
  "language_info": {
   "codemirror_mode": {
    "name": "ipython",
    "version": 3
   },
   "file_extension": ".py",
   "mimetype": "text/x-python",
   "name": "python",
   "nbconvert_exporter": "python",
   "pygments_lexer": "ipython3",
   "version": "3.7.9"
  }
 },
 "nbformat": 4,
 "nbformat_minor": 5
}
