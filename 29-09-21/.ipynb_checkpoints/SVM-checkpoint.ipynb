{
 "cells": [
  {
   "cell_type": "code",
   "execution_count": 1,
   "id": "f5df428c",
   "metadata": {},
   "outputs": [],
   "source": [
    "import pandas as pd\n",
    "import numpy as np\n",
    "import matplotlib.pyplot as plt\n",
    "import seaborn as sns\n",
    "%matplotlib inline"
   ]
  },
  {
   "cell_type": "code",
   "execution_count": 2,
   "id": "fe15956c",
   "metadata": {},
   "outputs": [],
   "source": [
    "df = pd.read_csv('normal person training dataset.csv')"
   ]
  },
  {
   "cell_type": "code",
   "execution_count": 3,
   "id": "bef654bb",
   "metadata": {},
   "outputs": [],
   "source": [
    "dft = pd.read_csv('patients testing dataset.csv')"
   ]
  },
  {
   "cell_type": "code",
   "execution_count": 4,
   "id": "f675bda3",
   "metadata": {},
   "outputs": [
    {
     "data": {
      "text/html": [
       "<div>\n",
       "<style scoped>\n",
       "    .dataframe tbody tr th:only-of-type {\n",
       "        vertical-align: middle;\n",
       "    }\n",
       "\n",
       "    .dataframe tbody tr th {\n",
       "        vertical-align: top;\n",
       "    }\n",
       "\n",
       "    .dataframe thead th {\n",
       "        text-align: right;\n",
       "    }\n",
       "</style>\n",
       "<table border=\"1\" class=\"dataframe\">\n",
       "  <thead>\n",
       "    <tr style=\"text-align: right;\">\n",
       "      <th></th>\n",
       "      <th>Channel1</th>\n",
       "      <th>channel2</th>\n",
       "      <th>channel3</th>\n",
       "      <th>channel4</th>\n",
       "      <th>channel5</th>\n",
       "      <th>channel6</th>\n",
       "      <th>Label</th>\n",
       "    </tr>\n",
       "  </thead>\n",
       "  <tbody>\n",
       "    <tr>\n",
       "      <th>0</th>\n",
       "      <td>86</td>\n",
       "      <td>93</td>\n",
       "      <td>71</td>\n",
       "      <td>71</td>\n",
       "      <td>76</td>\n",
       "      <td>57</td>\n",
       "      <td>left</td>\n",
       "    </tr>\n",
       "    <tr>\n",
       "      <th>1</th>\n",
       "      <td>84</td>\n",
       "      <td>92</td>\n",
       "      <td>72</td>\n",
       "      <td>72</td>\n",
       "      <td>73</td>\n",
       "      <td>54</td>\n",
       "      <td>left</td>\n",
       "    </tr>\n",
       "    <tr>\n",
       "      <th>2</th>\n",
       "      <td>82</td>\n",
       "      <td>91</td>\n",
       "      <td>71</td>\n",
       "      <td>73</td>\n",
       "      <td>69</td>\n",
       "      <td>53</td>\n",
       "      <td>left</td>\n",
       "    </tr>\n",
       "    <tr>\n",
       "      <th>3</th>\n",
       "      <td>81</td>\n",
       "      <td>90</td>\n",
       "      <td>70</td>\n",
       "      <td>73</td>\n",
       "      <td>66</td>\n",
       "      <td>54</td>\n",
       "      <td>left</td>\n",
       "    </tr>\n",
       "    <tr>\n",
       "      <th>4</th>\n",
       "      <td>79</td>\n",
       "      <td>87</td>\n",
       "      <td>69</td>\n",
       "      <td>73</td>\n",
       "      <td>65</td>\n",
       "      <td>55</td>\n",
       "      <td>left</td>\n",
       "    </tr>\n",
       "  </tbody>\n",
       "</table>\n",
       "</div>"
      ],
      "text/plain": [
       "   Channel1  channel2  channel3  channel4  channel5  channel6 Label\n",
       "0        86        93        71        71        76        57  left\n",
       "1        84        92        72        72        73        54  left\n",
       "2        82        91        71        73        69        53  left\n",
       "3        81        90        70        73        66        54  left\n",
       "4        79        87        69        73        65        55  left"
      ]
     },
     "execution_count": 4,
     "metadata": {},
     "output_type": "execute_result"
    }
   ],
   "source": [
    "df.head()"
   ]
  },
  {
   "cell_type": "code",
   "execution_count": 5,
   "id": "48e89c3f",
   "metadata": {},
   "outputs": [
    {
     "data": {
      "text/html": [
       "<div>\n",
       "<style scoped>\n",
       "    .dataframe tbody tr th:only-of-type {\n",
       "        vertical-align: middle;\n",
       "    }\n",
       "\n",
       "    .dataframe tbody tr th {\n",
       "        vertical-align: top;\n",
       "    }\n",
       "\n",
       "    .dataframe thead th {\n",
       "        text-align: right;\n",
       "    }\n",
       "</style>\n",
       "<table border=\"1\" class=\"dataframe\">\n",
       "  <thead>\n",
       "    <tr style=\"text-align: right;\">\n",
       "      <th></th>\n",
       "      <th>channel1</th>\n",
       "      <th>channel2</th>\n",
       "      <th>channel3</th>\n",
       "      <th>channel4</th>\n",
       "      <th>channel5</th>\n",
       "      <th>channel6</th>\n",
       "      <th>label</th>\n",
       "    </tr>\n",
       "  </thead>\n",
       "  <tbody>\n",
       "    <tr>\n",
       "      <th>0</th>\n",
       "      <td>57</td>\n",
       "      <td>58</td>\n",
       "      <td>64</td>\n",
       "      <td>57</td>\n",
       "      <td>62</td>\n",
       "      <td>120</td>\n",
       "      <td>left</td>\n",
       "    </tr>\n",
       "    <tr>\n",
       "      <th>1</th>\n",
       "      <td>58</td>\n",
       "      <td>60</td>\n",
       "      <td>67</td>\n",
       "      <td>58</td>\n",
       "      <td>62</td>\n",
       "      <td>118</td>\n",
       "      <td>left</td>\n",
       "    </tr>\n",
       "    <tr>\n",
       "      <th>2</th>\n",
       "      <td>58</td>\n",
       "      <td>59</td>\n",
       "      <td>69</td>\n",
       "      <td>59</td>\n",
       "      <td>61</td>\n",
       "      <td>115</td>\n",
       "      <td>left</td>\n",
       "    </tr>\n",
       "    <tr>\n",
       "      <th>3</th>\n",
       "      <td>59</td>\n",
       "      <td>58</td>\n",
       "      <td>73</td>\n",
       "      <td>62</td>\n",
       "      <td>60</td>\n",
       "      <td>115</td>\n",
       "      <td>left</td>\n",
       "    </tr>\n",
       "    <tr>\n",
       "      <th>4</th>\n",
       "      <td>59</td>\n",
       "      <td>58</td>\n",
       "      <td>70</td>\n",
       "      <td>59</td>\n",
       "      <td>62</td>\n",
       "      <td>113</td>\n",
       "      <td>left</td>\n",
       "    </tr>\n",
       "  </tbody>\n",
       "</table>\n",
       "</div>"
      ],
      "text/plain": [
       "   channel1  channel2  channel3  channel4  channel5  channel6 label\n",
       "0        57        58        64        57        62       120  left\n",
       "1        58        60        67        58        62       118  left\n",
       "2        58        59        69        59        61       115  left\n",
       "3        59        58        73        62        60       115  left\n",
       "4        59        58        70        59        62       113  left"
      ]
     },
     "execution_count": 5,
     "metadata": {},
     "output_type": "execute_result"
    }
   ],
   "source": [
    "dft.head()"
   ]
  },
  {
   "cell_type": "code",
   "execution_count": 6,
   "id": "8b189e78",
   "metadata": {},
   "outputs": [],
   "source": [
    "from sklearn.svm import SVC"
   ]
  },
  {
   "cell_type": "code",
   "execution_count": 7,
   "id": "c5a6923e",
   "metadata": {},
   "outputs": [],
   "source": [
    "model = SVC()"
   ]
  },
  {
   "cell_type": "code",
   "execution_count": 8,
   "id": "2b7c31a6",
   "metadata": {},
   "outputs": [
    {
     "data": {
      "text/plain": [
       "SVC()"
      ]
     },
     "execution_count": 8,
     "metadata": {},
     "output_type": "execute_result"
    }
   ],
   "source": [
    "model.fit(df.drop('Label',axis=1),df['Label'])"
   ]
  },
  {
   "cell_type": "code",
   "execution_count": 9,
   "id": "dc48dc38",
   "metadata": {},
   "outputs": [],
   "source": [
    "predictions = model.predict(dft.drop('label',axis=1))"
   ]
  },
  {
   "cell_type": "code",
   "execution_count": 10,
   "id": "94daa1b4",
   "metadata": {},
   "outputs": [],
   "source": [
    "from sklearn.metrics import classification_report,confusion_matrix"
   ]
  },
  {
   "cell_type": "code",
   "execution_count": 11,
   "id": "8853a030",
   "metadata": {},
   "outputs": [
    {
     "name": "stdout",
     "output_type": "stream",
     "text": [
      "[[ 111    0   11    0    0    8]\n",
      " [   0  115    0    1   29    0]\n",
      " [   8    0  345    5    0   32]\n",
      " [   0    3    5   85    0   13]\n",
      " [   0    7    0   84    0    0]\n",
      " [   0    4   11   33    1 1397]]\n"
     ]
    }
   ],
   "source": [
    "print(confusion_matrix(dft['label'],predictions))"
   ]
  },
  {
   "cell_type": "code",
   "execution_count": 12,
   "id": "9f8dfbc9",
   "metadata": {},
   "outputs": [
    {
     "name": "stdout",
     "output_type": "stream",
     "text": [
      "              precision    recall  f1-score   support\n",
      "\n",
      "        back       0.93      0.85      0.89       130\n",
      "       front       0.89      0.79      0.84       145\n",
      "        left       0.93      0.88      0.91       390\n",
      "       right       0.41      0.80      0.54       106\n",
      "       start       0.00      0.00      0.00        91\n",
      "        stop       0.96      0.97      0.96      1446\n",
      "\n",
      "    accuracy                           0.89      2308\n",
      "   macro avg       0.69      0.72      0.69      2308\n",
      "weighted avg       0.89      0.89      0.89      2308\n",
      "\n"
     ]
    }
   ],
   "source": [
    "print(classification_report(dft['label'],predictions))"
   ]
  },
  {
   "cell_type": "code",
   "execution_count": 13,
   "id": "dc014ba5",
   "metadata": {},
   "outputs": [],
   "source": [
    "a = np.arange(0.01, 1, 0.01)\n",
    "b = np.arange(0.01, 1, 0.01)"
   ]
  },
  {
   "cell_type": "code",
   "execution_count": 14,
   "id": "c86abe09",
   "metadata": {},
   "outputs": [],
   "source": [
    "a = a[::-1]"
   ]
  },
  {
   "cell_type": "code",
   "execution_count": 15,
   "id": "87a4ad75",
   "metadata": {},
   "outputs": [],
   "source": [
    "# param_grid = {'C': a, 'gamma': b, 'kernel': ['rbf']} \n",
    "param_grid = {'C': [0.1,1,2, 10, 100, 1000, 1050, 2000, 2500], 'gamma': [1,0.1,0.01,0.00101, 0.001,0.005,0.0001], 'kernel': ['rbf']} "
   ]
  },
  {
   "cell_type": "code",
   "execution_count": 16,
   "id": "3456b641",
   "metadata": {},
   "outputs": [],
   "source": [
    "from sklearn.model_selection import GridSearchCV"
   ]
  },
  {
   "cell_type": "code",
   "execution_count": 17,
   "id": "826fb5f2",
   "metadata": {},
   "outputs": [],
   "source": [
    "grid = GridSearchCV(SVC(),param_grid,refit=True,verbose=3)"
   ]
  },
  {
   "cell_type": "code",
   "execution_count": 18,
   "id": "e189f8fb",
   "metadata": {},
   "outputs": [
    {
     "name": "stdout",
     "output_type": "stream",
     "text": [
      "Fitting 5 folds for each of 63 candidates, totalling 315 fits\n",
      "[CV 1/5] END ........C=0.1, gamma=1, kernel=rbf;, score=0.411 total time=   2.5s\n",
      "[CV 2/5] END ........C=0.1, gamma=1, kernel=rbf;, score=0.411 total time=   2.8s\n",
      "[CV 3/5] END ........C=0.1, gamma=1, kernel=rbf;, score=0.411 total time=   2.6s\n",
      "[CV 4/5] END ........C=0.1, gamma=1, kernel=rbf;, score=0.411 total time=   2.6s\n",
      "[CV 5/5] END ........C=0.1, gamma=1, kernel=rbf;, score=0.412 total time=   2.6s\n",
      "[CV 1/5] END ......C=0.1, gamma=0.1, kernel=rbf;, score=0.564 total time=   1.7s\n",
      "[CV 2/5] END ......C=0.1, gamma=0.1, kernel=rbf;, score=0.562 total time=   2.0s\n",
      "[CV 3/5] END ......C=0.1, gamma=0.1, kernel=rbf;, score=0.451 total time=   1.9s\n",
      "[CV 4/5] END ......C=0.1, gamma=0.1, kernel=rbf;, score=0.478 total time=   1.9s\n",
      "[CV 5/5] END ......C=0.1, gamma=0.1, kernel=rbf;, score=0.534 total time=   1.9s\n",
      "[CV 1/5] END .....C=0.1, gamma=0.01, kernel=rbf;, score=0.902 total time=   0.8s\n",
      "[CV 2/5] END .....C=0.1, gamma=0.01, kernel=rbf;, score=0.929 total time=   1.1s\n",
      "[CV 3/5] END .....C=0.1, gamma=0.01, kernel=rbf;, score=0.842 total time=   1.0s\n",
      "[CV 4/5] END .....C=0.1, gamma=0.01, kernel=rbf;, score=0.926 total time=   1.0s\n",
      "[CV 5/5] END .....C=0.1, gamma=0.01, kernel=rbf;, score=0.897 total time=   0.9s\n",
      "[CV 1/5] END ..C=0.1, gamma=0.00101, kernel=rbf;, score=0.704 total time=   0.3s\n",
      "[CV 2/5] END ..C=0.1, gamma=0.00101, kernel=rbf;, score=0.927 total time=   0.4s\n",
      "[CV 3/5] END ..C=0.1, gamma=0.00101, kernel=rbf;, score=0.924 total time=   0.4s\n",
      "[CV 4/5] END ..C=0.1, gamma=0.00101, kernel=rbf;, score=0.945 total time=   0.4s\n",
      "[CV 5/5] END ..C=0.1, gamma=0.00101, kernel=rbf;, score=0.928 total time=   0.4s\n",
      "[CV 1/5] END ....C=0.1, gamma=0.001, kernel=rbf;, score=0.702 total time=   0.3s\n",
      "[CV 2/5] END ....C=0.1, gamma=0.001, kernel=rbf;, score=0.927 total time=   0.4s\n",
      "[CV 3/5] END ....C=0.1, gamma=0.001, kernel=rbf;, score=0.924 total time=   0.4s\n",
      "[CV 4/5] END ....C=0.1, gamma=0.001, kernel=rbf;, score=0.944 total time=   0.4s\n",
      "[CV 5/5] END ....C=0.1, gamma=0.001, kernel=rbf;, score=0.928 total time=   0.4s\n",
      "[CV 1/5] END ....C=0.1, gamma=0.005, kernel=rbf;, score=0.695 total time=   0.6s\n",
      "[CV 2/5] END ....C=0.1, gamma=0.005, kernel=rbf;, score=0.974 total time=   0.8s\n",
      "[CV 3/5] END ....C=0.1, gamma=0.005, kernel=rbf;, score=0.890 total time=   0.7s\n",
      "[CV 4/5] END ....C=0.1, gamma=0.005, kernel=rbf;, score=0.966 total time=   0.7s\n",
      "[CV 5/5] END ....C=0.1, gamma=0.005, kernel=rbf;, score=0.945 total time=   0.7s\n",
      "[CV 1/5] END ...C=0.1, gamma=0.0001, kernel=rbf;, score=0.617 total time=   0.6s\n",
      "[CV 2/5] END ...C=0.1, gamma=0.0001, kernel=rbf;, score=0.792 total time=   0.7s\n",
      "[CV 3/5] END ...C=0.1, gamma=0.0001, kernel=rbf;, score=0.817 total time=   0.7s\n",
      "[CV 4/5] END ...C=0.1, gamma=0.0001, kernel=rbf;, score=0.841 total time=   0.7s\n",
      "[CV 5/5] END ...C=0.1, gamma=0.0001, kernel=rbf;, score=0.792 total time=   0.8s\n",
      "[CV 1/5] END ..........C=1, gamma=1, kernel=rbf;, score=0.948 total time=   1.8s\n",
      "[CV 2/5] END ..........C=1, gamma=1, kernel=rbf;, score=0.992 total time=   2.2s\n",
      "[CV 3/5] END ..........C=1, gamma=1, kernel=rbf;, score=0.887 total time=   2.1s\n",
      "[CV 4/5] END ..........C=1, gamma=1, kernel=rbf;, score=0.995 total time=   2.3s\n",
      "[CV 5/5] END ..........C=1, gamma=1, kernel=rbf;, score=0.944 total time=   2.4s\n",
      "[CV 1/5] END ........C=1, gamma=0.1, kernel=rbf;, score=0.949 total time=   1.2s\n",
      "[CV 2/5] END ........C=1, gamma=0.1, kernel=rbf;, score=0.996 total time=   1.7s\n",
      "[CV 3/5] END ........C=1, gamma=0.1, kernel=rbf;, score=0.887 total time=   1.7s\n",
      "[CV 4/5] END ........C=1, gamma=0.1, kernel=rbf;, score=0.995 total time=   1.8s\n",
      "[CV 5/5] END ........C=1, gamma=0.1, kernel=rbf;, score=0.947 total time=   1.7s\n",
      "[CV 1/5] END .......C=1, gamma=0.01, kernel=rbf;, score=0.703 total time=   0.4s\n",
      "[CV 2/5] END .......C=1, gamma=0.01, kernel=rbf;, score=0.989 total time=   0.7s\n",
      "[CV 3/5] END .......C=1, gamma=0.01, kernel=rbf;, score=0.905 total time=   0.7s\n",
      "[CV 4/5] END .......C=1, gamma=0.01, kernel=rbf;, score=0.995 total time=   0.6s\n",
      "[CV 5/5] END .......C=1, gamma=0.01, kernel=rbf;, score=0.985 total time=   0.6s\n",
      "[CV 1/5] END ....C=1, gamma=0.00101, kernel=rbf;, score=0.687 total time=   0.2s\n",
      "[CV 2/5] END ....C=1, gamma=0.00101, kernel=rbf;, score=0.979 total time=   0.3s\n",
      "[CV 3/5] END ....C=1, gamma=0.00101, kernel=rbf;, score=0.965 total time=   0.1s\n",
      "[CV 4/5] END ....C=1, gamma=0.00101, kernel=rbf;, score=0.980 total time=   0.2s\n",
      "[CV 5/5] END ....C=1, gamma=0.00101, kernel=rbf;, score=0.962 total time=   0.2s\n",
      "[CV 1/5] END ......C=1, gamma=0.001, kernel=rbf;, score=0.687 total time=   0.1s\n",
      "[CV 2/5] END ......C=1, gamma=0.001, kernel=rbf;, score=0.979 total time=   0.1s\n",
      "[CV 3/5] END ......C=1, gamma=0.001, kernel=rbf;, score=0.965 total time=   0.1s\n",
      "[CV 4/5] END ......C=1, gamma=0.001, kernel=rbf;, score=0.980 total time=   0.1s\n",
      "[CV 5/5] END ......C=1, gamma=0.001, kernel=rbf;, score=0.962 total time=   0.2s\n",
      "[CV 1/5] END ......C=1, gamma=0.005, kernel=rbf;, score=0.709 total time=   0.2s\n",
      "[CV 2/5] END ......C=1, gamma=0.005, kernel=rbf;, score=0.986 total time=   0.4s\n",
      "[CV 3/5] END ......C=1, gamma=0.005, kernel=rbf;, score=0.930 total time=   0.4s\n",
      "[CV 4/5] END ......C=1, gamma=0.005, kernel=rbf;, score=0.994 total time=   0.4s\n",
      "[CV 5/5] END ......C=1, gamma=0.005, kernel=rbf;, score=0.985 total time=   0.4s\n",
      "[CV 1/5] END .....C=1, gamma=0.0001, kernel=rbf;, score=0.676 total time=   0.3s\n",
      "[CV 2/5] END .....C=1, gamma=0.0001, kernel=rbf;, score=0.882 total time=   0.3s\n",
      "[CV 3/5] END .....C=1, gamma=0.0001, kernel=rbf;, score=0.911 total time=   0.3s\n",
      "[CV 4/5] END .....C=1, gamma=0.0001, kernel=rbf;, score=0.892 total time=   0.4s\n",
      "[CV 5/5] END .....C=1, gamma=0.0001, kernel=rbf;, score=0.896 total time=   0.4s\n",
      "[CV 1/5] END ..........C=2, gamma=1, kernel=rbf;, score=0.948 total time=   1.5s\n",
      "[CV 2/5] END ..........C=2, gamma=1, kernel=rbf;, score=0.996 total time=   1.9s\n",
      "[CV 3/5] END ..........C=2, gamma=1, kernel=rbf;, score=0.887 total time=   2.0s\n",
      "[CV 4/5] END ..........C=2, gamma=1, kernel=rbf;, score=0.995 total time=   1.9s\n",
      "[CV 5/5] END ..........C=2, gamma=1, kernel=rbf;, score=0.944 total time=   2.7s\n",
      "[CV 1/5] END ........C=2, gamma=0.1, kernel=rbf;, score=0.949 total time=   1.4s\n",
      "[CV 2/5] END ........C=2, gamma=0.1, kernel=rbf;, score=0.994 total time=   1.6s\n",
      "[CV 3/5] END ........C=2, gamma=0.1, kernel=rbf;, score=0.887 total time=   1.3s\n",
      "[CV 4/5] END ........C=2, gamma=0.1, kernel=rbf;, score=0.995 total time=   1.3s\n",
      "[CV 5/5] END ........C=2, gamma=0.1, kernel=rbf;, score=0.947 total time=   1.7s\n",
      "[CV 1/5] END .......C=2, gamma=0.01, kernel=rbf;, score=0.702 total time=   0.5s\n",
      "[CV 2/5] END .......C=2, gamma=0.01, kernel=rbf;, score=0.990 total time=   0.9s\n",
      "[CV 3/5] END .......C=2, gamma=0.01, kernel=rbf;, score=0.910 total time=   0.8s\n",
      "[CV 4/5] END .......C=2, gamma=0.01, kernel=rbf;, score=0.996 total time=   0.8s\n",
      "[CV 5/5] END .......C=2, gamma=0.01, kernel=rbf;, score=0.985 total time=   0.7s\n",
      "[CV 1/5] END ....C=2, gamma=0.00101, kernel=rbf;, score=0.688 total time=   0.1s\n",
      "[CV 2/5] END ....C=2, gamma=0.00101, kernel=rbf;, score=0.983 total time=   0.2s\n",
      "[CV 3/5] END ....C=2, gamma=0.00101, kernel=rbf;, score=0.968 total time=   0.1s\n",
      "[CV 4/5] END ....C=2, gamma=0.00101, kernel=rbf;, score=0.986 total time=   0.1s\n",
      "[CV 5/5] END ....C=2, gamma=0.00101, kernel=rbf;, score=0.966 total time=   0.2s\n",
      "[CV 1/5] END ......C=2, gamma=0.001, kernel=rbf;, score=0.688 total time=   0.3s\n",
      "[CV 2/5] END ......C=2, gamma=0.001, kernel=rbf;, score=0.983 total time=   0.3s\n",
      "[CV 3/5] END ......C=2, gamma=0.001, kernel=rbf;, score=0.968 total time=   0.3s\n",
      "[CV 4/5] END ......C=2, gamma=0.001, kernel=rbf;, score=0.986 total time=   0.2s\n",
      "[CV 5/5] END ......C=2, gamma=0.001, kernel=rbf;, score=0.966 total time=   0.3s\n",
      "[CV 1/5] END ......C=2, gamma=0.005, kernel=rbf;, score=0.707 total time=   0.4s\n",
      "[CV 2/5] END ......C=2, gamma=0.005, kernel=rbf;, score=0.987 total time=   0.6s\n",
      "[CV 3/5] END ......C=2, gamma=0.005, kernel=rbf;, score=0.934 total time=   0.6s\n",
      "[CV 4/5] END ......C=2, gamma=0.005, kernel=rbf;, score=0.995 total time=   0.5s\n",
      "[CV 5/5] END ......C=2, gamma=0.005, kernel=rbf;, score=0.984 total time=   0.4s\n",
      "[CV 1/5] END .....C=2, gamma=0.0001, kernel=rbf;, score=0.678 total time=   0.2s\n"
     ]
    },
    {
     "name": "stdout",
     "output_type": "stream",
     "text": [
      "[CV 2/5] END .....C=2, gamma=0.0001, kernel=rbf;, score=0.904 total time=   0.3s\n",
      "[CV 3/5] END .....C=2, gamma=0.0001, kernel=rbf;, score=0.921 total time=   0.3s\n",
      "[CV 4/5] END .....C=2, gamma=0.0001, kernel=rbf;, score=0.894 total time=   0.3s\n",
      "[CV 5/5] END .....C=2, gamma=0.0001, kernel=rbf;, score=0.914 total time=   0.3s\n",
      "[CV 1/5] END .........C=10, gamma=1, kernel=rbf;, score=0.948 total time=   1.6s\n",
      "[CV 2/5] END .........C=10, gamma=1, kernel=rbf;, score=0.996 total time=   2.2s\n",
      "[CV 3/5] END .........C=10, gamma=1, kernel=rbf;, score=0.887 total time=   1.7s\n",
      "[CV 4/5] END .........C=10, gamma=1, kernel=rbf;, score=0.995 total time=   1.7s\n",
      "[CV 5/5] END .........C=10, gamma=1, kernel=rbf;, score=0.944 total time=   1.8s\n",
      "[CV 1/5] END .......C=10, gamma=0.1, kernel=rbf;, score=0.949 total time=   1.1s\n",
      "[CV 2/5] END .......C=10, gamma=0.1, kernel=rbf;, score=0.996 total time=   1.4s\n",
      "[CV 3/5] END .......C=10, gamma=0.1, kernel=rbf;, score=0.887 total time=   1.3s\n",
      "[CV 4/5] END .......C=10, gamma=0.1, kernel=rbf;, score=0.995 total time=   1.3s\n",
      "[CV 5/5] END .......C=10, gamma=0.1, kernel=rbf;, score=0.947 total time=   1.3s\n",
      "[CV 1/5] END ......C=10, gamma=0.01, kernel=rbf;, score=0.706 total time=   0.4s\n",
      "[CV 2/5] END ......C=10, gamma=0.01, kernel=rbf;, score=0.992 total time=   0.5s\n",
      "[CV 3/5] END ......C=10, gamma=0.01, kernel=rbf;, score=0.915 total time=   0.5s\n",
      "[CV 4/5] END ......C=10, gamma=0.01, kernel=rbf;, score=0.996 total time=   0.5s\n",
      "[CV 5/5] END ......C=10, gamma=0.01, kernel=rbf;, score=0.988 total time=   0.5s\n",
      "[CV 1/5] END ...C=10, gamma=0.00101, kernel=rbf;, score=0.692 total time=   0.0s\n",
      "[CV 2/5] END ...C=10, gamma=0.00101, kernel=rbf;, score=0.985 total time=   0.1s\n",
      "[CV 3/5] END ...C=10, gamma=0.00101, kernel=rbf;, score=0.966 total time=   0.0s\n",
      "[CV 4/5] END ...C=10, gamma=0.00101, kernel=rbf;, score=0.993 total time=   0.1s\n",
      "[CV 5/5] END ...C=10, gamma=0.00101, kernel=rbf;, score=0.985 total time=   0.1s\n",
      "[CV 1/5] END .....C=10, gamma=0.001, kernel=rbf;, score=0.692 total time=   0.0s\n",
      "[CV 2/5] END .....C=10, gamma=0.001, kernel=rbf;, score=0.985 total time=   0.1s\n",
      "[CV 3/5] END .....C=10, gamma=0.001, kernel=rbf;, score=0.966 total time=   0.1s\n",
      "[CV 4/5] END .....C=10, gamma=0.001, kernel=rbf;, score=0.993 total time=   0.1s\n",
      "[CV 5/5] END .....C=10, gamma=0.001, kernel=rbf;, score=0.985 total time=   0.1s\n",
      "[CV 1/5] END .....C=10, gamma=0.005, kernel=rbf;, score=0.710 total time=   0.2s\n",
      "[CV 2/5] END .....C=10, gamma=0.005, kernel=rbf;, score=0.990 total time=   0.3s\n",
      "[CV 3/5] END .....C=10, gamma=0.005, kernel=rbf;, score=0.938 total time=   0.3s\n",
      "[CV 4/5] END .....C=10, gamma=0.005, kernel=rbf;, score=0.996 total time=   0.3s\n",
      "[CV 5/5] END .....C=10, gamma=0.005, kernel=rbf;, score=0.986 total time=   0.3s\n",
      "[CV 1/5] END ....C=10, gamma=0.0001, kernel=rbf;, score=0.683 total time=   0.1s\n",
      "[CV 2/5] END ....C=10, gamma=0.0001, kernel=rbf;, score=0.933 total time=   0.1s\n",
      "[CV 3/5] END ....C=10, gamma=0.0001, kernel=rbf;, score=0.932 total time=   0.1s\n",
      "[CV 4/5] END ....C=10, gamma=0.0001, kernel=rbf;, score=0.942 total time=   0.1s\n",
      "[CV 5/5] END ....C=10, gamma=0.0001, kernel=rbf;, score=0.949 total time=   0.1s\n",
      "[CV 1/5] END ........C=100, gamma=1, kernel=rbf;, score=0.948 total time=   1.4s\n",
      "[CV 2/5] END ........C=100, gamma=1, kernel=rbf;, score=0.996 total time=   1.8s\n",
      "[CV 3/5] END ........C=100, gamma=1, kernel=rbf;, score=0.887 total time=   1.7s\n",
      "[CV 4/5] END ........C=100, gamma=1, kernel=rbf;, score=0.995 total time=   1.7s\n",
      "[CV 5/5] END ........C=100, gamma=1, kernel=rbf;, score=0.944 total time=   1.7s\n",
      "[CV 1/5] END ......C=100, gamma=0.1, kernel=rbf;, score=0.949 total time=   1.1s\n",
      "[CV 2/5] END ......C=100, gamma=0.1, kernel=rbf;, score=0.996 total time=   1.4s\n",
      "[CV 3/5] END ......C=100, gamma=0.1, kernel=rbf;, score=0.887 total time=   1.3s\n",
      "[CV 4/5] END ......C=100, gamma=0.1, kernel=rbf;, score=0.995 total time=   1.3s\n",
      "[CV 5/5] END ......C=100, gamma=0.1, kernel=rbf;, score=0.947 total time=   1.3s\n",
      "[CV 1/5] END .....C=100, gamma=0.01, kernel=rbf;, score=0.706 total time=   0.4s\n",
      "[CV 2/5] END .....C=100, gamma=0.01, kernel=rbf;, score=0.994 total time=   0.5s\n",
      "[CV 3/5] END .....C=100, gamma=0.01, kernel=rbf;, score=0.915 total time=   0.5s\n",
      "[CV 4/5] END .....C=100, gamma=0.01, kernel=rbf;, score=0.996 total time=   0.5s\n",
      "[CV 5/5] END .....C=100, gamma=0.01, kernel=rbf;, score=0.987 total time=   0.5s\n",
      "[CV 1/5] END ..C=100, gamma=0.00101, kernel=rbf;, score=0.688 total time=   0.0s\n",
      "[CV 2/5] END ..C=100, gamma=0.00101, kernel=rbf;, score=0.988 total time=   0.1s\n",
      "[CV 3/5] END ..C=100, gamma=0.00101, kernel=rbf;, score=0.964 total time=   0.0s\n",
      "[CV 4/5] END ..C=100, gamma=0.00101, kernel=rbf;, score=0.988 total time=   0.1s\n",
      "[CV 5/5] END ..C=100, gamma=0.00101, kernel=rbf;, score=0.989 total time=   0.0s\n",
      "[CV 1/5] END ....C=100, gamma=0.001, kernel=rbf;, score=0.688 total time=   0.0s\n",
      "[CV 2/5] END ....C=100, gamma=0.001, kernel=rbf;, score=0.988 total time=   0.1s\n",
      "[CV 3/5] END ....C=100, gamma=0.001, kernel=rbf;, score=0.964 total time=   0.0s\n",
      "[CV 4/5] END ....C=100, gamma=0.001, kernel=rbf;, score=0.987 total time=   0.0s\n",
      "[CV 5/5] END ....C=100, gamma=0.001, kernel=rbf;, score=0.989 total time=   0.0s\n",
      "[CV 1/5] END ....C=100, gamma=0.005, kernel=rbf;, score=0.711 total time=   0.2s\n",
      "[CV 2/5] END ....C=100, gamma=0.005, kernel=rbf;, score=0.992 total time=   0.3s\n",
      "[CV 3/5] END ....C=100, gamma=0.005, kernel=rbf;, score=0.942 total time=   0.3s\n",
      "[CV 4/5] END ....C=100, gamma=0.005, kernel=rbf;, score=0.996 total time=   0.3s\n",
      "[CV 5/5] END ....C=100, gamma=0.005, kernel=rbf;, score=0.984 total time=   0.3s\n",
      "[CV 1/5] END ...C=100, gamma=0.0001, kernel=rbf;, score=0.682 total time=   0.0s\n",
      "[CV 2/5] END ...C=100, gamma=0.0001, kernel=rbf;, score=0.971 total time=   0.1s\n",
      "[CV 3/5] END ...C=100, gamma=0.0001, kernel=rbf;, score=0.943 total time=   0.0s\n",
      "[CV 4/5] END ...C=100, gamma=0.0001, kernel=rbf;, score=0.982 total time=   0.1s\n",
      "[CV 5/5] END ...C=100, gamma=0.0001, kernel=rbf;, score=0.967 total time=   0.1s\n",
      "[CV 1/5] END .......C=1000, gamma=1, kernel=rbf;, score=0.948 total time=   1.4s\n",
      "[CV 2/5] END .......C=1000, gamma=1, kernel=rbf;, score=0.996 total time=   1.8s\n",
      "[CV 3/5] END .......C=1000, gamma=1, kernel=rbf;, score=0.887 total time=   1.7s\n",
      "[CV 4/5] END .......C=1000, gamma=1, kernel=rbf;, score=0.995 total time=   1.7s\n",
      "[CV 5/5] END .......C=1000, gamma=1, kernel=rbf;, score=0.944 total time=   1.8s\n",
      "[CV 1/5] END .....C=1000, gamma=0.1, kernel=rbf;, score=0.949 total time=   1.1s\n",
      "[CV 2/5] END .....C=1000, gamma=0.1, kernel=rbf;, score=0.996 total time=   1.4s\n",
      "[CV 3/5] END .....C=1000, gamma=0.1, kernel=rbf;, score=0.887 total time=   1.4s\n",
      "[CV 4/5] END .....C=1000, gamma=0.1, kernel=rbf;, score=0.995 total time=   1.3s\n",
      "[CV 5/5] END .....C=1000, gamma=0.1, kernel=rbf;, score=0.947 total time=   1.4s\n",
      "[CV 1/5] END ....C=1000, gamma=0.01, kernel=rbf;, score=0.706 total time=   0.4s\n",
      "[CV 2/5] END ....C=1000, gamma=0.01, kernel=rbf;, score=0.994 total time=   0.5s\n",
      "[CV 3/5] END ....C=1000, gamma=0.01, kernel=rbf;, score=0.915 total time=   0.5s\n",
      "[CV 4/5] END ....C=1000, gamma=0.01, kernel=rbf;, score=0.996 total time=   0.5s\n",
      "[CV 5/5] END ....C=1000, gamma=0.01, kernel=rbf;, score=0.987 total time=   0.5s\n",
      "[CV 1/5] END .C=1000, gamma=0.00101, kernel=rbf;, score=0.689 total time=   0.0s\n",
      "[CV 2/5] END .C=1000, gamma=0.00101, kernel=rbf;, score=0.990 total time=   0.1s\n",
      "[CV 3/5] END .C=1000, gamma=0.00101, kernel=rbf;, score=0.964 total time=   0.0s\n",
      "[CV 4/5] END .C=1000, gamma=0.00101, kernel=rbf;, score=0.987 total time=   0.0s\n",
      "[CV 5/5] END .C=1000, gamma=0.00101, kernel=rbf;, score=0.987 total time=   0.0s\n",
      "[CV 1/5] END ...C=1000, gamma=0.001, kernel=rbf;, score=0.689 total time=   0.0s\n",
      "[CV 2/5] END ...C=1000, gamma=0.001, kernel=rbf;, score=0.990 total time=   0.1s\n",
      "[CV 3/5] END ...C=1000, gamma=0.001, kernel=rbf;, score=0.964 total time=   0.0s\n",
      "[CV 4/5] END ...C=1000, gamma=0.001, kernel=rbf;, score=0.987 total time=   0.0s\n",
      "[CV 5/5] END ...C=1000, gamma=0.001, kernel=rbf;, score=0.987 total time=   0.0s\n",
      "[CV 1/5] END ...C=1000, gamma=0.005, kernel=rbf;, score=0.711 total time=   0.2s\n",
      "[CV 2/5] END ...C=1000, gamma=0.005, kernel=rbf;, score=0.992 total time=   0.3s\n",
      "[CV 3/5] END ...C=1000, gamma=0.005, kernel=rbf;, score=0.942 total time=   0.3s\n"
     ]
    },
    {
     "name": "stdout",
     "output_type": "stream",
     "text": [
      "[CV 4/5] END ...C=1000, gamma=0.005, kernel=rbf;, score=0.996 total time=   0.3s\n",
      "[CV 5/5] END ...C=1000, gamma=0.005, kernel=rbf;, score=0.984 total time=   0.3s\n",
      "[CV 1/5] END ..C=1000, gamma=0.0001, kernel=rbf;, score=0.675 total time=   0.0s\n",
      "[CV 2/5] END ..C=1000, gamma=0.0001, kernel=rbf;, score=0.986 total time=   0.0s\n",
      "[CV 3/5] END ..C=1000, gamma=0.0001, kernel=rbf;, score=0.944 total time=   0.0s\n",
      "[CV 4/5] END ..C=1000, gamma=0.0001, kernel=rbf;, score=0.995 total time=   0.0s\n",
      "[CV 5/5] END ..C=1000, gamma=0.0001, kernel=rbf;, score=0.985 total time=   0.0s\n",
      "[CV 1/5] END .......C=1050, gamma=1, kernel=rbf;, score=0.948 total time=   1.4s\n",
      "[CV 2/5] END .......C=1050, gamma=1, kernel=rbf;, score=0.996 total time=   1.8s\n",
      "[CV 3/5] END .......C=1050, gamma=1, kernel=rbf;, score=0.887 total time=   1.7s\n",
      "[CV 4/5] END .......C=1050, gamma=1, kernel=rbf;, score=0.995 total time=   1.7s\n",
      "[CV 5/5] END .......C=1050, gamma=1, kernel=rbf;, score=0.944 total time=   1.7s\n",
      "[CV 1/5] END .....C=1050, gamma=0.1, kernel=rbf;, score=0.949 total time=   1.1s\n",
      "[CV 2/5] END .....C=1050, gamma=0.1, kernel=rbf;, score=0.996 total time=   1.4s\n",
      "[CV 3/5] END .....C=1050, gamma=0.1, kernel=rbf;, score=0.887 total time=   1.3s\n",
      "[CV 4/5] END .....C=1050, gamma=0.1, kernel=rbf;, score=0.995 total time=   1.3s\n",
      "[CV 5/5] END .....C=1050, gamma=0.1, kernel=rbf;, score=0.947 total time=   1.3s\n",
      "[CV 1/5] END ....C=1050, gamma=0.01, kernel=rbf;, score=0.706 total time=   0.4s\n",
      "[CV 2/5] END ....C=1050, gamma=0.01, kernel=rbf;, score=0.994 total time=   0.5s\n",
      "[CV 3/5] END ....C=1050, gamma=0.01, kernel=rbf;, score=0.915 total time=   0.5s\n",
      "[CV 4/5] END ....C=1050, gamma=0.01, kernel=rbf;, score=0.996 total time=   0.5s\n",
      "[CV 5/5] END ....C=1050, gamma=0.01, kernel=rbf;, score=0.987 total time=   0.5s\n",
      "[CV 1/5] END .C=1050, gamma=0.00101, kernel=rbf;, score=0.689 total time=   0.0s\n",
      "[CV 2/5] END .C=1050, gamma=0.00101, kernel=rbf;, score=0.990 total time=   0.1s\n",
      "[CV 3/5] END .C=1050, gamma=0.00101, kernel=rbf;, score=0.964 total time=   0.0s\n",
      "[CV 4/5] END .C=1050, gamma=0.00101, kernel=rbf;, score=0.987 total time=   0.1s\n",
      "[CV 5/5] END .C=1050, gamma=0.00101, kernel=rbf;, score=0.987 total time=   0.0s\n",
      "[CV 1/5] END ...C=1050, gamma=0.001, kernel=rbf;, score=0.689 total time=   0.0s\n",
      "[CV 2/5] END ...C=1050, gamma=0.001, kernel=rbf;, score=0.990 total time=   0.0s\n",
      "[CV 3/5] END ...C=1050, gamma=0.001, kernel=rbf;, score=0.964 total time=   0.0s\n",
      "[CV 4/5] END ...C=1050, gamma=0.001, kernel=rbf;, score=0.987 total time=   0.0s\n",
      "[CV 5/5] END ...C=1050, gamma=0.001, kernel=rbf;, score=0.987 total time=   0.0s\n",
      "[CV 1/5] END ...C=1050, gamma=0.005, kernel=rbf;, score=0.711 total time=   0.2s\n",
      "[CV 2/5] END ...C=1050, gamma=0.005, kernel=rbf;, score=0.992 total time=   0.3s\n",
      "[CV 3/5] END ...C=1050, gamma=0.005, kernel=rbf;, score=0.942 total time=   0.3s\n",
      "[CV 4/5] END ...C=1050, gamma=0.005, kernel=rbf;, score=0.996 total time=   0.3s\n",
      "[CV 5/5] END ...C=1050, gamma=0.005, kernel=rbf;, score=0.984 total time=   0.3s\n",
      "[CV 1/5] END ..C=1050, gamma=0.0001, kernel=rbf;, score=0.676 total time=   0.0s\n",
      "[CV 2/5] END ..C=1050, gamma=0.0001, kernel=rbf;, score=0.986 total time=   0.0s\n",
      "[CV 3/5] END ..C=1050, gamma=0.0001, kernel=rbf;, score=0.946 total time=   0.0s\n",
      "[CV 4/5] END ..C=1050, gamma=0.0001, kernel=rbf;, score=0.995 total time=   0.0s\n",
      "[CV 5/5] END ..C=1050, gamma=0.0001, kernel=rbf;, score=0.985 total time=   0.0s\n",
      "[CV 1/5] END .......C=2000, gamma=1, kernel=rbf;, score=0.948 total time=   1.4s\n",
      "[CV 2/5] END .......C=2000, gamma=1, kernel=rbf;, score=0.996 total time=   1.8s\n",
      "[CV 3/5] END .......C=2000, gamma=1, kernel=rbf;, score=0.887 total time=   1.7s\n",
      "[CV 4/5] END .......C=2000, gamma=1, kernel=rbf;, score=0.995 total time=   1.7s\n",
      "[CV 5/5] END .......C=2000, gamma=1, kernel=rbf;, score=0.944 total time=   1.8s\n",
      "[CV 1/5] END .....C=2000, gamma=0.1, kernel=rbf;, score=0.949 total time=   1.1s\n",
      "[CV 2/5] END .....C=2000, gamma=0.1, kernel=rbf;, score=0.996 total time=   1.4s\n",
      "[CV 3/5] END .....C=2000, gamma=0.1, kernel=rbf;, score=0.887 total time=   1.5s\n",
      "[CV 4/5] END .....C=2000, gamma=0.1, kernel=rbf;, score=0.995 total time=   1.3s\n",
      "[CV 5/5] END .....C=2000, gamma=0.1, kernel=rbf;, score=0.947 total time=   1.3s\n",
      "[CV 1/5] END ....C=2000, gamma=0.01, kernel=rbf;, score=0.706 total time=   0.4s\n",
      "[CV 2/5] END ....C=2000, gamma=0.01, kernel=rbf;, score=0.994 total time=   0.5s\n",
      "[CV 3/5] END ....C=2000, gamma=0.01, kernel=rbf;, score=0.915 total time=   0.5s\n",
      "[CV 4/5] END ....C=2000, gamma=0.01, kernel=rbf;, score=0.996 total time=   0.5s\n",
      "[CV 5/5] END ....C=2000, gamma=0.01, kernel=rbf;, score=0.987 total time=   0.5s\n",
      "[CV 1/5] END .C=2000, gamma=0.00101, kernel=rbf;, score=0.689 total time=   0.0s\n",
      "[CV 2/5] END .C=2000, gamma=0.00101, kernel=rbf;, score=0.990 total time=   0.1s\n",
      "[CV 3/5] END .C=2000, gamma=0.00101, kernel=rbf;, score=0.964 total time=   0.0s\n",
      "[CV 4/5] END .C=2000, gamma=0.00101, kernel=rbf;, score=0.987 total time=   0.1s\n",
      "[CV 5/5] END .C=2000, gamma=0.00101, kernel=rbf;, score=0.987 total time=   0.0s\n",
      "[CV 1/5] END ...C=2000, gamma=0.001, kernel=rbf;, score=0.689 total time=   0.0s\n",
      "[CV 2/5] END ...C=2000, gamma=0.001, kernel=rbf;, score=0.990 total time=   0.1s\n",
      "[CV 3/5] END ...C=2000, gamma=0.001, kernel=rbf;, score=0.964 total time=   0.0s\n",
      "[CV 4/5] END ...C=2000, gamma=0.001, kernel=rbf;, score=0.987 total time=   0.0s\n",
      "[CV 5/5] END ...C=2000, gamma=0.001, kernel=rbf;, score=0.987 total time=   0.1s\n",
      "[CV 1/5] END ...C=2000, gamma=0.005, kernel=rbf;, score=0.711 total time=   0.3s\n",
      "[CV 2/5] END ...C=2000, gamma=0.005, kernel=rbf;, score=0.992 total time=   0.3s\n",
      "[CV 3/5] END ...C=2000, gamma=0.005, kernel=rbf;, score=0.942 total time=   0.4s\n",
      "[CV 4/5] END ...C=2000, gamma=0.005, kernel=rbf;, score=0.996 total time=   0.3s\n",
      "[CV 5/5] END ...C=2000, gamma=0.005, kernel=rbf;, score=0.984 total time=   0.5s\n",
      "[CV 1/5] END ..C=2000, gamma=0.0001, kernel=rbf;, score=0.680 total time=   0.1s\n",
      "[CV 2/5] END ..C=2000, gamma=0.0001, kernel=rbf;, score=0.988 total time=   0.1s\n",
      "[CV 3/5] END ..C=2000, gamma=0.0001, kernel=rbf;, score=0.946 total time=   0.0s\n",
      "[CV 4/5] END ..C=2000, gamma=0.0001, kernel=rbf;, score=0.994 total time=   0.0s\n",
      "[CV 5/5] END ..C=2000, gamma=0.0001, kernel=rbf;, score=0.987 total time=   0.0s\n",
      "[CV 1/5] END .......C=2500, gamma=1, kernel=rbf;, score=0.948 total time=   1.4s\n",
      "[CV 2/5] END .......C=2500, gamma=1, kernel=rbf;, score=0.996 total time=   1.8s\n",
      "[CV 3/5] END .......C=2500, gamma=1, kernel=rbf;, score=0.887 total time=   1.7s\n",
      "[CV 4/5] END .......C=2500, gamma=1, kernel=rbf;, score=0.995 total time=   1.7s\n",
      "[CV 5/5] END .......C=2500, gamma=1, kernel=rbf;, score=0.944 total time=   1.7s\n",
      "[CV 1/5] END .....C=2500, gamma=0.1, kernel=rbf;, score=0.949 total time=   1.1s\n",
      "[CV 2/5] END .....C=2500, gamma=0.1, kernel=rbf;, score=0.996 total time=   1.4s\n",
      "[CV 3/5] END .....C=2500, gamma=0.1, kernel=rbf;, score=0.887 total time=   1.4s\n",
      "[CV 4/5] END .....C=2500, gamma=0.1, kernel=rbf;, score=0.995 total time=   1.3s\n",
      "[CV 5/5] END .....C=2500, gamma=0.1, kernel=rbf;, score=0.947 total time=   1.3s\n",
      "[CV 1/5] END ....C=2500, gamma=0.01, kernel=rbf;, score=0.706 total time=   0.4s\n",
      "[CV 2/5] END ....C=2500, gamma=0.01, kernel=rbf;, score=0.994 total time=   0.5s\n",
      "[CV 3/5] END ....C=2500, gamma=0.01, kernel=rbf;, score=0.915 total time=   0.5s\n",
      "[CV 4/5] END ....C=2500, gamma=0.01, kernel=rbf;, score=0.996 total time=   0.5s\n",
      "[CV 5/5] END ....C=2500, gamma=0.01, kernel=rbf;, score=0.987 total time=   0.5s\n",
      "[CV 1/5] END .C=2500, gamma=0.00101, kernel=rbf;, score=0.689 total time=   0.0s\n",
      "[CV 2/5] END .C=2500, gamma=0.00101, kernel=rbf;, score=0.990 total time=   0.1s\n",
      "[CV 3/5] END .C=2500, gamma=0.00101, kernel=rbf;, score=0.964 total time=   0.0s\n",
      "[CV 4/5] END .C=2500, gamma=0.00101, kernel=rbf;, score=0.987 total time=   0.0s\n",
      "[CV 5/5] END .C=2500, gamma=0.00101, kernel=rbf;, score=0.987 total time=   0.0s\n",
      "[CV 1/5] END ...C=2500, gamma=0.001, kernel=rbf;, score=0.689 total time=   0.0s\n",
      "[CV 2/5] END ...C=2500, gamma=0.001, kernel=rbf;, score=0.990 total time=   0.0s\n",
      "[CV 3/5] END ...C=2500, gamma=0.001, kernel=rbf;, score=0.964 total time=   0.0s\n",
      "[CV 4/5] END ...C=2500, gamma=0.001, kernel=rbf;, score=0.987 total time=   0.0s\n",
      "[CV 5/5] END ...C=2500, gamma=0.001, kernel=rbf;, score=0.987 total time=   0.0s\n"
     ]
    },
    {
     "name": "stdout",
     "output_type": "stream",
     "text": [
      "[CV 1/5] END ...C=2500, gamma=0.005, kernel=rbf;, score=0.711 total time=   0.2s\n",
      "[CV 2/5] END ...C=2500, gamma=0.005, kernel=rbf;, score=0.992 total time=   0.3s\n",
      "[CV 3/5] END ...C=2500, gamma=0.005, kernel=rbf;, score=0.942 total time=   0.3s\n",
      "[CV 4/5] END ...C=2500, gamma=0.005, kernel=rbf;, score=0.996 total time=   0.3s\n",
      "[CV 5/5] END ...C=2500, gamma=0.005, kernel=rbf;, score=0.984 total time=   0.3s\n",
      "[CV 1/5] END ..C=2500, gamma=0.0001, kernel=rbf;, score=0.680 total time=   0.0s\n",
      "[CV 2/5] END ..C=2500, gamma=0.0001, kernel=rbf;, score=0.988 total time=   0.0s\n",
      "[CV 3/5] END ..C=2500, gamma=0.0001, kernel=rbf;, score=0.946 total time=   0.0s\n",
      "[CV 4/5] END ..C=2500, gamma=0.0001, kernel=rbf;, score=0.996 total time=   0.0s\n",
      "[CV 5/5] END ..C=2500, gamma=0.0001, kernel=rbf;, score=0.988 total time=   0.0s\n"
     ]
    },
    {
     "data": {
      "text/plain": [
       "GridSearchCV(estimator=SVC(),\n",
       "             param_grid={'C': [0.1, 1, 2, 10, 100, 1000, 1050, 2000, 2500],\n",
       "                         'gamma': [1, 0.1, 0.01, 0.00101, 0.001, 0.005, 0.0001],\n",
       "                         'kernel': ['rbf']},\n",
       "             verbose=3)"
      ]
     },
     "execution_count": 18,
     "metadata": {},
     "output_type": "execute_result"
    }
   ],
   "source": [
    "grid.fit(df.drop('Label',axis=1),df['Label'])"
   ]
  },
  {
   "cell_type": "code",
   "execution_count": 19,
   "id": "130c79f2",
   "metadata": {},
   "outputs": [
    {
     "data": {
      "text/plain": [
       "{'C': 1, 'gamma': 0.1, 'kernel': 'rbf'}"
      ]
     },
     "execution_count": 19,
     "metadata": {},
     "output_type": "execute_result"
    }
   ],
   "source": [
    "grid.best_params_"
   ]
  },
  {
   "cell_type": "code",
   "execution_count": 20,
   "id": "ec6ddb6d",
   "metadata": {},
   "outputs": [
    {
     "data": {
      "text/plain": [
       "SVC(C=1, gamma=0.1)"
      ]
     },
     "execution_count": 20,
     "metadata": {},
     "output_type": "execute_result"
    }
   ],
   "source": [
    "grid.best_estimator_"
   ]
  },
  {
   "cell_type": "code",
   "execution_count": 21,
   "id": "4f6e8fde",
   "metadata": {},
   "outputs": [],
   "source": [
    "grid_predictions = grid.predict(dft.drop('label',axis=1))"
   ]
  },
  {
   "cell_type": "code",
   "execution_count": 22,
   "id": "f0669db6",
   "metadata": {},
   "outputs": [
    {
     "name": "stdout",
     "output_type": "stream",
     "text": [
      "[[ 111    0   11    0    0    8]\n",
      " [   0  115    0    1   29    0]\n",
      " [   8    0  345    5    0   32]\n",
      " [   0    3    5   85    0   13]\n",
      " [   0    7    0   84    0    0]\n",
      " [   0    4   11   33    1 1397]]\n"
     ]
    }
   ],
   "source": [
    "print(confusion_matrix(dft['label'],predictions))"
   ]
  },
  {
   "cell_type": "code",
   "execution_count": 23,
   "id": "b9787789",
   "metadata": {},
   "outputs": [
    {
     "name": "stdout",
     "output_type": "stream",
     "text": [
      "              precision    recall  f1-score   support\n",
      "\n",
      "        back       0.93      0.85      0.89       130\n",
      "       front       0.89      0.79      0.84       145\n",
      "        left       0.93      0.88      0.91       390\n",
      "       right       0.41      0.80      0.54       106\n",
      "       start       0.00      0.00      0.00        91\n",
      "        stop       0.96      0.97      0.96      1446\n",
      "\n",
      "    accuracy                           0.89      2308\n",
      "   macro avg       0.69      0.72      0.69      2308\n",
      "weighted avg       0.89      0.89      0.89      2308\n",
      "\n"
     ]
    }
   ],
   "source": [
    "print(classification_report(dft['label'],predictions))"
   ]
  },
  {
   "cell_type": "code",
   "execution_count": null,
   "id": "efc30791",
   "metadata": {},
   "outputs": [],
   "source": []
  }
 ],
 "metadata": {
  "kernelspec": {
   "display_name": "Python 3.7 (tensorflow)",
   "language": "python",
   "name": "tensorflow"
  },
  "language_info": {
   "codemirror_mode": {
    "name": "ipython",
    "version": 3
   },
   "file_extension": ".py",
   "mimetype": "text/x-python",
   "name": "python",
   "nbconvert_exporter": "python",
   "pygments_lexer": "ipython3",
   "version": "3.7.9"
  }
 },
 "nbformat": 4,
 "nbformat_minor": 5
}
