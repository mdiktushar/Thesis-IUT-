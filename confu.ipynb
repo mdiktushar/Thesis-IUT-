{
 "cells": [
  {
   "cell_type": "code",
   "execution_count": 31,
   "id": "5ff3b08f",
   "metadata": {},
   "outputs": [],
   "source": [
    "import seaborn as sn\n",
    "import pandas as pd\n",
    "import numpy as np\n",
    "import matplotlib.pyplot as plt\n",
    "%matplotlib inline"
   ]
  },
  {
   "cell_type": "code",
   "execution_count": 32,
   "id": "015fca4a",
   "metadata": {},
   "outputs": [],
   "source": [
    "a = np.array([[250,   0,   0,   0,   0 ,  0],\n",
    "             [  0, 250,   0,   0,   0,   0],\n",
    "             [  0,  0, 250,   0,   0,   0],\n",
    "             [  0,   0,   0, 194,  56,   0],\n",
    "             [  0,   0,   0,   0, 250,   0],\n",
    "             [  0,   0,   0,   0,   0, 250]]) "
   ]
  },
  {
   "cell_type": "code",
   "execution_count": 33,
   "id": "6ade4fd6",
   "metadata": {},
   "outputs": [],
   "source": [
    "b = np.array([[250,   0,   0,   0,   0,   0],\n",
    "             [  0, 204,   0,  46,   0,   0],\n",
    "             [  0,   0, 250,   0,   0,   0],\n",
    "             [  0,   0,   0, 250,   0,   0],\n",
    "             [ 47,   0,   0,   0, 203,   0],\n",
    "             [  0,   0,   0,   0,   0, 250]]) "
   ]
  },
  {
   "cell_type": "code",
   "execution_count": 34,
   "id": "3bb7dc7e",
   "metadata": {},
   "outputs": [],
   "source": [
    "c = np.array([[250,   0,   0,   0,   0,   0],\n",
    "               [  0, 250,   0,   0,   0,   0],\n",
    "               [  0,   0, 249,   0,   0,   1],\n",
    "               [  0,   0,   0, 250,   0,   0],\n",
    "               [  9,   0,   0,   0, 241,   0],\n",
    "               [  0,   0,   0,   0,   0, 250]])"
   ]
  },
  {
   "cell_type": "code",
   "execution_count": 35,
   "id": "e55afa31",
   "metadata": {},
   "outputs": [],
   "source": [
    "d = np.array([[223,   0,   0,   0,  27,   0],\n",
    "               [  0, 250,   0,   0,   0,   0],\n",
    "               [  0,   0, 250,   0,   0,   0],\n",
    "               [  0,   0,   0, 250,   0,   0],\n",
    "               [  0,   0,   0,   0, 250,   0],\n",
    "               [  0,   0,   0,   0,   0, 250]])"
   ]
  },
  {
   "cell_type": "code",
   "execution_count": 36,
   "id": "f206bfbc",
   "metadata": {},
   "outputs": [],
   "source": [
    "e = np.array([[250,   0,   0,   0,   0,   0],\n",
    "               [  0, 250,   0,   0,   0,   0],\n",
    "               [  0,   0, 200,   0,   0,  50],\n",
    "               [  0,   0,   0, 250,   0,   0],\n",
    "               [  0,   0,   0,   0, 250,   0],\n",
    "               [  0,   0,   0,   0,   0, 250]])"
   ]
  },
  {
   "cell_type": "code",
   "execution_count": 37,
   "id": "b19bdc59",
   "metadata": {},
   "outputs": [],
   "source": [
    "f = np.array([[250,   0,   0,   0,   0,   0],\n",
    "               [  0, 234,   0,   0,  16,   0],\n",
    "               [  0,   0, 200,   0,   0,  50],\n",
    "               [  0,   0,   0, 250,   0,   0],\n",
    "               [  0,   0,   0,   0, 250,   0],\n",
    "               [  0,   0,  31,   0,   0, 219]])"
   ]
  },
  {
   "cell_type": "code",
   "execution_count": 38,
   "id": "4a8134e4",
   "metadata": {},
   "outputs": [],
   "source": [
    "g = np.array([[250,   0,   0,   0,   0,   0],\n",
    "               [  0, 150,   0,   0, 100,   0],\n",
    "               [  0,   0, 236,   0,   0,  14],\n",
    "               [  0,  36,   0, 214,   0,   0],\n",
    "               [  0,   0,   0,   0, 250,   0],\n",
    "               [  0,   0,   0,   0,   0, 250]])"
   ]
  },
  {
   "cell_type": "code",
   "execution_count": 42,
   "id": "3acfff13",
   "metadata": {},
   "outputs": [],
   "source": [
    "array = a+b+c+d+e+f+g"
   ]
  },
  {
   "cell_type": "code",
   "execution_count": 43,
   "id": "1f6e6761",
   "metadata": {},
   "outputs": [
    {
     "data": {
      "text/plain": [
       "array([[246.14285714,   0.        ,   0.        ,   0.        ,\n",
       "          3.85714286,   0.        ],\n",
       "       [  0.        , 226.85714286,   0.        ,   6.57142857,\n",
       "         16.57142857,   0.        ],\n",
       "       [  0.        ,   0.        , 233.57142857,   0.        ,\n",
       "          0.        ,  16.42857143],\n",
       "       [  0.        ,   5.14285714,   0.        , 236.85714286,\n",
       "          8.        ,   0.        ],\n",
       "       [  8.        ,   0.        ,   0.        ,   0.        ,\n",
       "        242.        ,   0.        ],\n",
       "       [  0.        ,   0.        ,   4.42857143,   0.        ,\n",
       "          0.        , 245.57142857]])"
      ]
     },
     "execution_count": 43,
     "metadata": {},
     "output_type": "execute_result"
    }
   ],
   "source": [
    "array/7"
   ]
  },
  {
   "cell_type": "code",
   "execution_count": 44,
   "id": "2dd25be3",
   "metadata": {},
   "outputs": [
    {
     "data": {
      "text/plain": [
       "<AxesSubplot:>"
      ]
     },
     "execution_count": 44,
     "metadata": {},
     "output_type": "execute_result"
    },
    {
     "data": {
      "image/png": "[encoded data removed]",
      "text/plain": [
       "<Figure size 720x504 with 2 Axes>"
      ]
     },
     "metadata": {
      "needs_background": "light"
     },
     "output_type": "display_data"
    }
   ],
   "source": [
    "df_cm = pd.DataFrame(array, range(6), range(6))\n",
    "plt.figure(figsize=(10,7))\n",
    "sn.set(font_scale=1.7) # for label size\n",
    "sn.heatmap(df_cm, annot=True, annot_kws={\"size\": 10})"
   ]
  },
  {
   "cell_type": "code",
   "execution_count": null,
   "id": "5dbf00c0",
   "metadata": {},
   "outputs": [],
   "source": []
  }
 ],
 "metadata": {
  "kernelspec": {
   "display_name": "Python 3.7 (tensorflow)",
   "language": "python",
   "name": "tensorflow"
  },
  "language_info": {
   "codemirror_mode": {
    "name": "ipython",
    "version": 3
   },
   "file_extension": ".py",
   "mimetype": "text/x-python",
   "name": "python",
   "nbconvert_exporter": "python",
   "pygments_lexer": "ipython3",
   "version": "3.7.9"
  }
 },
 "nbformat": 4,
 "nbformat_minor": 5
}
